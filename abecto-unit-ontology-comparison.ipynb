{
 "cells": [
  {
   "cell_type": "markdown",
   "metadata": {},
   "source": [
    "#  Unit Ontology Comparison and Evaluation with ABECTO\n",
    "\n",
    "This is a project to compare and evaluate unit ontologies using  [ABECTO](https://github.com/fusion-jena/abecto)."
   ]
  },
  {
   "cell_type": "markdown",
   "metadata": {},
   "source": [
    "## Preparation\n",
    "First, we start the ABECTO background service. **This might take a few seconds.**"
   ]
  },
  {
   "cell_type": "code",
   "execution_count": 1,
   "metadata": {},
   "outputs": [],
   "source": [
    "from abecto.abecto import *\n",
    "abecto = Abecto(\"abecto/target/abecto.jar\", port = 8080) if 'abecto' not in locals() else abecto\n",
    "abecto.start()"
   ]
  },
  {
   "cell_type": "markdown",
   "metadata": {},
   "source": [
    "## Load Ontologies\n",
    "\n",
    "We are going to comprate the Ontologies [OM 2](https://github.com/HajoRijgersberg/OM), [QUDT 2](http://qudt.org/), and [SWEET 3](https://github.com/ESIPFed/sweet). The RDF files are contained in the project repository. We load them into ABECTO."
   ]
  },
  {
   "cell_type": "code",
   "execution_count": 2,
   "metadata": {},
   "outputs": [],
   "source": [
    "project = abecto.project(\"Unit Ontologies\")\n",
    "om2 = project.ontology(\"OM 2\")\n",
    "qudt2 = project.ontology(\"QUDT 2\")\n",
    "sweet3 = project.ontology(\"SWEET 3\")\n",
    "\n",
    "om2source = om2.source(\"RdfFileSourceProcessor\").load(open(\"ontology/om2/om-2.0.rdf\"))\n",
    "\n",
    "qudt2datatype = qudt2.source(\"RdfFileSourceProcessor\").load(open(\"ontology/qudt2/datatype.ttl\"))\n",
    "qudt2science = qudt2.source(\"RdfFileSourceProcessor\").load(open(\"ontology/qudt2/science.ttl\"))\n",
    "qudt2qudt = qudt2.source(\"RdfFileSourceProcessor\").load(open(\"ontology/qudt2/qudt.ttl\"))\n",
    "qudt2dimensionvector = qudt2.source(\"RdfFileSourceProcessor\").load(open(\"ontology/qudt2/dimensionvector.ttl\"))\n",
    "qudt2quantitykind = qudt2.source(\"RdfFileSourceProcessor\").load(open(\"ontology/qudt2/quantitykind.ttl\"))\n",
    "qudt2unit = qudt2.source(\"RdfFileSourceProcessor\").load(open(\"ontology/qudt2/unit.ttl\"))\n",
    "qudt2constant = qudt2.source(\"RdfFileSourceProcessor\").load(open(\"ontology/qudt2/constant.ttl\"))\n",
    "qudt2discipline = qudt2.source(\"RdfFileSourceProcessor\").load(open(\"ontology/qudt2/discipline.ttl\"))\n",
    "\n",
    "sweet3Units = sweet3.source(\"RdfFileSourceProcessor\").load(open(\"ontology/sweet3/reprSciUnits.ttl\"))"
   ]
  },
  {
   "cell_type": "markdown",
   "metadata": {},
   "source": [
    "## Prepare Comparison of Unit Conversions\n",
    "\n",
    "One important aspect of unit ontologies are the conversion specifications. As the ontologies model them in very different ways, we generate an unified representation of the contained conversions using SPARQL CONSTRUCT queries."
   ]
  },
  {
   "cell_type": "code",
   "execution_count": 3,
   "metadata": {},
   "outputs": [],
   "source": [
    "om2conversions = om2source.into(\"SparqlConstructProcessor\", {\"query\":\"\"})\n",
    "qudt2conversions = (qudt2datatype + qudt2science + qudt2qudt + qudt2dimensionvector + qudt2quantitykind + qudt2unit + qudt2constant + qudt2discipline).into(\"SparqlConstructProcessor\", {\"query\":\"\"})\n",
    "sweet3conversions = sweet3Units.into(\"SparqlConstructProcessor\", {\"query\":\"\"})"
   ]
  },
  {
   "cell_type": "code",
   "execution_count": 4,
   "metadata": {},
   "outputs": [],
   "source": [
    "om2conversions.setParameter(\"query\", \"\"\"\n",
    "PREFIX om: <http://www.ontology-of-units-of-measure.org/resource/om-2/>\n",
    "CONSTRUCT {\n",
    "    ?conversion <urn:conversion:unit> ?unit ;\n",
    "                <urn:conversion:oneEquals> ?oneEquals ;\n",
    "                <urn:conversion:zeroAt> ?zeroAt ;\n",
    "                <urn:conversion:referenceUnit> ?referenceUnit .\n",
    "} WHERE {\n",
    "    {\n",
    "        # direct conversion\n",
    "        ?unit om:hasUnit ?referenceUnit ;\n",
    "              om:hasFactor ?oneEquals .\n",
    "        BIND( IRI(CONCAT(\"urn:om2:conversion:\", REPLACE(STR(?unit),\".*/\",\"\"), \":\", REPLACE(STR(?referenceUnit),\".*/\",\"\") )) AS ?conversion)\n",
    "        FILTER (STR(?unit) < STR(?referenceUnit))\n",
    "    } UNION {\n",
    "        # reverse direct conversion\n",
    "        ?referenceUnit om:hasUnit ?unit ;\n",
    "                       om:hasFactor ?inverseOneEquals .\n",
    "        BIND(1/?inverseOneEquals AS ?oneEquals)\n",
    "        BIND(IRI(CONCAT(\"urn:om2:conversion:\", REPLACE(STR(?unit),\".*/\",\"\"), \":\", REPLACE(STR(?referenceUnit),\".*/\",\"\") )) AS ?conversion)\n",
    "        FILTER (STR(?unit) < STR(?referenceUnit))\n",
    "    } UNION {\n",
    "        # conversion by prefix\n",
    "        ?unit om:hasUnit ?referenceUnit ;\n",
    "              om:hasPrefix/om:hasFactor ?oneEquals .\n",
    "        BIND(0 AS ?zeroAt)\n",
    "        BIND(IRI(CONCAT(\"urn:om2:conversion:\", REPLACE(STR(?unit),\".*/\",\"\"), \":\", REPLACE(STR(?referenceUnit),\".*/\",\"\") )) AS ?conversion)\n",
    "        FILTER (STR(?unit) < STR(?referenceUnit))\n",
    "    } UNION {\n",
    "        # reverse conversion by prefix\n",
    "        ?referenceUnit om:hasUnit ?unit ;\n",
    "                       om:hasPrefix/om:hasFactor ?inverseOneEquals .\n",
    "        BIND(1/?inverseOneEquals AS ?oneEquals)\n",
    "        BIND(0 AS ?zeroAt )\n",
    "        BIND(IRI(CONCAT(\"urn:om2:conversion:\", REPLACE(STR(?unit),\".*/\",\"\"), \":\", REPLACE(STR(?referenceUnit),\".*/\",\"\") )) AS ?conversion)\n",
    "        FILTER (STR(?unit) < STR(?referenceUnit))\n",
    "    } UNION {\n",
    "        # conversion by scale\n",
    "        [] om:hasUnit ?unit ;\n",
    "           om:hasScale/om:hasUnit ?referenceUnit ;\n",
    "           om:hasFactor ?inverseOneEquals ;\n",
    "           om:hasOff-Set ?inverseZeroAt ;\n",
    "        BIND(-1*?inverseZeroAt/?oneEquals AS ?zeroAt)\n",
    "        BIND(1/?inverseOneEquals AS ?oneEquals)\n",
    "        BIND(IRI(CONCAT(\"urn:om2:conversion:\", REPLACE(STR(?unit),\".*/\",\"\"), \":\", REPLACE(STR(?referenceUnit),\".*/\",\"\") )) AS ?conversion)\n",
    "        FILTER (STR(?unit) < STR(?referenceUnit))\n",
    "    } UNION {\n",
    "        # reverse conversion by scale\n",
    "        [] om:hasUnit ?referenceUnit ;\n",
    "           om:hasScale/om:hasUnit ?unit ;\n",
    "           om:hasFactor ?oneEquals ;\n",
    "           om:hasOff-Set ?zeroAt ;\n",
    "        BIND(IRI(CONCAT(\"urn:om2:conversion:\", REPLACE(STR(?unit),\".*/\",\"\"), \":\", REPLACE(STR(?referenceUnit),\".*/\",\"\") )) AS ?conversion)\n",
    "        FILTER (STR(?unit) < STR(?referenceUnit))\n",
    "    }\n",
    "}\n",
    "\"\"\")"
   ]
  },
  {
   "cell_type": "code",
   "execution_count": 5,
   "metadata": {},
   "outputs": [],
   "source": [
    "qudt2conversions.setParameter(\"query\", \"\"\"\n",
    "PREFIX qudt: <http://qudt.org/schema/qudt/>\n",
    "CONSTRUCT {\n",
    "    ?conversion <urn:conversion:unit> ?unit ;\n",
    "                <urn:conversion:oneEquals> ?oneEquals ;\n",
    "                <urn:conversion:zeroAt> ?zeroAt ;\n",
    "                <urn:conversion:referenceUnit> ?referenceUnit .\n",
    "} WHERE {\n",
    "    ?unit qudt:hasQuantityKind/^qudt:hasQuantityKind ?referenceUnit .\n",
    "    BIND( IRI(CONCAT(\"urn:qudt2:conversion:\", REPLACE(STR(?unit),\".*/\",\"\"), \":\", REPLACE(STR(?referenceUnit),\".*/\",\"\") )) AS ?conversion)\n",
    "    ?unit qudt:conversionMultiplier ?factor1 .\n",
    "    ?unit qudt:conversionOffset ?offset1 .\n",
    "    ?referenceUnit qudt:conversionMultiplier ?factor2 .\n",
    "    ?referenceUnit qudt:conversionOffset ?offset2 .\n",
    "    BIND(?factor1/?factor2 AS ?oneEquals)\n",
    "    BIND(?offset1/?factor2-?offset2 AS ?zeroAt)\n",
    "    FILTER (STR(?unit) < STR(?referenceUnit))\n",
    "}\n",
    "\"\"\")"
   ]
  },
  {
   "cell_type": "code",
   "execution_count": 6,
   "metadata": {},
   "outputs": [],
   "source": [
    "sweet3conversions.setParameter(\"query\", \"\"\"\n",
    "PREFIX sorelm: <http://sweetontology.net/relaMath/>\n",
    "PREFIX sorelsc: <http://sweetontology.net/relaSci/>\n",
    "CONSTRUCT {\n",
    "    ?conversion <urn:conversion:unit> ?unit ;\n",
    "                <urn:conversion:oneEquals> ?oneEquals ;\n",
    "                <urn:conversion:zeroAt> ?zeroAt ;\n",
    "                <urn:conversion:referenceUnit> ?referenceUnit .\n",
    "} WHERE {\n",
    "    { \n",
    "        ?unit sorelsc:hasBaseUnit ?referenceUnit .\n",
    "        OPTIONAL { ?unit sorelm:hasScalingNumber ?oneEquals }\n",
    "        OPTIONAL { ?unit sorelm:hasShiftingNumber ?zeroAt }\n",
    "        FILTER (BOUND(?oneEquals) || BOUND(?zeroAt) )\n",
    "        BIND( IRI(CONCAT(\"urn:sweet3:conversion:\", REPLACE(STR(?unit),\".*/\",\"\"), \":\", REPLACE(STR(?referenceUnit),\".*/\",\"\") )) AS ?conversion)\n",
    "        FILTER (STR(?unit) < STR(?referenceUnit))\n",
    "    } UNION {\n",
    "        ?referenceUnit sorelsc:hasBaseUnit ?unit .\n",
    "        OPTIONAL { ?referenceUnit sorelm:hasScalingNumber ?inverseOneEquals }\n",
    "        OPTIONAL { ?referenceUnit sorelm:hasShiftingNumber ?inverseZeroAt }\n",
    "        FILTER (BOUND(?inverseOneEquals) || BOUND(?inverseZeroAt) )\n",
    "        BIND(COALESCE(1/?inverseOneEquals, 1) AS ?oneEquals)\n",
    "        BIND(COALESCE(-1*?inverseZeroAt/?inverseOneEquals, -1*?inverseZeroAt ) AS ?zeroAt)\n",
    "        BIND( IRI(CONCAT(\"urn:sweet3:conversion:\", REPLACE(STR(?unit),\".*/\",\"\"), \":\", REPLACE(STR(?referenceUnit),\".*/\",\"\") )) AS ?conversion)\n",
    "        FILTER (STR(?unit) < STR(?referenceUnit))\n",
    "    }\n",
    "}\n",
    "\"\"\")"
   ]
  },
  {
   "cell_type": "markdown",
   "metadata": {},
   "source": [
    "To increase the chance to find wrong values, we derive implicit conversions for OM 2 and SWEET 3. Due to the modeling approach, this is not required for QUDT 2."
   ]
  },
  {
   "cell_type": "code",
   "execution_count": 7,
   "metadata": {},
   "outputs": [],
   "source": [
    "om2conversionsTransitive = om2conversions.into(\"SparqlConstructProcessor\", {\"query\":\"\"})\n",
    "sweet3conversionsTransitive = sweet3conversions.into(\"SparqlConstructProcessor\", {\"query\":\"\"})"
   ]
  },
  {
   "cell_type": "code",
   "execution_count": 8,
   "metadata": {},
   "outputs": [],
   "source": [
    "om2conversionsTransitive.setParameter(\"query\", \"\"\"\n",
    "PREFIX : <urn:conversion:>\n",
    "CONSTRUCT {\n",
    "    ?conversion :unit ?unit ;\n",
    "                :oneEquals ?oneEquals ;\n",
    "                :zeroAt ?zeroAt ;\n",
    "                :referenceUnit ?referenceUnit .\n",
    "} WHERE {\n",
    "    {\n",
    "        [] :unit ?unit ;\n",
    "           :oneEquals ?oneEquals1 ;\n",
    "           :zeroAt ?zeroAt1 ;\n",
    "           :referenceUnit ?betweenUnit .\n",
    "        [] :unit ?betweenUnit ;\n",
    "           :oneEquals ?oneEquals2 ;\n",
    "           :zeroAt ?zeroAt2 ;\n",
    "           :referenceUnit ?referenceUnit .\n",
    "        BIND(?oneEquals1*?oneEquals2 AS ?oneEquals)\n",
    "        BIND(?zeroAt1/?oneEquals2+?zeroAt2 AS ?zeroAt)\n",
    "    } UNION {\n",
    "        [] :unit ?unit ;\n",
    "           :oneEquals ?oneEquals1 ;\n",
    "           :zeroAt ?zeroAt1 ;\n",
    "           :referenceUnit ?betweenUnit .\n",
    "        [] :unit ?referenceUnit ;\n",
    "           :oneEquals ?oneEquals2 ;\n",
    "           :zeroAt ?zeroAt2 ;\n",
    "           :referenceUnit ?betweenUnit .\n",
    "        BIND(?oneEquals1/?oneEquals2 AS ?oneEquals)\n",
    "        BIND(?zeroAt1*?oneEquals2-?zeroAt2 AS ?zeroAt)\n",
    "    } UNION {\n",
    "        [] :unit ?betweenUnit ;\n",
    "           :oneEquals ?oneEquals1 ;\n",
    "           :zeroAt ?zeroAt1 ;\n",
    "           :referenceUnit ?unit .\n",
    "        [] :unit ?betweenUnit ;\n",
    "           :oneEquals ?oneEquals2 ;\n",
    "           :zeroAt ?zeroAt2 ;\n",
    "           :referenceUnit ?referenceUnit .\n",
    "        BIND(?oneEquals2/?oneEquals1 AS ?oneEquals)\n",
    "        BIND(?zeroAt2-?zeroAt1/?oneEquals2 AS ?zeroAt)\n",
    "    }\n",
    "    BIND( IRI(CONCAT(\"urn:om2:conversion:\", REPLACE(STR(?unit),\".*/\",\"\"), \":\", REPLACE(STR(?referenceUnit),\".*/\",\"\") )) AS ?conversion)\n",
    "    FILTER (STR(?unit) < STR(?referenceUnit))\n",
    "}\n",
    "\"\"\")"
   ]
  },
  {
   "cell_type": "code",
   "execution_count": 9,
   "metadata": {},
   "outputs": [],
   "source": [
    "sweet3conversionsTransitive.setParameter(\"query\", \"\"\"\n",
    "PREFIX : <urn:conversion:>\n",
    "CONSTRUCT {\n",
    "    ?conversion :unit ?unit ;\n",
    "                :oneEquals ?oneEquals ;\n",
    "                :zeroAt ?zeroAt ;\n",
    "                :referenceUnit ?referenceUnit .\n",
    "} WHERE {\n",
    "    {\n",
    "        [] :unit ?unit ;\n",
    "           :oneEquals ?oneEquals1 ;\n",
    "           :zeroAt ?zeroAt1 ;\n",
    "           :referenceUnit ?betweenUnit .\n",
    "        [] :unit ?betweenUnit ;\n",
    "           :oneEquals ?oneEquals2 ;\n",
    "           :zeroAt ?zeroAt2 ;\n",
    "           :referenceUnit ?referenceUnit .\n",
    "        BIND(?oneEquals1/?oneEquals2 AS ?oneEquals)\n",
    "        BIND(?zeroAt1/?oneEquals2+?zeroAt2 AS ?zeroAt)\n",
    "    } UNION {\n",
    "        [] :unit ?betweenUnit ;\n",
    "           :oneEquals ?oneEquals1 ;\n",
    "           :zeroAt ?zeroAt1 ;\n",
    "           :referenceUnit ?unit .\n",
    "        [] :unit ?betweenUnit ;\n",
    "           :oneEquals ?oneEquals2 ;\n",
    "           :zeroAt ?zeroAt2 ;\n",
    "           :referenceUnit ?referenceUnit .\n",
    "        BIND(1/?oneEquals1/?oneEquals2 AS ?oneEquals)\n",
    "        BIND(-1*?zeroAt1/?oneEquals2+?zeroAt2 AS ?zeroAt)\n",
    "    } UNION {\n",
    "        [] :unit ?unit ;\n",
    "           :oneEquals ?oneEquals1 ;\n",
    "           :zeroAt ?zeroAt1 ;\n",
    "           :referenceUnit ?betweenUnit .\n",
    "        [] :unit ?referenceUnit ;\n",
    "           :oneEquals ?oneEquals2 ;\n",
    "           :zeroAt ?zeroAt2 ;\n",
    "           :referenceUnit ?betweenUnit .\n",
    "        BIND(?oneEquals1*?oneEquals2 AS ?oneEquals)\n",
    "        BIND(?zeroAt1*?oneEquals2-?zeroAt2 AS ?zeroAt)\n",
    "    }\n",
    "    BIND( IRI(CONCAT(\"urn:sweet3:conversion:\", REPLACE(STR(?unit),\".*/\",\"\"), \":\", REPLACE(STR(?referenceUnit),\".*/\",\"\") )) AS ?conversion)\n",
    "    FILTER (STR(?unit) < STR(?referenceUnit))\n",
    "}\n",
    "\"\"\")"
   ]
  },
  {
   "cell_type": "markdown",
   "metadata": {},
   "source": [
    "## Define Categories\n",
    "\n",
    "Now, we define patterns for the the categories we want to compare."
   ]
  },
  {
   "cell_type": "code",
   "execution_count": 10,
   "metadata": {},
   "outputs": [],
   "source": [
    "om2Categories = om2conversionsTransitive.into(\"ManualCategoryProcessor\", {})\n",
    "qudt2Categories = qudt2conversions.into(\"ManualCategoryProcessor\", {})\n",
    "sweet3Categories = sweet3conversionsTransitive.into(\"ManualCategoryProcessor\", {})"
   ]
  },
  {
   "cell_type": "code",
   "execution_count": 11,
   "metadata": {},
   "outputs": [],
   "source": [
    "om2Categories.setParameter(\"patterns\",{\n",
    "\"unit\": \"\"\"\n",
    "    {\n",
    "        ?unit rdf:type/rdfs:subClassOf* <http://www.ontology-of-units-of-measure.org/resource/om-2/Unit> .\n",
    "        OPTIONAL { ?unit <http://www.w3.org/2000/01/rdf-schema#label>  ?label }\n",
    "        OPTIONAL { ?unit <http://www.ontology-of-units-of-measure.org/resource/om-2/symbol> ?symbol }\n",
    "        OPTIONAL { ?unit <http://www.w3.org/2000/01/rdf-schema#comment> ?definition }\n",
    "    }\n",
    "\"\"\",\"conversion\": \"\"\"\n",
    "    {\n",
    "        ?conversion <urn:conversion:unit> ?unit ;\n",
    "                    <urn:conversion:referenceUnit> ?referenceUnit .\n",
    "        OPTIONAL { ?conversion <urn:conversion:zeroAt> ?zeroAt .}\n",
    "        OPTIONAL { ?conversion <urn:conversion:oneEquals> ?oneEquals .}\n",
    "    }\n",
    "\"\"\"})"
   ]
  },
  {
   "cell_type": "code",
   "execution_count": 12,
   "metadata": {},
   "outputs": [],
   "source": [
    "qudt2Categories.setParameter(\"patterns\",{\n",
    "\"unit\": \"\"\"\n",
    "    {\n",
    "        ?unit rdf:type/rdfs:subClassOf* <http://qudt.org/schema/qudt/Unit> .\n",
    "        OPTIONAL { ?unit <http://qudt.org/schema/qudt/description> ?definition }\n",
    "        OPTIONAL { ?unit <http://qudt.org/schema/qudt/symbol> ?symbol }\n",
    "        OPTIONAL { ?unit <http://www.w3.org/2000/01/rdf-schema#label> |\n",
    "                         <http://www.w3.org/2004/02/skos/core#prefLabel> ?label .}\n",
    "    }\n",
    "\"\"\",\"conversion\": \"\"\"\n",
    "    {\n",
    "        ?conversion <urn:conversion:unit> ?unit ;\n",
    "                    <urn:conversion:referenceUnit> ?referenceUnit .\n",
    "        OPTIONAL { ?conversion <urn:conversion:zeroAt> ?zeroAt .}\n",
    "        OPTIONAL { ?conversion <urn:conversion:oneEquals> ?oneEquals .}\n",
    "    }\n",
    "\"\"\"})"
   ]
  },
  {
   "cell_type": "code",
   "execution_count": 13,
   "metadata": {},
   "outputs": [],
   "source": [
    "sweet3Categories.setParameter(\"patterns\",{\n",
    "\"unit\": \"\"\"\n",
    "    {\n",
    "        ?unit rdf:type/rdfs:subClassOf* <http://sweetontology.net/reprSciUnits/Unit> .\n",
    "        OPTIONAL { ?unit <http://www.w3.org/2000/01/rdf-schema#label>  ?label }\n",
    "        OPTIONAL { ?unit <http://sweetontology.net/relaSci/hasSymbol> ?symbol }\n",
    "    }\n",
    "\"\"\",\"conversion\": \"\"\"\n",
    "    {\n",
    "        ?conversion <urn:conversion:unit> ?unit ;\n",
    "                    <urn:conversion:referenceUnit> ?referenceUnit .\n",
    "        OPTIONAL { ?conversion <urn:conversion:zeroAt> ?zeroAt .}\n",
    "        OPTIONAL { ?conversion <urn:conversion:oneEquals> ?oneEquals .}\n",
    "    }\n",
    "\"\"\"})"
   ]
  },
  {
   "cell_type": "markdown",
   "metadata": {},
   "source": [
    "## Mapping\n",
    "\n",
    "An comparison requires a mapping of the resources in the ontologies. We use the Jaro Winkler Similarity of the labels to map the units. The conversions will then be mapped based on the related units."
   ]
  },
  {
   "cell_type": "code",
   "execution_count": 14,
   "metadata": {},
   "outputs": [],
   "source": [
    "manualMapping = (om2Categories + qudt2Categories + sweet3Categories).into(\"ManualMappingProcessor\")\n",
    "labelMapping = manualMapping.into(\"JaroWinklerMappingProcessor\", {\n",
    "    \"threshold\": 0.9,\n",
    "    \"case_sensitive\": False,\n",
    "    \"category\": \"unit\",\n",
    "    \"variables\": [\"label\"]})\n",
    "mapping = labelMapping.into(\"RelationalMappingProcessor\", {\n",
    "    \"category\": \"conversion\",\n",
    "    \"variables\": [\"unit\",\"referenceUnit\"]})"
   ]
  },
  {
   "cell_type": "markdown",
   "metadata": {},
   "source": [
    "## Comparison\n",
    "\n",
    "Now the ontologies can be compared:\n",
    "* We generate statisticw of the number of resources and properties per category.\n",
    "* We search for deviating property values of mapped resources."
   ]
  },
  {
   "cell_type": "code",
   "execution_count": 15,
   "metadata": {},
   "outputs": [],
   "source": [
    "counts = mapping.into(\"CategoryCountProcessor\");\n",
    "valueDeviations = mapping.into(\"LiteralDeviationProcessor\", {\"variables\": {\"unit\": [\"symbol\"], \"conversion\" : [\"oneEquals\", \"zeroAt\"] }})"
   ]
  },
  {
   "cell_type": "markdown",
   "metadata": {},
   "source": [
    "## Execution\n",
    "\n",
    "The comparison pipeline is now reade to be executed."
   ]
  },
  {
   "cell_type": "code",
   "execution_count": 16,
   "metadata": {},
   "outputs": [],
   "source": [
    "execution = project.runAndAwait()"
   ]
  },
  {
   "cell_type": "markdown",
   "metadata": {},
   "source": [
    "## Reporting\n",
    "\n",
    "After the pipeline execution succeeded, we display the comparison results."
   ]
  },
  {
   "cell_type": "code",
   "execution_count": 17,
   "metadata": {},
   "outputs": [
    {
     "data": {
      "text/html": [
       "<h1>Category Count Report</h1><table><tr><th>Category</th><th>Variable</th><th>OM 2</th><th>QUDT 2</th><th>SWEET 3</th></tr><tr><td>unit</td><td></td><td>1413</td><td>968</td><td>140</td></tr><tr><td>unit</td><td>definition</td><td>722</td><td>876</td><td></td></tr><tr><td>unit</td><td>label</td><td>2129</td><td>1773</td><td>140</td></tr><tr><td>unit</td><td>symbol</td><td>1292</td><td>713</td><td>20</td></tr><tr><td>conversion</td><td></td><td>6544</td><td>3347</td><td>37</td></tr><tr><td>conversion</td><td>unit</td><td>6544</td><td>3347</td><td>37</td></tr><tr><td>conversion</td><td>oneEquals</td><td>6548</td><td>3347</td><td>36</td></tr><tr><td>conversion</td><td>referenceUnit</td><td>6544</td><td>3347</td><td>37</td></tr><tr><td>conversion</td><td>zeroAt</td><td>6358</td><td>3347</td><td>2</td></tr></table>"
      ],
      "text/plain": [
       "<IPython.core.display.HTML object>"
      ]
     },
     "metadata": {},
     "output_type": "display_data"
    }
   ],
   "source": [
    "execution.measurements()"
   ]
  },
  {
   "cell_type": "code",
   "execution_count": 18,
   "metadata": {},
   "outputs": [
    {
     "data": {
      "text/html": [
       "<h2>Deviation Report</h2>"
      ],
      "text/plain": [
       "<IPython.core.display.HTML object>"
      ]
     },
     "metadata": {},
     "output_type": "display_data"
    },
    {
     "data": {
      "text/html": [
       "<h3>Category: unit</h3>"
      ],
      "text/plain": [
       "<IPython.core.display.HTML object>"
      ]
     },
     "metadata": {},
     "output_type": "display_data"
    },
    {
     "data": {
      "text/html": [
       "<table><tr><th style=\"text-align:center;\" colspan=\"3\">QUDT 2</th><th style=\"text-align:center;\" colspan=\"3\">SWEET 3</th></tr><tr><td rowspan=\"1\">http://qudt.org/vocab/unit/A</td><td>symbol</td><td>A</td><td>a</td><td>symbol</td><td rowspan=\"1\">http://sweetontology.net/reprSciUnits/ampere</td></tr><tr><td rowspan=\"1\">http://qudt.org/vocab/unit/PA-PER-SEC</td><td>symbol</td><td>P / s</td><td>pa/s</td><td>symbol</td><td rowspan=\"1\">http://sweetontology.net/reprSciUnits/pascalPerSecond</td></tr></table>"
      ],
      "text/plain": [
       "<IPython.core.display.HTML object>"
      ]
     },
     "metadata": {},
     "output_type": "display_data"
    },
    {
     "data": {
      "text/html": [
       "<h3>Category: conversion</h3>"
      ],
      "text/plain": [
       "<IPython.core.display.HTML object>"
      ]
     },
     "metadata": {},
     "output_type": "display_data"
    },
    {
     "data": {
      "text/html": [
       "<table><tr><th style=\"text-align:center;\" colspan=\"3\">OM 2</th><th style=\"text-align:center;\" colspan=\"3\">QUDT 2</th></tr><tr><td rowspan=\"1\">urn:om2:conversion:ampere:biot</td><td>oneEquals</td><td>0.1<span style=\"opacity:0.6;\">^^http://www.w3.org/2001/XMLSchema#float</span></td><td>2.9979245368431435E9<span style=\"opacity:0.6;\">^^http://www.w3.org/2001/XMLSchema#double</span></td><td>oneEquals</td><td rowspan=\"1\">urn:qudt2:conversion:A:BIOT</td></tr><tr><td rowspan=\"1\">urn:om2:conversion:ampere:kiloampere</td><td>oneEquals</td><td>0.001<span style=\"opacity:0.6;\">^^http://www.w3.org/2001/XMLSchema#float</span></td><td>970.8737864077669e0<span style=\"opacity:0.6;\">^^http://www.w3.org/2001/XMLSchema#double</span></td><td>oneEquals</td><td rowspan=\"1\">urn:qudt2:conversion:A:KiloA</td></tr><tr><td rowspan=\"1\">urn:om2:conversion:ampere:nanoampere</td><td>oneEquals</td><td>1.0E9<span style=\"opacity:0.6;\">^^http://www.w3.org/2001/XMLSchema#float</span></td><td>9.999999999999999E8<span style=\"opacity:0.6;\">^^http://www.w3.org/2001/XMLSchema#double</span></td><td>oneEquals</td><td rowspan=\"1\">urn:qudt2:conversion:A:NanoA</td></tr><tr><td rowspan=\"1\">urn:om2:conversion:ampere:statampere</td><td>oneEquals</td><td>2.99792461E9<span style=\"opacity:0.6;\">^^http://www.w3.org/2001/XMLSchema#float</span></td><td>2.9979245368431435E9<span style=\"opacity:0.6;\">^^http://www.w3.org/2001/XMLSchema#double</span></td><td>oneEquals</td><td rowspan=\"1\">urn:qudt2:conversion:A:A_Stat</td></tr><tr><td rowspan=\"1\">urn:om2:conversion:amperePerMetre:oersted</td><td>oneEquals</td><td>0.012566371<span style=\"opacity:0.6;\">^^http://www.w3.org/2001/XMLSchema#float</span></td><td>0.012566370621614937e0<span style=\"opacity:0.6;\">^^http://www.w3.org/2001/XMLSchema#double</span></td><td>oneEquals</td><td rowspan=\"1\">urn:qudt2:conversion:A-PER-M:OERSTED</td></tr><tr><td rowspan=\"1\">urn:om2:conversion:astronomicalUnit:metre</td><td>oneEquals</td><td>1.495978707e11<span style=\"opacity:0.6;\">^^http://www.w3.org/2001/XMLSchema#float</span></td><td>1.495978706916E11<span style=\"opacity:0.6;\">^^http://www.w3.org/2001/XMLSchema#double</span></td><td>oneEquals</td><td rowspan=\"1\">urn:qudt2:conversion:AU:M</td></tr><tr><td rowspan=\"1\">urn:om2:conversion:attocoulomb:centicoulomb</td><td>oneEquals</td><td>1.0000001E-16<span style=\"opacity:0.6;\">^^http://www.w3.org/2001/XMLSchema#float</span></td><td>1.0000000000000001E-16<span style=\"opacity:0.6;\">^^http://www.w3.org/2001/XMLSchema#double</span></td><td>oneEquals</td><td rowspan=\"1\">urn:qudt2:conversion:AttoC:CentiC</td></tr><tr><td rowspan=\"1\">urn:om2:conversion:attocoulomb:decacoulomb</td><td>oneEquals</td><td>1.00000003E-19<span style=\"opacity:0.6;\">^^http://www.w3.org/2001/XMLSchema#float</span></td><td>1.0000000000000001E-19<span style=\"opacity:0.6;\">^^http://www.w3.org/2001/XMLSchema#double</span></td><td>oneEquals</td><td rowspan=\"1\">urn:qudt2:conversion:AttoC:DecaC</td></tr><tr><td rowspan=\"1\">urn:om2:conversion:attocoulomb:decicoulomb</td><td>oneEquals</td><td>1.0000001E-17<span style=\"opacity:0.6;\">^^http://www.w3.org/2001/XMLSchema#float</span></td><td>1.0E-17<span style=\"opacity:0.6;\">^^http://www.w3.org/2001/XMLSchema#double</span></td><td>oneEquals</td><td rowspan=\"1\">urn:qudt2:conversion:AttoC:DeciC</td></tr><tr><td rowspan=\"1\">urn:om2:conversion:attocoulomb:exacoulomb</td><td>oneEquals</td><td>1.0000001E-36<span style=\"opacity:0.6;\">^^http://www.w3.org/2001/XMLSchema#float</span></td><td>1.0000000000000001E-36<span style=\"opacity:0.6;\">^^http://www.w3.org/2001/XMLSchema#double</span></td><td>oneEquals</td><td rowspan=\"1\">urn:qudt2:conversion:AttoC:ExaC</td></tr><tr><td rowspan=\"1\">urn:om2:conversion:attocoulomb:hectocoulomb</td><td>oneEquals</td><td>1.00000005E-20<span style=\"opacity:0.6;\">^^http://www.w3.org/2001/XMLSchema#float</span></td><td>1.0000000000000001E-20<span style=\"opacity:0.6;\">^^http://www.w3.org/2001/XMLSchema#double</span></td><td>oneEquals</td><td rowspan=\"1\">urn:qudt2:conversion:AttoC:HectoC</td></tr><tr><td rowspan=\"1\">urn:om2:conversion:attocoulomb:kilocoulomb</td><td>oneEquals</td><td>1.0000001E-21<span style=\"opacity:0.6;\">^^http://www.w3.org/2001/XMLSchema#float</span></td><td>1.0000000000000001E-21<span style=\"opacity:0.6;\">^^http://www.w3.org/2001/XMLSchema#double</span></td><td>oneEquals</td><td rowspan=\"1\">urn:qudt2:conversion:AttoC:KiloC</td></tr><tr><td rowspan=\"1\">urn:om2:conversion:attocoulomb:megacoulomb</td><td>oneEquals</td><td>1.0E-24<span style=\"opacity:0.6;\">^^http://www.w3.org/2001/XMLSchema#float</span></td><td>1.0000000000000001E-24<span style=\"opacity:0.6;\">^^http://www.w3.org/2001/XMLSchema#double</span></td><td>oneEquals</td><td rowspan=\"1\">urn:qudt2:conversion:AttoC:MegaC</td></tr><tr><td rowspan=\"1\">urn:om2:conversion:attocoulomb:microcoulomb</td><td>oneEquals</td><td>1.0E-12<span style=\"opacity:0.6;\">^^http://www.w3.org/2001/XMLSchema#float</span></td><td>1.0000000000000002E-12<span style=\"opacity:0.6;\">^^http://www.w3.org/2001/XMLSchema#double</span></td><td>oneEquals</td><td rowspan=\"1\">urn:qudt2:conversion:AttoC:MicroC</td></tr><tr><td rowspan=\"1\">urn:om2:conversion:attocoulomb:nanocoulomb</td><td>oneEquals</td><td>1.0000001E-9<span style=\"opacity:0.6;\">^^http://www.w3.org/2001/XMLSchema#float</span></td><td>1.0E-9<span style=\"opacity:0.6;\">^^http://www.w3.org/2001/XMLSchema#double</span></td><td>oneEquals</td><td rowspan=\"1\">urn:qudt2:conversion:AttoC:NanoC</td></tr><tr><td rowspan=\"1\">urn:om2:conversion:attocoulomb:picocoulomb</td><td>oneEquals</td><td>1.0E-6<span style=\"opacity:0.6;\">^^http://www.w3.org/2001/XMLSchema#float</span></td><td>1.0000000000000002E-6<span style=\"opacity:0.6;\">^^http://www.w3.org/2001/XMLSchema#double</span></td><td>oneEquals</td><td rowspan=\"1\">urn:qudt2:conversion:AttoC:PicoC</td></tr><tr><td rowspan=\"1\">urn:om2:conversion:attocoulomb:yoctocoulomb</td><td>oneEquals</td><td>1000000.06<span style=\"opacity:0.6;\">^^http://www.w3.org/2001/XMLSchema#float</span></td><td>1000000.0000000001e0<span style=\"opacity:0.6;\">^^http://www.w3.org/2001/XMLSchema#double</span></td><td>oneEquals</td><td rowspan=\"1\">urn:qudt2:conversion:AttoC:YoctoC</td></tr><tr><td rowspan=\"1\">urn:om2:conversion:attocoulomb:zeptocoulomb</td><td>oneEquals</td><td>1000.00006<span style=\"opacity:0.6;\">^^http://www.w3.org/2001/XMLSchema#float</span></td><td>1000.0000000000001e0<span style=\"opacity:0.6;\">^^http://www.w3.org/2001/XMLSchema#double</span></td><td>oneEquals</td><td rowspan=\"1\">urn:qudt2:conversion:AttoC:ZeptoC</td></tr><tr><td rowspan=\"1\">urn:om2:conversion:attocoulomb:zettacoulomb</td><td>oneEquals</td><td>1.0E-39<span style=\"opacity:0.6;\">^^http://www.w3.org/2001/XMLSchema#float</span></td><td>1.0000000000000001E-39<span style=\"opacity:0.6;\">^^http://www.w3.org/2001/XMLSchema#double</span></td><td>oneEquals</td><td rowspan=\"1\">urn:qudt2:conversion:AttoC:ZettaC</td></tr><tr><td rowspan=\"1\">urn:om2:conversion:becquerel:curie</td><td>oneEquals</td><td>2.7027028E-11<span style=\"opacity:0.6;\">^^http://www.w3.org/2001/XMLSchema#float</span></td><td>2.7027027027027027E-11<span style=\"opacity:0.6;\">^^http://www.w3.org/2001/XMLSchema#double</span></td><td>oneEquals</td><td rowspan=\"1\">urn:qudt2:conversion:BQ:Ci</td></tr><tr><td rowspan=\"1\">urn:om2:conversion:byte:gigabyte</td><td>oneEquals</td><td>1.0E-9<span style=\"opacity:0.6;\">^^http://www.w3.org/2001/XMLSchema#float</span></td><td>5.164348930120468E-9<span style=\"opacity:0.6;\">^^http://www.w3.org/2001/XMLSchema#double</span></td><td>oneEquals</td><td rowspan=\"1\">urn:qudt2:conversion:BYTE:GigaBYTE</td></tr><tr><td rowspan=\"1\">urn:om2:conversion:byte:kilobyte</td><td>oneEquals</td><td>0.001<span style=\"opacity:0.6;\">^^http://www.w3.org/2001/XMLSchema#float</span></td><td>0.00541521234375e0<span style=\"opacity:0.6;\">^^http://www.w3.org/2001/XMLSchema#double</span></td><td>oneEquals</td><td rowspan=\"1\">urn:qudt2:conversion:BYTE:KiloBYTE</td></tr><tr><td rowspan=\"1\">urn:om2:conversion:byte:megabyte</td><td>oneEquals</td><td>1.0E-6<span style=\"opacity:0.6;\">^^http://www.w3.org/2001/XMLSchema#float</span></td><td>5.288293304443359E-6<span style=\"opacity:0.6;\">^^http://www.w3.org/2001/XMLSchema#double</span></td><td>oneEquals</td><td rowspan=\"1\">urn:qudt2:conversion:BYTE:MegaBYTE</td></tr><tr><td rowspan=\"1\">urn:om2:conversion:byte:megabyte</td><td>oneEquals</td><td>1.0E-6<span style=\"opacity:0.6;\">^^http://www.w3.org/2001/XMLSchema#float</span></td><td>5.288293304443359E-6<span style=\"opacity:0.6;\">^^http://www.w3.org/2001/XMLSchema#double</span></td><td>oneEquals</td><td rowspan=\"1\">urn:qudt2:conversion:BYTE:MegaBYTE_Memory</td></tr><tr><td rowspan=\"1\">urn:om2:conversion:byte:pebibyte</td><td>oneEquals</td><td>8.881784E-16<span style=\"opacity:0.6;\">^^http://www.w3.org/2001/XMLSchema#float</span></td><td>4.925106935615986E-15<span style=\"opacity:0.6;\">^^http://www.w3.org/2001/XMLSchema#double</span></td><td>oneEquals</td><td rowspan=\"1\">urn:qudt2:conversion:BYTE:PebiBYTE</td></tr><tr><td rowspan=\"1\">urn:om2:conversion:byte:petabyte</td><td>oneEquals</td><td>1.0E-15<span style=\"opacity:0.6;\">^^http://www.w3.org/2001/XMLSchema#float</span></td><td>5.5451774399999996E-15<span style=\"opacity:0.6;\">^^http://www.w3.org/2001/XMLSchema#double</span></td><td>oneEquals</td><td rowspan=\"1\">urn:qudt2:conversion:BYTE:PetaBYTE</td></tr><tr><td rowspan=\"1\">urn:om2:conversion:byte:terabyte</td><td>oneEquals</td><td>1.0E-12<span style=\"opacity:0.6;\">^^http://www.w3.org/2001/XMLSchema#float</span></td><td>5.288293304443359E-6<span style=\"opacity:0.6;\">^^http://www.w3.org/2001/XMLSchema#double</span></td><td>oneEquals</td><td rowspan=\"1\">urn:qudt2:conversion:BYTE:TeraBYTE</td></tr><tr><td rowspan=\"1\">urn:om2:conversion:candelaPerSquareMetre:lambert</td><td>oneEquals</td><td>3.1415923E-4<span style=\"opacity:0.6;\">^^http://www.w3.org/2001/XMLSchema#float</span></td><td>3.1415926554037343E-4<span style=\"opacity:0.6;\">^^http://www.w3.org/2001/XMLSchema#double</span></td><td>oneEquals</td><td rowspan=\"1\">urn:qudt2:conversion:CD-PER-M2:LA</td></tr><tr><td rowspan=\"1\">urn:om2:conversion:centicoulomb:decicoulomb</td><td>oneEquals</td><td>0.099999994<span style=\"opacity:0.6;\">^^http://www.w3.org/2001/XMLSchema#float</span></td><td>0.09999999999999999e0<span style=\"opacity:0.6;\">^^http://www.w3.org/2001/XMLSchema#double</span></td><td>oneEquals</td><td rowspan=\"1\">urn:qudt2:conversion:CentiC:DeciC</td></tr><tr><td rowspan=\"1\">urn:om2:conversion:centicoulomb:exacoulomb</td><td>oneEquals</td><td>1.00000005E-20<span style=\"opacity:0.6;\">^^http://www.w3.org/2001/XMLSchema#float</span></td><td>1.0000000000000001E-20<span style=\"opacity:0.6;\">^^http://www.w3.org/2001/XMLSchema#double</span></td><td>oneEquals</td><td rowspan=\"1\">urn:qudt2:conversion:CentiC:ExaC</td></tr><tr><td rowspan=\"1\">urn:om2:conversion:centicoulomb:femtocoulomb</td><td>oneEquals</td><td>9.9999998E12<span style=\"opacity:0.6;\">^^http://www.w3.org/2001/XMLSchema#float</span></td><td>1.0E13<span style=\"opacity:0.6;\">^^http://www.w3.org/2001/XMLSchema#double</span></td><td>oneEquals</td><td rowspan=\"1\">urn:qudt2:conversion:CentiC:FemtoC</td></tr><tr><td rowspan=\"1\">urn:om2:conversion:centicoulomb:gigacoulomb</td><td>oneEquals</td><td>9.999999E-12<span style=\"opacity:0.6;\">^^http://www.w3.org/2001/XMLSchema#float</span></td><td>1.0000000000000001E-11<span style=\"opacity:0.6;\">^^http://www.w3.org/2001/XMLSchema#double</span></td><td>oneEquals</td><td rowspan=\"1\">urn:qudt2:conversion:CentiC:GigaC</td></tr><tr><td rowspan=\"1\">urn:om2:conversion:centicoulomb:kilocoulomb</td><td>oneEquals</td><td>1.0000001E-5<span style=\"opacity:0.6;\">^^http://www.w3.org/2001/XMLSchema#float</span></td><td>1.0E-5<span style=\"opacity:0.6;\">^^http://www.w3.org/2001/XMLSchema#double</span></td><td>oneEquals</td><td rowspan=\"1\">urn:qudt2:conversion:CentiC:KiloC</td></tr><tr><td rowspan=\"1\">urn:om2:conversion:centicoulomb:millicoulomb</td><td>oneEquals</td><td>9.999999<span style=\"opacity:0.6;\">^^http://www.w3.org/2001/XMLSchema#float</span></td><td>10.0e0<span style=\"opacity:0.6;\">^^http://www.w3.org/2001/XMLSchema#double</span></td><td>oneEquals</td><td rowspan=\"1\">urn:qudt2:conversion:CentiC:MilliC</td></tr><tr><td rowspan=\"1\">urn:om2:conversion:centicoulomb:zeptocoulomb</td><td>oneEquals</td><td>1.0E19<span style=\"opacity:0.6;\">^^http://www.w3.org/2001/XMLSchema#float</span></td><td>1.0000000000000002E19<span style=\"opacity:0.6;\">^^http://www.w3.org/2001/XMLSchema#double</span></td><td>oneEquals</td><td rowspan=\"1\">urn:qudt2:conversion:CentiC:ZeptoC</td></tr><tr><td rowspan=\"1\">urn:om2:conversion:centicoulomb:zettacoulomb</td><td>oneEquals</td><td>9.999999E-24<span style=\"opacity:0.6;\">^^http://www.w3.org/2001/XMLSchema#float</span></td><td>1.0E-23<span style=\"opacity:0.6;\">^^http://www.w3.org/2001/XMLSchema#double</span></td><td>oneEquals</td><td rowspan=\"1\">urn:qudt2:conversion:CentiC:ZettaC</td></tr><tr><td rowspan=\"1\">urn:om2:conversion:centimetre:decimetre</td><td>oneEquals</td><td>0.099999994<span style=\"opacity:0.6;\">^^http://www.w3.org/2001/XMLSchema#float</span></td><td>0.09999999999999999e0<span style=\"opacity:0.6;\">^^http://www.w3.org/2001/XMLSchema#double</span></td><td>oneEquals</td><td rowspan=\"1\">urn:qudt2:conversion:CentiM:DeciM</td></tr><tr><td rowspan=\"1\">urn:om2:conversion:centimetre:femtometre</td><td>oneEquals</td><td>9.9999998E12<span style=\"opacity:0.6;\">^^http://www.w3.org/2001/XMLSchema#float</span></td><td>1.0E13<span style=\"opacity:0.6;\">^^http://www.w3.org/2001/XMLSchema#double</span></td><td>oneEquals</td><td rowspan=\"1\">urn:qudt2:conversion:CentiM:FemtoM</td></tr><tr><td rowspan=\"1\">urn:om2:conversion:centimetre:millimetre</td><td>oneEquals</td><td>9.999999<span style=\"opacity:0.6;\">^^http://www.w3.org/2001/XMLSchema#float</span></td><td>10.0e0<span style=\"opacity:0.6;\">^^http://www.w3.org/2001/XMLSchema#double</span></td><td>oneEquals</td><td rowspan=\"1\">urn:qudt2:conversion:CentiM:MilliM</td></tr><tr><td rowspan=\"1\">urn:om2:conversion:centipoise:poise</td><td>oneEquals</td><td>1e-2<span style=\"opacity:0.6;\">^^http://www.w3.org/2001/XMLSchema#float</span></td><td>0.09999999999999999e0<span style=\"opacity:0.6;\">^^http://www.w3.org/2001/XMLSchema#double</span></td><td>oneEquals</td><td rowspan=\"1\">urn:qudt2:conversion:CentiP:POISE</td></tr><tr><td rowspan=\"1\">urn:om2:conversion:centistokes:stokes</td><td>oneEquals</td><td>1e-2<span style=\"opacity:0.6;\">^^http://www.w3.org/2001/XMLSchema#float</span></td><td>100.0e0<span style=\"opacity:0.6;\">^^http://www.w3.org/2001/XMLSchema#double</span></td><td>oneEquals</td><td rowspan=\"1\">urn:qudt2:conversion:CentiST:STOK</td></tr><tr><td rowspan=\"1\">urn:om2:conversion:chain:metre</td><td>oneEquals</td><td>2.011684e1<span style=\"opacity:0.6;\">^^http://www.w3.org/2001/XMLSchema#float</span></td><td>20.1168e0<span style=\"opacity:0.6;\">^^http://www.w3.org/2001/XMLSchema#double</span></td><td>oneEquals</td><td rowspan=\"1\">urn:qudt2:conversion:CH:M</td></tr><tr><td rowspan=\"1\">urn:om2:conversion:coulomb:faraday</td><td>oneEquals</td><td>1.03642715E-5<span style=\"opacity:0.6;\">^^http://www.w3.org/2001/XMLSchema#float</span></td><td>1.036426882090509E-5<span style=\"opacity:0.6;\">^^http://www.w3.org/2001/XMLSchema#double</span></td><td>oneEquals</td><td rowspan=\"1\">urn:qudt2:conversion:C:F</td></tr><tr><td rowspan=\"1\">urn:om2:conversion:coulomb:femtocoulomb</td><td>oneEquals</td><td>9.9999999E14<span style=\"opacity:0.6;\">^^http://www.w3.org/2001/XMLSchema#float</span></td><td>9.999999999999999E14<span style=\"opacity:0.6;\">^^http://www.w3.org/2001/XMLSchema#double</span></td><td>oneEquals</td><td rowspan=\"1\">urn:qudt2:conversion:C:FemtoC</td></tr><tr><td rowspan=\"1\">urn:om2:conversion:coulomb:millicoulomb</td><td>oneEquals</td><td>999.99994<span style=\"opacity:0.6;\">^^http://www.w3.org/2001/XMLSchema#float</span></td><td>1000.0e0<span style=\"opacity:0.6;\">^^http://www.w3.org/2001/XMLSchema#double</span></td><td>oneEquals</td><td rowspan=\"1\">urn:qudt2:conversion:C:MilliC</td></tr><tr><td rowspan=\"1\">urn:om2:conversion:coulomb:nanocoulomb</td><td>oneEquals</td><td>1.0E9<span style=\"opacity:0.6;\">^^http://www.w3.org/2001/XMLSchema#float</span></td><td>9.999999999999999E8<span style=\"opacity:0.6;\">^^http://www.w3.org/2001/XMLSchema#double</span></td><td>oneEquals</td><td rowspan=\"1\">urn:qudt2:conversion:C:NanoC</td></tr><tr><td rowspan=\"1\">urn:om2:conversion:coulomb:statcoulomb</td><td>oneEquals</td><td>2.99792461E9<span style=\"opacity:0.6;\">^^http://www.w3.org/2001/XMLSchema#float</span></td><td>2.9979254355985656E9<span style=\"opacity:0.6;\">^^http://www.w3.org/2001/XMLSchema#double</span></td><td>oneEquals</td><td rowspan=\"1\">urn:qudt2:conversion:C:C_Stat</td></tr><tr><td rowspan=\"1\">urn:om2:conversion:coulomb:yoctocoulomb</td><td>oneEquals</td><td>1.0E24<span style=\"opacity:0.6;\">^^http://www.w3.org/2001/XMLSchema#float</span></td><td>1.0000000000000001E24<span style=\"opacity:0.6;\">^^http://www.w3.org/2001/XMLSchema#double</span></td><td>oneEquals</td><td rowspan=\"1\">urn:qudt2:conversion:C:YoctoC</td></tr><tr><td rowspan=\"1\">urn:om2:conversion:coulomb:yottacoulomb</td><td>oneEquals</td><td>1.0E-24<span style=\"opacity:0.6;\">^^http://www.w3.org/2001/XMLSchema#float</span></td><td>1.0000000000000001E-24<span style=\"opacity:0.6;\">^^http://www.w3.org/2001/XMLSchema#double</span></td><td>oneEquals</td><td rowspan=\"1\">urn:qudt2:conversion:C:YottaC</td></tr><tr><td rowspan=\"1\">urn:om2:conversion:coulomb:zeptocoulomb</td><td>oneEquals</td><td>1.0E21<span style=\"opacity:0.6;\">^^http://www.w3.org/2001/XMLSchema#float</span></td><td>1.0000000000000001E21<span style=\"opacity:0.6;\">^^http://www.w3.org/2001/XMLSchema#double</span></td><td>oneEquals</td><td rowspan=\"1\">urn:qudt2:conversion:C:ZeptoC</td></tr><tr><td rowspan=\"1\">urn:om2:conversion:coulombMetre:debye</td><td>oneEquals</td><td>2.9979254E29<span style=\"opacity:0.6;\">^^http://www.w3.org/2001/XMLSchema#float</span></td><td>2.9979254355985658E29<span style=\"opacity:0.6;\">^^http://www.w3.org/2001/XMLSchema#double</span></td><td>oneEquals</td><td rowspan=\"1\">urn:qudt2:conversion:C-M:Debye</td></tr><tr><td rowspan=\"1\">urn:om2:conversion:decacoulomb:exacoulomb</td><td>oneEquals</td><td>1.0000001E-17<span style=\"opacity:0.6;\">^^http://www.w3.org/2001/XMLSchema#float</span></td><td>1.0E-17<span style=\"opacity:0.6;\">^^http://www.w3.org/2001/XMLSchema#double</span></td><td>oneEquals</td><td rowspan=\"1\">urn:qudt2:conversion:DecaC:ExaC</td></tr><tr><td rowspan=\"1\">urn:om2:conversion:decacoulomb:femtocoulomb</td><td>oneEquals</td><td>9.9999992E15<span style=\"opacity:0.6;\">^^http://www.w3.org/2001/XMLSchema#float</span></td><td>1.0E16<span style=\"opacity:0.6;\">^^http://www.w3.org/2001/XMLSchema#double</span></td><td>oneEquals</td><td rowspan=\"1\">urn:qudt2:conversion:DecaC:FemtoC</td></tr><tr><td rowspan=\"1\">urn:om2:conversion:decacoulomb:hectocoulomb</td><td>oneEquals</td><td>0.099999994<span style=\"opacity:0.6;\">^^http://www.w3.org/2001/XMLSchema#float</span></td><td>0.1e0<span style=\"opacity:0.6;\">^^http://www.w3.org/2001/XMLSchema#double</span></td><td>oneEquals</td><td rowspan=\"1\">urn:qudt2:conversion:DecaC:HectoC</td></tr><tr><td rowspan=\"1\">urn:om2:conversion:decacoulomb:kilocoulomb</td><td>oneEquals</td><td>0.010000001<span style=\"opacity:0.6;\">^^http://www.w3.org/2001/XMLSchema#float</span></td><td>0.01e0<span style=\"opacity:0.6;\">^^http://www.w3.org/2001/XMLSchema#double</span></td><td>oneEquals</td><td rowspan=\"1\">urn:qudt2:conversion:DecaC:KiloC</td></tr><tr><td rowspan=\"1\">urn:om2:conversion:decacoulomb:millicoulomb</td><td>oneEquals</td><td>9999.999<span style=\"opacity:0.6;\">^^http://www.w3.org/2001/XMLSchema#float</span></td><td>10000.0e0<span style=\"opacity:0.6;\">^^http://www.w3.org/2001/XMLSchema#double</span></td><td>oneEquals</td><td rowspan=\"1\">urn:qudt2:conversion:DecaC:MilliC</td></tr><tr><td rowspan=\"1\">urn:om2:conversion:decacoulomb:picocoulomb</td><td>oneEquals</td><td>9.9999998E12<span style=\"opacity:0.6;\">^^http://www.w3.org/2001/XMLSchema#float</span></td><td>1.0E13<span style=\"opacity:0.6;\">^^http://www.w3.org/2001/XMLSchema#double</span></td><td>oneEquals</td><td rowspan=\"1\">urn:qudt2:conversion:DecaC:PicoC</td></tr><tr><td rowspan=\"1\">urn:om2:conversion:decibar:millibar</td><td>oneEquals</td><td>99.99999<span style=\"opacity:0.6;\">^^http://www.w3.org/2001/XMLSchema#float</span></td><td>100.0e0<span style=\"opacity:0.6;\">^^http://www.w3.org/2001/XMLSchema#double</span></td><td>oneEquals</td><td rowspan=\"1\">urn:qudt2:conversion:DeciBAR:MilliBAR</td></tr><tr><td rowspan=\"1\">urn:om2:conversion:decicoulomb:exacoulomb</td><td>oneEquals</td><td>1.00000003E-19<span style=\"opacity:0.6;\">^^http://www.w3.org/2001/XMLSchema#float</span></td><td>1.0000000000000001E-19<span style=\"opacity:0.6;\">^^http://www.w3.org/2001/XMLSchema#double</span></td><td>oneEquals</td><td rowspan=\"1\">urn:qudt2:conversion:DeciC:ExaC</td></tr><tr><td rowspan=\"1\">urn:om2:conversion:decicoulomb:gigacoulomb</td><td>oneEquals</td><td>9.9999994E-11<span style=\"opacity:0.6;\">^^http://www.w3.org/2001/XMLSchema#float</span></td><td>1.0E-10<span style=\"opacity:0.6;\">^^http://www.w3.org/2001/XMLSchema#double</span></td><td>oneEquals</td><td rowspan=\"1\">urn:qudt2:conversion:DeciC:GigaC</td></tr><tr><td rowspan=\"1\">urn:om2:conversion:decicoulomb:hectocoulomb</td><td>oneEquals</td><td>9.999999E-4<span style=\"opacity:0.6;\">^^http://www.w3.org/2001/XMLSchema#float</span></td><td>0.001e0<span style=\"opacity:0.6;\">^^http://www.w3.org/2001/XMLSchema#double</span></td><td>oneEquals</td><td rowspan=\"1\">urn:qudt2:conversion:DeciC:HectoC</td></tr><tr><td rowspan=\"1\">urn:om2:conversion:decicoulomb:kilocoulomb</td><td>oneEquals</td><td>1.00000005E-4<span style=\"opacity:0.6;\">^^http://www.w3.org/2001/XMLSchema#float</span></td><td>1.0E-4<span style=\"opacity:0.6;\">^^http://www.w3.org/2001/XMLSchema#double</span></td><td>oneEquals</td><td rowspan=\"1\">urn:qudt2:conversion:DeciC:KiloC</td></tr><tr><td rowspan=\"1\">urn:om2:conversion:decicoulomb:megacoulomb</td><td>oneEquals</td><td>1.0E-7<span style=\"opacity:0.6;\">^^http://www.w3.org/2001/XMLSchema#float</span></td><td>1.0000000000000001E-7<span style=\"opacity:0.6;\">^^http://www.w3.org/2001/XMLSchema#double</span></td><td>oneEquals</td><td rowspan=\"1\">urn:qudt2:conversion:DeciC:MegaC</td></tr><tr><td rowspan=\"1\">urn:om2:conversion:decicoulomb:microcoulomb</td><td>oneEquals</td><td>100000.0<span style=\"opacity:0.6;\">^^http://www.w3.org/2001/XMLSchema#float</span></td><td>100000.00000000001e0<span style=\"opacity:0.6;\">^^http://www.w3.org/2001/XMLSchema#double</span></td><td>oneEquals</td><td rowspan=\"1\">urn:qudt2:conversion:DeciC:MicroC</td></tr><tr><td rowspan=\"1\">urn:om2:conversion:decicoulomb:millicoulomb</td><td>oneEquals</td><td>99.99999<span style=\"opacity:0.6;\">^^http://www.w3.org/2001/XMLSchema#float</span></td><td>100.0e0<span style=\"opacity:0.6;\">^^http://www.w3.org/2001/XMLSchema#double</span></td><td>oneEquals</td><td rowspan=\"1\">urn:qudt2:conversion:DeciC:MilliC</td></tr><tr><td rowspan=\"1\">urn:om2:conversion:decicoulomb:petacoulomb</td><td>oneEquals</td><td>1.0E-16<span style=\"opacity:0.6;\">^^http://www.w3.org/2001/XMLSchema#float</span></td><td>1.0000000000000001E-16<span style=\"opacity:0.6;\">^^http://www.w3.org/2001/XMLSchema#double</span></td><td>oneEquals</td><td rowspan=\"1\">urn:qudt2:conversion:DeciC:PetaC</td></tr><tr><td rowspan=\"1\">urn:om2:conversion:decicoulomb:picocoulomb</td><td>oneEquals</td><td>9.9999998E10<span style=\"opacity:0.6;\">^^http://www.w3.org/2001/XMLSchema#float</span></td><td>1.0E11<span style=\"opacity:0.6;\">^^http://www.w3.org/2001/XMLSchema#double</span></td><td>oneEquals</td><td rowspan=\"1\">urn:qudt2:conversion:DeciC:PicoC</td></tr><tr><td rowspan=\"1\">urn:om2:conversion:decicoulomb:yoctocoulomb</td><td>oneEquals</td><td>1.0E23<span style=\"opacity:0.6;\">^^http://www.w3.org/2001/XMLSchema#float</span></td><td>1.0000000000000001E23<span style=\"opacity:0.6;\">^^http://www.w3.org/2001/XMLSchema#double</span></td><td>oneEquals</td><td rowspan=\"1\">urn:qudt2:conversion:DeciC:YoctoC</td></tr><tr><td rowspan=\"1\">urn:om2:conversion:decicoulomb:zeptocoulomb</td><td>oneEquals</td><td>1.0E20<span style=\"opacity:0.6;\">^^http://www.w3.org/2001/XMLSchema#float</span></td><td>1.0000000000000002E20<span style=\"opacity:0.6;\">^^http://www.w3.org/2001/XMLSchema#double</span></td><td>oneEquals</td><td rowspan=\"1\">urn:qudt2:conversion:DeciC:ZeptoC</td></tr><tr><td rowspan=\"1\">urn:om2:conversion:decicoulomb:zettacoulomb</td><td>oneEquals</td><td>9.9999997E-23<span style=\"opacity:0.6;\">^^http://www.w3.org/2001/XMLSchema#float</span></td><td>1.0E-22<span style=\"opacity:0.6;\">^^http://www.w3.org/2001/XMLSchema#double</span></td><td>oneEquals</td><td rowspan=\"1\">urn:qudt2:conversion:DeciC:ZettaC</td></tr><tr><td rowspan=\"1\">urn:om2:conversion:decimetre:kilometre</td><td>oneEquals</td><td>1.00000005E-4<span style=\"opacity:0.6;\">^^http://www.w3.org/2001/XMLSchema#float</span></td><td>1.0E-4<span style=\"opacity:0.6;\">^^http://www.w3.org/2001/XMLSchema#double</span></td><td>oneEquals</td><td rowspan=\"1\">urn:qudt2:conversion:DeciM:KiloM</td></tr><tr><td rowspan=\"1\">urn:om2:conversion:decimetre:micrometre</td><td>oneEquals</td><td>100000.0<span style=\"opacity:0.6;\">^^http://www.w3.org/2001/XMLSchema#float</span></td><td>100000.00000000001e0<span style=\"opacity:0.6;\">^^http://www.w3.org/2001/XMLSchema#double</span></td><td>oneEquals</td><td rowspan=\"1\">urn:qudt2:conversion:DeciM:MicroM</td></tr><tr><td rowspan=\"1\">urn:om2:conversion:decimetre:millimetre</td><td>oneEquals</td><td>99.99999<span style=\"opacity:0.6;\">^^http://www.w3.org/2001/XMLSchema#float</span></td><td>100.0e0<span style=\"opacity:0.6;\">^^http://www.w3.org/2001/XMLSchema#double</span></td><td>oneEquals</td><td rowspan=\"1\">urn:qudt2:conversion:DeciM:MilliM</td></tr><tr><td rowspan=\"1\">urn:om2:conversion:degree:radian</td><td>oneEquals</td><td>1.745329e-2<span style=\"opacity:0.6;\">^^http://www.w3.org/2001/XMLSchema#float</span></td><td>0.0174532925e0<span style=\"opacity:0.6;\">^^http://www.w3.org/2001/XMLSchema#double</span></td><td>oneEquals</td><td rowspan=\"1\">urn:qudt2:conversion:DEG:RAD</td></tr><tr><td rowspan=\"1\">urn:om2:conversion:degreeFahrenheit:kelvin</td><td>oneEquals</td><td>5.555556e-1<span style=\"opacity:0.6;\">^^http://www.w3.org/2001/XMLSchema#float</span></td><td>0.5555555555555556e0<span style=\"opacity:0.6;\">^^http://www.w3.org/2001/XMLSchema#double</span></td><td>oneEquals</td><td rowspan=\"1\">urn:qudt2:conversion:DEG_F:K</td></tr><tr><td rowspan=\"1\">urn:om2:conversion:degreeRankine:kelvin</td><td>oneEquals</td><td>5.555556e-1<span style=\"opacity:0.6;\">^^http://www.w3.org/2001/XMLSchema#float</span></td><td>0.5555555555555556e0<span style=\"opacity:0.6;\">^^http://www.w3.org/2001/XMLSchema#double</span></td><td>oneEquals</td><td rowspan=\"1\">urn:qudt2:conversion:DEG_R:K</td></tr><tr><td rowspan=\"1\">urn:om2:conversion:electronvolt:gigaelectronvolt</td><td>oneEquals</td><td>1.0E-9<span style=\"opacity:0.6;\">^^http://www.w3.org/2001/XMLSchema#float</span></td><td>9.999999999999999E-10<span style=\"opacity:0.6;\">^^http://www.w3.org/2001/XMLSchema#double</span></td><td>oneEquals</td><td rowspan=\"1\">urn:qudt2:conversion:EV:GigaEV</td></tr><tr><td rowspan=\"1\">urn:om2:conversion:electronvolt:joule</td><td>oneEquals</td><td>1.602177e-19<span style=\"opacity:0.6;\">^^http://www.w3.org/2001/XMLSchema#float</span></td><td>1.6021765314E-19<span style=\"opacity:0.6;\">^^http://www.w3.org/2001/XMLSchema#double</span></td><td>oneEquals</td><td rowspan=\"1\">urn:qudt2:conversion:EV:J</td></tr><tr><td rowspan=\"1\">urn:om2:conversion:exacoulomb:femtocoulomb</td><td>oneEquals</td><td>9.999999E32<span style=\"opacity:0.6;\">^^http://www.w3.org/2001/XMLSchema#float</span></td><td>1.0E33<span style=\"opacity:0.6;\">^^http://www.w3.org/2001/XMLSchema#double</span></td><td>oneEquals</td><td rowspan=\"1\">urn:qudt2:conversion:ExaC:FemtoC</td></tr><tr><td rowspan=\"1\">urn:om2:conversion:exacoulomb:gigacoulomb</td><td>oneEquals</td><td>9.9999994E8<span style=\"opacity:0.6;\">^^http://www.w3.org/2001/XMLSchema#float</span></td><td>1.0E9<span style=\"opacity:0.6;\">^^http://www.w3.org/2001/XMLSchema#double</span></td><td>oneEquals</td><td rowspan=\"1\">urn:qudt2:conversion:ExaC:GigaC</td></tr><tr><td rowspan=\"1\">urn:om2:conversion:exacoulomb:hectocoulomb</td><td>oneEquals</td><td>9.9999992E15<span style=\"opacity:0.6;\">^^http://www.w3.org/2001/XMLSchema#float</span></td><td>1.0E16<span style=\"opacity:0.6;\">^^http://www.w3.org/2001/XMLSchema#double</span></td><td>oneEquals</td><td rowspan=\"1\">urn:qudt2:conversion:ExaC:HectoC</td></tr><tr><td rowspan=\"1\">urn:om2:conversion:exacoulomb:kilocoulomb</td><td>oneEquals</td><td>9.9999999E14<span style=\"opacity:0.6;\">^^http://www.w3.org/2001/XMLSchema#float</span></td><td>1.0E15<span style=\"opacity:0.6;\">^^http://www.w3.org/2001/XMLSchema#double</span></td><td>oneEquals</td><td rowspan=\"1\">urn:qudt2:conversion:ExaC:KiloC</td></tr><tr><td rowspan=\"1\">urn:om2:conversion:exacoulomb:megacoulomb</td><td>oneEquals</td><td>9.9999993E11<span style=\"opacity:0.6;\">^^http://www.w3.org/2001/XMLSchema#float</span></td><td>1.0E12<span style=\"opacity:0.6;\">^^http://www.w3.org/2001/XMLSchema#double</span></td><td>oneEquals</td><td rowspan=\"1\">urn:qudt2:conversion:ExaC:MegaC</td></tr><tr><td rowspan=\"1\">urn:om2:conversion:exacoulomb:microcoulomb</td><td>oneEquals</td><td>9.9999994E23<span style=\"opacity:0.6;\">^^http://www.w3.org/2001/XMLSchema#float</span></td><td>1.0E24<span style=\"opacity:0.6;\">^^http://www.w3.org/2001/XMLSchema#double</span></td><td>oneEquals</td><td rowspan=\"1\">urn:qudt2:conversion:ExaC:MicroC</td></tr><tr><td rowspan=\"1\">urn:om2:conversion:exacoulomb:millicoulomb</td><td>oneEquals</td><td>9.999999E20<span style=\"opacity:0.6;\">^^http://www.w3.org/2001/XMLSchema#float</span></td><td>1.0E21<span style=\"opacity:0.6;\">^^http://www.w3.org/2001/XMLSchema#double</span></td><td>oneEquals</td><td rowspan=\"1\">urn:qudt2:conversion:ExaC:MilliC</td></tr><tr><td rowspan=\"1\">urn:om2:conversion:exacoulomb:nanocoulomb</td><td>oneEquals</td><td>1.0E27<span style=\"opacity:0.6;\">^^http://www.w3.org/2001/XMLSchema#float</span></td><td>9.999999999999999E26<span style=\"opacity:0.6;\">^^http://www.w3.org/2001/XMLSchema#double</span></td><td>oneEquals</td><td rowspan=\"1\">urn:qudt2:conversion:ExaC:NanoC</td></tr><tr><td rowspan=\"1\">urn:om2:conversion:exacoulomb:petacoulomb</td><td>oneEquals</td><td>999.99994<span style=\"opacity:0.6;\">^^http://www.w3.org/2001/XMLSchema#float</span></td><td>1000.0e0<span style=\"opacity:0.6;\">^^http://www.w3.org/2001/XMLSchema#double</span></td><td>oneEquals</td><td rowspan=\"1\">urn:qudt2:conversion:ExaC:PetaC</td></tr><tr><td rowspan=\"1\">urn:om2:conversion:exacoulomb:picocoulomb</td><td>oneEquals</td><td>9.9999994E29<span style=\"opacity:0.6;\">^^http://www.w3.org/2001/XMLSchema#float</span></td><td>1.0E30<span style=\"opacity:0.6;\">^^http://www.w3.org/2001/XMLSchema#double</span></td><td>oneEquals</td><td rowspan=\"1\">urn:qudt2:conversion:ExaC:PicoC</td></tr><tr><td rowspan=\"1\">urn:om2:conversion:exacoulomb:teracoulomb</td><td>oneEquals</td><td>999999.94<span style=\"opacity:0.6;\">^^http://www.w3.org/2001/XMLSchema#float</span></td><td>1000000.0e0<span style=\"opacity:0.6;\">^^http://www.w3.org/2001/XMLSchema#double</span></td><td>oneEquals</td><td rowspan=\"1\">urn:qudt2:conversion:ExaC:TeraC</td></tr><tr><td rowspan=\"1\">urn:om2:conversion:exacoulomb:yoctocoulomb</td><td>oneEquals</td><td>INF<span style=\"opacity:0.6;\">^^http://www.w3.org/2001/XMLSchema#float</span></td><td>1.0E42<span style=\"opacity:0.6;\">^^http://www.w3.org/2001/XMLSchema#double</span></td><td>oneEquals</td><td rowspan=\"1\">urn:qudt2:conversion:ExaC:YoctoC</td></tr><tr><td rowspan=\"1\">urn:om2:conversion:exacoulomb:zeptocoulomb</td><td>oneEquals</td><td>INF<span style=\"opacity:0.6;\">^^http://www.w3.org/2001/XMLSchema#float</span></td><td>1.0000000000000001E39<span style=\"opacity:0.6;\">^^http://www.w3.org/2001/XMLSchema#double</span></td><td>oneEquals</td><td rowspan=\"1\">urn:qudt2:conversion:ExaC:ZeptoC</td></tr><tr><td rowspan=\"1\">urn:om2:conversion:exacoulomb:zettacoulomb</td><td>oneEquals</td><td>9.999999E-4<span style=\"opacity:0.6;\">^^http://www.w3.org/2001/XMLSchema#float</span></td><td>0.001e0<span style=\"opacity:0.6;\">^^http://www.w3.org/2001/XMLSchema#double</span></td><td>oneEquals</td><td rowspan=\"1\">urn:qudt2:conversion:ExaC:ZettaC</td></tr><tr><td rowspan=\"1\">urn:om2:conversion:farad:statfarad</td><td>oneEquals</td><td>8.987552E11<span style=\"opacity:0.6;\">^^http://www.w3.org/2001/XMLSchema#float</span></td><td>8.984725965858041E11<span style=\"opacity:0.6;\">^^http://www.w3.org/2001/XMLSchema#double</span></td><td>oneEquals</td><td rowspan=\"1\">urn:qudt2:conversion:FARAD:FARAD_Stat</td></tr><tr><td rowspan=\"1\">urn:om2:conversion:femtocoulomb:gigacoulomb</td><td>oneEquals</td><td>1.0E-24<span style=\"opacity:0.6;\">^^http://www.w3.org/2001/XMLSchema#float</span></td><td>1.0000000000000001E-24<span style=\"opacity:0.6;\">^^http://www.w3.org/2001/XMLSchema#double</span></td><td>oneEquals</td><td rowspan=\"1\">urn:qudt2:conversion:FemtoC:GigaC</td></tr><tr><td rowspan=\"1\">urn:om2:conversion:femtocoulomb:megacoulomb</td><td>oneEquals</td><td>1.0E-21<span style=\"opacity:0.6;\">^^http://www.w3.org/2001/XMLSchema#float</span></td><td>1.0000000000000001E-21<span style=\"opacity:0.6;\">^^http://www.w3.org/2001/XMLSchema#double</span></td><td>oneEquals</td><td rowspan=\"1\">urn:qudt2:conversion:FemtoC:MegaC</td></tr><tr><td rowspan=\"1\">urn:om2:conversion:femtocoulomb:yoctocoulomb</td><td>oneEquals</td><td>1.0E9<span style=\"opacity:0.6;\">^^http://www.w3.org/2001/XMLSchema#float</span></td><td>1.0000000000000001E9<span style=\"opacity:0.6;\">^^http://www.w3.org/2001/XMLSchema#double</span></td><td>oneEquals</td><td rowspan=\"1\">urn:qudt2:conversion:FemtoC:YoctoC</td></tr><tr><td rowspan=\"1\">urn:om2:conversion:femtocoulomb:yottacoulomb</td><td>oneEquals</td><td>1.0E-39<span style=\"opacity:0.6;\">^^http://www.w3.org/2001/XMLSchema#float</span></td><td>1.0000000000000001E-39<span style=\"opacity:0.6;\">^^http://www.w3.org/2001/XMLSchema#double</span></td><td>oneEquals</td><td rowspan=\"1\">urn:qudt2:conversion:FemtoC:YottaC</td></tr><tr><td rowspan=\"1\">urn:om2:conversion:femtocoulomb:zeptocoulomb</td><td>oneEquals</td><td>1000000.06<span style=\"opacity:0.6;\">^^http://www.w3.org/2001/XMLSchema#float</span></td><td>1000000.0000000001e0<span style=\"opacity:0.6;\">^^http://www.w3.org/2001/XMLSchema#double</span></td><td>oneEquals</td><td rowspan=\"1\">urn:qudt2:conversion:FemtoC:ZeptoC</td></tr><tr><td rowspan=\"1\">urn:om2:conversion:femtocoulomb:zettacoulomb</td><td>oneEquals</td><td>9.9999995E-37<span style=\"opacity:0.6;\">^^http://www.w3.org/2001/XMLSchema#float</span></td><td>1.0000000000000001E-36<span style=\"opacity:0.6;\">^^http://www.w3.org/2001/XMLSchema#double</span></td><td>oneEquals</td><td rowspan=\"1\">urn:qudt2:conversion:FemtoC:ZettaC</td></tr><tr><td rowspan=\"1\">urn:om2:conversion:footPoundal:joule</td><td>oneEquals</td><td>4.214011e-2<span style=\"opacity:0.6;\">^^http://www.w3.org/2001/XMLSchema#float</span></td><td>0.042140124e0<span style=\"opacity:0.6;\">^^http://www.w3.org/2001/XMLSchema#double</span></td><td>oneEquals</td><td rowspan=\"1\">urn:qudt2:conversion:FT-PDL:J</td></tr><tr><td rowspan=\"1\">urn:om2:conversion:gigabyte:kilobyte</td><td>oneEquals</td><td>1000000.06<span style=\"opacity:0.6;\">^^http://www.w3.org/2001/XMLSchema#float</span></td><td>1048576.0e0<span style=\"opacity:0.6;\">^^http://www.w3.org/2001/XMLSchema#double</span></td><td>oneEquals</td><td rowspan=\"1\">urn:qudt2:conversion:GigaBYTE:KiloBYTE</td></tr><tr><td rowspan=\"1\">urn:om2:conversion:gigabyte:megabyte</td><td>oneEquals</td><td>1000.0<span style=\"opacity:0.6;\">^^http://www.w3.org/2001/XMLSchema#float</span></td><td>1024.0e0<span style=\"opacity:0.6;\">^^http://www.w3.org/2001/XMLSchema#double</span></td><td>oneEquals</td><td rowspan=\"1\">urn:qudt2:conversion:GigaBYTE:MegaBYTE</td></tr><tr><td rowspan=\"1\">urn:om2:conversion:gigabyte:megabyte</td><td>oneEquals</td><td>1000.0<span style=\"opacity:0.6;\">^^http://www.w3.org/2001/XMLSchema#float</span></td><td>1024.0e0<span style=\"opacity:0.6;\">^^http://www.w3.org/2001/XMLSchema#double</span></td><td>oneEquals</td><td rowspan=\"1\">urn:qudt2:conversion:GigaBYTE:MegaBYTE_Memory</td></tr><tr><td rowspan=\"1\">urn:om2:conversion:gigabyte:pebibyte</td><td>oneEquals</td><td>8.881784E-7<span style=\"opacity:0.6;\">^^http://www.w3.org/2001/XMLSchema#float</span></td><td>9.5367431640625E-7<span style=\"opacity:0.6;\">^^http://www.w3.org/2001/XMLSchema#double</span></td><td>oneEquals</td><td rowspan=\"1\">urn:qudt2:conversion:GigaBYTE:PebiBYTE</td></tr><tr><td rowspan=\"1\">urn:om2:conversion:gigabyte:petabyte</td><td>oneEquals</td><td>1.0E-6<span style=\"opacity:0.6;\">^^http://www.w3.org/2001/XMLSchema#float</span></td><td>1.073741824E-6<span style=\"opacity:0.6;\">^^http://www.w3.org/2001/XMLSchema#double</span></td><td>oneEquals</td><td rowspan=\"1\">urn:qudt2:conversion:GigaBYTE:PetaBYTE</td></tr><tr><td rowspan=\"1\">urn:om2:conversion:gigabyte:terabyte</td><td>oneEquals</td><td>0.001<span style=\"opacity:0.6;\">^^http://www.w3.org/2001/XMLSchema#float</span></td><td>1024.0e0<span style=\"opacity:0.6;\">^^http://www.w3.org/2001/XMLSchema#double</span></td><td>oneEquals</td><td rowspan=\"1\">urn:qudt2:conversion:GigaBYTE:TeraBYTE</td></tr><tr><td rowspan=\"1\">urn:om2:conversion:gigacoulomb:kilocoulomb</td><td>oneEquals</td><td>1000000.06<span style=\"opacity:0.6;\">^^http://www.w3.org/2001/XMLSchema#float</span></td><td>1000000.0e0<span style=\"opacity:0.6;\">^^http://www.w3.org/2001/XMLSchema#double</span></td><td>oneEquals</td><td rowspan=\"1\">urn:qudt2:conversion:GigaC:KiloC</td></tr><tr><td rowspan=\"1\">urn:om2:conversion:gigacoulomb:microcoulomb</td><td>oneEquals</td><td>1.00000005E15<span style=\"opacity:0.6;\">^^http://www.w3.org/2001/XMLSchema#float</span></td><td>1.0E15<span style=\"opacity:0.6;\">^^http://www.w3.org/2001/XMLSchema#double</span></td><td>oneEquals</td><td rowspan=\"1\">urn:qudt2:conversion:GigaC:MicroC</td></tr><tr><td rowspan=\"1\">urn:om2:conversion:gigacoulomb:nanocoulomb</td><td>oneEquals</td><td>1.00000005E18<span style=\"opacity:0.6;\">^^http://www.w3.org/2001/XMLSchema#float</span></td><td>1.0E18<span style=\"opacity:0.6;\">^^http://www.w3.org/2001/XMLSchema#double</span></td><td>oneEquals</td><td rowspan=\"1\">urn:qudt2:conversion:GigaC:NanoC</td></tr><tr><td rowspan=\"1\">urn:om2:conversion:gigacoulomb:yoctocoulomb</td><td>oneEquals</td><td>1.0000001E33<span style=\"opacity:0.6;\">^^http://www.w3.org/2001/XMLSchema#float</span></td><td>1.0000000000000001E33<span style=\"opacity:0.6;\">^^http://www.w3.org/2001/XMLSchema#double</span></td><td>oneEquals</td><td rowspan=\"1\">urn:qudt2:conversion:GigaC:YoctoC</td></tr><tr><td rowspan=\"1\">urn:om2:conversion:gigacoulomb:zeptocoulomb</td><td>oneEquals</td><td>1.0E30<span style=\"opacity:0.6;\">^^http://www.w3.org/2001/XMLSchema#float</span></td><td>1.0000000000000002E30<span style=\"opacity:0.6;\">^^http://www.w3.org/2001/XMLSchema#double</span></td><td>oneEquals</td><td rowspan=\"1\">urn:qudt2:conversion:GigaC:ZeptoC</td></tr><tr><td rowspan=\"1\">urn:om2:conversion:gigaelectronvolt:kiloelectronvolt</td><td>oneEquals</td><td>1000000.06<span style=\"opacity:0.6;\">^^http://www.w3.org/2001/XMLSchema#float</span></td><td>1000000.0000000001e0<span style=\"opacity:0.6;\">^^http://www.w3.org/2001/XMLSchema#double</span></td><td>oneEquals</td><td rowspan=\"1\">urn:qudt2:conversion:GigaEV:KiloEV</td></tr><tr><td rowspan=\"1\">urn:om2:conversion:gigahertz:kilohertz</td><td>oneEquals</td><td>1000000.06<span style=\"opacity:0.6;\">^^http://www.w3.org/2001/XMLSchema#float</span></td><td>1000000.0e0<span style=\"opacity:0.6;\">^^http://www.w3.org/2001/XMLSchema#double</span></td><td>oneEquals</td><td rowspan=\"1\">urn:qudt2:conversion:GigaHZ:KiloHZ</td></tr><tr><td rowspan=\"1\">urn:om2:conversion:hectocoulomb:kilocoulomb</td><td>oneEquals</td><td>0.10000001<span style=\"opacity:0.6;\">^^http://www.w3.org/2001/XMLSchema#float</span></td><td>0.1e0<span style=\"opacity:0.6;\">^^http://www.w3.org/2001/XMLSchema#double</span></td><td>oneEquals</td><td rowspan=\"1\">urn:qudt2:conversion:HectoC:KiloC</td></tr><tr><td rowspan=\"1\">urn:om2:conversion:hectocoulomb:megacoulomb</td><td>oneEquals</td><td>1.00000005E-4<span style=\"opacity:0.6;\">^^http://www.w3.org/2001/XMLSchema#float</span></td><td>1.0E-4<span style=\"opacity:0.6;\">^^http://www.w3.org/2001/XMLSchema#double</span></td><td>oneEquals</td><td rowspan=\"1\">urn:qudt2:conversion:HectoC:MegaC</td></tr><tr><td rowspan=\"1\">urn:om2:conversion:hectocoulomb:nanocoulomb</td><td>oneEquals</td><td>1.00000006E11<span style=\"opacity:0.6;\">^^http://www.w3.org/2001/XMLSchema#float</span></td><td>1.0E11<span style=\"opacity:0.6;\">^^http://www.w3.org/2001/XMLSchema#double</span></td><td>oneEquals</td><td rowspan=\"1\">urn:qudt2:conversion:HectoC:NanoC</td></tr><tr><td rowspan=\"1\">urn:om2:conversion:hectocoulomb:petacoulomb</td><td>oneEquals</td><td>1.00000005E-13<span style=\"opacity:0.6;\">^^http://www.w3.org/2001/XMLSchema#float</span></td><td>1.0E-13<span style=\"opacity:0.6;\">^^http://www.w3.org/2001/XMLSchema#double</span></td><td>oneEquals</td><td rowspan=\"1\">urn:qudt2:conversion:HectoC:PetaC</td></tr><tr><td rowspan=\"1\">urn:om2:conversion:hectocoulomb:zeptocoulomb</td><td>oneEquals</td><td>1.0000001E23<span style=\"opacity:0.6;\">^^http://www.w3.org/2001/XMLSchema#float</span></td><td>1.0000000000000001E23<span style=\"opacity:0.6;\">^^http://www.w3.org/2001/XMLSchema#double</span></td><td>oneEquals</td><td rowspan=\"1\">urn:qudt2:conversion:HectoC:ZeptoC</td></tr><tr><td rowspan=\"1\">urn:om2:conversion:kiloampere:microampere</td><td>oneEquals</td><td>9.9999994E8<span style=\"opacity:0.6;\">^^http://www.w3.org/2001/XMLSchema#float</span></td><td>1030.0000000000002e0<span style=\"opacity:0.6;\">^^http://www.w3.org/2001/XMLSchema#double</span></td><td>oneEquals</td><td rowspan=\"1\">urn:qudt2:conversion:KiloA:MicroA</td></tr><tr><td rowspan=\"1\">urn:om2:conversion:kiloampere:nanoampere</td><td>oneEquals</td><td>9.9999993E11<span style=\"opacity:0.6;\">^^http://www.w3.org/2001/XMLSchema#float</span></td><td>1030000.0e0<span style=\"opacity:0.6;\">^^http://www.w3.org/2001/XMLSchema#double</span></td><td>oneEquals</td><td rowspan=\"1\">urn:qudt2:conversion:KiloA:NanoA</td></tr><tr><td rowspan=\"1\">urn:om2:conversion:kiloampere:picoampere</td><td>oneEquals</td><td>9.9999992E14<span style=\"opacity:0.6;\">^^http://www.w3.org/2001/XMLSchema#float</span></td><td>1.0300000000000001E9<span style=\"opacity:0.6;\">^^http://www.w3.org/2001/XMLSchema#double</span></td><td>oneEquals</td><td rowspan=\"1\">urn:qudt2:conversion:KiloA:PicoA</td></tr><tr><td rowspan=\"1\">urn:om2:conversion:kilobyte:megabyte</td><td>oneEquals</td><td>9.999999E-4<span style=\"opacity:0.6;\">^^http://www.w3.org/2001/XMLSchema#float</span></td><td>9.765625E-4<span style=\"opacity:0.6;\">^^http://www.w3.org/2001/XMLSchema#double</span></td><td>oneEquals</td><td rowspan=\"1\">urn:qudt2:conversion:KiloBYTE:MegaBYTE</td></tr><tr><td rowspan=\"1\">urn:om2:conversion:kilobyte:megabyte</td><td>oneEquals</td><td>9.999999E-4<span style=\"opacity:0.6;\">^^http://www.w3.org/2001/XMLSchema#float</span></td><td>9.765625E-4<span style=\"opacity:0.6;\">^^http://www.w3.org/2001/XMLSchema#double</span></td><td>oneEquals</td><td rowspan=\"1\">urn:qudt2:conversion:KiloBYTE:MegaBYTE_Memory</td></tr><tr><td rowspan=\"1\">urn:om2:conversion:kilobyte:pebibyte</td><td>oneEquals</td><td>8.8817837E-13<span style=\"opacity:0.6;\">^^http://www.w3.org/2001/XMLSchema#float</span></td><td>9.094947017729282E-13<span style=\"opacity:0.6;\">^^http://www.w3.org/2001/XMLSchema#double</span></td><td>oneEquals</td><td rowspan=\"1\">urn:qudt2:conversion:KiloBYTE:PebiBYTE</td></tr><tr><td rowspan=\"1\">urn:om2:conversion:kilobyte:petabyte</td><td>oneEquals</td><td>1.0E-12<span style=\"opacity:0.6;\">^^http://www.w3.org/2001/XMLSchema#float</span></td><td>1.024E-12<span style=\"opacity:0.6;\">^^http://www.w3.org/2001/XMLSchema#double</span></td><td>oneEquals</td><td rowspan=\"1\">urn:qudt2:conversion:KiloBYTE:PetaBYTE</td></tr><tr><td rowspan=\"1\">urn:om2:conversion:kilobyte:terabyte</td><td>oneEquals</td><td>1.0E-9<span style=\"opacity:0.6;\">^^http://www.w3.org/2001/XMLSchema#float</span></td><td>9.765625E-4<span style=\"opacity:0.6;\">^^http://www.w3.org/2001/XMLSchema#double</span></td><td>oneEquals</td><td rowspan=\"1\">urn:qudt2:conversion:KiloBYTE:TeraBYTE</td></tr><tr><td rowspan=\"1\">urn:om2:conversion:kilocoulomb:megacoulomb</td><td>oneEquals</td><td>9.999999E-4<span style=\"opacity:0.6;\">^^http://www.w3.org/2001/XMLSchema#float</span></td><td>0.001e0<span style=\"opacity:0.6;\">^^http://www.w3.org/2001/XMLSchema#double</span></td><td>oneEquals</td><td rowspan=\"1\">urn:qudt2:conversion:KiloC:MegaC</td></tr><tr><td rowspan=\"1\">urn:om2:conversion:kilocoulomb:microcoulomb</td><td>oneEquals</td><td>9.9999994E8<span style=\"opacity:0.6;\">^^http://www.w3.org/2001/XMLSchema#float</span></td><td>1.0E9<span style=\"opacity:0.6;\">^^http://www.w3.org/2001/XMLSchema#double</span></td><td>oneEquals</td><td rowspan=\"1\">urn:qudt2:conversion:KiloC:MicroC</td></tr><tr><td rowspan=\"1\">urn:om2:conversion:kilocoulomb:millicoulomb</td><td>oneEquals</td><td>999999.9<span style=\"opacity:0.6;\">^^http://www.w3.org/2001/XMLSchema#float</span></td><td>1000000.0e0<span style=\"opacity:0.6;\">^^http://www.w3.org/2001/XMLSchema#double</span></td><td>oneEquals</td><td rowspan=\"1\">urn:qudt2:conversion:KiloC:MilliC</td></tr><tr><td rowspan=\"1\">urn:om2:conversion:kilocoulomb:nanocoulomb</td><td>oneEquals</td><td>9.9999993E11<span style=\"opacity:0.6;\">^^http://www.w3.org/2001/XMLSchema#float</span></td><td>9.999999999999999E11<span style=\"opacity:0.6;\">^^http://www.w3.org/2001/XMLSchema#double</span></td><td>oneEquals</td><td rowspan=\"1\">urn:qudt2:conversion:KiloC:NanoC</td></tr><tr><td rowspan=\"1\">urn:om2:conversion:kilocoulomb:picocoulomb</td><td>oneEquals</td><td>9.9999992E14<span style=\"opacity:0.6;\">^^http://www.w3.org/2001/XMLSchema#float</span></td><td>1.0E15<span style=\"opacity:0.6;\">^^http://www.w3.org/2001/XMLSchema#double</span></td><td>oneEquals</td><td rowspan=\"1\">urn:qudt2:conversion:KiloC:PicoC</td></tr><tr><td rowspan=\"1\">urn:om2:conversion:kilocoulomb:yottacoulomb</td><td>oneEquals</td><td>1.0E-21<span style=\"opacity:0.6;\">^^http://www.w3.org/2001/XMLSchema#float</span></td><td>1.0000000000000001E-21<span style=\"opacity:0.6;\">^^http://www.w3.org/2001/XMLSchema#double</span></td><td>oneEquals</td><td rowspan=\"1\">urn:qudt2:conversion:KiloC:YottaC</td></tr><tr><td rowspan=\"1\">urn:om2:conversion:kilocoulomb:zeptocoulomb</td><td>oneEquals</td><td>9.9999994E23<span style=\"opacity:0.6;\">^^http://www.w3.org/2001/XMLSchema#float</span></td><td>1.0000000000000001E24<span style=\"opacity:0.6;\">^^http://www.w3.org/2001/XMLSchema#double</span></td><td>oneEquals</td><td rowspan=\"1\">urn:qudt2:conversion:KiloC:ZeptoC</td></tr><tr><td rowspan=\"1\">urn:om2:conversion:kilocoulomb:zettacoulomb</td><td>oneEquals</td><td>9.999999E-19<span style=\"opacity:0.6;\">^^http://www.w3.org/2001/XMLSchema#float</span></td><td>1.0E-18<span style=\"opacity:0.6;\">^^http://www.w3.org/2001/XMLSchema#double</span></td><td>oneEquals</td><td rowspan=\"1\">urn:qudt2:conversion:KiloC:ZettaC</td></tr><tr><td rowspan=\"1\">urn:om2:conversion:kiloelectronvolt:megaelectronvolt</td><td>oneEquals</td><td>9.999999E-4<span style=\"opacity:0.6;\">^^http://www.w3.org/2001/XMLSchema#float</span></td><td>0.001e0<span style=\"opacity:0.6;\">^^http://www.w3.org/2001/XMLSchema#double</span></td><td>oneEquals</td><td rowspan=\"1\">urn:qudt2:conversion:KiloEV:MegaEV</td></tr><tr><td rowspan=\"1\">urn:om2:conversion:kilogram:slug</td><td>oneEquals</td><td>0.06852178<span style=\"opacity:0.6;\">^^http://www.w3.org/2001/XMLSchema#float</span></td><td>0.06852176556196105e0<span style=\"opacity:0.6;\">^^http://www.w3.org/2001/XMLSchema#double</span></td><td>oneEquals</td><td rowspan=\"1\">urn:qudt2:conversion:KiloGM:SLUG</td></tr><tr><td rowspan=\"1\">urn:om2:conversion:kilohertz:megahertz</td><td>oneEquals</td><td>9.999999E-4<span style=\"opacity:0.6;\">^^http://www.w3.org/2001/XMLSchema#float</span></td><td>0.001e0<span style=\"opacity:0.6;\">^^http://www.w3.org/2001/XMLSchema#double</span></td><td>oneEquals</td><td rowspan=\"1\">urn:qudt2:conversion:KiloHZ:MegaHZ</td></tr><tr><td rowspan=\"1\">urn:om2:conversion:kilometre:millimetre</td><td>oneEquals</td><td>999999.94<span style=\"opacity:0.6;\">^^http://www.w3.org/2001/XMLSchema#float</span></td><td>1000000.0e0<span style=\"opacity:0.6;\">^^http://www.w3.org/2001/XMLSchema#double</span></td><td>oneEquals</td><td rowspan=\"1\">urn:qudt2:conversion:KiloM:MilliM</td></tr><tr><td rowspan=\"1\">urn:om2:conversion:kilosecond-Time:millisecond-Time</td><td>oneEquals</td><td>999999.94<span style=\"opacity:0.6;\">^^http://www.w3.org/2001/XMLSchema#float</span></td><td>1000000.0e0<span style=\"opacity:0.6;\">^^http://www.w3.org/2001/XMLSchema#double</span></td><td>oneEquals</td><td rowspan=\"1\">urn:qudt2:conversion:KiloSEC:MilliSEC</td></tr><tr><td rowspan=\"1\">urn:om2:conversion:kilosecond-Time:nanosecond-Time</td><td>oneEquals</td><td>1.0E12<span style=\"opacity:0.6;\">^^http://www.w3.org/2001/XMLSchema#float</span></td><td>9.999999999999999E11<span style=\"opacity:0.6;\">^^http://www.w3.org/2001/XMLSchema#double</span></td><td>oneEquals</td><td rowspan=\"1\">urn:qudt2:conversion:KiloSEC:NanoSEC</td></tr><tr><td rowspan=\"1\">urn:om2:conversion:lightYear:metre</td><td>oneEquals</td><td>9.46073e15<span style=\"opacity:0.6;\">^^http://www.w3.org/2001/XMLSchema#float</span></td><td>9.4607304725808E15<span style=\"opacity:0.6;\">^^http://www.w3.org/2001/XMLSchema#double</span></td><td>oneEquals</td><td rowspan=\"1\">urn:qudt2:conversion:LY:M</td></tr><tr><td rowspan=\"1\">urn:om2:conversion:megabyte:pebibyte</td><td>oneEquals</td><td>8.881784E-10<span style=\"opacity:0.6;\">^^http://www.w3.org/2001/XMLSchema#float</span></td><td>9.313225746154785E-10<span style=\"opacity:0.6;\">^^http://www.w3.org/2001/XMLSchema#double</span></td><td>oneEquals</td><td rowspan=\"1\">urn:qudt2:conversion:MegaBYTE:PebiBYTE</td></tr><tr><td rowspan=\"1\">urn:om2:conversion:megabyte:pebibyte</td><td>oneEquals</td><td>8.881784E-10<span style=\"opacity:0.6;\">^^http://www.w3.org/2001/XMLSchema#float</span></td><td>9.313225746154785E-10<span style=\"opacity:0.6;\">^^http://www.w3.org/2001/XMLSchema#double</span></td><td>oneEquals</td><td rowspan=\"1\">urn:qudt2:conversion:MegaBYTE_Memory:PebiBYTE</td></tr><tr><td rowspan=\"1\">urn:om2:conversion:megabyte:petabyte</td><td>oneEquals</td><td>1.0E-9<span style=\"opacity:0.6;\">^^http://www.w3.org/2001/XMLSchema#float</span></td><td>1.048576E-9<span style=\"opacity:0.6;\">^^http://www.w3.org/2001/XMLSchema#double</span></td><td>oneEquals</td><td rowspan=\"1\">urn:qudt2:conversion:MegaBYTE:PetaBYTE</td></tr><tr><td rowspan=\"1\">urn:om2:conversion:megabyte:petabyte</td><td>oneEquals</td><td>1.0E-9<span style=\"opacity:0.6;\">^^http://www.w3.org/2001/XMLSchema#float</span></td><td>1.048576E-9<span style=\"opacity:0.6;\">^^http://www.w3.org/2001/XMLSchema#double</span></td><td>oneEquals</td><td rowspan=\"1\">urn:qudt2:conversion:MegaBYTE_Memory:PetaBYTE</td></tr><tr><td rowspan=\"1\">urn:om2:conversion:megabyte:terabyte</td><td>oneEquals</td><td>1.0E-6<span style=\"opacity:0.6;\">^^http://www.w3.org/2001/XMLSchema#float</span></td><td>1.0e0<span style=\"opacity:0.6;\">^^http://www.w3.org/2001/XMLSchema#double</span></td><td>oneEquals</td><td rowspan=\"1\">urn:qudt2:conversion:MegaBYTE:TeraBYTE</td></tr><tr><td rowspan=\"1\">urn:om2:conversion:megabyte:terabyte</td><td>oneEquals</td><td>1.0E-6<span style=\"opacity:0.6;\">^^http://www.w3.org/2001/XMLSchema#float</span></td><td>1.0e0<span style=\"opacity:0.6;\">^^http://www.w3.org/2001/XMLSchema#double</span></td><td>oneEquals</td><td rowspan=\"1\">urn:qudt2:conversion:MegaBYTE_Memory:TeraBYTE</td></tr><tr><td rowspan=\"1\">urn:om2:conversion:megacoulomb:millicoulomb</td><td>oneEquals</td><td>9.9999994E8<span style=\"opacity:0.6;\">^^http://www.w3.org/2001/XMLSchema#float</span></td><td>1.0E9<span style=\"opacity:0.6;\">^^http://www.w3.org/2001/XMLSchema#double</span></td><td>oneEquals</td><td rowspan=\"1\">urn:qudt2:conversion:MegaC:MilliC</td></tr><tr><td rowspan=\"1\">urn:om2:conversion:megacoulomb:nanocoulomb</td><td>oneEquals</td><td>9.9999999E14<span style=\"opacity:0.6;\">^^http://www.w3.org/2001/XMLSchema#float</span></td><td>1.0E15<span style=\"opacity:0.6;\">^^http://www.w3.org/2001/XMLSchema#double</span></td><td>oneEquals</td><td rowspan=\"1\">urn:qudt2:conversion:MegaC:NanoC</td></tr><tr><td rowspan=\"1\">urn:om2:conversion:megacoulomb:picocoulomb</td><td>oneEquals</td><td>9.9999998E17<span style=\"opacity:0.6;\">^^http://www.w3.org/2001/XMLSchema#float</span></td><td>1.0E18<span style=\"opacity:0.6;\">^^http://www.w3.org/2001/XMLSchema#double</span></td><td>oneEquals</td><td rowspan=\"1\">urn:qudt2:conversion:MegaC:PicoC</td></tr><tr><td rowspan=\"1\">urn:om2:conversion:megacoulomb:zeptocoulomb</td><td>oneEquals</td><td>1.0E27<span style=\"opacity:0.6;\">^^http://www.w3.org/2001/XMLSchema#float</span></td><td>1.0000000000000002E27<span style=\"opacity:0.6;\">^^http://www.w3.org/2001/XMLSchema#double</span></td><td>oneEquals</td><td rowspan=\"1\">urn:qudt2:conversion:MegaC:ZeptoC</td></tr><tr><td rowspan=\"1\">urn:om2:conversion:metre:millimetre</td><td>oneEquals</td><td>999.99994<span style=\"opacity:0.6;\">^^http://www.w3.org/2001/XMLSchema#float</span></td><td>1000.0e0<span style=\"opacity:0.6;\">^^http://www.w3.org/2001/XMLSchema#double</span></td><td>oneEquals</td><td rowspan=\"1\">urn:qudt2:conversion:M:MilliM</td></tr><tr><td rowspan=\"1\">urn:om2:conversion:microampere:nanoampere</td><td>oneEquals</td><td>1000.0<span style=\"opacity:0.6;\">^^http://www.w3.org/2001/XMLSchema#float</span></td><td>999.9999999999999e0<span style=\"opacity:0.6;\">^^http://www.w3.org/2001/XMLSchema#double</span></td><td>oneEquals</td><td rowspan=\"1\">urn:qudt2:conversion:MicroA:NanoA</td></tr><tr><td rowspan=\"1\">urn:om2:conversion:microcoulomb:millicoulomb</td><td>oneEquals</td><td>9.999999E-4<span style=\"opacity:0.6;\">^^http://www.w3.org/2001/XMLSchema#float</span></td><td>0.001e0<span style=\"opacity:0.6;\">^^http://www.w3.org/2001/XMLSchema#double</span></td><td>oneEquals</td><td rowspan=\"1\">urn:qudt2:conversion:MicroC:MilliC</td></tr><tr><td rowspan=\"1\">urn:om2:conversion:microcoulomb:nanocoulomb</td><td>oneEquals</td><td>1000.0<span style=\"opacity:0.6;\">^^http://www.w3.org/2001/XMLSchema#float</span></td><td>999.9999999999999e0<span style=\"opacity:0.6;\">^^http://www.w3.org/2001/XMLSchema#double</span></td><td>oneEquals</td><td rowspan=\"1\">urn:qudt2:conversion:MicroC:NanoC</td></tr><tr><td rowspan=\"1\">urn:om2:conversion:microcoulomb:teracoulomb</td><td>oneEquals</td><td>1.0E-18<span style=\"opacity:0.6;\">^^http://www.w3.org/2001/XMLSchema#float</span></td><td>9.999999999999999E-19<span style=\"opacity:0.6;\">^^http://www.w3.org/2001/XMLSchema#double</span></td><td>oneEquals</td><td rowspan=\"1\">urn:qudt2:conversion:MicroC:TeraC</td></tr><tr><td rowspan=\"1\">urn:om2:conversion:microcoulomb:yoctocoulomb</td><td>oneEquals</td><td>9.9999998E17<span style=\"opacity:0.6;\">^^http://www.w3.org/2001/XMLSchema#float</span></td><td>1.0E18<span style=\"opacity:0.6;\">^^http://www.w3.org/2001/XMLSchema#double</span></td><td>oneEquals</td><td rowspan=\"1\">urn:qudt2:conversion:MicroC:YoctoC</td></tr><tr><td rowspan=\"1\">urn:om2:conversion:microcoulomb:yottacoulomb</td><td>oneEquals</td><td>1.0E-30<span style=\"opacity:0.6;\">^^http://www.w3.org/2001/XMLSchema#float</span></td><td>9.999999999999999E-31<span style=\"opacity:0.6;\">^^http://www.w3.org/2001/XMLSchema#double</span></td><td>oneEquals</td><td rowspan=\"1\">urn:qudt2:conversion:MicroC:YottaC</td></tr><tr><td rowspan=\"1\">urn:om2:conversion:microcoulomb:zeptocoulomb</td><td>oneEquals</td><td>9.9999999E14<span style=\"opacity:0.6;\">^^http://www.w3.org/2001/XMLSchema#float</span></td><td>1.0E15<span style=\"opacity:0.6;\">^^http://www.w3.org/2001/XMLSchema#double</span></td><td>oneEquals</td><td rowspan=\"1\">urn:qudt2:conversion:MicroC:ZeptoC</td></tr><tr><td rowspan=\"1\">urn:om2:conversion:microcoulomb:zettacoulomb</td><td>oneEquals</td><td>9.999999E-28<span style=\"opacity:0.6;\">^^http://www.w3.org/2001/XMLSchema#float</span></td><td>1.0E-27<span style=\"opacity:0.6;\">^^http://www.w3.org/2001/XMLSchema#double</span></td><td>oneEquals</td><td rowspan=\"1\">urn:qudt2:conversion:MicroC:ZettaC</td></tr><tr><td rowspan=\"1\">urn:om2:conversion:microgray:milligray</td><td>oneEquals</td><td>9.999999E-4<span style=\"opacity:0.6;\">^^http://www.w3.org/2001/XMLSchema#float</span></td><td>0.001e0<span style=\"opacity:0.6;\">^^http://www.w3.org/2001/XMLSchema#double</span></td><td>oneEquals</td><td rowspan=\"1\">urn:qudt2:conversion:MicroG:MilliG</td></tr><tr><td rowspan=\"1\">urn:om2:conversion:micrometre:millimetre</td><td>oneEquals</td><td>9.999999E-4<span style=\"opacity:0.6;\">^^http://www.w3.org/2001/XMLSchema#float</span></td><td>0.001e0<span style=\"opacity:0.6;\">^^http://www.w3.org/2001/XMLSchema#double</span></td><td>oneEquals</td><td rowspan=\"1\">urn:qudt2:conversion:MicroM:MilliM</td></tr><tr><td rowspan=\"1\">urn:om2:conversion:microradian:milliradian</td><td>oneEquals</td><td>9.999999E-4<span style=\"opacity:0.6;\">^^http://www.w3.org/2001/XMLSchema#float</span></td><td>0.001e0<span style=\"opacity:0.6;\">^^http://www.w3.org/2001/XMLSchema#double</span></td><td>oneEquals</td><td rowspan=\"1\">urn:qudt2:conversion:MicroRAD:MilliRAD</td></tr><tr><td rowspan=\"1\">urn:om2:conversion:microsecond-Time:millisecond-Time</td><td>oneEquals</td><td>9.999999E-4<span style=\"opacity:0.6;\">^^http://www.w3.org/2001/XMLSchema#float</span></td><td>0.001e0<span style=\"opacity:0.6;\">^^http://www.w3.org/2001/XMLSchema#double</span></td><td>oneEquals</td><td rowspan=\"1\">urn:qudt2:conversion:MicroSEC:MilliSEC</td></tr><tr><td rowspan=\"1\">urn:om2:conversion:microsecond-Time:nanosecond-Time</td><td>oneEquals</td><td>1000.0<span style=\"opacity:0.6;\">^^http://www.w3.org/2001/XMLSchema#float</span></td><td>999.9999999999999e0<span style=\"opacity:0.6;\">^^http://www.w3.org/2001/XMLSchema#double</span></td><td>oneEquals</td><td rowspan=\"1\">urn:qudt2:conversion:MicroSEC:NanoSEC</td></tr><tr><td rowspan=\"1\">urn:om2:conversion:millicoulomb:nanocoulomb</td><td>oneEquals</td><td>1000000.06<span style=\"opacity:0.6;\">^^http://www.w3.org/2001/XMLSchema#float</span></td><td>1000000.0e0<span style=\"opacity:0.6;\">^^http://www.w3.org/2001/XMLSchema#double</span></td><td>oneEquals</td><td rowspan=\"1\">urn:qudt2:conversion:MilliC:NanoC</td></tr><tr><td rowspan=\"1\">urn:om2:conversion:millicoulomb:picocoulomb</td><td>oneEquals</td><td>1.00000006E9<span style=\"opacity:0.6;\">^^http://www.w3.org/2001/XMLSchema#float</span></td><td>1.0E9<span style=\"opacity:0.6;\">^^http://www.w3.org/2001/XMLSchema#double</span></td><td>oneEquals</td><td rowspan=\"1\">urn:qudt2:conversion:MilliC:PicoC</td></tr><tr><td rowspan=\"1\">urn:om2:conversion:millicoulomb:teracoulomb</td><td>oneEquals</td><td>1.0000001E-15<span style=\"opacity:0.6;\">^^http://www.w3.org/2001/XMLSchema#float</span></td><td>1.0E-15<span style=\"opacity:0.6;\">^^http://www.w3.org/2001/XMLSchema#double</span></td><td>oneEquals</td><td rowspan=\"1\">urn:qudt2:conversion:MilliC:TeraC</td></tr><tr><td rowspan=\"1\">urn:om2:conversion:millicoulomb:yoctocoulomb</td><td>oneEquals</td><td>1.0000001E21<span style=\"opacity:0.6;\">^^http://www.w3.org/2001/XMLSchema#float</span></td><td>1.0000000000000001E21<span style=\"opacity:0.6;\">^^http://www.w3.org/2001/XMLSchema#double</span></td><td>oneEquals</td><td rowspan=\"1\">urn:qudt2:conversion:MilliC:YoctoC</td></tr><tr><td rowspan=\"1\">urn:om2:conversion:millicoulomb:yottacoulomb</td><td>oneEquals</td><td>1.0000001E-27<span style=\"opacity:0.6;\">^^http://www.w3.org/2001/XMLSchema#float</span></td><td>1.0E-27<span style=\"opacity:0.6;\">^^http://www.w3.org/2001/XMLSchema#double</span></td><td>oneEquals</td><td rowspan=\"1\">urn:qudt2:conversion:MilliC:YottaC</td></tr><tr><td rowspan=\"1\">urn:om2:conversion:millicoulomb:zeptocoulomb</td><td>oneEquals</td><td>1.00000005E18<span style=\"opacity:0.6;\">^^http://www.w3.org/2001/XMLSchema#float</span></td><td>1.00000000000000013E18<span style=\"opacity:0.6;\">^^http://www.w3.org/2001/XMLSchema#double</span></td><td>oneEquals</td><td rowspan=\"1\">urn:qudt2:conversion:MilliC:ZeptoC</td></tr><tr><td rowspan=\"1\">urn:om2:conversion:millicoulomb:zettacoulomb</td><td>oneEquals</td><td>1.0E-24<span style=\"opacity:0.6;\">^^http://www.w3.org/2001/XMLSchema#float</span></td><td>1.0000000000000001E-24<span style=\"opacity:0.6;\">^^http://www.w3.org/2001/XMLSchema#double</span></td><td>oneEquals</td><td rowspan=\"1\">urn:qudt2:conversion:MilliC:ZettaC</td></tr><tr><td rowspan=\"1\">urn:om2:conversion:millisecond-Time:nanosecond-Time</td><td>oneEquals</td><td>1000000.06<span style=\"opacity:0.6;\">^^http://www.w3.org/2001/XMLSchema#float</span></td><td>1000000.0e0<span style=\"opacity:0.6;\">^^http://www.w3.org/2001/XMLSchema#double</span></td><td>oneEquals</td><td rowspan=\"1\">urn:qudt2:conversion:MilliSEC:NanoSEC</td></tr><tr><td rowspan=\"1\">urn:om2:conversion:nanoampere:picoampere</td><td>oneEquals</td><td>1000.0<span style=\"opacity:0.6;\">^^http://www.w3.org/2001/XMLSchema#float</span></td><td>1000.0000000000001e0<span style=\"opacity:0.6;\">^^http://www.w3.org/2001/XMLSchema#double</span></td><td>oneEquals</td><td rowspan=\"1\">urn:qudt2:conversion:NanoA:PicoA</td></tr><tr><td rowspan=\"1\">urn:om2:conversion:nanocoulomb:petacoulomb</td><td>oneEquals</td><td>1.0E-24<span style=\"opacity:0.6;\">^^http://www.w3.org/2001/XMLSchema#float</span></td><td>1.0000000000000001E-24<span style=\"opacity:0.6;\">^^http://www.w3.org/2001/XMLSchema#double</span></td><td>oneEquals</td><td rowspan=\"1\">urn:qudt2:conversion:NanoC:PetaC</td></tr><tr><td rowspan=\"1\">urn:om2:conversion:nanocoulomb:picocoulomb</td><td>oneEquals</td><td>1000.0<span style=\"opacity:0.6;\">^^http://www.w3.org/2001/XMLSchema#float</span></td><td>1000.0000000000001e0<span style=\"opacity:0.6;\">^^http://www.w3.org/2001/XMLSchema#double</span></td><td>oneEquals</td><td rowspan=\"1\">urn:qudt2:conversion:NanoC:PicoC</td></tr><tr><td rowspan=\"1\">urn:om2:conversion:nanocoulomb:teracoulomb</td><td>oneEquals</td><td>1.0E-21<span style=\"opacity:0.6;\">^^http://www.w3.org/2001/XMLSchema#float</span></td><td>1.0000000000000001E-21<span style=\"opacity:0.6;\">^^http://www.w3.org/2001/XMLSchema#double</span></td><td>oneEquals</td><td rowspan=\"1\">urn:qudt2:conversion:NanoC:TeraC</td></tr><tr><td rowspan=\"1\">urn:om2:conversion:nanocoulomb:yoctocoulomb</td><td>oneEquals</td><td>9.9999999E14<span style=\"opacity:0.6;\">^^http://www.w3.org/2001/XMLSchema#float</span></td><td>1.0000000000000001E15<span style=\"opacity:0.6;\">^^http://www.w3.org/2001/XMLSchema#double</span></td><td>oneEquals</td><td rowspan=\"1\">urn:qudt2:conversion:NanoC:YoctoC</td></tr><tr><td rowspan=\"1\">urn:om2:conversion:nanocoulomb:zeptocoulomb</td><td>oneEquals</td><td>1.0E12<span style=\"opacity:0.6;\">^^http://www.w3.org/2001/XMLSchema#float</span></td><td>1.0000000000000001E12<span style=\"opacity:0.6;\">^^http://www.w3.org/2001/XMLSchema#double</span></td><td>oneEquals</td><td rowspan=\"1\">urn:qudt2:conversion:NanoC:ZeptoC</td></tr><tr><td rowspan=\"1\">urn:om2:conversion:pebibyte:petabyte</td><td>oneEquals</td><td>1.1258999<span style=\"opacity:0.6;\">^^http://www.w3.org/2001/XMLSchema#float</span></td><td>1.125899906842624e0<span style=\"opacity:0.6;\">^^http://www.w3.org/2001/XMLSchema#double</span></td><td>oneEquals</td><td rowspan=\"1\">urn:qudt2:conversion:PebiBYTE:PetaBYTE</td></tr><tr><td rowspan=\"1\">urn:om2:conversion:pebibyte:terabyte</td><td>oneEquals</td><td>1125.8999<span style=\"opacity:0.6;\">^^http://www.w3.org/2001/XMLSchema#float</span></td><td>1.073741824E9<span style=\"opacity:0.6;\">^^http://www.w3.org/2001/XMLSchema#double</span></td><td>oneEquals</td><td rowspan=\"1\">urn:qudt2:conversion:PebiBYTE:TeraBYTE</td></tr><tr><td rowspan=\"1\">urn:om2:conversion:petabyte:terabyte</td><td>oneEquals</td><td>1000.0<span style=\"opacity:0.6;\">^^http://www.w3.org/2001/XMLSchema#float</span></td><td>9.5367431640625E8<span style=\"opacity:0.6;\">^^http://www.w3.org/2001/XMLSchema#double</span></td><td>oneEquals</td><td rowspan=\"1\">urn:qudt2:conversion:PetaBYTE:TeraBYTE</td></tr><tr><td rowspan=\"1\">urn:om2:conversion:petacoulomb:yoctocoulomb</td><td>oneEquals</td><td>INF<span style=\"opacity:0.6;\">^^http://www.w3.org/2001/XMLSchema#float</span></td><td>1.0000000000000001E39<span style=\"opacity:0.6;\">^^http://www.w3.org/2001/XMLSchema#double</span></td><td>oneEquals</td><td rowspan=\"1\">urn:qudt2:conversion:PetaC:YoctoC</td></tr><tr><td rowspan=\"1\">urn:om2:conversion:petacoulomb:zeptocoulomb</td><td>oneEquals</td><td>1.00000004E36<span style=\"opacity:0.6;\">^^http://www.w3.org/2001/XMLSchema#float</span></td><td>1.0E36<span style=\"opacity:0.6;\">^^http://www.w3.org/2001/XMLSchema#double</span></td><td>oneEquals</td><td rowspan=\"1\">urn:qudt2:conversion:PetaC:ZeptoC</td></tr><tr><td rowspan=\"1\">urn:om2:conversion:picocoulomb:zeptocoulomb</td><td>oneEquals</td><td>1.0E9<span style=\"opacity:0.6;\">^^http://www.w3.org/2001/XMLSchema#float</span></td><td>1.0000000000000001E9<span style=\"opacity:0.6;\">^^http://www.w3.org/2001/XMLSchema#double</span></td><td>oneEquals</td><td rowspan=\"1\">urn:qudt2:conversion:PicoC:ZeptoC</td></tr><tr><td rowspan=\"1\">urn:om2:conversion:picocoulomb:zettacoulomb</td><td>oneEquals</td><td>9.999999E-34<span style=\"opacity:0.6;\">^^http://www.w3.org/2001/XMLSchema#float</span></td><td>1.0E-33<span style=\"opacity:0.6;\">^^http://www.w3.org/2001/XMLSchema#double</span></td><td>oneEquals</td><td rowspan=\"1\">urn:qudt2:conversion:PicoC:ZettaC</td></tr><tr><td rowspan=\"1\">urn:om2:conversion:radian:revolution</td><td>oneEquals</td><td>0.15915495<span style=\"opacity:0.6;\">^^http://www.w3.org/2001/XMLSchema#float</span></td><td>0.1591549430204534e0<span style=\"opacity:0.6;\">^^http://www.w3.org/2001/XMLSchema#double</span></td><td>oneEquals</td><td rowspan=\"1\">urn:qudt2:conversion:RAD:REV</td></tr><tr><td rowspan=\"1\">urn:om2:conversion:second-Time:week</td><td>oneEquals</td><td>1.6534392E-6<span style=\"opacity:0.6;\">^^http://www.w3.org/2001/XMLSchema#float</span></td><td>1.6534391534391535E-6<span style=\"opacity:0.6;\">^^http://www.w3.org/2001/XMLSchema#double</span></td><td>oneEquals</td><td rowspan=\"1\">urn:qudt2:conversion:SEC:WK</td></tr><tr><td rowspan=\"1\">urn:om2:conversion:second-Time:year</td><td>oneEquals</td><td>3.1709792E-8<span style=\"opacity:0.6;\">^^http://www.w3.org/2001/XMLSchema#float</span></td><td>3.1709791983764586E-8<span style=\"opacity:0.6;\">^^http://www.w3.org/2001/XMLSchema#double</span></td><td>oneEquals</td><td rowspan=\"1\">urn:qudt2:conversion:SEC:YR</td></tr><tr><td rowspan=\"1\">urn:om2:conversion:teracoulomb:yoctocoulomb</td><td>oneEquals</td><td>1.00000004E36<span style=\"opacity:0.6;\">^^http://www.w3.org/2001/XMLSchema#float</span></td><td>1.0E36<span style=\"opacity:0.6;\">^^http://www.w3.org/2001/XMLSchema#double</span></td><td>oneEquals</td><td rowspan=\"1\">urn:qudt2:conversion:TeraC:YoctoC</td></tr><tr><td rowspan=\"1\">urn:om2:conversion:teracoulomb:zeptocoulomb</td><td>oneEquals</td><td>1.0E33<span style=\"opacity:0.6;\">^^http://www.w3.org/2001/XMLSchema#float</span></td><td>1.0000000000000001E33<span style=\"opacity:0.6;\">^^http://www.w3.org/2001/XMLSchema#double</span></td><td>oneEquals</td><td rowspan=\"1\">urn:qudt2:conversion:TeraC:ZeptoC</td></tr><tr><td rowspan=\"1\">urn:om2:conversion:tonOfRefrigeration:watt</td><td>oneEquals</td><td>3.516853e3<span style=\"opacity:0.6;\">^^http://www.w3.org/2001/XMLSchema#float</span></td><td>3517.0e0<span style=\"opacity:0.6;\">^^http://www.w3.org/2001/XMLSchema#double</span></td><td>oneEquals</td><td rowspan=\"1\">urn:qudt2:conversion:TON_FG:W</td></tr><tr><td rowspan=\"1\">urn:om2:conversion:yoctocoulomb:yottacoulomb</td><td>oneEquals</td><td>0.0<span style=\"opacity:0.6;\">^^http://www.w3.org/2001/XMLSchema#float</span></td><td>1.0E-48<span style=\"opacity:0.6;\">^^http://www.w3.org/2001/XMLSchema#double</span></td><td>oneEquals</td><td rowspan=\"1\">urn:qudt2:conversion:YoctoC:YottaC</td></tr><tr><td rowspan=\"1\">urn:om2:conversion:yoctocoulomb:zettacoulomb</td><td>oneEquals</td><td>1.4E-45<span style=\"opacity:0.6;\">^^http://www.w3.org/2001/XMLSchema#float</span></td><td>1.0E-45<span style=\"opacity:0.6;\">^^http://www.w3.org/2001/XMLSchema#double</span></td><td>oneEquals</td><td rowspan=\"1\">urn:qudt2:conversion:YoctoC:ZettaC</td></tr><tr><td rowspan=\"1\">urn:om2:conversion:yottacoulomb:zeptocoulomb</td><td>oneEquals</td><td>INF<span style=\"opacity:0.6;\">^^http://www.w3.org/2001/XMLSchema#float</span></td><td>1.0000000000000001E45<span style=\"opacity:0.6;\">^^http://www.w3.org/2001/XMLSchema#double</span></td><td>oneEquals</td><td rowspan=\"1\">urn:qudt2:conversion:YottaC:ZeptoC</td></tr><tr><td rowspan=\"1\">urn:om2:conversion:yottacoulomb:zettacoulomb</td><td>oneEquals</td><td>999.99994<span style=\"opacity:0.6;\">^^http://www.w3.org/2001/XMLSchema#float</span></td><td>1000.0e0<span style=\"opacity:0.6;\">^^http://www.w3.org/2001/XMLSchema#double</span></td><td>oneEquals</td><td rowspan=\"1\">urn:qudt2:conversion:YottaC:ZettaC</td></tr><tr><td rowspan=\"1\">urn:om2:conversion:zeptocoulomb:zettacoulomb</td><td>oneEquals</td><td>1.0E-42<span style=\"opacity:0.6;\">^^http://www.w3.org/2001/XMLSchema#float</span></td><td>9.999999999999999E-43<span style=\"opacity:0.6;\">^^http://www.w3.org/2001/XMLSchema#double</span></td><td>oneEquals</td><td rowspan=\"1\">urn:qudt2:conversion:ZeptoC:ZettaC</td></tr></table>"
      ],
      "text/plain": [
       "<IPython.core.display.HTML object>"
      ]
     },
     "metadata": {},
     "output_type": "display_data"
    },
    {
     "data": {
      "text/html": [
       "<table><tr><th style=\"text-align:center;\" colspan=\"3\">OM 2</th><th style=\"text-align:center;\" colspan=\"3\">SWEET 3</th></tr><tr><td rowspan=\"1\">urn:om2:conversion:degree:radian</td><td>oneEquals</td><td>1.745329e-2<span style=\"opacity:0.6;\">^^http://www.w3.org/2001/XMLSchema#float</span></td><td>57.2957795<span style=\"opacity:0.6;\">^^http://www.w3.org/2001/XMLSchema#double</span></td><td>oneEquals</td><td rowspan=\"1\">urn:sweet3:conversion:degrees:radian</td></tr><tr><td rowspan=\"1\">urn:om2:conversion:second-Time:week</td><td>oneEquals</td><td>1.6534392E-6<span style=\"opacity:0.6;\">^^http://www.w3.org/2001/XMLSchema#float</span></td><td>1.6534391534391535E-6<span style=\"opacity:0.6;\">^^http://www.w3.org/2001/XMLSchema#double</span></td><td>oneEquals</td><td rowspan=\"1\">urn:sweet3:conversion:second:week</td></tr><tr><td rowspan=\"1\">urn:om2:conversion:second-Time:year</td><td>oneEquals</td><td>3.1709792E-8<span style=\"opacity:0.6;\">^^http://www.w3.org/2001/XMLSchema#float</span></td><td>3.168876461541279E-8<span style=\"opacity:0.6;\">^^http://www.w3.org/2001/XMLSchema#double</span></td><td>oneEquals</td><td rowspan=\"1\">urn:sweet3:conversion:second:year</td></tr></table>"
      ],
      "text/plain": [
       "<IPython.core.display.HTML object>"
      ]
     },
     "metadata": {},
     "output_type": "display_data"
    },
    {
     "data": {
      "text/html": [
       "<table><tr><th style=\"text-align:center;\" colspan=\"3\">QUDT 2</th><th style=\"text-align:center;\" colspan=\"3\">SWEET 3</th></tr><tr><td rowspan=\"1\">urn:qudt2:conversion:ARCMIN:RAD</td><td>oneEquals</td><td>2.90888209E-4<span style=\"opacity:0.6;\">^^http://www.w3.org/2001/XMLSchema#double</span></td><td>2.909E-4<span style=\"opacity:0.6;\">^^http://www.w3.org/2001/XMLSchema#double</span></td><td>oneEquals</td><td rowspan=\"1\">urn:sweet3:conversion:arcminute:radian</td></tr><tr><td rowspan=\"1\">urn:qudt2:conversion:ARCSEC:RAD</td><td>oneEquals</td><td>4.84813681E-6<span style=\"opacity:0.6;\">^^http://www.w3.org/2001/XMLSchema#double</span></td><td>4.848E-6<span style=\"opacity:0.6;\">^^http://www.w3.org/2001/XMLSchema#double</span></td><td>oneEquals</td><td rowspan=\"1\">urn:sweet3:conversion:arcsecond:radian</td></tr><tr><td rowspan=\"1\">urn:qudt2:conversion:DEG:RAD</td><td>oneEquals</td><td>0.0174532925e0<span style=\"opacity:0.6;\">^^http://www.w3.org/2001/XMLSchema#double</span></td><td>57.2957795<span style=\"opacity:0.6;\">^^http://www.w3.org/2001/XMLSchema#double</span></td><td>oneEquals</td><td rowspan=\"1\">urn:sweet3:conversion:degrees:radian</td></tr><tr><td rowspan=\"1\">urn:qudt2:conversion:KiloM-PER-HR:M-PER-SEC</td><td>oneEquals</td><td>0.2777777777777778e0<span style=\"opacity:0.6;\">^^http://www.w3.org/2001/XMLSchema#double</span></td><td>0.27777777<span style=\"opacity:0.6;\">^^http://www.w3.org/2001/XMLSchema#double</span></td><td>oneEquals</td><td rowspan=\"1\">urn:sweet3:conversion:kilometerPerHour:meterPerSecond</td></tr><tr><td rowspan=\"1\">urn:qudt2:conversion:MO:SEC</td><td>oneEquals</td><td>2551442.976e0<span style=\"opacity:0.6;\">^^http://www.w3.org/2001/XMLSchema#double</span></td><td>2629744.0<span style=\"opacity:0.6;\">^^http://www.w3.org/2001/XMLSchema#double</span></td><td>oneEquals</td><td rowspan=\"1\">urn:sweet3:conversion:month:second</td></tr><tr><td rowspan=\"1\">urn:qudt2:conversion:SEC:YR</td><td>oneEquals</td><td>3.1709791983764586E-8<span style=\"opacity:0.6;\">^^http://www.w3.org/2001/XMLSchema#double</span></td><td>3.168876461541279E-8<span style=\"opacity:0.6;\">^^http://www.w3.org/2001/XMLSchema#double</span></td><td>oneEquals</td><td rowspan=\"1\">urn:sweet3:conversion:second:year</td></tr></table>"
      ],
      "text/plain": [
       "<IPython.core.display.HTML object>"
      ]
     },
     "metadata": {},
     "output_type": "display_data"
    }
   ],
   "source": [
    "execution.deviations()"
   ]
  },
  {
   "cell_type": "code",
   "execution_count": 19,
   "metadata": {},
   "outputs": [
    {
     "data": {
      "text/html": [
       "<h2>Issue Report</h2>"
      ],
      "text/plain": [
       "<IPython.core.display.HTML object>"
      ]
     },
     "metadata": {},
     "output_type": "display_data"
    }
   ],
   "source": [
    "execution.issues()"
   ]
  },
  {
   "cell_type": "markdown",
   "metadata": {},
   "source": [
    "## Stop Background Service\n",
    "\n",
    "Finally, we stop the ABECTO background service."
   ]
  },
  {
   "cell_type": "code",
   "execution_count": 20,
   "metadata": {},
   "outputs": [],
   "source": [
    "abecto.stop()"
   ]
  }
 ],
 "metadata": {
  "kernelspec": {
   "display_name": "Python 3",
   "language": "python",
   "name": "python3"
  },
  "language_info": {
   "codemirror_mode": {
    "name": "ipython",
    "version": 3
   },
   "file_extension": ".py",
   "mimetype": "text/x-python",
   "name": "python",
   "nbconvert_exporter": "python",
   "pygments_lexer": "ipython3",
   "version": "3.7.3"
  }
 },
 "nbformat": 4,
 "nbformat_minor": 4
}
