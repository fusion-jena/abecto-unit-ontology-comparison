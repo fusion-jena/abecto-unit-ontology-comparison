{
 "cells": [
  {
   "cell_type": "markdown",
   "metadata": {},
   "source": [
    "#  Unit Ontology Comparison and Evaluation with ABECTO\n",
    "\n",
    "This is a project to compare and evaluate unit ontologies using  [ABECTO](https://github.com/fusion-jena/abecto)."
   ]
  },
  {
   "cell_type": "markdown",
   "metadata": {},
   "source": [
    "## Preparation\n",
    "First, we start the ABECTO background service. **This might take a few seconds.**"
   ]
  },
  {
   "cell_type": "code",
   "execution_count": null,
   "metadata": {},
   "outputs": [],
   "source": [
    "from abecto.abecto import *\n",
    "abecto = Abecto(\"abecto/target/abecto.jar\", port = 8080) if 'abecto' not in locals() else abecto\n",
    "abecto.start()"
   ]
  },
  {
   "cell_type": "markdown",
   "metadata": {},
   "source": [
    "## Load Ontologies\n",
    "\n",
    "We are going to comprate the Ontologies [OM 2](https://github.com/HajoRijgersberg/OM), [QUDT 2](http://qudt.org/), and [SWEET 3](https://github.com/ESIPFed/sweet). The RDF files are contained in the project repository. We load them into ABECTO."
   ]
  },
  {
   "cell_type": "code",
   "execution_count": null,
   "metadata": {},
   "outputs": [],
   "source": [
    "project = abecto.project(\"Unit Ontologies\")\n",
    "om2 = project.ontology(\"OM 2\")\n",
    "qudt2 = project.ontology(\"QUDT 2\")\n",
    "sweet3 = project.ontology(\"SWEET 3\")\n",
    "\n",
    "om2source = om2.source(\"RdfFileSourceProcessor\").load(open(\"ontology/om2/om-2.0.rdf\"))\n",
    "\n",
    "qudt2datatype = qudt2.source(\"RdfFileSourceProcessor\").load(open(\"ontology/qudt2/datatype.ttl\"))\n",
    "qudt2science = qudt2.source(\"RdfFileSourceProcessor\").load(open(\"ontology/qudt2/science.ttl\"))\n",
    "qudt2qudt = qudt2.source(\"RdfFileSourceProcessor\").load(open(\"ontology/qudt2/qudt.ttl\"))\n",
    "qudt2dimensionvector = qudt2.source(\"RdfFileSourceProcessor\").load(open(\"ontology/qudt2/dimensionvector.ttl\"))\n",
    "qudt2quantitykind = qudt2.source(\"RdfFileSourceProcessor\").load(open(\"ontology/qudt2/quantitykind.ttl\"))\n",
    "qudt2unit = qudt2.source(\"RdfFileSourceProcessor\").load(open(\"ontology/qudt2/unit.ttl\"))\n",
    "qudt2constant = qudt2.source(\"RdfFileSourceProcessor\").load(open(\"ontology/qudt2/constant.ttl\"))\n",
    "qudt2discipline = qudt2.source(\"RdfFileSourceProcessor\").load(open(\"ontology/qudt2/discipline.ttl\"))\n",
    "\n",
    "sweet3Units = sweet3.source(\"RdfFileSourceProcessor\").load(open(\"ontology/sweet3/reprSciUnits.ttl\"))"
   ]
  },
  {
   "cell_type": "markdown",
   "metadata": {},
   "source": [
    "## Prepare Comparison of Unit Conversions\n",
    "\n",
    "One important aspect of unit ontologies are the conversion specifications. As the ontologies model them in very different ways, we generate an unified representation of the contained conversions using SPARQL CONSTRUCT queries."
   ]
  },
  {
   "cell_type": "code",
   "execution_count": null,
   "metadata": {},
   "outputs": [],
   "source": [
    "om2conversions = om2source.into(\"SparqlConstructProcessor\", {\"query\":\"\"})\n",
    "qudt2conversions = (qudt2datatype + qudt2science + qudt2qudt + qudt2dimensionvector + qudt2quantitykind + qudt2unit + qudt2constant + qudt2discipline).into(\"SparqlConstructProcessor\", {\"query\":\"\"})\n",
    "sweet3conversions = sweet3Units.into(\"SparqlConstructProcessor\", {\"query\":\"\"})"
   ]
  },
  {
   "cell_type": "code",
   "execution_count": null,
   "metadata": {},
   "outputs": [],
   "source": [
    "om2conversions.setParameter(\"query\", \"\"\"\n",
    "PREFIX om: <http://www.ontology-of-units-of-measure.org/resource/om-2/>\n",
    "CONSTRUCT {\n",
    "    ?conversion <urn:conversion:unit> ?unit ;\n",
    "                <urn:conversion:oneEquals> ?oneEquals ;\n",
    "                <urn:conversion:zeroAt> ?zeroAt ;\n",
    "                <urn:conversion:referenceUnit> ?referenceUnit .\n",
    "} WHERE {\n",
    "    {\n",
    "        # direct conversion\n",
    "        ?unit om:hasUnit ?referenceUnit ;\n",
    "              om:hasFactor ?oneEquals .\n",
    "        BIND( IRI(CONCAT(\"urn:om2:conversion:\", REPLACE(STR(?unit),\".*/\",\"\"), \":\", REPLACE(STR(?referenceUnit),\".*/\",\"\") )) AS ?conversion)\n",
    "        FILTER (STR(?unit) < STR(?referenceUnit))\n",
    "    } UNION {\n",
    "        # reverse direct conversion\n",
    "        ?referenceUnit om:hasUnit ?unit ;\n",
    "                       om:hasFactor ?inverseOneEquals .\n",
    "        BIND(1/?inverseOneEquals AS ?oneEquals)\n",
    "        BIND(IRI(CONCAT(\"urn:om2:conversion:\", REPLACE(STR(?unit),\".*/\",\"\"), \":\", REPLACE(STR(?referenceUnit),\".*/\",\"\") )) AS ?conversion)\n",
    "        FILTER (STR(?unit) < STR(?referenceUnit))\n",
    "    } UNION {\n",
    "        # conversion by prefix\n",
    "        ?unit om:hasUnit ?referenceUnit ;\n",
    "              om:hasPrefix/om:hasFactor ?oneEquals .\n",
    "        BIND(0 AS ?zeroAt)\n",
    "        BIND(IRI(CONCAT(\"urn:om2:conversion:\", REPLACE(STR(?unit),\".*/\",\"\"), \":\", REPLACE(STR(?referenceUnit),\".*/\",\"\") )) AS ?conversion)\n",
    "        FILTER (STR(?unit) < STR(?referenceUnit))\n",
    "    } UNION {\n",
    "        # reverse conversion by prefix\n",
    "        ?referenceUnit om:hasUnit ?unit ;\n",
    "                       om:hasPrefix/om:hasFactor ?inverseOneEquals .\n",
    "        BIND(1/?inverseOneEquals AS ?oneEquals)\n",
    "        BIND(0 AS ?zeroAt )\n",
    "        BIND(IRI(CONCAT(\"urn:om2:conversion:\", REPLACE(STR(?unit),\".*/\",\"\"), \":\", REPLACE(STR(?referenceUnit),\".*/\",\"\") )) AS ?conversion)\n",
    "        FILTER (STR(?unit) < STR(?referenceUnit))\n",
    "    } UNION {\n",
    "        # conversion by scale\n",
    "        [] om:hasUnit ?unit ;\n",
    "           om:hasScale/om:hasUnit ?referenceUnit ;\n",
    "           om:hasFactor ?inverseOneEquals ;\n",
    "           om:hasOff-Set ?inverseZeroAt ;\n",
    "        BIND(-1*?inverseZeroAt/?oneEquals AS ?zeroAt)\n",
    "        BIND(1/?inverseOneEquals AS ?oneEquals)\n",
    "        BIND(IRI(CONCAT(\"urn:om2:conversion:\", REPLACE(STR(?unit),\".*/\",\"\"), \":\", REPLACE(STR(?referenceUnit),\".*/\",\"\") )) AS ?conversion)\n",
    "        FILTER (STR(?unit) < STR(?referenceUnit))\n",
    "    } UNION {\n",
    "        # reverse conversion by scale\n",
    "        [] om:hasUnit ?referenceUnit ;\n",
    "           om:hasScale/om:hasUnit ?unit ;\n",
    "           om:hasFactor ?oneEquals ;\n",
    "           om:hasOff-Set ?zeroAt ;\n",
    "        BIND(IRI(CONCAT(\"urn:om2:conversion:\", REPLACE(STR(?unit),\".*/\",\"\"), \":\", REPLACE(STR(?referenceUnit),\".*/\",\"\") )) AS ?conversion)\n",
    "        FILTER (STR(?unit) < STR(?referenceUnit))\n",
    "    }\n",
    "}\n",
    "\"\"\")"
   ]
  },
  {
   "cell_type": "code",
   "execution_count": null,
   "metadata": {},
   "outputs": [],
   "source": [
    "qudt2conversions.setParameter(\"query\", \"\"\"\n",
    "PREFIX qudt: <http://qudt.org/schema/qudt/>\n",
    "CONSTRUCT {\n",
    "    ?conversion <urn:conversion:unit> ?unit ;\n",
    "                <urn:conversion:oneEquals> ?oneEquals ;\n",
    "                <urn:conversion:zeroAt> ?zeroAt ;\n",
    "                <urn:conversion:referenceUnit> ?referenceUnit .\n",
    "} WHERE {\n",
    "    ?unit qudt:hasQuantityKind/^qudt:hasQuantityKind ?referenceUnit .\n",
    "    BIND( IRI(CONCAT(\"urn:qudt2:conversion:\", REPLACE(STR(?unit),\".*/\",\"\"), \":\", REPLACE(STR(?referenceUnit),\".*/\",\"\") )) AS ?conversion)\n",
    "    ?unit qudt:conversionMultiplier ?factor1 .\n",
    "    ?unit qudt:conversionOffset ?offset1 .\n",
    "    ?referenceUnit qudt:conversionMultiplier ?factor2 .\n",
    "    ?referenceUnit qudt:conversionOffset ?offset2 .\n",
    "    BIND(?factor1/?factor2 AS ?oneEquals)\n",
    "    BIND(?offset1/?factor2-?offset2 AS ?zeroAt)\n",
    "    FILTER (STR(?unit) < STR(?referenceUnit))\n",
    "}\n",
    "\"\"\")"
   ]
  },
  {
   "cell_type": "code",
   "execution_count": null,
   "metadata": {},
   "outputs": [],
   "source": [
    "sweet3conversions.setParameter(\"query\", \"\"\"\n",
    "PREFIX sorelm: <http://sweetontology.net/relaMath/>\n",
    "PREFIX sorelsc: <http://sweetontology.net/relaSci/>\n",
    "CONSTRUCT {\n",
    "    ?conversion <urn:conversion:unit> ?unit ;\n",
    "                <urn:conversion:oneEquals> ?oneEquals ;\n",
    "                <urn:conversion:zeroAt> ?zeroAt ;\n",
    "                <urn:conversion:referenceUnit> ?referenceUnit .\n",
    "} WHERE {\n",
    "    { \n",
    "        ?unit sorelsc:hasBaseUnit ?referenceUnit .\n",
    "        OPTIONAL { ?unit sorelm:hasScalingNumber ?oneEquals }\n",
    "        OPTIONAL { ?unit sorelm:hasShiftingNumber ?zeroAt }\n",
    "        FILTER (BOUND(?oneEquals) || BOUND(?zeroAt) )\n",
    "        BIND( IRI(CONCAT(\"urn:sweet3:conversion:\", REPLACE(STR(?unit),\".*/\",\"\"), \":\", REPLACE(STR(?referenceUnit),\".*/\",\"\") )) AS ?conversion)\n",
    "        FILTER (STR(?unit) < STR(?referenceUnit))\n",
    "    } UNION {\n",
    "        ?referenceUnit sorelsc:hasBaseUnit ?unit .\n",
    "        OPTIONAL { ?referenceUnit sorelm:hasScalingNumber ?inverseOneEquals }\n",
    "        OPTIONAL { ?referenceUnit sorelm:hasShiftingNumber ?inverseZeroAt }\n",
    "        FILTER (BOUND(?inverseOneEquals) || BOUND(?inverseZeroAt) )\n",
    "        BIND(COALESCE(1/?inverseOneEquals, 1) AS ?oneEquals)\n",
    "        BIND(COALESCE(-1*?inverseZeroAt/?inverseOneEquals, -1*?inverseZeroAt ) AS ?zeroAt)\n",
    "        BIND( IRI(CONCAT(\"urn:sweet3:conversion:\", REPLACE(STR(?unit),\".*/\",\"\"), \":\", REPLACE(STR(?referenceUnit),\".*/\",\"\") )) AS ?conversion)\n",
    "        FILTER (STR(?unit) < STR(?referenceUnit))\n",
    "    }\n",
    "}\n",
    "\"\"\")"
   ]
  },
  {
   "cell_type": "markdown",
   "metadata": {},
   "source": [
    "To increase the chance to find wrong values, we derive implicit conversions for OM 2 and SWEET 3. Due to the modeling approach, this is not required for QUDT 2."
   ]
  },
  {
   "cell_type": "code",
   "execution_count": null,
   "metadata": {},
   "outputs": [],
   "source": [
    "om2conversionsTransitive = om2conversions.into(\"SparqlConstructProcessor\", {\"query\":\"\"})\n",
    "sweet3conversionsTransitive = sweet3conversions.into(\"SparqlConstructProcessor\", {\"query\":\"\"})"
   ]
  },
  {
   "cell_type": "code",
   "execution_count": null,
   "metadata": {},
   "outputs": [],
   "source": [
    "om2conversionsTransitive.setParameter(\"query\", \"\"\"\n",
    "PREFIX : <urn:conversion:>\n",
    "CONSTRUCT {\n",
    "    ?conversion :unit ?unit ;\n",
    "                :oneEquals ?oneEquals ;\n",
    "                :zeroAt ?zeroAt ;\n",
    "                :referenceUnit ?referenceUnit .\n",
    "} WHERE {\n",
    "    {\n",
    "        [] :unit ?unit ;\n",
    "           :oneEquals ?oneEquals1 ;\n",
    "           :zeroAt ?zeroAt1 ;\n",
    "           :referenceUnit ?betweenUnit .\n",
    "        [] :unit ?betweenUnit ;\n",
    "           :oneEquals ?oneEquals2 ;\n",
    "           :zeroAt ?zeroAt2 ;\n",
    "           :referenceUnit ?referenceUnit .\n",
    "        BIND(?oneEquals1*?oneEquals2 AS ?oneEquals)\n",
    "        BIND(?zeroAt1/?oneEquals2+?zeroAt2 AS ?zeroAt)\n",
    "    } UNION {\n",
    "        [] :unit ?unit ;\n",
    "           :oneEquals ?oneEquals1 ;\n",
    "           :zeroAt ?zeroAt1 ;\n",
    "           :referenceUnit ?betweenUnit .\n",
    "        [] :unit ?referenceUnit ;\n",
    "           :oneEquals ?oneEquals2 ;\n",
    "           :zeroAt ?zeroAt2 ;\n",
    "           :referenceUnit ?betweenUnit .\n",
    "        BIND(?oneEquals1/?oneEquals2 AS ?oneEquals)\n",
    "        BIND(?zeroAt1*?oneEquals2-?zeroAt2 AS ?zeroAt)\n",
    "    } UNION {\n",
    "        [] :unit ?betweenUnit ;\n",
    "           :oneEquals ?oneEquals1 ;\n",
    "           :zeroAt ?zeroAt1 ;\n",
    "           :referenceUnit ?unit .\n",
    "        [] :unit ?betweenUnit ;\n",
    "           :oneEquals ?oneEquals2 ;\n",
    "           :zeroAt ?zeroAt2 ;\n",
    "           :referenceUnit ?referenceUnit .\n",
    "        BIND(?oneEquals2/?oneEquals1 AS ?oneEquals)\n",
    "        BIND(?zeroAt2-?zeroAt1/?oneEquals2 AS ?zeroAt)\n",
    "    }\n",
    "    BIND( IRI(CONCAT(\"urn:om2:conversion:\", REPLACE(STR(?unit),\".*/\",\"\"), \":\", REPLACE(STR(?referenceUnit),\".*/\",\"\") )) AS ?conversion)\n",
    "    FILTER (STR(?unit) < STR(?referenceUnit))\n",
    "}\n",
    "\"\"\")"
   ]
  },
  {
   "cell_type": "code",
   "execution_count": null,
   "metadata": {},
   "outputs": [],
   "source": [
    "sweet3conversionsTransitive.setParameter(\"query\", \"\"\"\n",
    "PREFIX : <urn:conversion:>\n",
    "CONSTRUCT {\n",
    "    ?conversion :unit ?unit ;\n",
    "                :oneEquals ?oneEquals ;\n",
    "                :zeroAt ?zeroAt ;\n",
    "                :referenceUnit ?referenceUnit .\n",
    "} WHERE {\n",
    "    {\n",
    "        [] :unit ?unit ;\n",
    "           :oneEquals ?oneEquals1 ;\n",
    "           :zeroAt ?zeroAt1 ;\n",
    "           :referenceUnit ?betweenUnit .\n",
    "        [] :unit ?betweenUnit ;\n",
    "           :oneEquals ?oneEquals2 ;\n",
    "           :zeroAt ?zeroAt2 ;\n",
    "           :referenceUnit ?referenceUnit .\n",
    "        BIND(?oneEquals1/?oneEquals2 AS ?oneEquals)\n",
    "        BIND(?zeroAt1/?oneEquals2+?zeroAt2 AS ?zeroAt)\n",
    "    } UNION {\n",
    "        [] :unit ?betweenUnit ;\n",
    "           :oneEquals ?oneEquals1 ;\n",
    "           :zeroAt ?zeroAt1 ;\n",
    "           :referenceUnit ?unit .\n",
    "        [] :unit ?betweenUnit ;\n",
    "           :oneEquals ?oneEquals2 ;\n",
    "           :zeroAt ?zeroAt2 ;\n",
    "           :referenceUnit ?referenceUnit .\n",
    "        BIND(1/?oneEquals1/?oneEquals2 AS ?oneEquals)\n",
    "        BIND(-1*?zeroAt1/?oneEquals2+?zeroAt2 AS ?zeroAt)\n",
    "    } UNION {\n",
    "        [] :unit ?unit ;\n",
    "           :oneEquals ?oneEquals1 ;\n",
    "           :zeroAt ?zeroAt1 ;\n",
    "           :referenceUnit ?betweenUnit .\n",
    "        [] :unit ?referenceUnit ;\n",
    "           :oneEquals ?oneEquals2 ;\n",
    "           :zeroAt ?zeroAt2 ;\n",
    "           :referenceUnit ?betweenUnit .\n",
    "        BIND(?oneEquals1*?oneEquals2 AS ?oneEquals)\n",
    "        BIND(?zeroAt1*?oneEquals2-?zeroAt2 AS ?zeroAt)\n",
    "    }\n",
    "    BIND( IRI(CONCAT(\"urn:sweet3:conversion:\", REPLACE(STR(?unit),\".*/\",\"\"), \":\", REPLACE(STR(?referenceUnit),\".*/\",\"\") )) AS ?conversion)\n",
    "    FILTER (STR(?unit) < STR(?referenceUnit))\n",
    "}\n",
    "\"\"\")"
   ]
  },
  {
   "cell_type": "markdown",
   "metadata": {},
   "source": [
    "## Define Categories\n",
    "\n",
    "Now, we define patterns for the the categories we want to compare."
   ]
  },
  {
   "cell_type": "code",
   "execution_count": null,
   "metadata": {},
   "outputs": [],
   "source": [
    "om2Categories = om2conversionsTransitive.into(\"ManualCategoryProcessor\", {})\n",
    "qudt2Categories = qudt2conversions.into(\"ManualCategoryProcessor\", {})\n",
    "sweet3Categories = sweet3conversionsTransitive.into(\"ManualCategoryProcessor\", {})"
   ]
  },
  {
   "cell_type": "code",
   "execution_count": null,
   "metadata": {},
   "outputs": [],
   "source": [
    "om2Categories.setParameter(\"patterns\",{\n",
    "\"unit\": \"\"\"\n",
    "    {\n",
    "        ?unit rdf:type/rdfs:subClassOf* <http://www.ontology-of-units-of-measure.org/resource/om-2/Unit> .\n",
    "        OPTIONAL { ?unit <http://www.w3.org/2000/01/rdf-schema#label>  ?label }\n",
    "        OPTIONAL { ?unit <http://www.ontology-of-units-of-measure.org/resource/om-2/symbol> ?symbol }\n",
    "        OPTIONAL { ?unit <http://www.w3.org/2000/01/rdf-schema#comment> ?definition }\n",
    "    }\n",
    "\"\"\",\"conversion\": \"\"\"\n",
    "    {\n",
    "        ?conversion <urn:conversion:unit> ?unit ;\n",
    "                    <urn:conversion:referenceUnit> ?referenceUnit .\n",
    "        OPTIONAL { ?conversion <urn:conversion:zeroAt> ?zeroAt .}\n",
    "        OPTIONAL { ?conversion <urn:conversion:oneEquals> ?oneEquals .}\n",
    "    }\n",
    "\"\"\"})"
   ]
  },
  {
   "cell_type": "code",
   "execution_count": null,
   "metadata": {},
   "outputs": [],
   "source": [
    "qudt2Categories.setParameter(\"patterns\",{\n",
    "\"unit\": \"\"\"\n",
    "    {\n",
    "        ?unit rdf:type/rdfs:subClassOf* <http://qudt.org/schema/qudt/Unit> .\n",
    "        OPTIONAL { ?unit <http://qudt.org/schema/qudt/description> ?definition }\n",
    "        OPTIONAL { ?unit <http://qudt.org/schema/qudt/symbol> ?symbol }\n",
    "        OPTIONAL { ?unit <http://www.w3.org/2000/01/rdf-schema#label> |\n",
    "                         <http://www.w3.org/2004/02/skos/core#prefLabel> ?label .}\n",
    "    }\n",
    "\"\"\",\"conversion\": \"\"\"\n",
    "    {\n",
    "        ?conversion <urn:conversion:unit> ?unit ;\n",
    "                    <urn:conversion:referenceUnit> ?referenceUnit .\n",
    "        OPTIONAL { ?conversion <urn:conversion:zeroAt> ?zeroAt .}\n",
    "        OPTIONAL { ?conversion <urn:conversion:oneEquals> ?oneEquals .}\n",
    "    }\n",
    "\"\"\"})"
   ]
  },
  {
   "cell_type": "code",
   "execution_count": null,
   "metadata": {},
   "outputs": [],
   "source": [
    "sweet3Categories.setParameter(\"patterns\",{\n",
    "\"unit\": \"\"\"\n",
    "    {\n",
    "        ?unit rdf:type/rdfs:subClassOf* <http://sweetontology.net/reprSciUnits/Unit> .\n",
    "        OPTIONAL { ?unit <http://www.w3.org/2000/01/rdf-schema#label>  ?label }\n",
    "        OPTIONAL { ?unit <http://sweetontology.net/relaSci/hasSymbol> ?symbol }\n",
    "    }\n",
    "\"\"\",\"conversion\": \"\"\"\n",
    "    {\n",
    "        ?conversion <urn:conversion:unit> ?unit ;\n",
    "                    <urn:conversion:referenceUnit> ?referenceUnit .\n",
    "        OPTIONAL { ?conversion <urn:conversion:zeroAt> ?zeroAt .}\n",
    "        OPTIONAL { ?conversion <urn:conversion:oneEquals> ?oneEquals .}\n",
    "    }\n",
    "\"\"\"})"
   ]
  },
  {
   "cell_type": "markdown",
   "metadata": {},
   "source": [
    "## Mapping\n",
    "\n",
    "An comparison requires a mapping of the resources in the ontologies. We use the Jaro Winkler Similarity of the labels to map the units. The conversions will then be mapped based on the related units."
   ]
  },
  {
   "cell_type": "code",
   "execution_count": null,
   "metadata": {},
   "outputs": [],
   "source": [
    "manualMapping = (om2Categories + qudt2Categories + sweet3Categories).into(\"ManualMappingProcessor\")\n",
    "labelMapping = manualMapping.into(\"JaroWinklerMappingProcessor\", {\n",
    "    \"threshold\": 0.9,\n",
    "    \"case_sensitive\": False,\n",
    "    \"category\": \"unit\",\n",
    "    \"variables\": [\"label\"]})\n",
    "mapping = labelMapping.into(\"RelationalMappingProcessor\", {\n",
    "    \"category\": \"conversion\",\n",
    "    \"variables\": [\"unit\",\"referenceUnit\"]})"
   ]
  },
  {
   "cell_type": "markdown",
   "metadata": {},
   "source": [
    "## Comparison\n",
    "\n",
    "Now the ontologies can be compared:\n",
    "* We generate statisticw of the number of resources and properties per category.\n",
    "* We search for deviating property values of mapped resources."
   ]
  },
  {
   "cell_type": "code",
   "execution_count": null,
   "metadata": {},
   "outputs": [],
   "source": [
    "counts = mapping.into(\"CategoryCountProcessor\");\n",
    "valueDeviations = mapping.into(\"LiteralDeviationProcessor\", {\"variables\": {\"unit\": [\"symbol\"], \"conversion\" : [\"oneEquals\", \"zeroAt\"] }})"
   ]
  },
  {
   "cell_type": "markdown",
   "metadata": {},
   "source": [
    "## Execution\n",
    "\n",
    "The comparison pipeline is now reade to be executed."
   ]
  },
  {
   "cell_type": "code",
   "execution_count": null,
   "metadata": {},
   "outputs": [],
   "source": [
    "execution = project.runAndAwait()"
   ]
  },
  {
   "cell_type": "markdown",
   "metadata": {},
   "source": [
    "## Reporting\n",
    "\n",
    "After the pipeline execution succeeded, we display the comparison results."
   ]
  },
  {
   "cell_type": "code",
   "execution_count": null,
   "metadata": {},
   "outputs": [],
   "source": [
    "execution.measurements()"
   ]
  },
  {
   "cell_type": "code",
   "execution_count": null,
   "metadata": {},
   "outputs": [],
   "source": [
    "execution.deviations()"
   ]
  },
  {
   "cell_type": "code",
   "execution_count": null,
   "metadata": {},
   "outputs": [],
   "source": [
    "execution.issues()"
   ]
  },
  {
   "cell_type": "markdown",
   "metadata": {},
   "source": [
    "## Stop Background Service\n",
    "\n",
    "Finally, we stop the ABECTO background service."
   ]
  },
  {
   "cell_type": "code",
   "execution_count": null,
   "metadata": {},
   "outputs": [],
   "source": [
    "abecto.stop()"
   ]
  }
 ],
 "metadata": {
  "kernelspec": {
   "display_name": "Python 3",
   "language": "python",
   "name": "python3"
  },
  "language_info": {
   "codemirror_mode": {
    "name": "ipython",
    "version": 3
   },
   "file_extension": ".py",
   "mimetype": "text/x-python",
   "name": "python",
   "nbconvert_exporter": "python",
   "pygments_lexer": "ipython3",
   "version": "3.7.3"
  }
 },
 "nbformat": 4,
 "nbformat_minor": 4
}
