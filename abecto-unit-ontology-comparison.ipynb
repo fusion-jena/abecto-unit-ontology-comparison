{
 "cells": [
  {
   "cell_type": "markdown",
   "metadata": {},
   "source": [
    "#  Unit Ontology Comparison and Evaluation with ABECTO\n",
    "\n",
    "This is a project to compare and evaluate unit ontologies using  [ABECTO](https://github.com/fusion-jena/abecto)."
   ]
  },
  {
   "cell_type": "markdown",
   "metadata": {},
   "source": [
    "## Preparation\n",
    "First, we start the ABECTO background service. **This might take a few seconds.**"
   ]
  },
  {
   "cell_type": "code",
   "execution_count": 1,
   "metadata": {},
   "outputs": [],
   "source": [
    "from abecto.abecto import *\n",
    "abecto = Abecto(\"abecto/target/abecto.jar\", port = 8080) if 'abecto' not in locals() else abecto\n",
    "abecto.start()"
   ]
  },
  {
   "cell_type": "markdown",
   "metadata": {},
   "source": [
    "## Load Ontologies\n",
    "\n",
    "We are going to comprate the Ontologies [OM 2](https://github.com/HajoRijgersberg/OM), [QUDT 2](http://qudt.org/), and [SWEET 3](https://github.com/ESIPFed/sweet). The RDF files are contained in the project repository. We load them into ABECTO."
   ]
  },
  {
   "cell_type": "code",
   "execution_count": 2,
   "metadata": {},
   "outputs": [],
   "source": [
    "project = abecto.project(\"Unit Ontologies\")\n",
    "om2 = project.ontology(\"OM 2\")\n",
    "qudt2 = project.ontology(\"QUDT 2\")\n",
    "sweet3 = project.ontology(\"SWEET 3\")\n",
    "\n",
    "om2source = om2.source(\"UrlSourceProcessor\",{\"url\":\"http://www.ontology-of-units-of-measure.org/data/om-2.ttl\"}).load()\n",
    "\n",
    "qudt2qudt = qudt2.source(\"UrlSourceProcessor\",{\"url\":\"http://qudt.org/2.1/schema/qudt\"}).load()\n",
    "qudt2datatype = qudt2.source(\"UrlSourceProcessor\",{\"url\":\"http://qudt.org/2.1/schema/datatype\"}).load()\n",
    "qudt2constant = qudt2.source(\"UrlSourceProcessor\",{\"url\":\"http://qudt.org/2.1/vocab/constant\"}).load()\n",
    "qudt2discipline = qudt2.source(\"UrlSourceProcessor\",{\"url\":\"http://qudt.org/2.1/vocab/discipline\"}).load()\n",
    "qudt2dimensionvector = qudt2.source(\"UrlSourceProcessor\",{\"url\":\"http://qudt.org/2.1/vocab/dimensionvector\"}).load()\n",
    "qudt2quantitykind = qudt2.source(\"UrlSourceProcessor\",{\"url\":\"http://qudt.org/2.1/vocab/quantitykind\"}).load()\n",
    "qudt2suo = qudt2.source(\"UrlSourceProcessor\",{\"url\":\"http://qudt.org/2.1/vocab/sou\"}).load()\n",
    "qudt2unit = qudt2.source(\"UrlSourceProcessor\",{\"url\":\"http://qudt.org/2.1/vocab/unit\"}).load()\n",
    "#qudt2dimensionalunit = qudt2.source(\"UrlSourceProcessor\",{\"url\":\"http://qudt.org/2.0/vocab/dimensionalunit\"}).load()\n",
    "\n",
    "sweet3Units = sweet3.source(\"UrlSourceProcessor\",{\"url\":\"https://raw.githubusercontent.com/ESIPFed/sweet/master/src/reprSciUnits.ttl\"}).load()"
   ]
  },
  {
   "cell_type": "markdown",
   "metadata": {},
   "source": [
    "## Prepare Comparison of Unit Conversions\n",
    "\n",
    "One important aspect of unit ontologies are the conversion specifications. As the ontologies model them in very different ways, we generate an unified representation of the contained conversions using SPARQL CONSTRUCT queries."
   ]
  },
  {
   "cell_type": "code",
   "execution_count": 3,
   "metadata": {},
   "outputs": [],
   "source": [
    "om2conversions = om2source.into(\"SparqlConstructProcessor\", {\"query\":\"\"})\n",
    "qudt2conversions = (qudt2qudt + qudt2datatype + qudt2constant + qudt2discipline + qudt2dimensionvector + qudt2quantitykind + qudt2suo + qudt2unit).into(\"SparqlConstructProcessor\", {\"query\":\"\"})\n",
    "sweet3conversions = sweet3Units.into(\"SparqlConstructProcessor\", {\"query\":\"\"})"
   ]
  },
  {
   "cell_type": "code",
   "execution_count": 4,
   "metadata": {},
   "outputs": [],
   "source": [
    "om2conversions.setParameter(\"query\", \"\"\"\n",
    "PREFIX om: <http://www.ontology-of-units-of-measure.org/resource/om-2/>\n",
    "CONSTRUCT {\n",
    "    ?conversion <urn:conversion:unit> ?unit ;\n",
    "                <urn:conversion:oneEquals> ?oneEquals ;\n",
    "                <urn:conversion:zeroAt> ?zeroAt ;\n",
    "                <urn:conversion:referenceUnit> ?referenceUnit .\n",
    "} WHERE {\n",
    "    {\n",
    "        # direct conversion\n",
    "        ?unit om:hasUnit ?referenceUnit ;\n",
    "              om:hasFactor ?oneEquals .\n",
    "        BIND( IRI(CONCAT(\"urn:om2:conversion:\", REPLACE(STR(?unit),\".*/\",\"\"), \":\", REPLACE(STR(?referenceUnit),\".*/\",\"\") )) AS ?conversion)\n",
    "        FILTER (STR(?unit) < STR(?referenceUnit))\n",
    "    } UNION {\n",
    "        # reverse direct conversion\n",
    "        ?referenceUnit om:hasUnit ?unit ;\n",
    "                       om:hasFactor ?inverseOneEquals .\n",
    "        BIND(1/?inverseOneEquals AS ?oneEquals)\n",
    "        BIND(IRI(CONCAT(\"urn:om2:conversion:\", REPLACE(STR(?unit),\".*/\",\"\"), \":\", REPLACE(STR(?referenceUnit),\".*/\",\"\") )) AS ?conversion)\n",
    "        FILTER (STR(?unit) < STR(?referenceUnit))\n",
    "    } UNION {\n",
    "        # conversion by prefix\n",
    "        ?unit om:hasUnit ?referenceUnit ;\n",
    "              om:hasPrefix/om:hasFactor ?oneEquals .\n",
    "        BIND(0 AS ?zeroAt)\n",
    "        BIND(IRI(CONCAT(\"urn:om2:conversion:\", REPLACE(STR(?unit),\".*/\",\"\"), \":\", REPLACE(STR(?referenceUnit),\".*/\",\"\") )) AS ?conversion)\n",
    "        FILTER (STR(?unit) < STR(?referenceUnit))\n",
    "    } UNION {\n",
    "        # reverse conversion by prefix\n",
    "        ?referenceUnit om:hasUnit ?unit ;\n",
    "                       om:hasPrefix/om:hasFactor ?inverseOneEquals .\n",
    "        BIND(1/?inverseOneEquals AS ?oneEquals)\n",
    "        BIND(0 AS ?zeroAt )\n",
    "        BIND(IRI(CONCAT(\"urn:om2:conversion:\", REPLACE(STR(?unit),\".*/\",\"\"), \":\", REPLACE(STR(?referenceUnit),\".*/\",\"\") )) AS ?conversion)\n",
    "        FILTER (STR(?unit) < STR(?referenceUnit))\n",
    "    } UNION {\n",
    "        # conversion by scale\n",
    "        [] om:hasUnit ?unit ;\n",
    "           om:hasScale/om:hasUnit ?referenceUnit ;\n",
    "           om:hasFactor ?inverseOneEquals ;\n",
    "           om:hasOff-Set ?inverseZeroAt ;\n",
    "        BIND(-1*?inverseZeroAt/?oneEquals AS ?zeroAt)\n",
    "        BIND(1/?inverseOneEquals AS ?oneEquals)\n",
    "        BIND(IRI(CONCAT(\"urn:om2:conversion:\", REPLACE(STR(?unit),\".*/\",\"\"), \":\", REPLACE(STR(?referenceUnit),\".*/\",\"\") )) AS ?conversion)\n",
    "        FILTER (STR(?unit) < STR(?referenceUnit))\n",
    "    } UNION {\n",
    "        # reverse conversion by scale\n",
    "        [] om:hasUnit ?referenceUnit ;\n",
    "           om:hasScale/om:hasUnit ?unit ;\n",
    "           om:hasFactor ?oneEquals ;\n",
    "           om:hasOff-Set ?zeroAt ;\n",
    "        BIND(IRI(CONCAT(\"urn:om2:conversion:\", REPLACE(STR(?unit),\".*/\",\"\"), \":\", REPLACE(STR(?referenceUnit),\".*/\",\"\") )) AS ?conversion)\n",
    "        FILTER (STR(?unit) < STR(?referenceUnit))\n",
    "    }\n",
    "}\n",
    "\"\"\")"
   ]
  },
  {
   "cell_type": "code",
   "execution_count": 5,
   "metadata": {},
   "outputs": [],
   "source": [
    "qudt2conversions.setParameter(\"query\", \"\"\"\n",
    "PREFIX qudt: <http://qudt.org/schema/qudt/>\n",
    "CONSTRUCT {\n",
    "    ?conversion <urn:conversion:unit> ?unit ;\n",
    "                <urn:conversion:oneEquals> ?oneEquals ;\n",
    "                <urn:conversion:zeroAt> ?zeroAt ;\n",
    "                <urn:conversion:referenceUnit> ?referenceUnit .\n",
    "} WHERE {\n",
    "    ?unit qudt:hasQuantityKind/^qudt:hasQuantityKind ?referenceUnit .\n",
    "    BIND( IRI(CONCAT(\"urn:qudt2:conversion:\", REPLACE(STR(?unit),\".*/\",\"\"), \":\", REPLACE(STR(?referenceUnit),\".*/\",\"\") )) AS ?conversion)\n",
    "    ?unit qudt:conversionMultiplier ?factor1 .\n",
    "    ?unit qudt:conversionOffset ?offset1 .\n",
    "    ?referenceUnit qudt:conversionMultiplier ?factor2 .\n",
    "    ?referenceUnit qudt:conversionOffset ?offset2 .\n",
    "    BIND(?factor1/?factor2 AS ?oneEquals)\n",
    "    BIND(?offset1/?factor2-?offset2 AS ?zeroAt)\n",
    "    FILTER (STR(?unit) < STR(?referenceUnit))\n",
    "}\n",
    "\"\"\")"
   ]
  },
  {
   "cell_type": "code",
   "execution_count": 6,
   "metadata": {},
   "outputs": [],
   "source": [
    "sweet3conversions.setParameter(\"query\", \"\"\"\n",
    "PREFIX sorelm: <http://sweetontology.net/relaMath/>\n",
    "PREFIX sorelsc: <http://sweetontology.net/relaSci/>\n",
    "CONSTRUCT {\n",
    "    ?conversion <urn:conversion:unit> ?unit ;\n",
    "                <urn:conversion:oneEquals> ?oneEquals ;\n",
    "                <urn:conversion:zeroAt> ?zeroAt ;\n",
    "                <urn:conversion:referenceUnit> ?referenceUnit .\n",
    "} WHERE {\n",
    "    { \n",
    "        ?unit sorelsc:hasBaseUnit ?referenceUnit .\n",
    "        OPTIONAL { ?unit sorelm:hasScalingNumber ?oneEquals }\n",
    "        OPTIONAL { ?unit sorelm:hasShiftingNumber ?zeroAt }\n",
    "        FILTER (BOUND(?oneEquals) || BOUND(?zeroAt) )\n",
    "        BIND( IRI(CONCAT(\"urn:sweet3:conversion:\", REPLACE(STR(?unit),\".*/\",\"\"), \":\", REPLACE(STR(?referenceUnit),\".*/\",\"\") )) AS ?conversion)\n",
    "        FILTER (STR(?unit) < STR(?referenceUnit))\n",
    "    } UNION {\n",
    "        ?referenceUnit sorelsc:hasBaseUnit ?unit .\n",
    "        OPTIONAL { ?referenceUnit sorelm:hasScalingNumber ?inverseOneEquals }\n",
    "        OPTIONAL { ?referenceUnit sorelm:hasShiftingNumber ?inverseZeroAt }\n",
    "        FILTER (BOUND(?inverseOneEquals) || BOUND(?inverseZeroAt) )\n",
    "        BIND(COALESCE(1/?inverseOneEquals, 1) AS ?oneEquals)\n",
    "        BIND(COALESCE(-1*?inverseZeroAt/?inverseOneEquals, -1*?inverseZeroAt ) AS ?zeroAt)\n",
    "        BIND( IRI(CONCAT(\"urn:sweet3:conversion:\", REPLACE(STR(?unit),\".*/\",\"\"), \":\", REPLACE(STR(?referenceUnit),\".*/\",\"\") )) AS ?conversion)\n",
    "        FILTER (STR(?unit) < STR(?referenceUnit))\n",
    "    }\n",
    "}\n",
    "\"\"\")"
   ]
  },
  {
   "cell_type": "markdown",
   "metadata": {},
   "source": [
    "To increase the chance to find wrong values, we derive implicit conversions for OM 2 and SWEET 3. Due to the modeling approach, this is not required for QUDT 2."
   ]
  },
  {
   "cell_type": "code",
   "execution_count": 7,
   "metadata": {},
   "outputs": [],
   "source": [
    "om2conversionsTransitive = om2conversions.into(\"SparqlConstructProcessor\", {\"query\":\"\"})\n",
    "sweet3conversionsTransitive = sweet3conversions.into(\"SparqlConstructProcessor\", {\"query\":\"\"})"
   ]
  },
  {
   "cell_type": "code",
   "execution_count": 8,
   "metadata": {},
   "outputs": [],
   "source": [
    "om2conversionsTransitive.setParameter(\"query\", \"\"\"\n",
    "PREFIX : <urn:conversion:>\n",
    "CONSTRUCT {\n",
    "    ?conversion :unit ?unit ;\n",
    "                :oneEquals ?oneEquals ;\n",
    "                :zeroAt ?zeroAt ;\n",
    "                :referenceUnit ?referenceUnit .\n",
    "} WHERE {\n",
    "    {\n",
    "        [] :unit ?unit ;\n",
    "           :oneEquals ?oneEquals1 ;\n",
    "           :zeroAt ?zeroAt1 ;\n",
    "           :referenceUnit ?betweenUnit .\n",
    "        [] :unit ?betweenUnit ;\n",
    "           :oneEquals ?oneEquals2 ;\n",
    "           :zeroAt ?zeroAt2 ;\n",
    "           :referenceUnit ?referenceUnit .\n",
    "        BIND(?oneEquals1*?oneEquals2 AS ?oneEquals)\n",
    "        BIND(?zeroAt1/?oneEquals2+?zeroAt2 AS ?zeroAt)\n",
    "    } UNION {\n",
    "        [] :unit ?unit ;\n",
    "           :oneEquals ?oneEquals1 ;\n",
    "           :zeroAt ?zeroAt1 ;\n",
    "           :referenceUnit ?betweenUnit .\n",
    "        [] :unit ?referenceUnit ;\n",
    "           :oneEquals ?oneEquals2 ;\n",
    "           :zeroAt ?zeroAt2 ;\n",
    "           :referenceUnit ?betweenUnit .\n",
    "        BIND(?oneEquals1/?oneEquals2 AS ?oneEquals)\n",
    "        BIND(?zeroAt1*?oneEquals2-?zeroAt2 AS ?zeroAt)\n",
    "    } UNION {\n",
    "        [] :unit ?betweenUnit ;\n",
    "           :oneEquals ?oneEquals1 ;\n",
    "           :zeroAt ?zeroAt1 ;\n",
    "           :referenceUnit ?unit .\n",
    "        [] :unit ?betweenUnit ;\n",
    "           :oneEquals ?oneEquals2 ;\n",
    "           :zeroAt ?zeroAt2 ;\n",
    "           :referenceUnit ?referenceUnit .\n",
    "        BIND(?oneEquals2/?oneEquals1 AS ?oneEquals)\n",
    "        BIND(?zeroAt2-?zeroAt1/?oneEquals2 AS ?zeroAt)\n",
    "    }\n",
    "    BIND( IRI(CONCAT(\"urn:om2:conversion:\", REPLACE(STR(?unit),\".*/\",\"\"), \":\", REPLACE(STR(?referenceUnit),\".*/\",\"\") )) AS ?conversion)\n",
    "    FILTER (STR(?unit) < STR(?referenceUnit))\n",
    "}\n",
    "\"\"\")"
   ]
  },
  {
   "cell_type": "code",
   "execution_count": 9,
   "metadata": {},
   "outputs": [],
   "source": [
    "sweet3conversionsTransitive.setParameter(\"query\", \"\"\"\n",
    "PREFIX : <urn:conversion:>\n",
    "CONSTRUCT {\n",
    "    ?conversion :unit ?unit ;\n",
    "                :oneEquals ?oneEquals ;\n",
    "                :zeroAt ?zeroAt ;\n",
    "                :referenceUnit ?referenceUnit .\n",
    "} WHERE {\n",
    "    {\n",
    "        [] :unit ?unit ;\n",
    "           :oneEquals ?oneEquals1 ;\n",
    "           :zeroAt ?zeroAt1 ;\n",
    "           :referenceUnit ?betweenUnit .\n",
    "        [] :unit ?betweenUnit ;\n",
    "           :oneEquals ?oneEquals2 ;\n",
    "           :zeroAt ?zeroAt2 ;\n",
    "           :referenceUnit ?referenceUnit .\n",
    "        BIND(?oneEquals1/?oneEquals2 AS ?oneEquals)\n",
    "        BIND(?zeroAt1/?oneEquals2+?zeroAt2 AS ?zeroAt)\n",
    "    } UNION {\n",
    "        [] :unit ?betweenUnit ;\n",
    "           :oneEquals ?oneEquals1 ;\n",
    "           :zeroAt ?zeroAt1 ;\n",
    "           :referenceUnit ?unit .\n",
    "        [] :unit ?betweenUnit ;\n",
    "           :oneEquals ?oneEquals2 ;\n",
    "           :zeroAt ?zeroAt2 ;\n",
    "           :referenceUnit ?referenceUnit .\n",
    "        BIND(1/?oneEquals1/?oneEquals2 AS ?oneEquals)\n",
    "        BIND(-1*?zeroAt1/?oneEquals2+?zeroAt2 AS ?zeroAt)\n",
    "    } UNION {\n",
    "        [] :unit ?unit ;\n",
    "           :oneEquals ?oneEquals1 ;\n",
    "           :zeroAt ?zeroAt1 ;\n",
    "           :referenceUnit ?betweenUnit .\n",
    "        [] :unit ?referenceUnit ;\n",
    "           :oneEquals ?oneEquals2 ;\n",
    "           :zeroAt ?zeroAt2 ;\n",
    "           :referenceUnit ?betweenUnit .\n",
    "        BIND(?oneEquals1*?oneEquals2 AS ?oneEquals)\n",
    "        BIND(?zeroAt1*?oneEquals2-?zeroAt2 AS ?zeroAt)\n",
    "    }\n",
    "    BIND( IRI(CONCAT(\"urn:sweet3:conversion:\", REPLACE(STR(?unit),\".*/\",\"\"), \":\", REPLACE(STR(?referenceUnit),\".*/\",\"\") )) AS ?conversion)\n",
    "    FILTER (STR(?unit) < STR(?referenceUnit))\n",
    "}\n",
    "\"\"\")"
   ]
  },
  {
   "cell_type": "markdown",
   "metadata": {},
   "source": [
    "## Define Categories\n",
    "\n",
    "Now, we define patterns for the the categories we want to compare."
   ]
  },
  {
   "cell_type": "code",
   "execution_count": 10,
   "metadata": {},
   "outputs": [],
   "source": [
    "om2Categories = om2conversionsTransitive.into(\"ManualCategoryProcessor\", {})\n",
    "qudt2Categories = qudt2conversions.into(\"ManualCategoryProcessor\", {})\n",
    "sweet3Categories = sweet3conversionsTransitive.into(\"ManualCategoryProcessor\", {})"
   ]
  },
  {
   "cell_type": "code",
   "execution_count": 11,
   "metadata": {},
   "outputs": [],
   "source": [
    "om2Categories.setParameter(\"patterns\",{\n",
    "\"unit\": \"\"\"\n",
    "    {\n",
    "        ?unit rdf:type/rdfs:subClassOf* <http://www.ontology-of-units-of-measure.org/resource/om-2/Unit> .\n",
    "        OPTIONAL { ?unit <http://www.w3.org/2000/01/rdf-schema#label>  ?label }\n",
    "        OPTIONAL { ?unit <http://www.ontology-of-units-of-measure.org/resource/om-2/symbol> ?symbol }\n",
    "        OPTIONAL { ?unit <http://www.w3.org/2000/01/rdf-schema#comment> ?definition }\n",
    "        OPTIONAL { ?unit ^<http://www.ontology-of-units-of-measure.org/resource/om-2/commonlyHasUnit> ?quantityKind }\n",
    "    }\n",
    "\"\"\",\"conversion\": \"\"\"\n",
    "    {\n",
    "        ?conversion <urn:conversion:unit> ?unit ;\n",
    "                    <urn:conversion:referenceUnit> ?referenceUnit .\n",
    "        OPTIONAL { ?conversion <urn:conversion:zeroAt> ?zeroAt .}\n",
    "        OPTIONAL { ?conversion <urn:conversion:oneEquals> ?oneEquals .}\n",
    "    }\n",
    "\"\"\",\"quantityKind\": \"\"\"\n",
    "    {\n",
    "        ?quantityKind\n",
    "            rdfs:subClassOf\n",
    "                <http://www.ontology-of-units-of-measure.org/resource/om-2/Quantity> ;\n",
    "            rdfs:label\n",
    "                ?label ;\n",
    "            <http://www.ontology-of-units-of-measure.org/resource/om-2/symbol>\n",
    "                ?symbol .\n",
    "        OPTIONAL {\n",
    "            ?quantityKind \n",
    "                rdfs:subClassOf [\n",
    "                    rdf:type owl:Restriction ;\n",
    "                    owl:onProperty <http://www.ontology-of-units-of-measure.org/resource/om-2/hasDimension> ;\n",
    "                    owl:hasValue ?dimensionVector\n",
    "                ] .\n",
    "        }\n",
    "    }\n",
    "\"\"\",\"dimensionVector\": \"\"\"\n",
    "    {\n",
    "        ?dimensionVector\n",
    "            rdf:type\n",
    "                <http://www.ontology-of-units-of-measure.org/resource/om-2/Dimension> ;\n",
    "            <http://www.ontology-of-units-of-measure.org/resource/om-2/hasSIAmountOfSubstanceDimensionExponent>\n",
    "                ?amountOfSubstanceExponent ;\n",
    "            <http://www.ontology-of-units-of-measure.org/resource/om-2/hasSIElectricCurrentDimensionExponent>\n",
    "                ?electricCurrentExponent ;\n",
    "            <http://www.ontology-of-units-of-measure.org/resource/om-2/hasSILengthDimensionExponent>\n",
    "                ?lengthExponent ;\n",
    "            <http://www.ontology-of-units-of-measure.org/resource/om-2/hasSILuminousIntensityDimensionExponent>\n",
    "                ?luminousIntensityExponent ;\n",
    "            <http://www.ontology-of-units-of-measure.org/resource/om-2/hasSIMassDimensionExponent>\n",
    "                ?massExponent ;\n",
    "            <http://www.ontology-of-units-of-measure.org/resource/om-2/hasSIThermodynamicTemperatureDimensionExponent>\n",
    "                ?tempExponent ;\n",
    "            <http://www.ontology-of-units-of-measure.org/resource/om-2/hasSITimeDimensionExponent>\n",
    "                ?timeExponent .\n",
    "    }\n",
    "\"\"\"})"
   ]
  },
  {
   "cell_type": "code",
   "execution_count": 12,
   "metadata": {},
   "outputs": [],
   "source": [
    "qudt2Categories.setParameter(\"patterns\",{\n",
    "\"unit\": \"\"\"\n",
    "    {\n",
    "        ?unit rdf:type/rdfs:subClassOf* <http://qudt.org/schema/qudt/Unit> .\n",
    "        OPTIONAL { ?unit <http://qudt.org/schema/qudt/description> ?definition }\n",
    "        OPTIONAL { ?unit <http://qudt.org/schema/qudt/symbol> ?symbol }\n",
    "        OPTIONAL { ?unit <http://www.w3.org/2000/01/rdf-schema#label> |\n",
    "                         <http://www.w3.org/2004/02/skos/core#prefLabel> ?label }\n",
    "        OPTIONAL { ?unit <http://qudt.org/schema/qudt/hasQuantityKind> ?quantityKind }\n",
    "    }\n",
    "\"\"\",\"conversion\": \"\"\"\n",
    "    {\n",
    "        ?conversion <urn:conversion:unit> ?unit ;\n",
    "                    <urn:conversion:referenceUnit> ?referenceUnit .\n",
    "        OPTIONAL { ?conversion <urn:conversion:zeroAt> ?zeroAt .}\n",
    "        OPTIONAL { ?conversion <urn:conversion:oneEquals> ?oneEquals .}\n",
    "    }\n",
    "\"\"\",\"quantityKind\": \"\"\"\n",
    "    {\n",
    "        ?quantityKind rdf:type <http://qudt.org/schema/qudt/QuantityKind> ;\n",
    "                      rdfs:label ?label ;\n",
    "                      <http://qudt.org/schema/qudt/symbol> ?symbol ;\n",
    "                      <http://qudt.org/schema/qudt/hasDimensionVector> ?dimensionVector\n",
    "    }\n",
    "\"\"\",\"dimensionVector\": \"\"\"\n",
    "    {\n",
    "        ?dimensionVector rdf:type/rdfs:subClassOf* <http://qudt.org/schema/qudt/QuantityKindDimensionVector> ;\n",
    "                         <http://qudt.org/schema/qudt/dimensionExponentForAmountOfSubstance>        ?amountOfSubstanceExponent ;\n",
    "                         <http://qudt.org/schema/qudt/dimensionExponentForElectricCurrent>          ?electricCurrentExponent ;\n",
    "                         <http://qudt.org/schema/qudt/dimensionExponentForLength>                   ?lengthExponent ;\n",
    "                         <http://qudt.org/schema/qudt/dimensionExponentForLuminousIntensity>        ?luminousIntensityExponent ;\n",
    "                         <http://qudt.org/schema/qudt/dimensionExponentForMass>                     ?massExponent ;\n",
    "                         <http://qudt.org/schema/qudt/dimensionExponentForThermodynamicTemperature> ?tempExponent ;\n",
    "                         <http://qudt.org/schema/qudt/dimensionExponentForTime>                     ?timeExponent ;\n",
    "                         <http://qudt.org/schema/qudt/dimensionlessExponent>                        ?dimensionlessExponent .\n",
    "    }\n",
    "\"\"\"})"
   ]
  },
  {
   "cell_type": "code",
   "execution_count": 13,
   "metadata": {},
   "outputs": [],
   "source": [
    "sweet3Categories.setParameter(\"patterns\",{\n",
    "\"unit\": \"\"\"\n",
    "    {\n",
    "        ?unit rdf:type/rdfs:subClassOf* <http://sweetontology.net/reprSciUnits/Unit> .\n",
    "        OPTIONAL { ?unit <http://www.w3.org/2000/01/rdf-schema#label>  ?label }\n",
    "        OPTIONAL { ?unit <http://sweetontology.net/relaSci/hasSymbol> ?symbol }\n",
    "    }\n",
    "\"\"\",\"conversion\": \"\"\"\n",
    "    {\n",
    "        ?conversion <urn:conversion:unit> ?unit ;\n",
    "                    <urn:conversion:referenceUnit> ?referenceUnit .\n",
    "        OPTIONAL { ?conversion <urn:conversion:zeroAt> ?zeroAt .}\n",
    "        OPTIONAL { ?conversion <urn:conversion:oneEquals> ?oneEquals .}\n",
    "    }\n",
    "\"\"\"})"
   ]
  },
  {
   "cell_type": "markdown",
   "metadata": {},
   "source": [
    "## Mapping\n",
    "\n",
    "An comparison requires a mapping of the resources in the ontologies. We use the Jaro Winkler Similarity of the labels to map the units. The conversions will then be mapped based on the related units."
   ]
  },
  {
   "cell_type": "code",
   "execution_count": 14,
   "metadata": {},
   "outputs": [],
   "source": [
    "manualMapping = (om2Categories + qudt2Categories + sweet3Categories).into(\"ManualMappingProcessor\")\n",
    "labelMapping = manualMapping.into(\"JaroWinklerMappingProcessor\", {\n",
    "    \"threshold\": 0.9,\n",
    "    \"case_sensitive\": False,\n",
    "    \"category\": \"unit\",\n",
    "    \"variables\": [\"label\"]})\n",
    "mapping = labelMapping.into(\"RelationalMappingProcessor\", {\n",
    "    \"category\": \"conversion\",\n",
    "    \"variables\": [\"unit\",\"referenceUnit\"]})"
   ]
  },
  {
   "cell_type": "markdown",
   "metadata": {},
   "source": [
    "## Comparison\n",
    "\n",
    "Now the ontologies can be compared:\n",
    "* We generate statistics of the number of resources and properties per category.\n",
    "* We search for deviating property values of mapped resources."
   ]
  },
  {
   "cell_type": "code",
   "execution_count": 15,
   "metadata": {},
   "outputs": [],
   "source": [
    "counts = mapping.into(\"CategoryCountProcessor\");\n",
    "valueDeviations = mapping.into(\"LiteralDeviationProcessor\", {\"variables\": {\"unit\": [\"symbol\"], \"conversion\" : [\"oneEquals\", \"zeroAt\"] }})"
   ]
  },
  {
   "cell_type": "markdown",
   "metadata": {},
   "source": [
    "## Execution\n",
    "\n",
    "The comparison pipeline is now reade to be executed."
   ]
  },
  {
   "cell_type": "code",
   "execution_count": 16,
   "metadata": {},
   "outputs": [],
   "source": [
    "execution = project.runAndAwait()"
   ]
  },
  {
   "cell_type": "markdown",
   "metadata": {},
   "source": [
    "## Reporting\n",
    "\n",
    "After the pipeline execution succeeded, we display the comparison results."
   ]
  },
  {
   "cell_type": "code",
   "execution_count": 17,
   "metadata": {},
   "outputs": [
    {
     "data": {
      "text/html": [
       "<table><tr><th>Ontology</th><th>Processor</th><th>Parameter</th><th>Loading DateTime</th><th>Ontology IRI</th><th>Ontology Version</th><th>Ontology Date</th><th>Ontology Version IRI</th></tr><tr><td rowspan=\"1\">OM 2</td><td>UrlSourceProcessor</td><td>\"url\":\"http://www.ontology-of-units-of-measure.org/data/om-2.ttl\"</td><td>2020-07-21T17:25:20+02:00</td><td>http://www.ontology-of-units-of-measure.org/resource/om-2/</td><td>2.0.7</td><td>2017/12/28</td><td></td></tr><tr><td rowspan=\"8\">QUDT 2</td><td>UrlSourceProcessor</td><td>\"url\":\"http://qudt.org/2.1/vocab/sou\"</td><td>2020-07-21T17:25:30+02:00</td><td>http://qudt.org/2.1/vocab/sou</td><td>Created with TopBraid Composer</td><td></td><td>http://qudt.org/2.1/vocab/sou</td></tr><tr><td>UrlSourceProcessor</td><td>\"url\":\"http://qudt.org/2.1/vocab/unit\"</td><td>2020-07-21T17:25:30+02:00</td><td>http://qudt.org/2.1/vocab/unit</td><td></td><td></td><td>http://qudt.org/2.1/vocab/unit</td></tr><tr><td>UrlSourceProcessor</td><td>\"url\":\"http://qudt.org/2.1/vocab/constant\"</td><td>2020-07-21T17:25:25+02:00</td><td>http://qudt.org/2.1/vocab/constant</td><td></td><td></td><td>http://qudt.org/2.1/vocab/constant</td></tr><tr><td>UrlSourceProcessor</td><td>\"url\":\"http://qudt.org/2.1/schema/qudt\"</td><td>2020-07-21T17:25:22+02:00</td><td>http://qudt.org/2.1/schema/qudt</td><td></td><td></td><td>http://qudt.org/2.1/schema/qudt</td></tr><tr><td>UrlSourceProcessor</td><td>\"url\":\"http://qudt.org/2.1/vocab/discipline\"</td><td>2020-07-21T17:25:26+02:00</td><td>http://qudt.org/2.1/vocab/discipline</td><td></td><td></td><td>http://qudt.org/2.1/vocab/discipline</td></tr><tr><td>UrlSourceProcessor</td><td>\"url\":\"http://qudt.org/2.1/vocab/quantitykind\"</td><td>2020-07-21T17:25:27+02:00</td><td>http://qudt.org/2.1/vocab/quantitykind</td><td></td><td></td><td>http://qudt.org/2.1/vocab/quantitykind</td></tr><tr><td>UrlSourceProcessor</td><td>\"url\":\"http://qudt.org/2.1/vocab/dimensionvector\"</td><td>2020-07-21T17:25:27+02:00</td><td>http://qudt.org/2.1/vocab/dimensionvector</td><td></td><td></td><td>http://qudt.org/2.1/vocab/dimensionvector</td></tr><tr><td>UrlSourceProcessor</td><td>\"url\":\"http://qudt.org/2.1/schema/datatype\"</td><td>2020-07-21T17:25:23+02:00</td><td>http://qudt.org/2.1/schema/datatype</td><td></td><td></td><td></td></tr><tr><td rowspan=\"1\">SWEET 3</td><td>UrlSourceProcessor</td><td>\"url\":\"https://raw.githubusercontent.com/ESIPFed/sweet/master/src/reprSciUnits.ttl\"</td><td>2020-07-21T17:25:33+02:00</td><td>http://sweetontology.net/reprSciUnits</td><td>3.5.0</td><td></td><td></td></tr></table>"
      ],
      "text/plain": [
       "<IPython.core.display.HTML object>"
      ]
     },
     "metadata": {},
     "output_type": "display_data"
    }
   ],
   "source": [
    "execution.metadata()"
   ]
  },
  {
   "cell_type": "code",
   "execution_count": 18,
   "metadata": {},
   "outputs": [
    {
     "data": {
      "text/html": [
       "<h1>Category Count Report</h1><table><tr><th>Category</th><th>Variable</th><th>OM 2</th><th>QUDT 2</th><th>SWEET 3</th></tr><tr><td>dimensionVector</td><td></td><td>76</td><td>159</td><td></td></tr><tr><td>dimensionVector</td><td>amountOfSubstanceExponent</td><td>76</td><td>159</td><td></td></tr><tr><td>dimensionVector</td><td>luminousIntensityExponent</td><td>76</td><td>159</td><td></td></tr><tr><td>dimensionVector</td><td>timeExponent</td><td>76</td><td>159</td><td></td></tr><tr><td>dimensionVector</td><td>dimensionlessExponent</td><td></td><td>159</td><td></td></tr><tr><td>dimensionVector</td><td>massExponent</td><td>76</td><td>159</td><td></td></tr><tr><td>dimensionVector</td><td>lengthExponent</td><td>76</td><td>159</td><td></td></tr><tr><td>dimensionVector</td><td>electricCurrentExponent</td><td>76</td><td>159</td><td></td></tr><tr><td>dimensionVector</td><td>tempExponent</td><td>76</td><td>159</td><td></td></tr><tr><td>unit</td><td></td><td>1384</td><td>1539</td><td>140</td></tr><tr><td>unit</td><td>quantityKind</td><td>4027</td><td>1627</td><td></td></tr><tr><td>unit</td><td>symbol</td><td>1286</td><td>341</td><td>20</td></tr><tr><td>unit</td><td>definition</td><td>722</td><td>3</td><td></td></tr><tr><td>unit</td><td>label</td><td>2056</td><td>1539</td><td>140</td></tr><tr><td>quantityKind</td><td></td><td>245</td><td>258</td><td></td></tr><tr><td>quantityKind</td><td>dimensionVector</td><td>217</td><td>258</td><td></td></tr><tr><td>quantityKind</td><td>label</td><td>380</td><td>258</td><td></td></tr><tr><td>quantityKind</td><td>symbol</td><td>245</td><td>263</td><td></td></tr><tr><td>conversion</td><td></td><td>6544</td><td>11834</td><td>37</td></tr><tr><td>conversion</td><td>oneEquals</td><td>6548</td><td>11834</td><td>36</td></tr><tr><td>conversion</td><td>zeroAt</td><td>6358</td><td>11834</td><td>2</td></tr><tr><td>conversion</td><td>referenceUnit</td><td>6544</td><td>11834</td><td>37</td></tr><tr><td>conversion</td><td>unit</td><td>6544</td><td>11834</td><td>37</td></tr></table>"
      ],
      "text/plain": [
       "<IPython.core.display.HTML object>"
      ]
     },
     "metadata": {},
     "output_type": "display_data"
    }
   ],
   "source": [
    "execution.measurements()"
   ]
  },
  {
   "cell_type": "code",
   "execution_count": 19,
   "metadata": {},
   "outputs": [
    {
     "data": {
      "text/html": [
       "<h2>Deviation Report</h2>"
      ],
      "text/plain": [
       "<IPython.core.display.HTML object>"
      ]
     },
     "metadata": {},
     "output_type": "display_data"
    },
    {
     "data": {
      "text/html": [
       "<h3>Category: unit</h3>"
      ],
      "text/plain": [
       "<IPython.core.display.HTML object>"
      ]
     },
     "metadata": {},
     "output_type": "display_data"
    },
    {
     "data": {
      "text/html": [
       "<h3>Category: conversion</h3>"
      ],
      "text/plain": [
       "<IPython.core.display.HTML object>"
      ]
     },
     "metadata": {},
     "output_type": "display_data"
    },
    {
     "data": {
      "text/html": [
       "<table><tr><th style=\"text-align:center;\" colspan=\"3\">OM 2</th><th style=\"text-align:center;\" colspan=\"3\">QUDT 2</th></tr><tr><td rowspan=\"1\">urn:om2:conversion:kiloampere:microampere</td><td>oneEquals</td><td>9.9999994E8<span style=\"opacity:0.6;\">^^http://www.w3.org/2001/XMLSchema#float</span></td><td>1030.0000000000002e0<span style=\"opacity:0.6;\">^^http://www.w3.org/2001/XMLSchema#double</span></td><td>oneEquals</td><td rowspan=\"1\">urn:qudt2:conversion:KiloA:MicroA</td></tr><tr><td rowspan=\"1\">urn:om2:conversion:kiloampere:nanoampere</td><td>oneEquals</td><td>9.9999993E11<span style=\"opacity:0.6;\">^^http://www.w3.org/2001/XMLSchema#float</span></td><td>1030000.0e0<span style=\"opacity:0.6;\">^^http://www.w3.org/2001/XMLSchema#double</span></td><td>oneEquals</td><td rowspan=\"1\">urn:qudt2:conversion:KiloA:NanoA</td></tr><tr><td rowspan=\"1\">urn:om2:conversion:kiloampere:picoampere</td><td>oneEquals</td><td>9.9999992E14<span style=\"opacity:0.6;\">^^http://www.w3.org/2001/XMLSchema#float</span></td><td>1.0300000000000001E9<span style=\"opacity:0.6;\">^^http://www.w3.org/2001/XMLSchema#double</span></td><td>oneEquals</td><td rowspan=\"1\">urn:qudt2:conversion:KiloA:PicoA</td></tr><tr><td rowspan=\"1\">urn:om2:conversion:kilosecond-Time:millisecond-Time</td><td>oneEquals</td><td>999999.94<span style=\"opacity:0.6;\">^^http://www.w3.org/2001/XMLSchema#float</span></td><td>1000000.0e0<span style=\"opacity:0.6;\">^^http://www.w3.org/2001/XMLSchema#double</span></td><td>oneEquals</td><td rowspan=\"1\">urn:qudt2:conversion:KiloSEC:MilliSEC</td></tr><tr><td rowspan=\"1\">urn:om2:conversion:kilosecond-Time:nanosecond-Time</td><td>oneEquals</td><td>1.0E12<span style=\"opacity:0.6;\">^^http://www.w3.org/2001/XMLSchema#float</span></td><td>9.999999999999999E11<span style=\"opacity:0.6;\">^^http://www.w3.org/2001/XMLSchema#double</span></td><td>oneEquals</td><td rowspan=\"1\">urn:qudt2:conversion:KiloSEC:NanoSEC</td></tr><tr><td rowspan=\"1\">urn:om2:conversion:microampere:nanoampere</td><td>oneEquals</td><td>1000.0<span style=\"opacity:0.6;\">^^http://www.w3.org/2001/XMLSchema#float</span></td><td>999.9999999999999e0<span style=\"opacity:0.6;\">^^http://www.w3.org/2001/XMLSchema#double</span></td><td>oneEquals</td><td rowspan=\"1\">urn:qudt2:conversion:MicroA:NanoA</td></tr><tr><td rowspan=\"1\">urn:om2:conversion:microradian:milliradian</td><td>oneEquals</td><td>9.999999E-4<span style=\"opacity:0.6;\">^^http://www.w3.org/2001/XMLSchema#float</span></td><td>0.001e0<span style=\"opacity:0.6;\">^^http://www.w3.org/2001/XMLSchema#double</span></td><td>oneEquals</td><td rowspan=\"1\">urn:qudt2:conversion:MicroRAD:MilliRAD</td></tr><tr><td rowspan=\"1\">urn:om2:conversion:microsecond-Time:millisecond-Time</td><td>oneEquals</td><td>9.999999E-4<span style=\"opacity:0.6;\">^^http://www.w3.org/2001/XMLSchema#float</span></td><td>0.001e0<span style=\"opacity:0.6;\">^^http://www.w3.org/2001/XMLSchema#double</span></td><td>oneEquals</td><td rowspan=\"1\">urn:qudt2:conversion:MicroSEC:MilliSEC</td></tr><tr><td rowspan=\"1\">urn:om2:conversion:microsecond-Time:nanosecond-Time</td><td>oneEquals</td><td>1000.0<span style=\"opacity:0.6;\">^^http://www.w3.org/2001/XMLSchema#float</span></td><td>999.9999999999999e0<span style=\"opacity:0.6;\">^^http://www.w3.org/2001/XMLSchema#double</span></td><td>oneEquals</td><td rowspan=\"1\">urn:qudt2:conversion:MicroSEC:NanoSEC</td></tr><tr><td rowspan=\"1\">urn:om2:conversion:millisecond-Time:nanosecond-Time</td><td>oneEquals</td><td>1000000.06<span style=\"opacity:0.6;\">^^http://www.w3.org/2001/XMLSchema#float</span></td><td>1000000.0e0<span style=\"opacity:0.6;\">^^http://www.w3.org/2001/XMLSchema#double</span></td><td>oneEquals</td><td rowspan=\"1\">urn:qudt2:conversion:MilliSEC:NanoSEC</td></tr><tr><td rowspan=\"1\">urn:om2:conversion:nanoampere:picoampere</td><td>oneEquals</td><td>1000.0<span style=\"opacity:0.6;\">^^http://www.w3.org/2001/XMLSchema#float</span></td><td>1000.0000000000001e0<span style=\"opacity:0.6;\">^^http://www.w3.org/2001/XMLSchema#double</span></td><td>oneEquals</td><td rowspan=\"1\">urn:qudt2:conversion:NanoA:PicoA</td></tr></table>"
      ],
      "text/plain": [
       "<IPython.core.display.HTML object>"
      ]
     },
     "metadata": {},
     "output_type": "display_data"
    },
    {
     "data": {
      "text/html": [
       "<table><tr><th style=\"text-align:center;\" colspan=\"3\">OM 2</th><th style=\"text-align:center;\" colspan=\"3\">SWEET 3</th></tr><tr><td rowspan=\"1\">urn:om2:conversion:degree:radian</td><td>oneEquals</td><td>1.745329e-2<span style=\"opacity:0.6;\">^^http://www.w3.org/2001/XMLSchema#float</span></td><td>57.2957795<span style=\"opacity:0.6;\">^^http://www.w3.org/2001/XMLSchema#double</span></td><td>oneEquals</td><td rowspan=\"1\">urn:sweet3:conversion:degrees:radian</td></tr><tr><td rowspan=\"1\">urn:om2:conversion:second-Time:week</td><td>oneEquals</td><td>1.6534392E-6<span style=\"opacity:0.6;\">^^http://www.w3.org/2001/XMLSchema#float</span></td><td>1.6534391534391535E-6<span style=\"opacity:0.6;\">^^http://www.w3.org/2001/XMLSchema#double</span></td><td>oneEquals</td><td rowspan=\"1\">urn:sweet3:conversion:second:week</td></tr><tr><td rowspan=\"1\">urn:om2:conversion:second-Time:year</td><td>oneEquals</td><td>3.1709792E-8<span style=\"opacity:0.6;\">^^http://www.w3.org/2001/XMLSchema#float</span></td><td>3.168876461541279E-8<span style=\"opacity:0.6;\">^^http://www.w3.org/2001/XMLSchema#double</span></td><td>oneEquals</td><td rowspan=\"1\">urn:sweet3:conversion:second:year</td></tr></table>"
      ],
      "text/plain": [
       "<IPython.core.display.HTML object>"
      ]
     },
     "metadata": {},
     "output_type": "display_data"
    }
   ],
   "source": [
    "execution.deviations()"
   ]
  },
  {
   "cell_type": "code",
   "execution_count": 20,
   "metadata": {},
   "outputs": [
    {
     "data": {
      "text/html": [
       "<h2>Issue Report</h2>"
      ],
      "text/plain": [
       "<IPython.core.display.HTML object>"
      ]
     },
     "metadata": {},
     "output_type": "display_data"
    }
   ],
   "source": [
    "execution.issues()"
   ]
  },
  {
   "cell_type": "markdown",
   "metadata": {},
   "source": [
    "## Stop Background Service\n",
    "\n",
    "Finally, we stop the ABECTO background service."
   ]
  },
  {
   "cell_type": "code",
   "execution_count": 21,
   "metadata": {},
   "outputs": [],
   "source": [
    "abecto.stop()"
   ]
  }
 ],
 "metadata": {
  "kernelspec": {
   "display_name": "Python 3",
   "language": "python",
   "name": "python3"
  },
  "language_info": {
   "codemirror_mode": {
    "name": "ipython",
    "version": 3
   },
   "file_extension": ".py",
   "mimetype": "text/x-python",
   "name": "python",
   "nbconvert_exporter": "python",
   "pygments_lexer": "ipython3",
   "version": "3.7.3"
  }
 },
 "nbformat": 4,
 "nbformat_minor": 4
}
