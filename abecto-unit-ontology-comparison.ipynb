{
 "cells": [
  {
   "cell_type": "markdown",
   "metadata": {},
   "source": [
    "#  Unit Ontology Comparison and Evaluation with ABECTO\n",
    "\n",
    "This is a project to compare and evaluate unit ontologies using  [ABECTO](https://github.com/fusion-jena/abecto)."
   ]
  },
  {
   "cell_type": "markdown",
   "metadata": {},
   "source": [
    "## Preparation\n",
    "First, we start the ABECTO background service. **This might take a few seconds.**"
   ]
  },
  {
   "cell_type": "code",
   "execution_count": 1,
   "metadata": {},
   "outputs": [],
   "source": [
    "from abecto.abecto import *\n",
    "abecto = Abecto(\"abecto/target/abecto.jar\", port = 8080) if 'abecto' not in locals() else abecto\n",
    "abecto.start()"
   ]
  },
  {
   "cell_type": "markdown",
   "metadata": {},
   "source": [
    "## Load Ontologies\n",
    "\n",
    "We are going to comprate the Ontologies [OM 2](https://github.com/HajoRijgersberg/OM), [QUDT 2](http://qudt.org/), and [SWEET 3](https://github.com/ESIPFed/sweet). We directly load them into ABECTO using their URLs."
   ]
  },
  {
   "cell_type": "code",
   "execution_count": 2,
   "metadata": {},
   "outputs": [],
   "source": [
    "project = abecto.project(\"Unit Ontologies\")\n",
    "om2 = project.ontology(\"OM 2\")\n",
    "qudt2 = project.ontology(\"QUDT 2\")\n",
    "sweet3 = project.ontology(\"SWEET 3\")\n",
    "\n",
    "# om2source = om2.source(\"UrlSourceProcessor\",{\"url\":\"http://www.ontology-of-units-of-measure.org/data/om-2.ttl\"}).load()\n",
    "# use latest version\n",
    "om2source = om2.source(\"UrlSourceProcessor\",{\"url\":\"https://raw.githubusercontent.com/HajoRijgersberg/OM/master/om-2.0.rdf\"}).load()\n",
    "\n",
    "qudt2qudt = qudt2.source(\"UrlSourceProcessor\",{\"url\":\"http://qudt.org/2.1/schema/qudt\"}).load()\n",
    "qudt2datatype = qudt2.source(\"UrlSourceProcessor\",{\"url\":\"http://qudt.org/2.1/schema/datatype\"}).load()\n",
    "qudt2constant = qudt2.source(\"UrlSourceProcessor\",{\"url\":\"http://qudt.org/2.1/vocab/constant\"}).load()\n",
    "qudt2discipline = qudt2.source(\"UrlSourceProcessor\",{\"url\":\"http://qudt.org/2.1/vocab/discipline\"}).load()\n",
    "qudt2dimensionvector = qudt2.source(\"UrlSourceProcessor\",{\"url\":\"http://qudt.org/2.1/vocab/dimensionvector\"}).load()\n",
    "qudt2quantitykind = qudt2.source(\"UrlSourceProcessor\",{\"url\":\"http://qudt.org/2.1/vocab/quantitykind\"}).load()\n",
    "qudt2suo = qudt2.source(\"UrlSourceProcessor\",{\"url\":\"http://qudt.org/2.1/vocab/sou\"}).load()\n",
    "qudt2unit = qudt2.source(\"UrlSourceProcessor\",{\"url\":\"http://qudt.org/2.1/vocab/unit\"}).load()\n",
    "#qudt2dimensionalunit = qudt2.source(\"UrlSourceProcessor\",{\"url\":\"http://qudt.org/2.0/vocab/dimensionalunit\"}).load()\n",
    "qudtAll = (qudt2qudt + qudt2datatype + qudt2constant + qudt2discipline + qudt2dimensionvector + qudt2quantitykind + qudt2suo + qudt2unit)\n",
    "\n",
    "sweet3Units = sweet3.source(\"UrlSourceProcessor\",{\"url\":\"http://sweetontology.net/reprSciUnits\"}).load()"
   ]
  },
  {
   "cell_type": "markdown",
   "metadata": {},
   "source": [
    "## Prepare Comparison of Unit Conversions\n",
    "\n",
    "One important aspect of unit ontologies are the conversion specifications. As the ontologies model them in very different ways, we generate an unified representation of the contained conversions using SPARQL CONSTRUCT queries."
   ]
  },
  {
   "cell_type": "code",
   "execution_count": 4,
   "metadata": {},
   "outputs": [],
   "source": [
    "om2conversions = om2source.into(\"SparqlConstructProcessor\", {\"query\":\"\"\"\n",
    "PREFIX om: <http://www.ontology-of-units-of-measure.org/resource/om-2/>\n",
    "CONSTRUCT {\n",
    "    ?conversion <urn:conversion:unit> ?unit ;\n",
    "                <urn:conversion:oneEquals> ?oneEquals ;\n",
    "                <urn:conversion:zeroAt> ?zeroAt ;\n",
    "                <urn:conversion:referenceUnit> ?referenceUnit .\n",
    "} WHERE {\n",
    "    {\n",
    "        # direct conversion\n",
    "        ?unit om:hasUnit ?referenceUnit ;\n",
    "              om:hasFactor ?oneEquals .\n",
    "        BIND( IRI(CONCAT(\"urn:om2:conversion:\", REPLACE(STR(?unit),\".*/\",\"\"), \":\", REPLACE(STR(?referenceUnit),\".*/\",\"\") )) AS ?conversion)\n",
    "        FILTER (STR(?unit) < STR(?referenceUnit))\n",
    "    } UNION {\n",
    "        # reverse direct conversion\n",
    "        ?referenceUnit om:hasUnit ?unit ;\n",
    "                       om:hasFactor ?inverseOneEquals .\n",
    "        BIND(1/?inverseOneEquals AS ?oneEquals)\n",
    "        BIND(IRI(CONCAT(\"urn:om2:conversion:\", REPLACE(STR(?unit),\".*/\",\"\"), \":\", REPLACE(STR(?referenceUnit),\".*/\",\"\") )) AS ?conversion)\n",
    "        FILTER (STR(?unit) < STR(?referenceUnit))\n",
    "    } UNION {\n",
    "        # conversion by prefix\n",
    "        ?unit om:hasUnit ?referenceUnit ;\n",
    "              om:hasPrefix/om:hasFactor ?oneEquals .\n",
    "        BIND(0 AS ?zeroAt)\n",
    "        BIND(IRI(CONCAT(\"urn:om2:conversion:\", REPLACE(STR(?unit),\".*/\",\"\"), \":\", REPLACE(STR(?referenceUnit),\".*/\",\"\") )) AS ?conversion)\n",
    "        FILTER (STR(?unit) < STR(?referenceUnit))\n",
    "    } UNION {\n",
    "        # reverse conversion by prefix\n",
    "        ?referenceUnit om:hasUnit ?unit ;\n",
    "                       om:hasPrefix/om:hasFactor ?inverseOneEquals .\n",
    "        BIND(1/?inverseOneEquals AS ?oneEquals)\n",
    "        BIND(0 AS ?zeroAt )\n",
    "        BIND(IRI(CONCAT(\"urn:om2:conversion:\", REPLACE(STR(?unit),\".*/\",\"\"), \":\", REPLACE(STR(?referenceUnit),\".*/\",\"\") )) AS ?conversion)\n",
    "        FILTER (STR(?unit) < STR(?referenceUnit))\n",
    "    } UNION {\n",
    "        # conversion by scale\n",
    "        [] om:hasUnit ?unit ;\n",
    "           om:hasScale/om:hasUnit ?referenceUnit ;\n",
    "           om:hasFactor ?inverseOneEquals ;\n",
    "           om:hasOff-Set ?inverseZeroAt ;\n",
    "        BIND(-1*?inverseZeroAt/?oneEquals AS ?zeroAt)\n",
    "        BIND(1/?inverseOneEquals AS ?oneEquals)\n",
    "        BIND(IRI(CONCAT(\"urn:om2:conversion:\", REPLACE(STR(?unit),\".*/\",\"\"), \":\", REPLACE(STR(?referenceUnit),\".*/\",\"\") )) AS ?conversion)\n",
    "        FILTER (STR(?unit) < STR(?referenceUnit))\n",
    "    } UNION {\n",
    "        # reverse conversion by scale\n",
    "        [] om:hasUnit ?referenceUnit ;\n",
    "           om:hasScale/om:hasUnit ?unit ;\n",
    "           om:hasFactor ?oneEquals ;\n",
    "           om:hasOff-Set ?zeroAt ;\n",
    "        BIND(IRI(CONCAT(\"urn:om2:conversion:\", REPLACE(STR(?unit),\".*/\",\"\"), \":\", REPLACE(STR(?referenceUnit),\".*/\",\"\") )) AS ?conversion)\n",
    "        FILTER (STR(?unit) < STR(?referenceUnit))\n",
    "    }\n",
    "}\n",
    "\"\"\"})"
   ]
  },
  {
   "cell_type": "code",
   "execution_count": 5,
   "metadata": {},
   "outputs": [],
   "source": [
    "qudt2conversions = qudtAll.into(\"SparqlConstructProcessor\", {\"query\":\"\"\"\n",
    "PREFIX qudt: <http://qudt.org/schema/qudt/>\n",
    "CONSTRUCT {\n",
    "    ?conversion <urn:conversion:unit> ?unit ;\n",
    "                <urn:conversion:oneEquals> ?oneEquals ;\n",
    "                <urn:conversion:zeroAt> ?zeroAt ;\n",
    "                <urn:conversion:referenceUnit> ?referenceUnit .\n",
    "} WHERE {\n",
    "    ?unit qudt:hasQuantityKind/^qudt:hasQuantityKind ?referenceUnit .\n",
    "    BIND( IRI(CONCAT(\"urn:qudt2:conversion:\", REPLACE(STR(?unit),\".*/\",\"\"), \":\", REPLACE(STR(?referenceUnit),\".*/\",\"\") )) AS ?conversion)\n",
    "    ?unit qudt:conversionMultiplier ?factor1 .\n",
    "    ?unit qudt:conversionOffset ?offset1 .\n",
    "    ?referenceUnit qudt:conversionMultiplier ?factor2 .\n",
    "    ?referenceUnit qudt:conversionOffset ?offset2 .\n",
    "    BIND(?factor1/?factor2 AS ?oneEquals)\n",
    "    BIND((?offset1-?offset2)*?factor2 AS ?zeroAt)\n",
    "    FILTER (STR(?unit) < STR(?referenceUnit))\n",
    "}\n",
    "\"\"\"})"
   ]
  },
  {
   "cell_type": "code",
   "execution_count": 6,
   "metadata": {},
   "outputs": [],
   "source": [
    "sweet3conversions = sweet3Units.into(\"SparqlConstructProcessor\", {\"query\":\"\"\"\n",
    "PREFIX sorelm: <http://sweetontology.net/relaMath/>\n",
    "PREFIX sorelsc: <http://sweetontology.net/relaSci/>\n",
    "CONSTRUCT {\n",
    "    ?conversion <urn:conversion:unit> ?unit ;\n",
    "                <urn:conversion:oneEquals> ?oneEquals ;\n",
    "                <urn:conversion:zeroAt> ?zeroAt ;\n",
    "                <urn:conversion:referenceUnit> ?referenceUnit .\n",
    "} WHERE {\n",
    "    { \n",
    "        ?unit sorelsc:hasBaseUnit ?referenceUnit .\n",
    "        OPTIONAL { ?unit sorelm:hasScalingNumber ?oneEquals }\n",
    "        OPTIONAL { ?unit sorelm:hasShiftingNumber ?zeroAt }\n",
    "        FILTER (BOUND(?oneEquals) || BOUND(?zeroAt) )\n",
    "        BIND( IRI(CONCAT(\"urn:sweet3:conversion:\", REPLACE(STR(?unit),\".*/\",\"\"), \":\", REPLACE(STR(?referenceUnit),\".*/\",\"\") )) AS ?conversion)\n",
    "        FILTER (STR(?unit) < STR(?referenceUnit))\n",
    "    } UNION {\n",
    "        ?referenceUnit sorelsc:hasBaseUnit ?unit .\n",
    "        OPTIONAL { ?referenceUnit sorelm:hasScalingNumber ?inverseOneEquals }\n",
    "        OPTIONAL { ?referenceUnit sorelm:hasShiftingNumber ?inverseZeroAt }\n",
    "        FILTER (BOUND(?inverseOneEquals) || BOUND(?inverseZeroAt) )\n",
    "        BIND(COALESCE(1/?inverseOneEquals, 1) AS ?oneEquals)\n",
    "        BIND(COALESCE(-1*?inverseZeroAt/?inverseOneEquals, -1*?inverseZeroAt ) AS ?zeroAt)\n",
    "        BIND( IRI(CONCAT(\"urn:sweet3:conversion:\", REPLACE(STR(?unit),\".*/\",\"\"), \":\", REPLACE(STR(?referenceUnit),\".*/\",\"\") )) AS ?conversion)\n",
    "        FILTER (STR(?unit) < STR(?referenceUnit))\n",
    "    }\n",
    "}\n",
    "\"\"\"})"
   ]
  },
  {
   "cell_type": "markdown",
   "metadata": {},
   "source": [
    "To increase the chance to find wrong values, we derive implicit conversions for OM 2 and SWEET 3. Due to the modeling approach, this is not required for QUDT 2."
   ]
  },
  {
   "cell_type": "code",
   "execution_count": 7,
   "metadata": {},
   "outputs": [],
   "source": [
    "om2conversionsTransitive = om2conversions.into(\"SparqlConstructProcessor\", {\"query\":\"\"\"\n",
    "PREFIX : <urn:conversion:>\n",
    "CONSTRUCT {\n",
    "    ?conversion :unit ?unit ;\n",
    "                :oneEquals ?oneEquals ;\n",
    "                :zeroAt ?zeroAt ;\n",
    "                :referenceUnit ?referenceUnit .\n",
    "} WHERE {\n",
    "    {\n",
    "        [] :unit ?unit ;\n",
    "           :oneEquals ?oneEquals1 ;\n",
    "           :zeroAt ?zeroAt1 ;\n",
    "           :referenceUnit ?betweenUnit .\n",
    "        [] :unit ?betweenUnit ;\n",
    "           :oneEquals ?oneEquals2 ;\n",
    "           :zeroAt ?zeroAt2 ;\n",
    "           :referenceUnit ?referenceUnit .\n",
    "        FILTER NOT EXISTS { [] :unit ?unit ;\n",
    "                               :referenceUnit ?referenceUnit . }\n",
    "        BIND(?oneEquals1*?oneEquals2 AS ?oneEquals)\n",
    "        BIND(?zeroAt1/?oneEquals2+?zeroAt2 AS ?zeroAt)\n",
    "    } UNION {\n",
    "        [] :unit ?unit ;\n",
    "           :oneEquals ?oneEquals1 ;\n",
    "           :zeroAt ?zeroAt1 ;\n",
    "           :referenceUnit ?betweenUnit .\n",
    "        [] :unit ?referenceUnit ;\n",
    "           :oneEquals ?oneEquals2 ;\n",
    "           :zeroAt ?zeroAt2 ;\n",
    "           :referenceUnit ?betweenUnit .\n",
    "        FILTER NOT EXISTS { [] :unit ?unit ;\n",
    "                               :referenceUnit ?referenceUnit . }\n",
    "        BIND(?oneEquals1/?oneEquals2 AS ?oneEquals)\n",
    "        BIND(?zeroAt1*?oneEquals2-?zeroAt2 AS ?zeroAt)\n",
    "    } UNION {\n",
    "        [] :unit ?betweenUnit ;\n",
    "           :oneEquals ?oneEquals1 ;\n",
    "           :zeroAt ?zeroAt1 ;\n",
    "           :referenceUnit ?unit .\n",
    "        [] :unit ?betweenUnit ;\n",
    "           :oneEquals ?oneEquals2 ;\n",
    "           :zeroAt ?zeroAt2 ;\n",
    "           :referenceUnit ?referenceUnit .\n",
    "        FILTER NOT EXISTS { [] :unit ?unit ;\n",
    "                               :referenceUnit ?referenceUnit . }\n",
    "        BIND(?oneEquals2/?oneEquals1 AS ?oneEquals)\n",
    "        BIND(?zeroAt2-?zeroAt1/?oneEquals2 AS ?zeroAt)\n",
    "    }\n",
    "    BIND( IRI(CONCAT(\"urn:om2:conversion:\", REPLACE(STR(?unit),\".*/\",\"\"), \":\", REPLACE(STR(?referenceUnit),\".*/\",\"\") )) AS ?conversion)\n",
    "    FILTER (STR(?unit) < STR(?referenceUnit))\n",
    "}\n",
    "\"\"\", \"maxIterations\": 3})"
   ]
  },
  {
   "cell_type": "code",
   "execution_count": 8,
   "metadata": {},
   "outputs": [],
   "source": [
    "sweet3conversionsTransitive = sweet3conversions.into(\"SparqlConstructProcessor\", {\"query\":\"\"\"\n",
    "PREFIX : <urn:conversion:>\n",
    "CONSTRUCT {\n",
    "    ?conversion :unit ?unit ;\n",
    "                :oneEquals ?oneEquals ;\n",
    "                :zeroAt ?zeroAt ;\n",
    "                :referenceUnit ?referenceUnit .\n",
    "} WHERE {\n",
    "    {\n",
    "        [] :unit ?unit ;\n",
    "           :oneEquals ?oneEquals1 ;\n",
    "           :zeroAt ?zeroAt1 ;\n",
    "           :referenceUnit ?betweenUnit .\n",
    "        [] :unit ?betweenUnit ;\n",
    "           :oneEquals ?oneEquals2 ;\n",
    "           :zeroAt ?zeroAt2 ;\n",
    "           :referenceUnit ?referenceUnit .\n",
    "        FILTER NOT EXISTS { [] :unit ?unit ;\n",
    "                               :referenceUnit ?referenceUnit . }\n",
    "        BIND(?oneEquals1/?oneEquals2 AS ?oneEquals)\n",
    "        BIND(?zeroAt1/?oneEquals2+?zeroAt2 AS ?zeroAt)\n",
    "    } UNION {\n",
    "        [] :unit ?betweenUnit ;\n",
    "           :oneEquals ?oneEquals1 ;\n",
    "           :zeroAt ?zeroAt1 ;\n",
    "           :referenceUnit ?unit .\n",
    "        [] :unit ?betweenUnit ;\n",
    "           :oneEquals ?oneEquals2 ;\n",
    "           :zeroAt ?zeroAt2 ;\n",
    "           :referenceUnit ?referenceUnit .\n",
    "        FILTER NOT EXISTS { [] :unit ?unit ;\n",
    "                               :referenceUnit ?referenceUnit . }\n",
    "        BIND(1/?oneEquals1/?oneEquals2 AS ?oneEquals)\n",
    "        BIND(-1*?zeroAt1/?oneEquals2+?zeroAt2 AS ?zeroAt)\n",
    "    } UNION {\n",
    "        [] :unit ?unit ;\n",
    "           :oneEquals ?oneEquals1 ;\n",
    "           :zeroAt ?zeroAt1 ;\n",
    "           :referenceUnit ?betweenUnit .\n",
    "        [] :unit ?referenceUnit ;\n",
    "           :oneEquals ?oneEquals2 ;\n",
    "           :zeroAt ?zeroAt2 ;\n",
    "           :referenceUnit ?betweenUnit .\n",
    "        FILTER NOT EXISTS { [] :unit ?unit ;\n",
    "                               :referenceUnit ?referenceUnit . }\n",
    "        BIND(?oneEquals1*?oneEquals2 AS ?oneEquals)\n",
    "        BIND(?zeroAt1*?oneEquals2-?zeroAt2 AS ?zeroAt)\n",
    "    }\n",
    "    BIND( IRI(CONCAT(\"urn:sweet3:conversion:\", REPLACE(STR(?unit),\".*/\",\"\"), \":\", REPLACE(STR(?referenceUnit),\".*/\",\"\") )) AS ?conversion)\n",
    "    FILTER (STR(?unit) < STR(?referenceUnit))\n",
    "}\n",
    "\"\"\", \"maxIterations\": 3})"
   ]
  },
  {
   "cell_type": "markdown",
   "metadata": {},
   "source": [
    "## Define Categories\n",
    "\n",
    "Now, we define patterns for the the categories we want to compare."
   ]
  },
  {
   "cell_type": "code",
   "execution_count": 10,
   "metadata": {},
   "outputs": [],
   "source": [
    "om2Categories = om2conversionsTransitive.into(\"ManualCategoryProcessor\", {})\n",
    "qudt2Categories = qudt2conversions.into(\"ManualCategoryProcessor\", {})\n",
    "sweet3Categories = sweet3conversionsTransitive.into(\"ManualCategoryProcessor\", {})"
   ]
  },
  {
   "cell_type": "code",
   "execution_count": 11,
   "metadata": {},
   "outputs": [],
   "source": [
    "om2Categories.setParameter(\"patterns\",{\n",
    "\"unit\": \"\"\"\n",
    "    {\n",
    "        ?unit rdf:type/rdfs:subClassOf* <http://www.ontology-of-units-of-measure.org/resource/om-2/Unit> .\n",
    "        OPTIONAL { ?unit <http://www.w3.org/2000/01/rdf-schema#label>  ?label }\n",
    "        OPTIONAL { ?unit <http://www.ontology-of-units-of-measure.org/resource/om-2/symbol> ?symbol }\n",
    "        OPTIONAL { ?unit <http://www.w3.org/2000/01/rdf-schema#comment> ?definition }\n",
    "        OPTIONAL { ?unit ^<http://www.ontology-of-units-of-measure.org/resource/om-2/commonlyHasUnit> ?quantityKind }\n",
    "    }\n",
    "\"\"\",\"conversion\": \"\"\"\n",
    "    {\n",
    "        ?conversion <urn:conversion:unit> ?unit ;\n",
    "                    <urn:conversion:referenceUnit> ?referenceUnit .\n",
    "        OPTIONAL { ?conversion <urn:conversion:zeroAt> ?zeroAt .}\n",
    "        OPTIONAL { ?conversion <urn:conversion:oneEquals> ?oneEquals .}\n",
    "    }\n",
    "\"\"\",\"quantityKind\": \"\"\"\n",
    "    {\n",
    "        ?quantityKind\n",
    "            rdfs:subClassOf\n",
    "                <http://www.ontology-of-units-of-measure.org/resource/om-2/Quantity> ;\n",
    "            rdfs:label\n",
    "                ?label ;\n",
    "            <http://www.ontology-of-units-of-measure.org/resource/om-2/symbol>\n",
    "                ?symbol .\n",
    "        OPTIONAL {\n",
    "            ?quantityKind \n",
    "                rdfs:subClassOf [\n",
    "                    rdf:type owl:Restriction ;\n",
    "                    owl:onProperty <http://www.ontology-of-units-of-measure.org/resource/om-2/hasDimension> ;\n",
    "                    owl:hasValue ?dimensionVector\n",
    "                ] .\n",
    "        }\n",
    "    }\n",
    "\"\"\",\"dimensionVector\": \"\"\"\n",
    "    {\n",
    "        ?dimensionVector\n",
    "            rdf:type\n",
    "                <http://www.ontology-of-units-of-measure.org/resource/om-2/Dimension> ;\n",
    "            <http://www.ontology-of-units-of-measure.org/resource/om-2/hasSIAmountOfSubstanceDimensionExponent>\n",
    "                ?amountOfSubstanceExponent ;\n",
    "            <http://www.ontology-of-units-of-measure.org/resource/om-2/hasSIElectricCurrentDimensionExponent>\n",
    "                ?electricCurrentExponent ;\n",
    "            <http://www.ontology-of-units-of-measure.org/resource/om-2/hasSILengthDimensionExponent>\n",
    "                ?lengthExponent ;\n",
    "            <http://www.ontology-of-units-of-measure.org/resource/om-2/hasSILuminousIntensityDimensionExponent>\n",
    "                ?luminousIntensityExponent ;\n",
    "            <http://www.ontology-of-units-of-measure.org/resource/om-2/hasSIMassDimensionExponent>\n",
    "                ?massExponent ;\n",
    "            <http://www.ontology-of-units-of-measure.org/resource/om-2/hasSIThermodynamicTemperatureDimensionExponent>\n",
    "                ?tempExponent ;\n",
    "            <http://www.ontology-of-units-of-measure.org/resource/om-2/hasSITimeDimensionExponent>\n",
    "                ?timeExponent .\n",
    "    }\n",
    "\"\"\"})"
   ]
  },
  {
   "cell_type": "code",
   "execution_count": 12,
   "metadata": {},
   "outputs": [],
   "source": [
    "qudt2Categories.setParameter(\"patterns\",{\n",
    "\"unit\": \"\"\"\n",
    "    {\n",
    "        ?unit rdf:type/rdfs:subClassOf* <http://qudt.org/schema/qudt/Unit> .\n",
    "        OPTIONAL { ?unit <http://qudt.org/schema/qudt/description> ?definition }\n",
    "        OPTIONAL { ?unit <http://qudt.org/schema/qudt/symbol> ?symbol }\n",
    "        OPTIONAL { ?unit rdfs:label|skos:prefLabel|skos:altLabel ?label }\n",
    "        OPTIONAL { ?unit <http://qudt.org/schema/qudt/hasQuantityKind> ?quantityKind }\n",
    "    }\n",
    "\"\"\",\"conversion\": \"\"\"\n",
    "    {\n",
    "        ?conversion <urn:conversion:unit> ?unit ;\n",
    "                    <urn:conversion:referenceUnit> ?referenceUnit .\n",
    "        OPTIONAL { ?conversion <urn:conversion:zeroAt> ?zeroAt .}\n",
    "        OPTIONAL { ?conversion <urn:conversion:oneEquals> ?oneEquals .}\n",
    "    }\n",
    "\"\"\",\"quantityKind\": \"\"\"\n",
    "    {\n",
    "        ?quantityKind rdf:type <http://qudt.org/schema/qudt/QuantityKind> ;\n",
    "                      rdfs:label ?label ;\n",
    "                      <http://qudt.org/schema/qudt/symbol> ?symbol ;\n",
    "                      <http://qudt.org/schema/qudt/hasDimensionVector> ?dimensionVector\n",
    "    }\n",
    "\"\"\",\"dimensionVector\": \"\"\"\n",
    "    {\n",
    "        ?dimensionVector rdf:type/rdfs:subClassOf* <http://qudt.org/schema/qudt/QuantityKindDimensionVector> ;\n",
    "                         <http://qudt.org/schema/qudt/dimensionExponentForAmountOfSubstance>        ?amountOfSubstanceExponent ; \n",
    "                         <http://qudt.org/schema/qudt/dimensionExponentForElectricCurrent>          ?electricCurrentExponent ;\n",
    "                         <http://qudt.org/schema/qudt/dimensionExponentForLength>                   ?lengthExponent ;\n",
    "                         <http://qudt.org/schema/qudt/dimensionExponentForLuminousIntensity>        ?luminousIntensityExponent ;\n",
    "                         <http://qudt.org/schema/qudt/dimensionExponentForMass>                     ?massExponent ;\n",
    "                         <http://qudt.org/schema/qudt/dimensionExponentForThermodynamicTemperature> ?tempExponent ;\n",
    "                         <http://qudt.org/schema/qudt/dimensionExponentForTime>                     ?timeExponent ;\n",
    "                         <http://qudt.org/schema/qudt/dimensionlessExponent>                        ?dimensionlessExponent .\n",
    "    }\n",
    "\"\"\"})"
   ]
  },
  {
   "cell_type": "code",
   "execution_count": 13,
   "metadata": {},
   "outputs": [],
   "source": [
    "sweet3Categories.setParameter(\"patterns\",{\n",
    "\"unit\": \"\"\"\n",
    "    {\n",
    "        ?unit rdf:type/rdfs:subClassOf* <http://sweetontology.net/reprSciUnits/Unit> .\n",
    "        OPTIONAL { ?unit <http://www.w3.org/2000/01/rdf-schema#label>  ?label }\n",
    "        OPTIONAL { ?unit <http://sweetontology.net/relaSci/hasSymbol> ?symbol }\n",
    "    }\n",
    "\"\"\",\"conversion\": \"\"\"\n",
    "    {\n",
    "        ?conversion <urn:conversion:unit> ?unit ;\n",
    "                    <urn:conversion:referenceUnit> ?referenceUnit .\n",
    "        OPTIONAL { ?conversion <urn:conversion:zeroAt> ?zeroAt .}\n",
    "        OPTIONAL { ?conversion <urn:conversion:oneEquals> ?oneEquals .}\n",
    "    }\n",
    "\"\"\"})"
   ]
  },
  {
   "cell_type": "markdown",
   "metadata": {},
   "source": [
    "## Mapping\n",
    "\n",
    "An comparison requires a mapping of the resources in the ontologies. We use the Jaro Winkler Similarity of the labels to map the units. The conversions will then be mapped based on the related units."
   ]
  },
  {
   "cell_type": "code",
   "execution_count": 14,
   "metadata": {},
   "outputs": [],
   "source": [
    "manualMapping = (om2Categories + qudt2Categories + sweet3Categories).into(\"ManualMappingProcessor\",{\n",
    "    \"suppressed_mappings\": [\n",
    "        [\"http://qudt.org/vocab/unit/MegaA\", \"http://www.ontology-of-units-of-measure.org/resource/om-2/exaampere\"],\n",
    "        [\"http://qudt.org/vocab/unit/A_Ab\", \"http://www.ontology-of-units-of-measure.org/resource/om-2/ampere\"],\n",
    "        [\"http://qudt.org/vocab/unit/A_Ab\", \"http://sweetontology.net/reprSciUnits/ampere\"],\n",
    "        [\"http://qudt.org/vocab/unit/C_Ab\", \"http://sweetontology.net/reprSciUnits/coulomb\"]\n",
    "    ]})\n",
    "presentMapping = manualMapping.into(\"UsePresentMappingProcessor\", {\n",
    "    \"assignmentPaths\": [\"<http://qudt.org/schema/qudt/omUnit>\",\"owl:sameAs\"]})\n",
    "labelMapping = presentMapping.into(\"JaroWinklerMappingProcessor\", {\n",
    "    \"threshold\": 0.8,\n",
    "    \"case_sensitive\": False,\n",
    "    \"category\": \"unit\",\n",
    "    \"variables\": [\"label\"]})\n",
    "transitiveMapping = labelMapping.into(\"TransitiveMappingProcessor\")\n",
    "mapping = transitiveMapping.into(\"RelationalMappingProcessor\", {\n",
    "    \"category\": \"conversion\",\n",
    "    \"variables\": [\"unit\",\"referenceUnit\"]})"
   ]
  },
  {
   "cell_type": "markdown",
   "metadata": {},
   "source": [
    "## Comparison\n",
    "\n",
    "Now the ontologies can be compared:\n",
    "* We generate statistics of the number of resources and properties per category.\n",
    "* We search for deviating property values of mapped resources."
   ]
  },
  {
   "cell_type": "code",
   "execution_count": 15,
   "metadata": {},
   "outputs": [],
   "source": [
    "counts = mapping.into(\"CategoryCountProcessor\")\n",
    "valueDeviations = mapping.into(\"LiteralDeviationProcessor\", {\"variables\": {\"unit\": [\"symbol\"], \n",
    "                                                                           \"conversion\" : [\"oneEquals\", \"zeroAt\"], \n",
    "                                                                           \"dimensionVector\": [\"timeExponent\", \"luminousIntensityExponent\", \"dimensionlessExponent\", \"amountOfSubstanceExponent\", \"electricCurrentExponent\", \"tempExponent\", \"massExponent\", \"lengthExponent\"] }})\n",
    "completeness = mapping.into(\"CompletenessProcessor\",{\"omission\":[\"dimensionVector\", \"quantityKind\", \"quantityKind\", \"unit\"]})"
   ]
  },
  {
   "cell_type": "markdown",
   "metadata": {},
   "source": [
    "## Execution\n",
    "\n",
    "The comparison pipeline is now reade to be executed. Depending on the available computing power **this might take a few minutes**."
   ]
  },
  {
   "cell_type": "code",
   "execution_count": 16,
   "metadata": {},
   "outputs": [],
   "source": [
    "execution = project.runAndAwait()"
   ]
  },
  {
   "cell_type": "markdown",
   "metadata": {},
   "source": [
    "## Reporting\n",
    "\n",
    "After the pipeline execution succeeded, we display the comparison results."
   ]
  },
  {
   "cell_type": "code",
   "execution_count": 17,
   "metadata": {},
   "outputs": [
    {
     "data": {
      "text/html": [
       "<table><tr><th>Ontology</th><th>Processor</th><th>Parameter</th><th>Loading DateTime</th><th>Ontology IRI</th><th>Ontology Version</th><th>Ontology Date</th><th>Ontology Version IRI</th></tr><tr><td rowspan=\"1\">OM 2</td><td>UrlSourceProcessor</td><td>\"url\":\"https://raw.githubusercontent.com/HajoRijgersberg/OM/master/om-2.0.rdf\"</td><td>2020-09-01T22:01:17+02:00</td><td>http://www.ontology-of-units-of-measure.org/resource/om-2/</td><td>2.0.24</td><td>2020/08/28</td><td></td></tr><tr><td rowspan=\"8\">QUDT 2</td><td>UrlSourceProcessor</td><td>\"url\":\"http://qudt.org/2.1/vocab/unit\"</td><td>2020-09-01T22:01:30+02:00</td><td>http://qudt.org/2.1/vocab/unit</td><td></td><td></td><td>http://qudt.org/2.1/vocab/unit</td></tr><tr><td>UrlSourceProcessor</td><td>\"url\":\"http://qudt.org/2.1/schema/datatype\"</td><td>2020-09-01T22:01:22+02:00</td><td>http://qudt.org/2.1/schema/datatype</td><td></td><td></td><td></td></tr><tr><td>UrlSourceProcessor</td><td>\"url\":\"http://qudt.org/2.1/vocab/discipline\"</td><td>2020-09-01T22:01:25+02:00</td><td>http://qudt.org/2.1/vocab/discipline</td><td></td><td></td><td>http://qudt.org/2.1/vocab/discipline</td></tr><tr><td>UrlSourceProcessor</td><td>\"url\":\"http://qudt.org/2.1/vocab/dimensionvector\"</td><td>2020-09-01T22:01:26+02:00</td><td>http://qudt.org/2.1/vocab/dimensionvector</td><td></td><td></td><td>http://qudt.org/2.1/vocab/dimensionvector</td></tr><tr><td>UrlSourceProcessor</td><td>\"url\":\"http://qudt.org/2.1/vocab/sou\"</td><td>2020-09-01T22:01:30+02:00</td><td>http://qudt.org/2.1/vocab/sou</td><td>Created with TopBraid Composer</td><td></td><td>http://qudt.org/2.1/vocab/sou</td></tr><tr><td>UrlSourceProcessor</td><td>\"url\":\"http://qudt.org/2.1/schema/qudt\"</td><td>2020-09-01T22:01:20+02:00</td><td>http://qudt.org/2.1/schema/qudt</td><td></td><td></td><td>http://qudt.org/2.1/schema/qudt</td></tr><tr><td>UrlSourceProcessor</td><td>\"url\":\"http://qudt.org/2.1/vocab/quantitykind\"</td><td>2020-09-01T22:01:27+02:00</td><td>http://qudt.org/2.1/vocab/quantitykind</td><td></td><td></td><td>http://qudt.org/2.1/vocab/quantitykind</td></tr><tr><td>UrlSourceProcessor</td><td>\"url\":\"http://qudt.org/2.1/vocab/constant\"</td><td>2020-09-01T22:01:24+02:00</td><td>http://qudt.org/2.1/vocab/constant</td><td></td><td></td><td>http://qudt.org/2.1/vocab/constant</td></tr><tr><td rowspan=\"1\">SWEET 3</td><td>UrlSourceProcessor</td><td>\"url\":\"http://sweetontology.net/reprSciUnits\"</td><td>2020-09-01T22:01:35+02:00</td><td>http://sweetontology.net/reprSciUnits</td><td>3.5.0</td><td></td><td></td></tr></table>"
      ],
      "text/plain": [
       "<IPython.core.display.HTML object>"
      ]
     },
     "metadata": {},
     "output_type": "display_data"
    }
   ],
   "source": [
    "execution.metadata()"
   ]
  },
  {
   "cell_type": "code",
   "execution_count": 18,
   "metadata": {},
   "outputs": [
    {
     "data": {
      "text/html": [
       "<h1>Category Count</h1><table><tr><th>Category</th><th>Variable</th><th>OM 2</th><th>QUDT 2</th><th>SWEET 3</th></tr><tr><td>conversion</td><td></td><td>6544</td><td>11724</td><td>37</td></tr><tr><td>conversion</td><td>oneEquals</td><td>6548</td><td>11724</td><td>36</td></tr><tr><td>conversion</td><td>referenceUnit</td><td>6544</td><td>11724</td><td>37</td></tr><tr><td>conversion</td><td>unit</td><td>6544</td><td>11724</td><td>37</td></tr><tr><td>conversion</td><td>zeroAt</td><td>6358</td><td>11724</td><td>2</td></tr><tr><td>dimensionVector</td><td></td><td>76</td><td>161</td><td></td></tr><tr><td>dimensionVector</td><td>amountOfSubstanceExponent</td><td>76</td><td>161</td><td></td></tr><tr><td>dimensionVector</td><td>dimensionlessExponent</td><td></td><td>161</td><td></td></tr><tr><td>dimensionVector</td><td>electricCurrentExponent</td><td>76</td><td>161</td><td></td></tr><tr><td>dimensionVector</td><td>lengthExponent</td><td>76</td><td>161</td><td></td></tr><tr><td>dimensionVector</td><td>luminousIntensityExponent</td><td>76</td><td>161</td><td></td></tr><tr><td>dimensionVector</td><td>massExponent</td><td>76</td><td>161</td><td></td></tr><tr><td>dimensionVector</td><td>tempExponent</td><td>76</td><td>161</td><td></td></tr><tr><td>dimensionVector</td><td>timeExponent</td><td>76</td><td>161</td><td></td></tr><tr><td>quantityKind</td><td></td><td>116</td><td>258</td><td></td></tr><tr><td>quantityKind</td><td>dimensionVector</td><td>98</td><td>258</td><td></td></tr><tr><td>quantityKind</td><td>label</td><td>202</td><td>258</td><td></td></tr><tr><td>quantityKind</td><td>symbol</td><td>116</td><td>263</td><td></td></tr><tr><td>unit</td><td></td><td>1413</td><td>1517</td><td>140</td></tr><tr><td>unit</td><td>definition</td><td>722</td><td>2</td><td></td></tr><tr><td>unit</td><td>label</td><td>2130</td><td>1545</td><td>140</td></tr><tr><td>unit</td><td>quantityKind</td><td>4081</td><td>1623</td><td></td></tr><tr><td>unit</td><td>symbol</td><td>1293</td><td>331</td><td>20</td></tr></table>"
      ],
      "text/plain": [
       "<IPython.core.display.HTML object>"
      ]
     },
     "metadata": {},
     "output_type": "display_data"
    },
    {
     "data": {
      "text/html": [
       "<h1>Coverage (absolute)</h1><table><tr><th>of category</th><th>in ontology</th><th>OM 2</th><th>QUDT 2</th><th>SWEET 3</th></tr><tr><td>conversion</td><td>OM 2</td><td></td><td>648</td><td>15</td></tr><tr><td>conversion</td><td>QUDT 2</td><td>652</td><td></td><td>19</td></tr><tr><td>conversion</td><td>SWEET 3</td><td>15</td><td>19</td><td></td></tr><tr><td>dimensionVector</td><td>OM 2</td><td></td><td>0</td><td></td></tr><tr><td>dimensionVector</td><td>QUDT 2</td><td>0</td><td></td><td></td></tr><tr><td>quantityKind</td><td>OM 2</td><td></td><td>0</td><td></td></tr><tr><td>quantityKind</td><td>QUDT 2</td><td>0</td><td></td><td></td></tr><tr><td>unit</td><td>OM 2</td><td></td><td>495</td><td>95</td></tr><tr><td>unit</td><td>QUDT 2</td><td>501</td><td></td><td>101</td></tr><tr><td>unit</td><td>SWEET 3</td><td>96</td><td>101</td><td></td></tr></table>"
      ],
      "text/plain": [
       "<IPython.core.display.HTML object>"
      ]
     },
     "metadata": {},
     "output_type": "display_data"
    },
    {
     "data": {
      "text/html": [
       "<h1>Coverage (relative in %)</h1><table><tr><th>of category</th><th>in ontology</th><th>OM 2</th><th>QUDT 2</th><th>SWEET 3</th></tr><tr><td>conversion</td><td>OM 2</td><td></td><td>9</td><td>0</td></tr><tr><td>conversion</td><td>QUDT 2</td><td>5</td><td></td><td>0</td></tr><tr><td>conversion</td><td>SWEET 3</td><td>40</td><td>51</td><td></td></tr><tr><td>dimensionVector</td><td>OM 2</td><td></td><td>0</td><td></td></tr><tr><td>dimensionVector</td><td>QUDT 2</td><td>0</td><td></td><td></td></tr><tr><td>quantityKind</td><td>OM 2</td><td></td><td>0</td><td></td></tr><tr><td>quantityKind</td><td>QUDT 2</td><td>0</td><td></td><td></td></tr><tr><td>unit</td><td>OM 2</td><td></td><td>35</td><td>6</td></tr><tr><td>unit</td><td>QUDT 2</td><td>33</td><td></td><td>6</td></tr><tr><td>unit</td><td>SWEET 3</td><td>68</td><td>72</td><td></td></tr></table>"
      ],
      "text/plain": [
       "<IPython.core.display.HTML object>"
      ]
     },
     "metadata": {},
     "output_type": "display_data"
    }
   ],
   "source": [
    "execution.measurements()"
   ]
  },
  {
   "cell_type": "code",
   "execution_count": 19,
   "metadata": {},
   "outputs": [
    {
     "data": {
      "text/html": [
       "<h2>Deviation Report</h2>"
      ],
      "text/plain": [
       "<IPython.core.display.HTML object>"
      ]
     },
     "metadata": {},
     "output_type": "display_data"
    },
    {
     "data": {
      "text/html": [
       "<h3>Category: unit</h3>"
      ],
      "text/plain": [
       "<IPython.core.display.HTML object>"
      ]
     },
     "metadata": {},
     "output_type": "display_data"
    },
    {
     "data": {
      "text/html": [
       "<table><tr><th style=\"text-align:center;\" colspan=\"3\">QUDT 2</th><th style=\"text-align:center;\" colspan=\"3\">SWEET 3</th></tr><tr><td rowspan=\"1\">http://qudt.org/vocab/unit/A</td><td>symbol</td><td>A</td><td>a</td><td>symbol</td><td rowspan=\"1\">http://sweetontology.net/reprSciUnits/ampere</td></tr><tr><td rowspan=\"1\">http://qudt.org/vocab/unit/LUX</td><td>symbol</td><td>lx</td><td>Lx</td><td>symbol</td><td rowspan=\"1\">http://sweetontology.net/reprSciUnits/lux</td></tr><tr><td rowspan=\"1\">http://qudt.org/vocab/unit/S</td><td>symbol</td><td>S</td><td>G</td><td>symbol</td><td rowspan=\"1\">http://sweetontology.net/reprSciUnits/siemens</td></tr></table>"
      ],
      "text/plain": [
       "<IPython.core.display.HTML object>"
      ]
     },
     "metadata": {},
     "output_type": "display_data"
    },
    {
     "data": {
      "text/html": [
       "<h3>Category: conversion</h3>"
      ],
      "text/plain": [
       "<IPython.core.display.HTML object>"
      ]
     },
     "metadata": {},
     "output_type": "display_data"
    },
    {
     "data": {
      "text/html": [
       "<table><tr><th style=\"text-align:center;\" colspan=\"3\">OM 2</th><th style=\"text-align:center;\" colspan=\"3\">QUDT 2</th></tr><tr><td rowspan=\"1\">urn:om2:conversion:acreFoot:cubicMetre</td><td>oneEquals</td><td>1.233489e3<span style=\"opacity:0.6;\">^^http://www.w3.org/2001/XMLSchema#float</span></td><td>1233.4818375475202e0<span style=\"opacity:0.6;\">^^http://www.w3.org/2001/XMLSchema#double</span></td><td>oneEquals</td><td rowspan=\"1\">urn:qudt2:conversion:AC-FT:M3</td></tr><tr><td rowspan=\"1\">urn:om2:conversion:ampere:kiloampere</td><td>oneEquals</td><td>0.001<span style=\"opacity:0.6;\">^^http://www.w3.org/2001/XMLSchema#float</span></td><td>970.8737864077669e0<span style=\"opacity:0.6;\">^^http://www.w3.org/2001/XMLSchema#double</span></td><td>oneEquals</td><td rowspan=\"1\">urn:qudt2:conversion:A:KiloA</td></tr><tr><td rowspan=\"1\">urn:om2:conversion:ampere:milliampere</td><td>oneEquals</td><td>999.99994<span style=\"opacity:0.6;\">^^http://www.w3.org/2001/XMLSchema#float</span></td><td>1000.0e0<span style=\"opacity:0.6;\">^^http://www.w3.org/2001/XMLSchema#double</span></td><td>oneEquals</td><td rowspan=\"1\">urn:qudt2:conversion:A:MilliA</td></tr><tr><td rowspan=\"1\">urn:om2:conversion:ampere:nanoampere</td><td>oneEquals</td><td>1.0E9<span style=\"opacity:0.6;\">^^http://www.w3.org/2001/XMLSchema#float</span></td><td>9.999999999999999E8<span style=\"opacity:0.6;\">^^http://www.w3.org/2001/XMLSchema#double</span></td><td>oneEquals</td><td rowspan=\"1\">urn:qudt2:conversion:A:NanoA</td></tr><tr><td rowspan=\"1\">urn:om2:conversion:ampere:statampere</td><td>oneEquals</td><td>2.99792461E9<span style=\"opacity:0.6;\">^^http://www.w3.org/2001/XMLSchema#float</span></td><td>2.9979245368431435E9<span style=\"opacity:0.6;\">^^http://www.w3.org/2001/XMLSchema#double</span></td><td>oneEquals</td><td rowspan=\"1\">urn:qudt2:conversion:A:A_Stat</td></tr><tr><td rowspan=\"1\">urn:om2:conversion:amperePerMetre:oersted</td><td>oneEquals</td><td>0.012566371<span style=\"opacity:0.6;\">^^http://www.w3.org/2001/XMLSchema#float</span></td><td>0.012566370621614937e0<span style=\"opacity:0.6;\">^^http://www.w3.org/2001/XMLSchema#double</span></td><td>oneEquals</td><td rowspan=\"1\">urn:qudt2:conversion:A-PER-M:OERSTED</td></tr><tr><td rowspan=\"1\">urn:om2:conversion:astronomicalUnit:metre</td><td>oneEquals</td><td>1.495978707e11<span style=\"opacity:0.6;\">^^http://www.w3.org/2001/XMLSchema#float</span></td><td>1.495978706916E11<span style=\"opacity:0.6;\">^^http://www.w3.org/2001/XMLSchema#double</span></td><td>oneEquals</td><td rowspan=\"1\">urn:qudt2:conversion:AU:M</td></tr><tr><td rowspan=\"1\">urn:om2:conversion:attocoulomb:centicoulomb</td><td>oneEquals</td><td>1.0000001E-16<span style=\"opacity:0.6;\">^^http://www.w3.org/2001/XMLSchema#float</span></td><td>1.0000000000000001E-16<span style=\"opacity:0.6;\">^^http://www.w3.org/2001/XMLSchema#double</span></td><td>oneEquals</td><td rowspan=\"1\">urn:qudt2:conversion:AttoC:CentiC</td></tr><tr><td rowspan=\"1\">urn:om2:conversion:attocoulomb:decacoulomb</td><td>oneEquals</td><td>1.00000003E-19<span style=\"opacity:0.6;\">^^http://www.w3.org/2001/XMLSchema#float</span></td><td>1.0000000000000001E-19<span style=\"opacity:0.6;\">^^http://www.w3.org/2001/XMLSchema#double</span></td><td>oneEquals</td><td rowspan=\"1\">urn:qudt2:conversion:AttoC:DecaC</td></tr><tr><td rowspan=\"1\">urn:om2:conversion:attocoulomb:decicoulomb</td><td>oneEquals</td><td>1.0000001E-17<span style=\"opacity:0.6;\">^^http://www.w3.org/2001/XMLSchema#float</span></td><td>1.0E-17<span style=\"opacity:0.6;\">^^http://www.w3.org/2001/XMLSchema#double</span></td><td>oneEquals</td><td rowspan=\"1\">urn:qudt2:conversion:AttoC:DeciC</td></tr><tr><td rowspan=\"1\">urn:om2:conversion:attocoulomb:exacoulomb</td><td>oneEquals</td><td>1.0000001E-36<span style=\"opacity:0.6;\">^^http://www.w3.org/2001/XMLSchema#float</span></td><td>1.0000000000000001E-36<span style=\"opacity:0.6;\">^^http://www.w3.org/2001/XMLSchema#double</span></td><td>oneEquals</td><td rowspan=\"1\">urn:qudt2:conversion:AttoC:ExaC</td></tr><tr><td rowspan=\"1\">urn:om2:conversion:attocoulomb:hectocoulomb</td><td>oneEquals</td><td>1.00000005E-20<span style=\"opacity:0.6;\">^^http://www.w3.org/2001/XMLSchema#float</span></td><td>1.0000000000000001E-20<span style=\"opacity:0.6;\">^^http://www.w3.org/2001/XMLSchema#double</span></td><td>oneEquals</td><td rowspan=\"1\">urn:qudt2:conversion:AttoC:HectoC</td></tr><tr><td rowspan=\"1\">urn:om2:conversion:attocoulomb:kilocoulomb</td><td>oneEquals</td><td>1.0000001E-21<span style=\"opacity:0.6;\">^^http://www.w3.org/2001/XMLSchema#float</span></td><td>1.0000000000000001E-21<span style=\"opacity:0.6;\">^^http://www.w3.org/2001/XMLSchema#double</span></td><td>oneEquals</td><td rowspan=\"1\">urn:qudt2:conversion:AttoC:KiloC</td></tr><tr><td rowspan=\"1\">urn:om2:conversion:attocoulomb:megacoulomb</td><td>oneEquals</td><td>1.0E-24<span style=\"opacity:0.6;\">^^http://www.w3.org/2001/XMLSchema#float</span></td><td>1.0000000000000001E-24<span style=\"opacity:0.6;\">^^http://www.w3.org/2001/XMLSchema#double</span></td><td>oneEquals</td><td rowspan=\"1\">urn:qudt2:conversion:AttoC:MegaC</td></tr><tr><td rowspan=\"1\">urn:om2:conversion:attocoulomb:microcoulomb</td><td>oneEquals</td><td>1.0E-12<span style=\"opacity:0.6;\">^^http://www.w3.org/2001/XMLSchema#float</span></td><td>1.0000000000000002E-12<span style=\"opacity:0.6;\">^^http://www.w3.org/2001/XMLSchema#double</span></td><td>oneEquals</td><td rowspan=\"1\">urn:qudt2:conversion:AttoC:MicroC</td></tr><tr><td rowspan=\"1\">urn:om2:conversion:attocoulomb:nanocoulomb</td><td>oneEquals</td><td>1.0000001E-9<span style=\"opacity:0.6;\">^^http://www.w3.org/2001/XMLSchema#float</span></td><td>1.0E-9<span style=\"opacity:0.6;\">^^http://www.w3.org/2001/XMLSchema#double</span></td><td>oneEquals</td><td rowspan=\"1\">urn:qudt2:conversion:AttoC:NanoC</td></tr><tr><td rowspan=\"1\">urn:om2:conversion:attocoulomb:picocoulomb</td><td>oneEquals</td><td>1.0E-6<span style=\"opacity:0.6;\">^^http://www.w3.org/2001/XMLSchema#float</span></td><td>1.0000000000000002E-6<span style=\"opacity:0.6;\">^^http://www.w3.org/2001/XMLSchema#double</span></td><td>oneEquals</td><td rowspan=\"1\">urn:qudt2:conversion:AttoC:PicoC</td></tr><tr><td rowspan=\"1\">urn:om2:conversion:attocoulomb:yoctocoulomb</td><td>oneEquals</td><td>1000000.06<span style=\"opacity:0.6;\">^^http://www.w3.org/2001/XMLSchema#float</span></td><td>1000000.0000000001e0<span style=\"opacity:0.6;\">^^http://www.w3.org/2001/XMLSchema#double</span></td><td>oneEquals</td><td rowspan=\"1\">urn:qudt2:conversion:AttoC:YoctoC</td></tr><tr><td rowspan=\"1\">urn:om2:conversion:attocoulomb:zeptocoulomb</td><td>oneEquals</td><td>1000.00006<span style=\"opacity:0.6;\">^^http://www.w3.org/2001/XMLSchema#float</span></td><td>1000.0000000000001e0<span style=\"opacity:0.6;\">^^http://www.w3.org/2001/XMLSchema#double</span></td><td>oneEquals</td><td rowspan=\"1\">urn:qudt2:conversion:AttoC:ZeptoC</td></tr><tr><td rowspan=\"1\">urn:om2:conversion:attocoulomb:zettacoulomb</td><td>oneEquals</td><td>1.0E-39<span style=\"opacity:0.6;\">^^http://www.w3.org/2001/XMLSchema#float</span></td><td>1.0000000000000001E-39<span style=\"opacity:0.6;\">^^http://www.w3.org/2001/XMLSchema#double</span></td><td>oneEquals</td><td rowspan=\"1\">urn:qudt2:conversion:AttoC:ZettaC</td></tr><tr><td rowspan=\"1\">urn:om2:conversion:attofarad:microfarad</td><td>oneEquals</td><td>1.0E-12<span style=\"opacity:0.6;\">^^http://www.w3.org/2001/XMLSchema#float</span></td><td>1.0000000000000002E-12<span style=\"opacity:0.6;\">^^http://www.w3.org/2001/XMLSchema#double</span></td><td>oneEquals</td><td rowspan=\"1\">urn:qudt2:conversion:AttoFARAD:MicroFARAD</td></tr><tr><td rowspan=\"1\">urn:om2:conversion:attofarad:nanofarad</td><td>oneEquals</td><td>1.0000001E-9<span style=\"opacity:0.6;\">^^http://www.w3.org/2001/XMLSchema#float</span></td><td>1.0E-9<span style=\"opacity:0.6;\">^^http://www.w3.org/2001/XMLSchema#double</span></td><td>oneEquals</td><td rowspan=\"1\">urn:qudt2:conversion:AttoFARAD:NanoFARAD</td></tr><tr><td rowspan=\"1\">urn:om2:conversion:attofarad:picofarad</td><td>oneEquals</td><td>1.0E-6<span style=\"opacity:0.6;\">^^http://www.w3.org/2001/XMLSchema#float</span></td><td>1.0000000000000002E-6<span style=\"opacity:0.6;\">^^http://www.w3.org/2001/XMLSchema#double</span></td><td>oneEquals</td><td rowspan=\"1\">urn:qudt2:conversion:AttoFARAD:PicoFARAD</td></tr><tr><td rowspan=\"1\">urn:om2:conversion:attojoule:exajoule</td><td>oneEquals</td><td>1.0E-36<span style=\"opacity:0.6;\">^^http://www.w3.org/2001/XMLSchema#float</span></td><td>1.0000000000000001E-36<span style=\"opacity:0.6;\">^^http://www.w3.org/2001/XMLSchema#double</span></td><td>oneEquals</td><td rowspan=\"1\">urn:qudt2:conversion:AttoJ:ExaJ</td></tr><tr><td rowspan=\"1\">urn:om2:conversion:attojoule:kilojoule</td><td>oneEquals</td><td>1.0000001E-21<span style=\"opacity:0.6;\">^^http://www.w3.org/2001/XMLSchema#float</span></td><td>1.0000000000000001E-21<span style=\"opacity:0.6;\">^^http://www.w3.org/2001/XMLSchema#double</span></td><td>oneEquals</td><td rowspan=\"1\">urn:qudt2:conversion:AttoJ:KiloJ</td></tr><tr><td rowspan=\"1\">urn:om2:conversion:attojoule:megajoule</td><td>oneEquals</td><td>1.0E-24<span style=\"opacity:0.6;\">^^http://www.w3.org/2001/XMLSchema#float</span></td><td>1.0000000000000001E-24<span style=\"opacity:0.6;\">^^http://www.w3.org/2001/XMLSchema#double</span></td><td>oneEquals</td><td rowspan=\"1\">urn:qudt2:conversion:AttoJ:MegaJ</td></tr><tr><td rowspan=\"1\">urn:om2:conversion:bar:millibar</td><td>oneEquals</td><td>999.99994<span style=\"opacity:0.6;\">^^http://www.w3.org/2001/XMLSchema#float</span></td><td>1000.0e0<span style=\"opacity:0.6;\">^^http://www.w3.org/2001/XMLSchema#double</span></td><td>oneEquals</td><td rowspan=\"1\">urn:qudt2:conversion:BAR:MilliBAR</td></tr><tr><td rowspan=\"1\">urn:om2:conversion:becquerel:curie</td><td>oneEquals</td><td>2.7027028E-11<span style=\"opacity:0.6;\">^^http://www.w3.org/2001/XMLSchema#float</span></td><td>2.7027027027027027E-11<span style=\"opacity:0.6;\">^^http://www.w3.org/2001/XMLSchema#double</span></td><td>oneEquals</td><td rowspan=\"1\">urn:qudt2:conversion:BQ:Ci</td></tr><tr><td rowspan=\"1\">urn:om2:conversion:bit:hartley</td><td>oneEquals</td><td>0.30103<span style=\"opacity:0.6;\">^^http://www.w3.org/2001/XMLSchema#float</span></td><td>0.693147181e0<span style=\"opacity:0.6;\">^^http://www.w3.org/2001/XMLSchema#double</span></td><td>oneEquals</td><td rowspan=\"1\">urn:qudt2:conversion:BIT:HART</td></tr><tr><td rowspan=\"1\">urn:om2:conversion:byte:gigabyte</td><td>oneEquals</td><td>1.0E-9<span style=\"opacity:0.6;\">^^http://www.w3.org/2001/XMLSchema#float</span></td><td>5.164348930120468E-9<span style=\"opacity:0.6;\">^^http://www.w3.org/2001/XMLSchema#double</span></td><td>oneEquals</td><td rowspan=\"1\">urn:qudt2:conversion:BYTE:GigaBYTE</td></tr><tr><td rowspan=\"1\">urn:om2:conversion:byte:kilobyte</td><td>oneEquals</td><td>0.001<span style=\"opacity:0.6;\">^^http://www.w3.org/2001/XMLSchema#float</span></td><td>0.00541521234375e0<span style=\"opacity:0.6;\">^^http://www.w3.org/2001/XMLSchema#double</span></td><td>oneEquals</td><td rowspan=\"1\">urn:qudt2:conversion:BYTE:KiloBYTE</td></tr><tr><td rowspan=\"1\">urn:om2:conversion:byte:megabyte</td><td>oneEquals</td><td>1.0E-6<span style=\"opacity:0.6;\">^^http://www.w3.org/2001/XMLSchema#float</span></td><td>5.288293304443359E-6<span style=\"opacity:0.6;\">^^http://www.w3.org/2001/XMLSchema#double</span></td><td>oneEquals</td><td rowspan=\"1\">urn:qudt2:conversion:BYTE:MegaBYTE</td></tr><tr><td rowspan=\"1\">urn:om2:conversion:byte:pebibyte</td><td>oneEquals</td><td>8.881784E-16<span style=\"opacity:0.6;\">^^http://www.w3.org/2001/XMLSchema#float</span></td><td>4.925106935615986E-15<span style=\"opacity:0.6;\">^^http://www.w3.org/2001/XMLSchema#double</span></td><td>oneEquals</td><td rowspan=\"1\">urn:qudt2:conversion:BYTE:PebiBYTE</td></tr><tr><td rowspan=\"1\">urn:om2:conversion:byte:petabyte</td><td>oneEquals</td><td>1.0E-15<span style=\"opacity:0.6;\">^^http://www.w3.org/2001/XMLSchema#float</span></td><td>5.5451774399999996E-15<span style=\"opacity:0.6;\">^^http://www.w3.org/2001/XMLSchema#double</span></td><td>oneEquals</td><td rowspan=\"1\">urn:qudt2:conversion:BYTE:PetaBYTE</td></tr><tr><td rowspan=\"1\">urn:om2:conversion:byte:terabyte</td><td>oneEquals</td><td>1.0E-12<span style=\"opacity:0.6;\">^^http://www.w3.org/2001/XMLSchema#float</span></td><td>5.288293304443359E-6<span style=\"opacity:0.6;\">^^http://www.w3.org/2001/XMLSchema#double</span></td><td>oneEquals</td><td rowspan=\"1\">urn:qudt2:conversion:BYTE:TeraBYTE</td></tr><tr><td rowspan=\"1\">urn:om2:conversion:candelaPerSquareMetre:footlambert</td><td>oneEquals</td><td>0.2918635<span style=\"opacity:0.6;\">^^http://www.w3.org/2001/XMLSchema#float</span></td><td>0.2918635079290997e0<span style=\"opacity:0.6;\">^^http://www.w3.org/2001/XMLSchema#double</span></td><td>oneEquals</td><td rowspan=\"1\">urn:qudt2:conversion:CD-PER-M2:FT-LA</td></tr><tr><td rowspan=\"1\">urn:om2:conversion:candelaPerSquareMetre:lambert</td><td>oneEquals</td><td>3.1415923E-4<span style=\"opacity:0.6;\">^^http://www.w3.org/2001/XMLSchema#float</span></td><td>3.1415926554037343E-4<span style=\"opacity:0.6;\">^^http://www.w3.org/2001/XMLSchema#double</span></td><td>oneEquals</td><td rowspan=\"1\">urn:qudt2:conversion:CD-PER-M2:LA</td></tr><tr><td rowspan=\"1\">urn:om2:conversion:centicoulomb:decicoulomb</td><td>oneEquals</td><td>0.099999994<span style=\"opacity:0.6;\">^^http://www.w3.org/2001/XMLSchema#float</span></td><td>0.09999999999999999e0<span style=\"opacity:0.6;\">^^http://www.w3.org/2001/XMLSchema#double</span></td><td>oneEquals</td><td rowspan=\"1\">urn:qudt2:conversion:CentiC:DeciC</td></tr><tr><td rowspan=\"1\">urn:om2:conversion:centicoulomb:exacoulomb</td><td>oneEquals</td><td>1.00000005E-20<span style=\"opacity:0.6;\">^^http://www.w3.org/2001/XMLSchema#float</span></td><td>1.0000000000000001E-20<span style=\"opacity:0.6;\">^^http://www.w3.org/2001/XMLSchema#double</span></td><td>oneEquals</td><td rowspan=\"1\">urn:qudt2:conversion:CentiC:ExaC</td></tr><tr><td rowspan=\"1\">urn:om2:conversion:centicoulomb:femtocoulomb</td><td>oneEquals</td><td>9.9999998E12<span style=\"opacity:0.6;\">^^http://www.w3.org/2001/XMLSchema#float</span></td><td>1.0E13<span style=\"opacity:0.6;\">^^http://www.w3.org/2001/XMLSchema#double</span></td><td>oneEquals</td><td rowspan=\"1\">urn:qudt2:conversion:CentiC:FemtoC</td></tr><tr><td rowspan=\"1\">urn:om2:conversion:centicoulomb:gigacoulomb</td><td>oneEquals</td><td>9.999999E-12<span style=\"opacity:0.6;\">^^http://www.w3.org/2001/XMLSchema#float</span></td><td>1.0000000000000001E-11<span style=\"opacity:0.6;\">^^http://www.w3.org/2001/XMLSchema#double</span></td><td>oneEquals</td><td rowspan=\"1\">urn:qudt2:conversion:CentiC:GigaC</td></tr><tr><td rowspan=\"1\">urn:om2:conversion:centicoulomb:kilocoulomb</td><td>oneEquals</td><td>1.0000001E-5<span style=\"opacity:0.6;\">^^http://www.w3.org/2001/XMLSchema#float</span></td><td>1.0E-5<span style=\"opacity:0.6;\">^^http://www.w3.org/2001/XMLSchema#double</span></td><td>oneEquals</td><td rowspan=\"1\">urn:qudt2:conversion:CentiC:KiloC</td></tr><tr><td rowspan=\"1\">urn:om2:conversion:centicoulomb:millicoulomb</td><td>oneEquals</td><td>9.999999<span style=\"opacity:0.6;\">^^http://www.w3.org/2001/XMLSchema#float</span></td><td>10.0e0<span style=\"opacity:0.6;\">^^http://www.w3.org/2001/XMLSchema#double</span></td><td>oneEquals</td><td rowspan=\"1\">urn:qudt2:conversion:CentiC:MilliC</td></tr><tr><td rowspan=\"1\">urn:om2:conversion:centicoulomb:zeptocoulomb</td><td>oneEquals</td><td>1.0E19<span style=\"opacity:0.6;\">^^http://www.w3.org/2001/XMLSchema#float</span></td><td>1.0000000000000002E19<span style=\"opacity:0.6;\">^^http://www.w3.org/2001/XMLSchema#double</span></td><td>oneEquals</td><td rowspan=\"1\">urn:qudt2:conversion:CentiC:ZeptoC</td></tr><tr><td rowspan=\"1\">urn:om2:conversion:centicoulomb:zettacoulomb</td><td>oneEquals</td><td>9.999999E-24<span style=\"opacity:0.6;\">^^http://www.w3.org/2001/XMLSchema#float</span></td><td>1.0E-23<span style=\"opacity:0.6;\">^^http://www.w3.org/2001/XMLSchema#double</span></td><td>oneEquals</td><td rowspan=\"1\">urn:qudt2:conversion:CentiC:ZettaC</td></tr><tr><td rowspan=\"1\">urn:om2:conversion:centigram:decagram</td><td>oneEquals</td><td>9.999999E-4<span style=\"opacity:0.6;\">^^http://www.w3.org/2001/XMLSchema#float</span></td><td>0.001e0<span style=\"opacity:0.6;\">^^http://www.w3.org/2001/XMLSchema#double</span></td><td>oneEquals</td><td rowspan=\"1\">urn:qudt2:conversion:CentiGM:DecaGM</td></tr><tr><td rowspan=\"1\">urn:om2:conversion:centigram:decigram</td><td>oneEquals</td><td>0.099999994<span style=\"opacity:0.6;\">^^http://www.w3.org/2001/XMLSchema#float</span></td><td>0.1e0<span style=\"opacity:0.6;\">^^http://www.w3.org/2001/XMLSchema#double</span></td><td>oneEquals</td><td rowspan=\"1\">urn:qudt2:conversion:CentiGM:DeciGM</td></tr><tr><td rowspan=\"1\">urn:om2:conversion:centigram:kilogram</td><td>oneEquals</td><td>1.0000001E-5<span style=\"opacity:0.6;\">^^http://www.w3.org/2001/XMLSchema#float</span></td><td>1.0E-5<span style=\"opacity:0.6;\">^^http://www.w3.org/2001/XMLSchema#double</span></td><td>oneEquals</td><td rowspan=\"1\">urn:qudt2:conversion:CentiGM:KiloGM</td></tr><tr><td rowspan=\"1\">urn:om2:conversion:centigram:milligram</td><td>oneEquals</td><td>9.999999<span style=\"opacity:0.6;\">^^http://www.w3.org/2001/XMLSchema#float</span></td><td>10.000000000000002e0<span style=\"opacity:0.6;\">^^http://www.w3.org/2001/XMLSchema#double</span></td><td>oneEquals</td><td rowspan=\"1\">urn:qudt2:conversion:CentiGM:MilliGM</td></tr><tr><td rowspan=\"1\">urn:om2:conversion:centimetre:decametre</td><td>oneEquals</td><td>9.999999E-4<span style=\"opacity:0.6;\">^^http://www.w3.org/2001/XMLSchema#float</span></td><td>0.001e0<span style=\"opacity:0.6;\">^^http://www.w3.org/2001/XMLSchema#double</span></td><td>oneEquals</td><td rowspan=\"1\">urn:qudt2:conversion:CentiM:DecaM</td></tr><tr><td rowspan=\"1\">urn:om2:conversion:centimetre:decimetre</td><td>oneEquals</td><td>0.099999994<span style=\"opacity:0.6;\">^^http://www.w3.org/2001/XMLSchema#float</span></td><td>0.09999999999999999e0<span style=\"opacity:0.6;\">^^http://www.w3.org/2001/XMLSchema#double</span></td><td>oneEquals</td><td rowspan=\"1\">urn:qudt2:conversion:CentiM:DeciM</td></tr><tr><td rowspan=\"1\">urn:om2:conversion:centimetre:femtometre</td><td>oneEquals</td><td>9.9999998E12<span style=\"opacity:0.6;\">^^http://www.w3.org/2001/XMLSchema#float</span></td><td>1.0E13<span style=\"opacity:0.6;\">^^http://www.w3.org/2001/XMLSchema#double</span></td><td>oneEquals</td><td rowspan=\"1\">urn:qudt2:conversion:CentiM:FemtoM</td></tr><tr><td rowspan=\"1\">urn:om2:conversion:centimetre:millimetre</td><td>oneEquals</td><td>9.999999<span style=\"opacity:0.6;\">^^http://www.w3.org/2001/XMLSchema#float</span></td><td>10.0e0<span style=\"opacity:0.6;\">^^http://www.w3.org/2001/XMLSchema#double</span></td><td>oneEquals</td><td rowspan=\"1\">urn:qudt2:conversion:CentiM:MilliM</td></tr><tr><td rowspan=\"1\">urn:om2:conversion:centinewton:decinewton</td><td>oneEquals</td><td>0.099999994<span style=\"opacity:0.6;\">^^http://www.w3.org/2001/XMLSchema#float</span></td><td>0.09999999999999999e0<span style=\"opacity:0.6;\">^^http://www.w3.org/2001/XMLSchema#double</span></td><td>oneEquals</td><td rowspan=\"1\">urn:qudt2:conversion:CentiN-M:DeciN-M</td></tr><tr><td rowspan=\"1\">urn:om2:conversion:centipoise:poise</td><td>oneEquals</td><td>1e-2<span style=\"opacity:0.6;\">^^http://www.w3.org/2001/XMLSchema#float</span></td><td>0.09999999999999999e0<span style=\"opacity:0.6;\">^^http://www.w3.org/2001/XMLSchema#double</span></td><td>oneEquals</td><td rowspan=\"1\">urn:qudt2:conversion:CentiPOISE:POISE</td></tr><tr><td rowspan=\"1\">urn:om2:conversion:centistokes:stokes</td><td>oneEquals</td><td>1e-2<span style=\"opacity:0.6;\">^^http://www.w3.org/2001/XMLSchema#float</span></td><td>100.0e0<span style=\"opacity:0.6;\">^^http://www.w3.org/2001/XMLSchema#double</span></td><td>oneEquals</td><td rowspan=\"1\">urn:qudt2:conversion:CentiST:ST</td></tr><tr><td rowspan=\"1\">urn:om2:conversion:chain:metre</td><td>oneEquals</td><td>2.011684e1<span style=\"opacity:0.6;\">^^http://www.w3.org/2001/XMLSchema#float</span></td><td>20.1168e0<span style=\"opacity:0.6;\">^^http://www.w3.org/2001/XMLSchema#double</span></td><td>oneEquals</td><td rowspan=\"1\">urn:qudt2:conversion:CH:M</td></tr><tr><td rowspan=\"1\">urn:om2:conversion:coulomb:faraday</td><td>oneEquals</td><td>1.03642715E-5<span style=\"opacity:0.6;\">^^http://www.w3.org/2001/XMLSchema#float</span></td><td>1.036426882090509E-5<span style=\"opacity:0.6;\">^^http://www.w3.org/2001/XMLSchema#double</span></td><td>oneEquals</td><td rowspan=\"1\">urn:qudt2:conversion:C:F</td></tr><tr><td rowspan=\"1\">urn:om2:conversion:coulomb:femtocoulomb</td><td>oneEquals</td><td>9.9999999E14<span style=\"opacity:0.6;\">^^http://www.w3.org/2001/XMLSchema#float</span></td><td>9.999999999999999E14<span style=\"opacity:0.6;\">^^http://www.w3.org/2001/XMLSchema#double</span></td><td>oneEquals</td><td rowspan=\"1\">urn:qudt2:conversion:C:FemtoC</td></tr><tr><td rowspan=\"1\">urn:om2:conversion:coulomb:millicoulomb</td><td>oneEquals</td><td>999.99994<span style=\"opacity:0.6;\">^^http://www.w3.org/2001/XMLSchema#float</span></td><td>1000.0e0<span style=\"opacity:0.6;\">^^http://www.w3.org/2001/XMLSchema#double</span></td><td>oneEquals</td><td rowspan=\"1\">urn:qudt2:conversion:C:MilliC</td></tr><tr><td rowspan=\"1\">urn:om2:conversion:coulomb:nanocoulomb</td><td>oneEquals</td><td>1.0E9<span style=\"opacity:0.6;\">^^http://www.w3.org/2001/XMLSchema#float</span></td><td>9.999999999999999E8<span style=\"opacity:0.6;\">^^http://www.w3.org/2001/XMLSchema#double</span></td><td>oneEquals</td><td rowspan=\"1\">urn:qudt2:conversion:C:NanoC</td></tr><tr><td rowspan=\"1\">urn:om2:conversion:coulomb:statcoulomb</td><td>oneEquals</td><td>2.99792461E9<span style=\"opacity:0.6;\">^^http://www.w3.org/2001/XMLSchema#float</span></td><td>2.9979254355985656E9<span style=\"opacity:0.6;\">^^http://www.w3.org/2001/XMLSchema#double</span></td><td>oneEquals</td><td rowspan=\"1\">urn:qudt2:conversion:C:C_Stat</td></tr><tr><td rowspan=\"1\">urn:om2:conversion:coulomb:yoctocoulomb</td><td>oneEquals</td><td>1.0E24<span style=\"opacity:0.6;\">^^http://www.w3.org/2001/XMLSchema#float</span></td><td>1.0000000000000001E24<span style=\"opacity:0.6;\">^^http://www.w3.org/2001/XMLSchema#double</span></td><td>oneEquals</td><td rowspan=\"1\">urn:qudt2:conversion:C:YoctoC</td></tr><tr><td rowspan=\"1\">urn:om2:conversion:coulomb:yottacoulomb</td><td>oneEquals</td><td>1.0E-24<span style=\"opacity:0.6;\">^^http://www.w3.org/2001/XMLSchema#float</span></td><td>1.0000000000000001E-24<span style=\"opacity:0.6;\">^^http://www.w3.org/2001/XMLSchema#double</span></td><td>oneEquals</td><td rowspan=\"1\">urn:qudt2:conversion:C:YottaC</td></tr><tr><td rowspan=\"1\">urn:om2:conversion:coulomb:zeptocoulomb</td><td>oneEquals</td><td>1.0E21<span style=\"opacity:0.6;\">^^http://www.w3.org/2001/XMLSchema#float</span></td><td>1.0000000000000001E21<span style=\"opacity:0.6;\">^^http://www.w3.org/2001/XMLSchema#double</span></td><td>oneEquals</td><td rowspan=\"1\">urn:qudt2:conversion:C:ZeptoC</td></tr><tr><td rowspan=\"1\">urn:om2:conversion:coulombMetre:debye</td><td>oneEquals</td><td>2.9979254E29<span style=\"opacity:0.6;\">^^http://www.w3.org/2001/XMLSchema#float</span></td><td>2.9979254355985658E29<span style=\"opacity:0.6;\">^^http://www.w3.org/2001/XMLSchema#double</span></td><td>oneEquals</td><td rowspan=\"1\">urn:qudt2:conversion:C-M:Debye</td></tr><tr><td rowspan=\"1\">urn:om2:conversion:cubicMetre:fluidOunce-US</td><td>oneEquals</td><td>33814.023<span style=\"opacity:0.6;\">^^http://www.w3.org/2001/XMLSchema#float</span></td><td>35195.07972785404e0<span style=\"opacity:0.6;\">^^http://www.w3.org/2001/XMLSchema#double</span></td><td>oneEquals</td><td rowspan=\"1\">urn:qudt2:conversion:M3:OZ_VOL_UK</td></tr><tr><td rowspan=\"1\">urn:om2:conversion:cubicMetre:tablespoon-US</td><td>oneEquals</td><td>67628.06<span style=\"opacity:0.6;\">^^http://www.w3.org/2001/XMLSchema#float</span></td><td>67628.04165909007e0<span style=\"opacity:0.6;\">^^http://www.w3.org/2001/XMLSchema#double</span></td><td>oneEquals</td><td rowspan=\"1\">urn:qudt2:conversion:M3:TBSP</td></tr><tr><td rowspan=\"1\">urn:om2:conversion:cubicMetre:teaspoon-US</td><td>oneEquals</td><td>202884.12<span style=\"opacity:0.6;\">^^http://www.w3.org/2001/XMLSchema#float</span></td><td>202884.12484006365e0<span style=\"opacity:0.6;\">^^http://www.w3.org/2001/XMLSchema#double</span></td><td>oneEquals</td><td rowspan=\"1\">urn:qudt2:conversion:M3:TSP</td></tr><tr><td rowspan=\"1\">urn:om2:conversion:decacoulomb:exacoulomb</td><td>oneEquals</td><td>1.0000001E-17<span style=\"opacity:0.6;\">^^http://www.w3.org/2001/XMLSchema#float</span></td><td>1.0E-17<span style=\"opacity:0.6;\">^^http://www.w3.org/2001/XMLSchema#double</span></td><td>oneEquals</td><td rowspan=\"1\">urn:qudt2:conversion:DecaC:ExaC</td></tr><tr><td rowspan=\"1\">urn:om2:conversion:decacoulomb:femtocoulomb</td><td>oneEquals</td><td>9.9999992E15<span style=\"opacity:0.6;\">^^http://www.w3.org/2001/XMLSchema#float</span></td><td>1.0E16<span style=\"opacity:0.6;\">^^http://www.w3.org/2001/XMLSchema#double</span></td><td>oneEquals</td><td rowspan=\"1\">urn:qudt2:conversion:DecaC:FemtoC</td></tr><tr><td rowspan=\"1\">urn:om2:conversion:decacoulomb:hectocoulomb</td><td>oneEquals</td><td>0.099999994<span style=\"opacity:0.6;\">^^http://www.w3.org/2001/XMLSchema#float</span></td><td>0.1e0<span style=\"opacity:0.6;\">^^http://www.w3.org/2001/XMLSchema#double</span></td><td>oneEquals</td><td rowspan=\"1\">urn:qudt2:conversion:DecaC:HectoC</td></tr><tr><td rowspan=\"1\">urn:om2:conversion:decacoulomb:kilocoulomb</td><td>oneEquals</td><td>0.010000001<span style=\"opacity:0.6;\">^^http://www.w3.org/2001/XMLSchema#float</span></td><td>0.01e0<span style=\"opacity:0.6;\">^^http://www.w3.org/2001/XMLSchema#double</span></td><td>oneEquals</td><td rowspan=\"1\">urn:qudt2:conversion:DecaC:KiloC</td></tr><tr><td rowspan=\"1\">urn:om2:conversion:decacoulomb:millicoulomb</td><td>oneEquals</td><td>9999.999<span style=\"opacity:0.6;\">^^http://www.w3.org/2001/XMLSchema#float</span></td><td>10000.0e0<span style=\"opacity:0.6;\">^^http://www.w3.org/2001/XMLSchema#double</span></td><td>oneEquals</td><td rowspan=\"1\">urn:qudt2:conversion:DecaC:MilliC</td></tr><tr><td rowspan=\"1\">urn:om2:conversion:decacoulomb:picocoulomb</td><td>oneEquals</td><td>9.9999998E12<span style=\"opacity:0.6;\">^^http://www.w3.org/2001/XMLSchema#float</span></td><td>1.0E13<span style=\"opacity:0.6;\">^^http://www.w3.org/2001/XMLSchema#double</span></td><td>oneEquals</td><td rowspan=\"1\">urn:qudt2:conversion:DecaC:PicoC</td></tr><tr><td rowspan=\"1\">urn:om2:conversion:decagram:hectogram</td><td>oneEquals</td><td>0.099999994<span style=\"opacity:0.6;\">^^http://www.w3.org/2001/XMLSchema#float</span></td><td>0.09999999999999999e0<span style=\"opacity:0.6;\">^^http://www.w3.org/2001/XMLSchema#double</span></td><td>oneEquals</td><td rowspan=\"1\">urn:qudt2:conversion:DecaGM:HectoGM</td></tr><tr><td rowspan=\"1\">urn:om2:conversion:decagram:kilogram</td><td>oneEquals</td><td>0.010000001<span style=\"opacity:0.6;\">^^http://www.w3.org/2001/XMLSchema#float</span></td><td>0.01e0<span style=\"opacity:0.6;\">^^http://www.w3.org/2001/XMLSchema#double</span></td><td>oneEquals</td><td rowspan=\"1\">urn:qudt2:conversion:DecaGM:KiloGM</td></tr><tr><td rowspan=\"1\">urn:om2:conversion:decagram:milligram</td><td>oneEquals</td><td>9999.999<span style=\"opacity:0.6;\">^^http://www.w3.org/2001/XMLSchema#float</span></td><td>10000.0e0<span style=\"opacity:0.6;\">^^http://www.w3.org/2001/XMLSchema#double</span></td><td>oneEquals</td><td rowspan=\"1\">urn:qudt2:conversion:DecaGM:MilliGM</td></tr><tr><td rowspan=\"1\">urn:om2:conversion:decalitre:hectolitre</td><td>oneEquals</td><td>0.1<span style=\"opacity:0.6;\">^^http://www.w3.org/2001/XMLSchema#float</span></td><td>0.09999999999999999e0<span style=\"opacity:0.6;\">^^http://www.w3.org/2001/XMLSchema#double</span></td><td>oneEquals</td><td rowspan=\"1\">urn:qudt2:conversion:DecaL:HectoL</td></tr><tr><td rowspan=\"1\">urn:om2:conversion:decalitre:megalitre</td><td>oneEquals</td><td>1.0E-5<span style=\"opacity:0.6;\">^^http://www.w3.org/2001/XMLSchema#float</span></td><td>1.0E-8<span style=\"opacity:0.6;\">^^http://www.w3.org/2001/XMLSchema#double</span></td><td>oneEquals</td><td rowspan=\"1\">urn:qudt2:conversion:DecaL:MegaL</td></tr><tr><td rowspan=\"1\">urn:om2:conversion:decalitre:millilitre</td><td>oneEquals</td><td>9999.999<span style=\"opacity:0.6;\">^^http://www.w3.org/2001/XMLSchema#float</span></td><td>10000.0e0<span style=\"opacity:0.6;\">^^http://www.w3.org/2001/XMLSchema#double</span></td><td>oneEquals</td><td rowspan=\"1\">urn:qudt2:conversion:DecaL:MilliL</td></tr><tr><td rowspan=\"1\">urn:om2:conversion:decametre:femtometre</td><td>oneEquals</td><td>1.00000003E16<span style=\"opacity:0.6;\">^^http://www.w3.org/2001/XMLSchema#float</span></td><td>1.0E16<span style=\"opacity:0.6;\">^^http://www.w3.org/2001/XMLSchema#double</span></td><td>oneEquals</td><td rowspan=\"1\">urn:qudt2:conversion:DecaM:FemtoM</td></tr><tr><td rowspan=\"1\">urn:om2:conversion:decametre:millimetre</td><td>oneEquals</td><td>9999.999<span style=\"opacity:0.6;\">^^http://www.w3.org/2001/XMLSchema#float</span></td><td>10000.0e0<span style=\"opacity:0.6;\">^^http://www.w3.org/2001/XMLSchema#double</span></td><td>oneEquals</td><td rowspan=\"1\">urn:qudt2:conversion:DecaM:MilliM</td></tr><tr><td rowspan=\"1\">urn:om2:conversion:decametre:picometre</td><td>oneEquals</td><td>9.9999998E12<span style=\"opacity:0.6;\">^^http://www.w3.org/2001/XMLSchema#float</span></td><td>1.0E13<span style=\"opacity:0.6;\">^^http://www.w3.org/2001/XMLSchema#double</span></td><td>oneEquals</td><td rowspan=\"1\">urn:qudt2:conversion:DecaM:PicoM</td></tr><tr><td rowspan=\"1\">urn:om2:conversion:decibar:millibar</td><td>oneEquals</td><td>99.99999<span style=\"opacity:0.6;\">^^http://www.w3.org/2001/XMLSchema#float</span></td><td>100.0e0<span style=\"opacity:0.6;\">^^http://www.w3.org/2001/XMLSchema#double</span></td><td>oneEquals</td><td rowspan=\"1\">urn:qudt2:conversion:DeciBAR:MilliBAR</td></tr><tr><td rowspan=\"1\">urn:om2:conversion:decicoulomb:exacoulomb</td><td>oneEquals</td><td>1.00000003E-19<span style=\"opacity:0.6;\">^^http://www.w3.org/2001/XMLSchema#float</span></td><td>1.0000000000000001E-19<span style=\"opacity:0.6;\">^^http://www.w3.org/2001/XMLSchema#double</span></td><td>oneEquals</td><td rowspan=\"1\">urn:qudt2:conversion:DeciC:ExaC</td></tr><tr><td rowspan=\"1\">urn:om2:conversion:decicoulomb:gigacoulomb</td><td>oneEquals</td><td>9.9999994E-11<span style=\"opacity:0.6;\">^^http://www.w3.org/2001/XMLSchema#float</span></td><td>1.0E-10<span style=\"opacity:0.6;\">^^http://www.w3.org/2001/XMLSchema#double</span></td><td>oneEquals</td><td rowspan=\"1\">urn:qudt2:conversion:DeciC:GigaC</td></tr><tr><td rowspan=\"1\">urn:om2:conversion:decicoulomb:hectocoulomb</td><td>oneEquals</td><td>9.999999E-4<span style=\"opacity:0.6;\">^^http://www.w3.org/2001/XMLSchema#float</span></td><td>0.001e0<span style=\"opacity:0.6;\">^^http://www.w3.org/2001/XMLSchema#double</span></td><td>oneEquals</td><td rowspan=\"1\">urn:qudt2:conversion:DeciC:HectoC</td></tr><tr><td rowspan=\"1\">urn:om2:conversion:decicoulomb:kilocoulomb</td><td>oneEquals</td><td>1.00000005E-4<span style=\"opacity:0.6;\">^^http://www.w3.org/2001/XMLSchema#float</span></td><td>1.0E-4<span style=\"opacity:0.6;\">^^http://www.w3.org/2001/XMLSchema#double</span></td><td>oneEquals</td><td rowspan=\"1\">urn:qudt2:conversion:DeciC:KiloC</td></tr><tr><td rowspan=\"1\">urn:om2:conversion:decicoulomb:megacoulomb</td><td>oneEquals</td><td>1.0E-7<span style=\"opacity:0.6;\">^^http://www.w3.org/2001/XMLSchema#float</span></td><td>1.0000000000000001E-7<span style=\"opacity:0.6;\">^^http://www.w3.org/2001/XMLSchema#double</span></td><td>oneEquals</td><td rowspan=\"1\">urn:qudt2:conversion:DeciC:MegaC</td></tr><tr><td rowspan=\"1\">urn:om2:conversion:decicoulomb:microcoulomb</td><td>oneEquals</td><td>100000.0<span style=\"opacity:0.6;\">^^http://www.w3.org/2001/XMLSchema#float</span></td><td>100000.00000000001e0<span style=\"opacity:0.6;\">^^http://www.w3.org/2001/XMLSchema#double</span></td><td>oneEquals</td><td rowspan=\"1\">urn:qudt2:conversion:DeciC:MicroC</td></tr><tr><td rowspan=\"1\">urn:om2:conversion:decicoulomb:millicoulomb</td><td>oneEquals</td><td>99.99999<span style=\"opacity:0.6;\">^^http://www.w3.org/2001/XMLSchema#float</span></td><td>100.0e0<span style=\"opacity:0.6;\">^^http://www.w3.org/2001/XMLSchema#double</span></td><td>oneEquals</td><td rowspan=\"1\">urn:qudt2:conversion:DeciC:MilliC</td></tr><tr><td rowspan=\"1\">urn:om2:conversion:decicoulomb:petacoulomb</td><td>oneEquals</td><td>1.0E-16<span style=\"opacity:0.6;\">^^http://www.w3.org/2001/XMLSchema#float</span></td><td>1.0000000000000001E-16<span style=\"opacity:0.6;\">^^http://www.w3.org/2001/XMLSchema#double</span></td><td>oneEquals</td><td rowspan=\"1\">urn:qudt2:conversion:DeciC:PetaC</td></tr><tr><td rowspan=\"1\">urn:om2:conversion:decicoulomb:picocoulomb</td><td>oneEquals</td><td>9.9999998E10<span style=\"opacity:0.6;\">^^http://www.w3.org/2001/XMLSchema#float</span></td><td>1.0E11<span style=\"opacity:0.6;\">^^http://www.w3.org/2001/XMLSchema#double</span></td><td>oneEquals</td><td rowspan=\"1\">urn:qudt2:conversion:DeciC:PicoC</td></tr><tr><td rowspan=\"1\">urn:om2:conversion:decicoulomb:yoctocoulomb</td><td>oneEquals</td><td>1.0E23<span style=\"opacity:0.6;\">^^http://www.w3.org/2001/XMLSchema#float</span></td><td>1.0000000000000001E23<span style=\"opacity:0.6;\">^^http://www.w3.org/2001/XMLSchema#double</span></td><td>oneEquals</td><td rowspan=\"1\">urn:qudt2:conversion:DeciC:YoctoC</td></tr><tr><td rowspan=\"1\">urn:om2:conversion:decicoulomb:zeptocoulomb</td><td>oneEquals</td><td>1.0E20<span style=\"opacity:0.6;\">^^http://www.w3.org/2001/XMLSchema#float</span></td><td>1.0000000000000002E20<span style=\"opacity:0.6;\">^^http://www.w3.org/2001/XMLSchema#double</span></td><td>oneEquals</td><td rowspan=\"1\">urn:qudt2:conversion:DeciC:ZeptoC</td></tr><tr><td rowspan=\"1\">urn:om2:conversion:decicoulomb:zettacoulomb</td><td>oneEquals</td><td>9.9999997E-23<span style=\"opacity:0.6;\">^^http://www.w3.org/2001/XMLSchema#float</span></td><td>1.0E-22<span style=\"opacity:0.6;\">^^http://www.w3.org/2001/XMLSchema#double</span></td><td>oneEquals</td><td rowspan=\"1\">urn:qudt2:conversion:DeciC:ZettaC</td></tr><tr><td rowspan=\"1\">urn:om2:conversion:decigram:kilogram</td><td>oneEquals</td><td>1.00000005E-4<span style=\"opacity:0.6;\">^^http://www.w3.org/2001/XMLSchema#float</span></td><td>1.0E-4<span style=\"opacity:0.6;\">^^http://www.w3.org/2001/XMLSchema#double</span></td><td>oneEquals</td><td rowspan=\"1\">urn:qudt2:conversion:DeciGM:KiloGM</td></tr><tr><td rowspan=\"1\">urn:om2:conversion:decigram:megagram</td><td>oneEquals</td><td>1.0E-7<span style=\"opacity:0.6;\">^^http://www.w3.org/2001/XMLSchema#float</span></td><td>1.0000000000000001E-7<span style=\"opacity:0.6;\">^^http://www.w3.org/2001/XMLSchema#double</span></td><td>oneEquals</td><td rowspan=\"1\">urn:qudt2:conversion:DeciGM:MegaGM</td></tr><tr><td rowspan=\"1\">urn:om2:conversion:decigram:milligram</td><td>oneEquals</td><td>99.99999<span style=\"opacity:0.6;\">^^http://www.w3.org/2001/XMLSchema#float</span></td><td>100.00000000000001e0<span style=\"opacity:0.6;\">^^http://www.w3.org/2001/XMLSchema#double</span></td><td>oneEquals</td><td rowspan=\"1\">urn:qudt2:conversion:DeciGM:MilliGM</td></tr><tr><td rowspan=\"1\">urn:om2:conversion:decilitre:kilolitre</td><td>oneEquals</td><td>1.00000005E-4<span style=\"opacity:0.6;\">^^http://www.w3.org/2001/XMLSchema#float</span></td><td>1.0E-4<span style=\"opacity:0.6;\">^^http://www.w3.org/2001/XMLSchema#double</span></td><td>oneEquals</td><td rowspan=\"1\">urn:qudt2:conversion:DeciL:KiloL</td></tr><tr><td rowspan=\"1\">urn:om2:conversion:decilitre:megalitre</td><td>oneEquals</td><td>1.0E-7<span style=\"opacity:0.6;\">^^http://www.w3.org/2001/XMLSchema#float</span></td><td>1.0E-10<span style=\"opacity:0.6;\">^^http://www.w3.org/2001/XMLSchema#double</span></td><td>oneEquals</td><td rowspan=\"1\">urn:qudt2:conversion:DeciL:MegaL</td></tr><tr><td rowspan=\"1\">urn:om2:conversion:decilitre:millilitre</td><td>oneEquals</td><td>99.99999<span style=\"opacity:0.6;\">^^http://www.w3.org/2001/XMLSchema#float</span></td><td>100.00000000000001e0<span style=\"opacity:0.6;\">^^http://www.w3.org/2001/XMLSchema#double</span></td><td>oneEquals</td><td rowspan=\"1\">urn:qudt2:conversion:DeciL:MilliL</td></tr><tr><td rowspan=\"1\">urn:om2:conversion:decimetre:kilometre</td><td>oneEquals</td><td>1.00000005E-4<span style=\"opacity:0.6;\">^^http://www.w3.org/2001/XMLSchema#float</span></td><td>1.0E-4<span style=\"opacity:0.6;\">^^http://www.w3.org/2001/XMLSchema#double</span></td><td>oneEquals</td><td rowspan=\"1\">urn:qudt2:conversion:DeciM:KiloM</td></tr><tr><td rowspan=\"1\">urn:om2:conversion:decimetre:micrometre</td><td>oneEquals</td><td>100000.0<span style=\"opacity:0.6;\">^^http://www.w3.org/2001/XMLSchema#float</span></td><td>100000.00000000001e0<span style=\"opacity:0.6;\">^^http://www.w3.org/2001/XMLSchema#double</span></td><td>oneEquals</td><td rowspan=\"1\">urn:qudt2:conversion:DeciM:MicroM</td></tr><tr><td rowspan=\"1\">urn:om2:conversion:decimetre:millimetre</td><td>oneEquals</td><td>99.99999<span style=\"opacity:0.6;\">^^http://www.w3.org/2001/XMLSchema#float</span></td><td>100.0e0<span style=\"opacity:0.6;\">^^http://www.w3.org/2001/XMLSchema#double</span></td><td>oneEquals</td><td rowspan=\"1\">urn:qudt2:conversion:DeciM:MilliM</td></tr><tr><td rowspan=\"1\">urn:om2:conversion:decimetre:picometre</td><td>oneEquals</td><td>9.9999998E10<span style=\"opacity:0.6;\">^^http://www.w3.org/2001/XMLSchema#float</span></td><td>1.0E11<span style=\"opacity:0.6;\">^^http://www.w3.org/2001/XMLSchema#double</span></td><td>oneEquals</td><td rowspan=\"1\">urn:qudt2:conversion:DeciM:PicoM</td></tr><tr><td rowspan=\"1\">urn:om2:conversion:decisiemens:megasiemens</td><td>oneEquals</td><td>1.0E-7<span style=\"opacity:0.6;\">^^http://www.w3.org/2001/XMLSchema#float</span></td><td>1.0000000000000001E-7<span style=\"opacity:0.6;\">^^http://www.w3.org/2001/XMLSchema#double</span></td><td>oneEquals</td><td rowspan=\"1\">urn:qudt2:conversion:DeciS-PER-M:MegaS-PER-M</td></tr><tr><td rowspan=\"1\">urn:om2:conversion:decisiemens:nanosiemens</td><td>oneEquals</td><td>1.00000008E8<span style=\"opacity:0.6;\">^^http://www.w3.org/2001/XMLSchema#float</span></td><td>1.0E8<span style=\"opacity:0.6;\">^^http://www.w3.org/2001/XMLSchema#double</span></td><td>oneEquals</td><td rowspan=\"1\">urn:qudt2:conversion:DeciS-PER-M:NanoS-PER-M</td></tr><tr><td rowspan=\"1\">urn:om2:conversion:degree:radian</td><td>oneEquals</td><td>1.745329e-2<span style=\"opacity:0.6;\">^^http://www.w3.org/2001/XMLSchema#float</span></td><td>0.0174532925e0<span style=\"opacity:0.6;\">^^http://www.w3.org/2001/XMLSchema#double</span></td><td>oneEquals</td><td rowspan=\"1\">urn:qudt2:conversion:DEG:RAD</td></tr><tr><td rowspan=\"1\">urn:om2:conversion:degree:radian</td><td>oneEquals</td><td>1.745329e-2<span style=\"opacity:0.6;\">^^http://www.w3.org/2001/XMLSchema#float</span></td><td>0.0157079633e0<span style=\"opacity:0.6;\">^^http://www.w3.org/2001/XMLSchema#double</span></td><td>oneEquals</td><td rowspan=\"1\">urn:qudt2:conversion:GRAD:RAD</td></tr><tr><td rowspan=\"1\">urn:om2:conversion:degreeCelsius:millidegreeCelsius</td><td>oneEquals</td><td>999.99994<span style=\"opacity:0.6;\">^^http://www.w3.org/2001/XMLSchema#float</span></td><td>1000.0e0<span style=\"opacity:0.6;\">^^http://www.w3.org/2001/XMLSchema#double</span></td><td>oneEquals</td><td rowspan=\"1\">urn:qudt2:conversion:DEG_C:MilliDEG_C</td></tr><tr><td rowspan=\"1\">urn:om2:conversion:degreeFahrenheit:kelvin</td><td>oneEquals</td><td>0.5555556<span style=\"opacity:0.6;\">^^http://www.w3.org/2001/XMLSchema#float</span></td><td>0.5555555555555556e0<span style=\"opacity:0.6;\">^^http://www.w3.org/2001/XMLSchema#double</span></td><td>oneEquals</td><td rowspan=\"1\">urn:qudt2:conversion:DEG_F:K</td></tr><tr><td rowspan=\"1\">urn:om2:conversion:degreeRankine:kelvin</td><td>oneEquals</td><td>0.5555556<span style=\"opacity:0.6;\">^^http://www.w3.org/2001/XMLSchema#float</span></td><td>0.5555555555555556e0<span style=\"opacity:0.6;\">^^http://www.w3.org/2001/XMLSchema#double</span></td><td>oneEquals</td><td rowspan=\"1\">urn:qudt2:conversion:DEG_R:K</td></tr><tr><td rowspan=\"1\">urn:om2:conversion:electronvolt:gigaelectronvolt</td><td>oneEquals</td><td>1.0E-9<span style=\"opacity:0.6;\">^^http://www.w3.org/2001/XMLSchema#float</span></td><td>9.999999999999999E-10<span style=\"opacity:0.6;\">^^http://www.w3.org/2001/XMLSchema#double</span></td><td>oneEquals</td><td rowspan=\"1\">urn:qudt2:conversion:EV:GigaEV</td></tr><tr><td rowspan=\"1\">urn:om2:conversion:electronvolt:joule</td><td>oneEquals</td><td>1.602177e-19<span style=\"opacity:0.6;\">^^http://www.w3.org/2001/XMLSchema#float</span></td><td>1.6021765314E-19<span style=\"opacity:0.6;\">^^http://www.w3.org/2001/XMLSchema#double</span></td><td>oneEquals</td><td rowspan=\"1\">urn:qudt2:conversion:EV:J</td></tr><tr><td rowspan=\"1\">urn:om2:conversion:exacoulomb:femtocoulomb</td><td>oneEquals</td><td>9.999999E32<span style=\"opacity:0.6;\">^^http://www.w3.org/2001/XMLSchema#float</span></td><td>1.0E33<span style=\"opacity:0.6;\">^^http://www.w3.org/2001/XMLSchema#double</span></td><td>oneEquals</td><td rowspan=\"1\">urn:qudt2:conversion:ExaC:FemtoC</td></tr><tr><td rowspan=\"1\">urn:om2:conversion:exacoulomb:gigacoulomb</td><td>oneEquals</td><td>9.9999994E8<span style=\"opacity:0.6;\">^^http://www.w3.org/2001/XMLSchema#float</span></td><td>1.0E9<span style=\"opacity:0.6;\">^^http://www.w3.org/2001/XMLSchema#double</span></td><td>oneEquals</td><td rowspan=\"1\">urn:qudt2:conversion:ExaC:GigaC</td></tr><tr><td rowspan=\"1\">urn:om2:conversion:exacoulomb:hectocoulomb</td><td>oneEquals</td><td>9.9999992E15<span style=\"opacity:0.6;\">^^http://www.w3.org/2001/XMLSchema#float</span></td><td>1.0E16<span style=\"opacity:0.6;\">^^http://www.w3.org/2001/XMLSchema#double</span></td><td>oneEquals</td><td rowspan=\"1\">urn:qudt2:conversion:ExaC:HectoC</td></tr><tr><td rowspan=\"1\">urn:om2:conversion:exacoulomb:kilocoulomb</td><td>oneEquals</td><td>9.9999999E14<span style=\"opacity:0.6;\">^^http://www.w3.org/2001/XMLSchema#float</span></td><td>1.0E15<span style=\"opacity:0.6;\">^^http://www.w3.org/2001/XMLSchema#double</span></td><td>oneEquals</td><td rowspan=\"1\">urn:qudt2:conversion:ExaC:KiloC</td></tr><tr><td rowspan=\"1\">urn:om2:conversion:exacoulomb:megacoulomb</td><td>oneEquals</td><td>9.9999993E11<span style=\"opacity:0.6;\">^^http://www.w3.org/2001/XMLSchema#float</span></td><td>1.0E12<span style=\"opacity:0.6;\">^^http://www.w3.org/2001/XMLSchema#double</span></td><td>oneEquals</td><td rowspan=\"1\">urn:qudt2:conversion:ExaC:MegaC</td></tr><tr><td rowspan=\"1\">urn:om2:conversion:exacoulomb:microcoulomb</td><td>oneEquals</td><td>9.9999994E23<span style=\"opacity:0.6;\">^^http://www.w3.org/2001/XMLSchema#float</span></td><td>1.0E24<span style=\"opacity:0.6;\">^^http://www.w3.org/2001/XMLSchema#double</span></td><td>oneEquals</td><td rowspan=\"1\">urn:qudt2:conversion:ExaC:MicroC</td></tr><tr><td rowspan=\"1\">urn:om2:conversion:exacoulomb:millicoulomb</td><td>oneEquals</td><td>9.999999E20<span style=\"opacity:0.6;\">^^http://www.w3.org/2001/XMLSchema#float</span></td><td>1.0E21<span style=\"opacity:0.6;\">^^http://www.w3.org/2001/XMLSchema#double</span></td><td>oneEquals</td><td rowspan=\"1\">urn:qudt2:conversion:ExaC:MilliC</td></tr><tr><td rowspan=\"1\">urn:om2:conversion:exacoulomb:nanocoulomb</td><td>oneEquals</td><td>1.0E27<span style=\"opacity:0.6;\">^^http://www.w3.org/2001/XMLSchema#float</span></td><td>9.999999999999999E26<span style=\"opacity:0.6;\">^^http://www.w3.org/2001/XMLSchema#double</span></td><td>oneEquals</td><td rowspan=\"1\">urn:qudt2:conversion:ExaC:NanoC</td></tr><tr><td rowspan=\"1\">urn:om2:conversion:exacoulomb:petacoulomb</td><td>oneEquals</td><td>999.99994<span style=\"opacity:0.6;\">^^http://www.w3.org/2001/XMLSchema#float</span></td><td>1000.0e0<span style=\"opacity:0.6;\">^^http://www.w3.org/2001/XMLSchema#double</span></td><td>oneEquals</td><td rowspan=\"1\">urn:qudt2:conversion:ExaC:PetaC</td></tr><tr><td rowspan=\"1\">urn:om2:conversion:exacoulomb:picocoulomb</td><td>oneEquals</td><td>9.9999994E29<span style=\"opacity:0.6;\">^^http://www.w3.org/2001/XMLSchema#float</span></td><td>1.0E30<span style=\"opacity:0.6;\">^^http://www.w3.org/2001/XMLSchema#double</span></td><td>oneEquals</td><td rowspan=\"1\">urn:qudt2:conversion:ExaC:PicoC</td></tr><tr><td rowspan=\"1\">urn:om2:conversion:exacoulomb:teracoulomb</td><td>oneEquals</td><td>999999.94<span style=\"opacity:0.6;\">^^http://www.w3.org/2001/XMLSchema#float</span></td><td>1000000.0e0<span style=\"opacity:0.6;\">^^http://www.w3.org/2001/XMLSchema#double</span></td><td>oneEquals</td><td rowspan=\"1\">urn:qudt2:conversion:ExaC:TeraC</td></tr><tr><td rowspan=\"1\">urn:om2:conversion:exacoulomb:yoctocoulomb</td><td>oneEquals</td><td>INF<span style=\"opacity:0.6;\">^^http://www.w3.org/2001/XMLSchema#float</span></td><td>1.0E42<span style=\"opacity:0.6;\">^^http://www.w3.org/2001/XMLSchema#double</span></td><td>oneEquals</td><td rowspan=\"1\">urn:qudt2:conversion:ExaC:YoctoC</td></tr><tr><td rowspan=\"1\">urn:om2:conversion:exacoulomb:zeptocoulomb</td><td>oneEquals</td><td>INF<span style=\"opacity:0.6;\">^^http://www.w3.org/2001/XMLSchema#float</span></td><td>1.0000000000000001E39<span style=\"opacity:0.6;\">^^http://www.w3.org/2001/XMLSchema#double</span></td><td>oneEquals</td><td rowspan=\"1\">urn:qudt2:conversion:ExaC:ZeptoC</td></tr><tr><td rowspan=\"1\">urn:om2:conversion:exacoulomb:zettacoulomb</td><td>oneEquals</td><td>9.999999E-4<span style=\"opacity:0.6;\">^^http://www.w3.org/2001/XMLSchema#float</span></td><td>0.001e0<span style=\"opacity:0.6;\">^^http://www.w3.org/2001/XMLSchema#double</span></td><td>oneEquals</td><td rowspan=\"1\">urn:qudt2:conversion:ExaC:ZettaC</td></tr><tr><td rowspan=\"1\">urn:om2:conversion:exajoule:kilojoule</td><td>oneEquals</td><td>1.00000005E15<span style=\"opacity:0.6;\">^^http://www.w3.org/2001/XMLSchema#float</span></td><td>1.0E15<span style=\"opacity:0.6;\">^^http://www.w3.org/2001/XMLSchema#double</span></td><td>oneEquals</td><td rowspan=\"1\">urn:qudt2:conversion:ExaJ:KiloJ</td></tr><tr><td rowspan=\"1\">urn:om2:conversion:exajoule:millijoule</td><td>oneEquals</td><td>9.9999995E20<span style=\"opacity:0.6;\">^^http://www.w3.org/2001/XMLSchema#float</span></td><td>1.0E21<span style=\"opacity:0.6;\">^^http://www.w3.org/2001/XMLSchema#double</span></td><td>oneEquals</td><td rowspan=\"1\">urn:qudt2:conversion:ExaJ:MilliJ</td></tr><tr><td rowspan=\"1\">urn:om2:conversion:farad:millifarad</td><td>oneEquals</td><td>999.99994<span style=\"opacity:0.6;\">^^http://www.w3.org/2001/XMLSchema#float</span></td><td>1000.0e0<span style=\"opacity:0.6;\">^^http://www.w3.org/2001/XMLSchema#double</span></td><td>oneEquals</td><td rowspan=\"1\">urn:qudt2:conversion:FARAD:MilliFARAD</td></tr><tr><td rowspan=\"1\">urn:om2:conversion:farad:nanofarad</td><td>oneEquals</td><td>1.0E9<span style=\"opacity:0.6;\">^^http://www.w3.org/2001/XMLSchema#float</span></td><td>9.999999999999999E8<span style=\"opacity:0.6;\">^^http://www.w3.org/2001/XMLSchema#double</span></td><td>oneEquals</td><td rowspan=\"1\">urn:qudt2:conversion:FARAD:NanoFARAD</td></tr><tr><td rowspan=\"1\">urn:om2:conversion:farad:statfarad</td><td>oneEquals</td><td>8.987552E11<span style=\"opacity:0.6;\">^^http://www.w3.org/2001/XMLSchema#float</span></td><td>8.984725965858041E11<span style=\"opacity:0.6;\">^^http://www.w3.org/2001/XMLSchema#double</span></td><td>oneEquals</td><td rowspan=\"1\">urn:qudt2:conversion:FARAD:FARAD_Stat</td></tr><tr><td rowspan=\"1\">urn:om2:conversion:fathom-USSurvey:metre</td><td>oneEquals</td><td>1.828804<span style=\"opacity:0.6;\">^^http://www.w3.org/2001/XMLSchema#float</span></td><td>1.8288e0<span style=\"opacity:0.6;\">^^http://www.w3.org/2001/XMLSchema#double</span></td><td>oneEquals</td><td rowspan=\"1\">urn:qudt2:conversion:FATH:M</td></tr><tr><td rowspan=\"1\">urn:om2:conversion:femtocoulomb:gigacoulomb</td><td>oneEquals</td><td>1.0E-24<span style=\"opacity:0.6;\">^^http://www.w3.org/2001/XMLSchema#float</span></td><td>1.0000000000000001E-24<span style=\"opacity:0.6;\">^^http://www.w3.org/2001/XMLSchema#double</span></td><td>oneEquals</td><td rowspan=\"1\">urn:qudt2:conversion:FemtoC:GigaC</td></tr><tr><td rowspan=\"1\">urn:om2:conversion:femtocoulomb:megacoulomb</td><td>oneEquals</td><td>1.0E-21<span style=\"opacity:0.6;\">^^http://www.w3.org/2001/XMLSchema#float</span></td><td>1.0000000000000001E-21<span style=\"opacity:0.6;\">^^http://www.w3.org/2001/XMLSchema#double</span></td><td>oneEquals</td><td rowspan=\"1\">urn:qudt2:conversion:FemtoC:MegaC</td></tr><tr><td rowspan=\"1\">urn:om2:conversion:femtocoulomb:yoctocoulomb</td><td>oneEquals</td><td>1.0E9<span style=\"opacity:0.6;\">^^http://www.w3.org/2001/XMLSchema#float</span></td><td>1.0000000000000001E9<span style=\"opacity:0.6;\">^^http://www.w3.org/2001/XMLSchema#double</span></td><td>oneEquals</td><td rowspan=\"1\">urn:qudt2:conversion:FemtoC:YoctoC</td></tr><tr><td rowspan=\"1\">urn:om2:conversion:femtocoulomb:yottacoulomb</td><td>oneEquals</td><td>1.0E-39<span style=\"opacity:0.6;\">^^http://www.w3.org/2001/XMLSchema#float</span></td><td>1.0000000000000001E-39<span style=\"opacity:0.6;\">^^http://www.w3.org/2001/XMLSchema#double</span></td><td>oneEquals</td><td rowspan=\"1\">urn:qudt2:conversion:FemtoC:YottaC</td></tr><tr><td rowspan=\"1\">urn:om2:conversion:femtocoulomb:zeptocoulomb</td><td>oneEquals</td><td>1000000.06<span style=\"opacity:0.6;\">^^http://www.w3.org/2001/XMLSchema#float</span></td><td>1000000.0000000001e0<span style=\"opacity:0.6;\">^^http://www.w3.org/2001/XMLSchema#double</span></td><td>oneEquals</td><td rowspan=\"1\">urn:qudt2:conversion:FemtoC:ZeptoC</td></tr><tr><td rowspan=\"1\">urn:om2:conversion:femtocoulomb:zettacoulomb</td><td>oneEquals</td><td>9.9999995E-37<span style=\"opacity:0.6;\">^^http://www.w3.org/2001/XMLSchema#float</span></td><td>1.0000000000000001E-36<span style=\"opacity:0.6;\">^^http://www.w3.org/2001/XMLSchema#double</span></td><td>oneEquals</td><td rowspan=\"1\">urn:qudt2:conversion:FemtoC:ZettaC</td></tr><tr><td rowspan=\"1\">urn:om2:conversion:femtojoule:gigajoule</td><td>oneEquals</td><td>1.0E-24<span style=\"opacity:0.6;\">^^http://www.w3.org/2001/XMLSchema#float</span></td><td>1.0000000000000001E-24<span style=\"opacity:0.6;\">^^http://www.w3.org/2001/XMLSchema#double</span></td><td>oneEquals</td><td rowspan=\"1\">urn:qudt2:conversion:FemtoJ:GigaJ</td></tr><tr><td rowspan=\"1\">urn:om2:conversion:femtojoule:megajoule</td><td>oneEquals</td><td>1.0E-21<span style=\"opacity:0.6;\">^^http://www.w3.org/2001/XMLSchema#float</span></td><td>1.0000000000000001E-21<span style=\"opacity:0.6;\">^^http://www.w3.org/2001/XMLSchema#double</span></td><td>oneEquals</td><td rowspan=\"1\">urn:qudt2:conversion:FemtoJ:MegaJ</td></tr><tr><td rowspan=\"1\">urn:om2:conversion:footPoundal:joule</td><td>oneEquals</td><td>4.214011e-2<span style=\"opacity:0.6;\">^^http://www.w3.org/2001/XMLSchema#float</span></td><td>0.042140124e0<span style=\"opacity:0.6;\">^^http://www.w3.org/2001/XMLSchema#double</span></td><td>oneEquals</td><td rowspan=\"1\">urn:qudt2:conversion:FT-PDL:J</td></tr><tr><td rowspan=\"1\">urn:om2:conversion:gigabecquerel:kilobecquerel</td><td>oneEquals</td><td>1000000.06<span style=\"opacity:0.6;\">^^http://www.w3.org/2001/XMLSchema#float</span></td><td>1000000.0e0<span style=\"opacity:0.6;\">^^http://www.w3.org/2001/XMLSchema#double</span></td><td>oneEquals</td><td rowspan=\"1\">urn:qudt2:conversion:GigaBQ:KiloBQ</td></tr><tr><td rowspan=\"1\">urn:om2:conversion:gigabecquerel:microbecquerel</td><td>oneEquals</td><td>1.00000005E15<span style=\"opacity:0.6;\">^^http://www.w3.org/2001/XMLSchema#float</span></td><td>1.0E15<span style=\"opacity:0.6;\">^^http://www.w3.org/2001/XMLSchema#double</span></td><td>oneEquals</td><td rowspan=\"1\">urn:qudt2:conversion:GigaBQ:MicroBQ</td></tr><tr><td rowspan=\"1\">urn:om2:conversion:gigabyte:kilobyte</td><td>oneEquals</td><td>1000000.06<span style=\"opacity:0.6;\">^^http://www.w3.org/2001/XMLSchema#float</span></td><td>1048576.0e0<span style=\"opacity:0.6;\">^^http://www.w3.org/2001/XMLSchema#double</span></td><td>oneEquals</td><td rowspan=\"1\">urn:qudt2:conversion:GigaBYTE:KiloBYTE</td></tr><tr><td rowspan=\"1\">urn:om2:conversion:gigabyte:megabyte</td><td>oneEquals</td><td>1000.0<span style=\"opacity:0.6;\">^^http://www.w3.org/2001/XMLSchema#float</span></td><td>1024.0e0<span style=\"opacity:0.6;\">^^http://www.w3.org/2001/XMLSchema#double</span></td><td>oneEquals</td><td rowspan=\"1\">urn:qudt2:conversion:GigaBYTE:MegaBYTE</td></tr><tr><td rowspan=\"1\">urn:om2:conversion:gigabyte:pebibyte</td><td>oneEquals</td><td>8.881784E-7<span style=\"opacity:0.6;\">^^http://www.w3.org/2001/XMLSchema#float</span></td><td>9.5367431640625E-7<span style=\"opacity:0.6;\">^^http://www.w3.org/2001/XMLSchema#double</span></td><td>oneEquals</td><td rowspan=\"1\">urn:qudt2:conversion:GigaBYTE:PebiBYTE</td></tr><tr><td rowspan=\"1\">urn:om2:conversion:gigabyte:petabyte</td><td>oneEquals</td><td>1.0E-6<span style=\"opacity:0.6;\">^^http://www.w3.org/2001/XMLSchema#float</span></td><td>1.073741824E-6<span style=\"opacity:0.6;\">^^http://www.w3.org/2001/XMLSchema#double</span></td><td>oneEquals</td><td rowspan=\"1\">urn:qudt2:conversion:GigaBYTE:PetaBYTE</td></tr><tr><td rowspan=\"1\">urn:om2:conversion:gigabyte:terabyte</td><td>oneEquals</td><td>0.001<span style=\"opacity:0.6;\">^^http://www.w3.org/2001/XMLSchema#float</span></td><td>1024.0e0<span style=\"opacity:0.6;\">^^http://www.w3.org/2001/XMLSchema#double</span></td><td>oneEquals</td><td rowspan=\"1\">urn:qudt2:conversion:GigaBYTE:TeraBYTE</td></tr><tr><td rowspan=\"1\">urn:om2:conversion:gigacoulomb:kilocoulomb</td><td>oneEquals</td><td>1000000.06<span style=\"opacity:0.6;\">^^http://www.w3.org/2001/XMLSchema#float</span></td><td>1000000.0e0<span style=\"opacity:0.6;\">^^http://www.w3.org/2001/XMLSchema#double</span></td><td>oneEquals</td><td rowspan=\"1\">urn:qudt2:conversion:GigaC:KiloC</td></tr><tr><td rowspan=\"1\">urn:om2:conversion:gigacoulomb:microcoulomb</td><td>oneEquals</td><td>1.00000005E15<span style=\"opacity:0.6;\">^^http://www.w3.org/2001/XMLSchema#float</span></td><td>1.0E15<span style=\"opacity:0.6;\">^^http://www.w3.org/2001/XMLSchema#double</span></td><td>oneEquals</td><td rowspan=\"1\">urn:qudt2:conversion:GigaC:MicroC</td></tr><tr><td rowspan=\"1\">urn:om2:conversion:gigacoulomb:nanocoulomb</td><td>oneEquals</td><td>1.00000005E18<span style=\"opacity:0.6;\">^^http://www.w3.org/2001/XMLSchema#float</span></td><td>1.0E18<span style=\"opacity:0.6;\">^^http://www.w3.org/2001/XMLSchema#double</span></td><td>oneEquals</td><td rowspan=\"1\">urn:qudt2:conversion:GigaC:NanoC</td></tr><tr><td rowspan=\"1\">urn:om2:conversion:gigacoulomb:yoctocoulomb</td><td>oneEquals</td><td>1.0000001E33<span style=\"opacity:0.6;\">^^http://www.w3.org/2001/XMLSchema#float</span></td><td>1.0000000000000001E33<span style=\"opacity:0.6;\">^^http://www.w3.org/2001/XMLSchema#double</span></td><td>oneEquals</td><td rowspan=\"1\">urn:qudt2:conversion:GigaC:YoctoC</td></tr><tr><td rowspan=\"1\">urn:om2:conversion:gigacoulomb:zeptocoulomb</td><td>oneEquals</td><td>1.0E30<span style=\"opacity:0.6;\">^^http://www.w3.org/2001/XMLSchema#float</span></td><td>1.0000000000000002E30<span style=\"opacity:0.6;\">^^http://www.w3.org/2001/XMLSchema#double</span></td><td>oneEquals</td><td rowspan=\"1\">urn:qudt2:conversion:GigaC:ZeptoC</td></tr><tr><td rowspan=\"1\">urn:om2:conversion:gigaelectronvolt:kiloelectronvolt</td><td>oneEquals</td><td>1000000.06<span style=\"opacity:0.6;\">^^http://www.w3.org/2001/XMLSchema#float</span></td><td>1000000.0000000001e0<span style=\"opacity:0.6;\">^^http://www.w3.org/2001/XMLSchema#double</span></td><td>oneEquals</td><td rowspan=\"1\">urn:qudt2:conversion:GigaEV:KiloEV</td></tr><tr><td rowspan=\"1\">urn:om2:conversion:gigahertz:kilohertz</td><td>oneEquals</td><td>1000000.06<span style=\"opacity:0.6;\">^^http://www.w3.org/2001/XMLSchema#float</span></td><td>1000000.0e0<span style=\"opacity:0.6;\">^^http://www.w3.org/2001/XMLSchema#double</span></td><td>oneEquals</td><td rowspan=\"1\">urn:qudt2:conversion:GigaHZ:KiloHZ</td></tr><tr><td rowspan=\"1\">urn:om2:conversion:gigajoule:kilojoule</td><td>oneEquals</td><td>1000000.06<span style=\"opacity:0.6;\">^^http://www.w3.org/2001/XMLSchema#float</span></td><td>1000000.0e0<span style=\"opacity:0.6;\">^^http://www.w3.org/2001/XMLSchema#double</span></td><td>oneEquals</td><td rowspan=\"1\">urn:qudt2:conversion:GigaJ:KiloJ</td></tr><tr><td rowspan=\"1\">urn:om2:conversion:gigajoule:millijoule</td><td>oneEquals</td><td>9.9999993E11<span style=\"opacity:0.6;\">^^http://www.w3.org/2001/XMLSchema#float</span></td><td>1.0E12<span style=\"opacity:0.6;\">^^http://www.w3.org/2001/XMLSchema#double</span></td><td>oneEquals</td><td rowspan=\"1\">urn:qudt2:conversion:GigaJ:MilliJ</td></tr><tr><td rowspan=\"1\">urn:om2:conversion:gigaohm:microohm</td><td>oneEquals</td><td>9.9999999E14<span style=\"opacity:0.6;\">^^http://www.w3.org/2001/XMLSchema#float</span></td><td>1.0E15<span style=\"opacity:0.6;\">^^http://www.w3.org/2001/XMLSchema#double</span></td><td>oneEquals</td><td rowspan=\"1\">urn:qudt2:conversion:GigaOHM:MicroOHM</td></tr><tr><td rowspan=\"1\">urn:om2:conversion:gigaohm:milliohm</td><td>oneEquals</td><td>9.9999993E11<span style=\"opacity:0.6;\">^^http://www.w3.org/2001/XMLSchema#float</span></td><td>1.0E12<span style=\"opacity:0.6;\">^^http://www.w3.org/2001/XMLSchema#double</span></td><td>oneEquals</td><td rowspan=\"1\">urn:qudt2:conversion:GigaOHM:MilliOHM</td></tr><tr><td rowspan=\"1\">urn:om2:conversion:gigapascal:micropascal</td><td>oneEquals</td><td>9.9999999E14<span style=\"opacity:0.6;\">^^http://www.w3.org/2001/XMLSchema#float</span></td><td>1.0E15<span style=\"opacity:0.6;\">^^http://www.w3.org/2001/XMLSchema#double</span></td><td>oneEquals</td><td rowspan=\"1\">urn:qudt2:conversion:GigaPA:MicroPA</td></tr><tr><td rowspan=\"1\">urn:om2:conversion:gigapascal:millipascal</td><td>oneEquals</td><td>9.9999993E11<span style=\"opacity:0.6;\">^^http://www.w3.org/2001/XMLSchema#float</span></td><td>1.0E12<span style=\"opacity:0.6;\">^^http://www.w3.org/2001/XMLSchema#double</span></td><td>oneEquals</td><td rowspan=\"1\">urn:qudt2:conversion:GigaPA:MilliPA</td></tr><tr><td rowspan=\"1\">urn:om2:conversion:gigawatt:microwatt</td><td>oneEquals</td><td>9.9999999E14<span style=\"opacity:0.6;\">^^http://www.w3.org/2001/XMLSchema#float</span></td><td>1.0E15<span style=\"opacity:0.6;\">^^http://www.w3.org/2001/XMLSchema#double</span></td><td>oneEquals</td><td rowspan=\"1\">urn:qudt2:conversion:GigaW:MicroW</td></tr><tr><td rowspan=\"1\">urn:om2:conversion:gigawatt:nanowatt</td><td>oneEquals</td><td>1.00000005E18<span style=\"opacity:0.6;\">^^http://www.w3.org/2001/XMLSchema#float</span></td><td>1.0E18<span style=\"opacity:0.6;\">^^http://www.w3.org/2001/XMLSchema#double</span></td><td>oneEquals</td><td rowspan=\"1\">urn:qudt2:conversion:GigaW:NanoW</td></tr><tr><td rowspan=\"1\">urn:om2:conversion:gon:radian</td><td>oneEquals</td><td>1.570796e-2<span style=\"opacity:0.6;\">^^http://www.w3.org/2001/XMLSchema#float</span></td><td>0.015707963267949e0<span style=\"opacity:0.6;\">^^http://www.w3.org/2001/XMLSchema#double</span></td><td>oneEquals</td><td rowspan=\"1\">urn:qudt2:conversion:GON:RAD</td></tr><tr><td rowspan=\"1\">urn:om2:conversion:gram:milligram</td><td>oneEquals</td><td>999.99994<span style=\"opacity:0.6;\">^^http://www.w3.org/2001/XMLSchema#float</span></td><td>1000.0000000000001e0<span style=\"opacity:0.6;\">^^http://www.w3.org/2001/XMLSchema#double</span></td><td>oneEquals</td><td rowspan=\"1\">urn:qudt2:conversion:GM:MilliGM</td></tr><tr><td rowspan=\"1\">urn:om2:conversion:gray:milligray</td><td>oneEquals</td><td>999.99994<span style=\"opacity:0.6;\">^^http://www.w3.org/2001/XMLSchema#float</span></td><td>1000.0e0<span style=\"opacity:0.6;\">^^http://www.w3.org/2001/XMLSchema#double</span></td><td>oneEquals</td><td rowspan=\"1\">urn:qudt2:conversion:GRAY:MilliGRAY</td></tr><tr><td rowspan=\"1\">urn:om2:conversion:gray:milligray</td><td>oneEquals</td><td>999.99994<span style=\"opacity:0.6;\">^^http://www.w3.org/2001/XMLSchema#float</span></td><td>0.001e0<span style=\"opacity:0.6;\">^^http://www.w3.org/2001/XMLSchema#double</span></td><td>oneEquals</td><td rowspan=\"1\">urn:qudt2:conversion:MicroGRAY:MilliGRAY</td></tr><tr><td rowspan=\"1\">urn:om2:conversion:gray:rad</td><td>oneEquals</td><td>100.0<span style=\"opacity:0.6;\">^^http://www.w3.org/2001/XMLSchema#float</span></td><td>9.999999999999999E-5<span style=\"opacity:0.6;\">^^http://www.w3.org/2001/XMLSchema#double</span></td><td>oneEquals</td><td rowspan=\"1\">urn:qudt2:conversion:MicroGRAY:RAD_R</td></tr><tr><td rowspan=\"1\">urn:om2:conversion:hectocoulomb:kilocoulomb</td><td>oneEquals</td><td>0.10000001<span style=\"opacity:0.6;\">^^http://www.w3.org/2001/XMLSchema#float</span></td><td>0.1e0<span style=\"opacity:0.6;\">^^http://www.w3.org/2001/XMLSchema#double</span></td><td>oneEquals</td><td rowspan=\"1\">urn:qudt2:conversion:HectoC:KiloC</td></tr><tr><td rowspan=\"1\">urn:om2:conversion:hectocoulomb:megacoulomb</td><td>oneEquals</td><td>1.00000005E-4<span style=\"opacity:0.6;\">^^http://www.w3.org/2001/XMLSchema#float</span></td><td>1.0E-4<span style=\"opacity:0.6;\">^^http://www.w3.org/2001/XMLSchema#double</span></td><td>oneEquals</td><td rowspan=\"1\">urn:qudt2:conversion:HectoC:MegaC</td></tr><tr><td rowspan=\"1\">urn:om2:conversion:hectocoulomb:nanocoulomb</td><td>oneEquals</td><td>1.00000006E11<span style=\"opacity:0.6;\">^^http://www.w3.org/2001/XMLSchema#float</span></td><td>1.0E11<span style=\"opacity:0.6;\">^^http://www.w3.org/2001/XMLSchema#double</span></td><td>oneEquals</td><td rowspan=\"1\">urn:qudt2:conversion:HectoC:NanoC</td></tr><tr><td rowspan=\"1\">urn:om2:conversion:hectocoulomb:petacoulomb</td><td>oneEquals</td><td>1.00000005E-13<span style=\"opacity:0.6;\">^^http://www.w3.org/2001/XMLSchema#float</span></td><td>1.0E-13<span style=\"opacity:0.6;\">^^http://www.w3.org/2001/XMLSchema#double</span></td><td>oneEquals</td><td rowspan=\"1\">urn:qudt2:conversion:HectoC:PetaC</td></tr><tr><td rowspan=\"1\">urn:om2:conversion:hectocoulomb:zeptocoulomb</td><td>oneEquals</td><td>1.0000001E23<span style=\"opacity:0.6;\">^^http://www.w3.org/2001/XMLSchema#float</span></td><td>1.0000000000000001E23<span style=\"opacity:0.6;\">^^http://www.w3.org/2001/XMLSchema#double</span></td><td>oneEquals</td><td rowspan=\"1\">urn:qudt2:conversion:HectoC:ZeptoC</td></tr><tr><td rowspan=\"1\">urn:om2:conversion:hectogram:kilogram</td><td>oneEquals</td><td>0.10000001<span style=\"opacity:0.6;\">^^http://www.w3.org/2001/XMLSchema#float</span></td><td>0.1e0<span style=\"opacity:0.6;\">^^http://www.w3.org/2001/XMLSchema#double</span></td><td>oneEquals</td><td rowspan=\"1\">urn:qudt2:conversion:HectoGM:KiloGM</td></tr><tr><td rowspan=\"1\">urn:om2:conversion:hectogram:megagram</td><td>oneEquals</td><td>1.00000005E-4<span style=\"opacity:0.6;\">^^http://www.w3.org/2001/XMLSchema#float</span></td><td>1.0E-4<span style=\"opacity:0.6;\">^^http://www.w3.org/2001/XMLSchema#double</span></td><td>oneEquals</td><td rowspan=\"1\">urn:qudt2:conversion:HectoGM:MegaGM</td></tr><tr><td rowspan=\"1\">urn:om2:conversion:hectogram:milligram</td><td>oneEquals</td><td>100000.0<span style=\"opacity:0.6;\">^^http://www.w3.org/2001/XMLSchema#float</span></td><td>100000.00000000001e0<span style=\"opacity:0.6;\">^^http://www.w3.org/2001/XMLSchema#double</span></td><td>oneEquals</td><td rowspan=\"1\">urn:qudt2:conversion:HectoGM:MilliGM</td></tr><tr><td rowspan=\"1\">urn:om2:conversion:hectolitre:megalitre</td><td>oneEquals</td><td>1.0E-4<span style=\"opacity:0.6;\">^^http://www.w3.org/2001/XMLSchema#float</span></td><td>1.0000000000000001E-7<span style=\"opacity:0.6;\">^^http://www.w3.org/2001/XMLSchema#double</span></td><td>oneEquals</td><td rowspan=\"1\">urn:qudt2:conversion:HectoL:MegaL</td></tr><tr><td rowspan=\"1\">urn:om2:conversion:hectolitre:millilitre</td><td>oneEquals</td><td>99999.99<span style=\"opacity:0.6;\">^^http://www.w3.org/2001/XMLSchema#float</span></td><td>100000.00000000001e0<span style=\"opacity:0.6;\">^^http://www.w3.org/2001/XMLSchema#double</span></td><td>oneEquals</td><td rowspan=\"1\">urn:qudt2:conversion:HectoL:MilliL</td></tr><tr><td rowspan=\"1\">urn:om2:conversion:hectometre:millimetre</td><td>oneEquals</td><td>99999.99<span style=\"opacity:0.6;\">^^http://www.w3.org/2001/XMLSchema#float</span></td><td>100000.0e0<span style=\"opacity:0.6;\">^^http://www.w3.org/2001/XMLSchema#double</span></td><td>oneEquals</td><td rowspan=\"1\">urn:qudt2:conversion:HectoM:MilliM</td></tr><tr><td rowspan=\"1\">urn:om2:conversion:hectometre:nanometre</td><td>oneEquals</td><td>9.9999998E10<span style=\"opacity:0.6;\">^^http://www.w3.org/2001/XMLSchema#float</span></td><td>1.0E11<span style=\"opacity:0.6;\">^^http://www.w3.org/2001/XMLSchema#double</span></td><td>oneEquals</td><td rowspan=\"1\">urn:qudt2:conversion:HectoM:NanoM</td></tr><tr><td rowspan=\"1\">urn:om2:conversion:henry:millihenry</td><td>oneEquals</td><td>999.99994<span style=\"opacity:0.6;\">^^http://www.w3.org/2001/XMLSchema#float</span></td><td>1000.0e0<span style=\"opacity:0.6;\">^^http://www.w3.org/2001/XMLSchema#double</span></td><td>oneEquals</td><td rowspan=\"1\">urn:qudt2:conversion:H:MilliH</td></tr><tr><td rowspan=\"1\">urn:om2:conversion:henry:nanohenry</td><td>oneEquals</td><td>1.0E9<span style=\"opacity:0.6;\">^^http://www.w3.org/2001/XMLSchema#float</span></td><td>9.999999999999999E8<span style=\"opacity:0.6;\">^^http://www.w3.org/2001/XMLSchema#double</span></td><td>oneEquals</td><td rowspan=\"1\">urn:qudt2:conversion:H:NanoH</td></tr><tr><td rowspan=\"1\">urn:om2:conversion:henry:stathenry</td><td>oneEquals</td><td>1.11265E-12<span style=\"opacity:0.6;\">^^http://www.w3.org/2001/XMLSchema#float</span></td><td>1.1126440874093194E-12<span style=\"opacity:0.6;\">^^http://www.w3.org/2001/XMLSchema#double</span></td><td>oneEquals</td><td rowspan=\"1\">urn:qudt2:conversion:H:H_Stat</td></tr><tr><td rowspan=\"1\">urn:om2:conversion:horsepower-Water:watt</td><td>oneEquals</td><td>7.46043e2<span style=\"opacity:0.6;\">^^http://www.w3.org/2001/XMLSchema#float</span></td><td>9809.5e0<span style=\"opacity:0.6;\">^^http://www.w3.org/2001/XMLSchema#double</span></td><td>oneEquals</td><td rowspan=\"1\">urn:qudt2:conversion:HP_Brake:W</td></tr><tr><td rowspan=\"1\">urn:om2:conversion:joule:millijoule</td><td>oneEquals</td><td>999.99994<span style=\"opacity:0.6;\">^^http://www.w3.org/2001/XMLSchema#float</span></td><td>1000.0e0<span style=\"opacity:0.6;\">^^http://www.w3.org/2001/XMLSchema#double</span></td><td>oneEquals</td><td rowspan=\"1\">urn:qudt2:conversion:J:MilliJ</td></tr><tr><td rowspan=\"1\">urn:om2:conversion:joule:therm-US</td><td>oneEquals</td><td>9.480434E-9<span style=\"opacity:0.6;\">^^http://www.w3.org/2001/XMLSchema#float</span></td><td>9.480434279733487E-9<span style=\"opacity:0.6;\">^^http://www.w3.org/2001/XMLSchema#double</span></td><td>oneEquals</td><td rowspan=\"1\">urn:qudt2:conversion:J:THM_US</td></tr><tr><td rowspan=\"1\">urn:om2:conversion:kiloampere:megaampere</td><td>oneEquals</td><td>9.999999E-4<span style=\"opacity:0.6;\">^^http://www.w3.org/2001/XMLSchema#float</span></td><td>1.0300000000000002E-9<span style=\"opacity:0.6;\">^^http://www.w3.org/2001/XMLSchema#double</span></td><td>oneEquals</td><td rowspan=\"1\">urn:qudt2:conversion:KiloA:MegaA</td></tr><tr><td rowspan=\"1\">urn:om2:conversion:kiloampere:microampere</td><td>oneEquals</td><td>9.9999994E8<span style=\"opacity:0.6;\">^^http://www.w3.org/2001/XMLSchema#float</span></td><td>1030.0000000000002e0<span style=\"opacity:0.6;\">^^http://www.w3.org/2001/XMLSchema#double</span></td><td>oneEquals</td><td rowspan=\"1\">urn:qudt2:conversion:KiloA:MicroA</td></tr><tr><td rowspan=\"1\">urn:om2:conversion:kiloampere:milliampere</td><td>oneEquals</td><td>999999.9<span style=\"opacity:0.6;\">^^http://www.w3.org/2001/XMLSchema#float</span></td><td>1.03e0<span style=\"opacity:0.6;\">^^http://www.w3.org/2001/XMLSchema#double</span></td><td>oneEquals</td><td rowspan=\"1\">urn:qudt2:conversion:KiloA:MilliA</td></tr><tr><td rowspan=\"1\">urn:om2:conversion:kiloampere:nanoampere</td><td>oneEquals</td><td>9.9999993E11<span style=\"opacity:0.6;\">^^http://www.w3.org/2001/XMLSchema#float</span></td><td>1030000.0e0<span style=\"opacity:0.6;\">^^http://www.w3.org/2001/XMLSchema#double</span></td><td>oneEquals</td><td rowspan=\"1\">urn:qudt2:conversion:KiloA:NanoA</td></tr><tr><td rowspan=\"1\">urn:om2:conversion:kiloampere:picoampere</td><td>oneEquals</td><td>9.9999992E14<span style=\"opacity:0.6;\">^^http://www.w3.org/2001/XMLSchema#float</span></td><td>1.0300000000000001E9<span style=\"opacity:0.6;\">^^http://www.w3.org/2001/XMLSchema#double</span></td><td>oneEquals</td><td rowspan=\"1\">urn:qudt2:conversion:KiloA:PicoA</td></tr><tr><td rowspan=\"1\">urn:om2:conversion:kilobecquerel:megabecquerel</td><td>oneEquals</td><td>9.999999E-4<span style=\"opacity:0.6;\">^^http://www.w3.org/2001/XMLSchema#float</span></td><td>0.001e0<span style=\"opacity:0.6;\">^^http://www.w3.org/2001/XMLSchema#double</span></td><td>oneEquals</td><td rowspan=\"1\">urn:qudt2:conversion:KiloBQ:MegaBQ</td></tr><tr><td rowspan=\"1\">urn:om2:conversion:kilobecquerel:microbecquerel</td><td>oneEquals</td><td>9.9999994E8<span style=\"opacity:0.6;\">^^http://www.w3.org/2001/XMLSchema#float</span></td><td>1.0E9<span style=\"opacity:0.6;\">^^http://www.w3.org/2001/XMLSchema#double</span></td><td>oneEquals</td><td rowspan=\"1\">urn:qudt2:conversion:KiloBQ:MicroBQ</td></tr><tr><td rowspan=\"1\">urn:om2:conversion:kilobyte:megabyte</td><td>oneEquals</td><td>9.999999E-4<span style=\"opacity:0.6;\">^^http://www.w3.org/2001/XMLSchema#float</span></td><td>9.765625E-4<span style=\"opacity:0.6;\">^^http://www.w3.org/2001/XMLSchema#double</span></td><td>oneEquals</td><td rowspan=\"1\">urn:qudt2:conversion:KiloBYTE:MegaBYTE</td></tr><tr><td rowspan=\"1\">urn:om2:conversion:kilobyte:pebibyte</td><td>oneEquals</td><td>8.8817837E-13<span style=\"opacity:0.6;\">^^http://www.w3.org/2001/XMLSchema#float</span></td><td>9.094947017729282E-13<span style=\"opacity:0.6;\">^^http://www.w3.org/2001/XMLSchema#double</span></td><td>oneEquals</td><td rowspan=\"1\">urn:qudt2:conversion:KiloBYTE:PebiBYTE</td></tr><tr><td rowspan=\"1\">urn:om2:conversion:kilobyte:petabyte</td><td>oneEquals</td><td>1.0E-12<span style=\"opacity:0.6;\">^^http://www.w3.org/2001/XMLSchema#float</span></td><td>1.024E-12<span style=\"opacity:0.6;\">^^http://www.w3.org/2001/XMLSchema#double</span></td><td>oneEquals</td><td rowspan=\"1\">urn:qudt2:conversion:KiloBYTE:PetaBYTE</td></tr><tr><td rowspan=\"1\">urn:om2:conversion:kilobyte:terabyte</td><td>oneEquals</td><td>1.0E-9<span style=\"opacity:0.6;\">^^http://www.w3.org/2001/XMLSchema#float</span></td><td>9.765625E-4<span style=\"opacity:0.6;\">^^http://www.w3.org/2001/XMLSchema#double</span></td><td>oneEquals</td><td rowspan=\"1\">urn:qudt2:conversion:KiloBYTE:TeraBYTE</td></tr><tr><td rowspan=\"1\">urn:om2:conversion:kilocoulomb:megacoulomb</td><td>oneEquals</td><td>9.999999E-4<span style=\"opacity:0.6;\">^^http://www.w3.org/2001/XMLSchema#float</span></td><td>0.001e0<span style=\"opacity:0.6;\">^^http://www.w3.org/2001/XMLSchema#double</span></td><td>oneEquals</td><td rowspan=\"1\">urn:qudt2:conversion:KiloC:MegaC</td></tr><tr><td rowspan=\"1\">urn:om2:conversion:kilocoulomb:microcoulomb</td><td>oneEquals</td><td>9.9999994E8<span style=\"opacity:0.6;\">^^http://www.w3.org/2001/XMLSchema#float</span></td><td>1.0E9<span style=\"opacity:0.6;\">^^http://www.w3.org/2001/XMLSchema#double</span></td><td>oneEquals</td><td rowspan=\"1\">urn:qudt2:conversion:KiloC:MicroC</td></tr><tr><td rowspan=\"1\">urn:om2:conversion:kilocoulomb:millicoulomb</td><td>oneEquals</td><td>999999.9<span style=\"opacity:0.6;\">^^http://www.w3.org/2001/XMLSchema#float</span></td><td>1000000.0e0<span style=\"opacity:0.6;\">^^http://www.w3.org/2001/XMLSchema#double</span></td><td>oneEquals</td><td rowspan=\"1\">urn:qudt2:conversion:KiloC:MilliC</td></tr><tr><td rowspan=\"1\">urn:om2:conversion:kilocoulomb:nanocoulomb</td><td>oneEquals</td><td>9.9999993E11<span style=\"opacity:0.6;\">^^http://www.w3.org/2001/XMLSchema#float</span></td><td>9.999999999999999E11<span style=\"opacity:0.6;\">^^http://www.w3.org/2001/XMLSchema#double</span></td><td>oneEquals</td><td rowspan=\"1\">urn:qudt2:conversion:KiloC:NanoC</td></tr><tr><td rowspan=\"1\">urn:om2:conversion:kilocoulomb:picocoulomb</td><td>oneEquals</td><td>9.9999992E14<span style=\"opacity:0.6;\">^^http://www.w3.org/2001/XMLSchema#float</span></td><td>1.0E15<span style=\"opacity:0.6;\">^^http://www.w3.org/2001/XMLSchema#double</span></td><td>oneEquals</td><td rowspan=\"1\">urn:qudt2:conversion:KiloC:PicoC</td></tr><tr><td rowspan=\"1\">urn:om2:conversion:kilocoulomb:yottacoulomb</td><td>oneEquals</td><td>1.0E-21<span style=\"opacity:0.6;\">^^http://www.w3.org/2001/XMLSchema#float</span></td><td>1.0000000000000001E-21<span style=\"opacity:0.6;\">^^http://www.w3.org/2001/XMLSchema#double</span></td><td>oneEquals</td><td rowspan=\"1\">urn:qudt2:conversion:KiloC:YottaC</td></tr><tr><td rowspan=\"1\">urn:om2:conversion:kilocoulomb:zeptocoulomb</td><td>oneEquals</td><td>9.9999994E23<span style=\"opacity:0.6;\">^^http://www.w3.org/2001/XMLSchema#float</span></td><td>1.0000000000000001E24<span style=\"opacity:0.6;\">^^http://www.w3.org/2001/XMLSchema#double</span></td><td>oneEquals</td><td rowspan=\"1\">urn:qudt2:conversion:KiloC:ZeptoC</td></tr><tr><td rowspan=\"1\">urn:om2:conversion:kilocoulomb:zettacoulomb</td><td>oneEquals</td><td>9.999999E-19<span style=\"opacity:0.6;\">^^http://www.w3.org/2001/XMLSchema#float</span></td><td>1.0E-18<span style=\"opacity:0.6;\">^^http://www.w3.org/2001/XMLSchema#double</span></td><td>oneEquals</td><td rowspan=\"1\">urn:qudt2:conversion:KiloC:ZettaC</td></tr><tr><td rowspan=\"1\">urn:om2:conversion:kiloelectronvolt:megaelectronvolt</td><td>oneEquals</td><td>9.999999E-4<span style=\"opacity:0.6;\">^^http://www.w3.org/2001/XMLSchema#float</span></td><td>0.001e0<span style=\"opacity:0.6;\">^^http://www.w3.org/2001/XMLSchema#double</span></td><td>oneEquals</td><td rowspan=\"1\">urn:qudt2:conversion:KiloEV:MegaEV</td></tr><tr><td rowspan=\"1\">urn:om2:conversion:kilofarad:megafarad</td><td>oneEquals</td><td>9.999999E-4<span style=\"opacity:0.6;\">^^http://www.w3.org/2001/XMLSchema#float</span></td><td>0.001e0<span style=\"opacity:0.6;\">^^http://www.w3.org/2001/XMLSchema#double</span></td><td>oneEquals</td><td rowspan=\"1\">urn:qudt2:conversion:KiloBAR:MegaBAR</td></tr><tr><td rowspan=\"1\">urn:om2:conversion:kilogram:megagram</td><td>oneEquals</td><td>9.999999E-4<span style=\"opacity:0.6;\">^^http://www.w3.org/2001/XMLSchema#float</span></td><td>0.001e0<span style=\"opacity:0.6;\">^^http://www.w3.org/2001/XMLSchema#double</span></td><td>oneEquals</td><td rowspan=\"1\">urn:qudt2:conversion:KiloGM:MegaGM</td></tr><tr><td rowspan=\"1\">urn:om2:conversion:kilogram:microgram</td><td>oneEquals</td><td>9.9999994E8<span style=\"opacity:0.6;\">^^http://www.w3.org/2001/XMLSchema#float</span></td><td>9.999999999999999E8<span style=\"opacity:0.6;\">^^http://www.w3.org/2001/XMLSchema#double</span></td><td>oneEquals</td><td rowspan=\"1\">urn:qudt2:conversion:KiloGM:MicroGM</td></tr><tr><td rowspan=\"1\">urn:om2:conversion:kilogram:milligram</td><td>oneEquals</td><td>999999.9<span style=\"opacity:0.6;\">^^http://www.w3.org/2001/XMLSchema#float</span></td><td>1000000.0e0<span style=\"opacity:0.6;\">^^http://www.w3.org/2001/XMLSchema#double</span></td><td>oneEquals</td><td rowspan=\"1\">urn:qudt2:conversion:KiloGM:MilliGM</td></tr><tr><td rowspan=\"1\">urn:om2:conversion:kilogram:pennyweight-Troy</td><td>oneEquals</td><td>643.0149<span style=\"opacity:0.6;\">^^http://www.w3.org/2001/XMLSchema#float</span></td><td>643.014865217654e0<span style=\"opacity:0.6;\">^^http://www.w3.org/2001/XMLSchema#double</span></td><td>oneEquals</td><td rowspan=\"1\">urn:qudt2:conversion:KiloGM:Pennyweight</td></tr><tr><td rowspan=\"1\">urn:om2:conversion:kilogram:slug</td><td>oneEquals</td><td>0.06852178<span style=\"opacity:0.6;\">^^http://www.w3.org/2001/XMLSchema#float</span></td><td>0.06852176556196105e0<span style=\"opacity:0.6;\">^^http://www.w3.org/2001/XMLSchema#double</span></td><td>oneEquals</td><td rowspan=\"1\">urn:qudt2:conversion:KiloGM:SLUG</td></tr><tr><td rowspan=\"1\">urn:om2:conversion:kilogram:ton-Long</td><td>oneEquals</td><td>9.842064E-4<span style=\"opacity:0.6;\">^^http://www.w3.org/2001/XMLSchema#float</span></td><td>9.84251968503937E-4<span style=\"opacity:0.6;\">^^http://www.w3.org/2001/XMLSchema#double</span></td><td>oneEquals</td><td rowspan=\"1\">urn:qudt2:conversion:KiloGM:TON_UK</td></tr><tr><td rowspan=\"1\">urn:om2:conversion:kilogram:ton-Short</td><td>oneEquals</td><td>0.0011023114<span style=\"opacity:0.6;\">^^http://www.w3.org/2001/XMLSchema#float</span></td><td>0.001102311359527999e0<span style=\"opacity:0.6;\">^^http://www.w3.org/2001/XMLSchema#double</span></td><td>oneEquals</td><td rowspan=\"1\">urn:qudt2:conversion:KiloGM:TON_US</td></tr><tr><td rowspan=\"1\">urn:om2:conversion:kilohertz:megahertz</td><td>oneEquals</td><td>9.999999E-4<span style=\"opacity:0.6;\">^^http://www.w3.org/2001/XMLSchema#float</span></td><td>0.001e0<span style=\"opacity:0.6;\">^^http://www.w3.org/2001/XMLSchema#double</span></td><td>oneEquals</td><td rowspan=\"1\">urn:qudt2:conversion:KiloHZ:MegaHZ</td></tr><tr><td rowspan=\"1\">urn:om2:conversion:kilohm:milliohm</td><td>oneEquals</td><td>999999.94<span style=\"opacity:0.6;\">^^http://www.w3.org/2001/XMLSchema#float</span></td><td>1000000.0e0<span style=\"opacity:0.6;\">^^http://www.w3.org/2001/XMLSchema#double</span></td><td>oneEquals</td><td rowspan=\"1\">urn:qudt2:conversion:KiloOHM:MilliOHM</td></tr><tr><td rowspan=\"1\">urn:om2:conversion:kilojoule:megajoule</td><td>oneEquals</td><td>9.999999E-4<span style=\"opacity:0.6;\">^^http://www.w3.org/2001/XMLSchema#float</span></td><td>0.001e0<span style=\"opacity:0.6;\">^^http://www.w3.org/2001/XMLSchema#double</span></td><td>oneEquals</td><td rowspan=\"1\">urn:qudt2:conversion:KiloJ:MegaJ</td></tr><tr><td rowspan=\"1\">urn:om2:conversion:kilojoule:millijoule</td><td>oneEquals</td><td>999999.9<span style=\"opacity:0.6;\">^^http://www.w3.org/2001/XMLSchema#float</span></td><td>1000000.0e0<span style=\"opacity:0.6;\">^^http://www.w3.org/2001/XMLSchema#double</span></td><td>oneEquals</td><td rowspan=\"1\">urn:qudt2:conversion:KiloJ:MilliJ</td></tr><tr><td rowspan=\"1\">urn:om2:conversion:kilolitre:megalitre</td><td>oneEquals</td><td>0.001<span style=\"opacity:0.6;\">^^http://www.w3.org/2001/XMLSchema#float</span></td><td>1.0E-6<span style=\"opacity:0.6;\">^^http://www.w3.org/2001/XMLSchema#double</span></td><td>oneEquals</td><td rowspan=\"1\">urn:qudt2:conversion:KiloL:MegaL</td></tr><tr><td rowspan=\"1\">urn:om2:conversion:kilolitre:microlitre</td><td>oneEquals</td><td>1.0E9<span style=\"opacity:0.6;\">^^http://www.w3.org/2001/XMLSchema#float</span></td><td>9.999999999999999E8<span style=\"opacity:0.6;\">^^http://www.w3.org/2001/XMLSchema#double</span></td><td>oneEquals</td><td rowspan=\"1\">urn:qudt2:conversion:KiloL:MicroL</td></tr><tr><td rowspan=\"1\">urn:om2:conversion:kilolitre:millilitre</td><td>oneEquals</td><td>999999.94<span style=\"opacity:0.6;\">^^http://www.w3.org/2001/XMLSchema#float</span></td><td>1000000.0e0<span style=\"opacity:0.6;\">^^http://www.w3.org/2001/XMLSchema#double</span></td><td>oneEquals</td><td rowspan=\"1\">urn:qudt2:conversion:KiloL:MilliL</td></tr><tr><td rowspan=\"1\">urn:om2:conversion:kilometre:millimetre</td><td>oneEquals</td><td>999999.94<span style=\"opacity:0.6;\">^^http://www.w3.org/2001/XMLSchema#float</span></td><td>1000000.0e0<span style=\"opacity:0.6;\">^^http://www.w3.org/2001/XMLSchema#double</span></td><td>oneEquals</td><td rowspan=\"1\">urn:qudt2:conversion:KiloM:MilliM</td></tr><tr><td rowspan=\"1\">urn:om2:conversion:kilometre:nanometre</td><td>oneEquals</td><td>1.0E12<span style=\"opacity:0.6;\">^^http://www.w3.org/2001/XMLSchema#float</span></td><td>9.999999999999999E11<span style=\"opacity:0.6;\">^^http://www.w3.org/2001/XMLSchema#double</span></td><td>oneEquals</td><td rowspan=\"1\">urn:qudt2:conversion:KiloM:NanoM</td></tr><tr><td rowspan=\"1\">urn:om2:conversion:kilometre:picometre</td><td>oneEquals</td><td>9.9999999E14<span style=\"opacity:0.6;\">^^http://www.w3.org/2001/XMLSchema#float</span></td><td>1.0E15<span style=\"opacity:0.6;\">^^http://www.w3.org/2001/XMLSchema#double</span></td><td>oneEquals</td><td rowspan=\"1\">urn:qudt2:conversion:KiloM:PicoM</td></tr><tr><td rowspan=\"1\">urn:om2:conversion:kilomole:millimole</td><td>oneEquals</td><td>999999.94<span style=\"opacity:0.6;\">^^http://www.w3.org/2001/XMLSchema#float</span></td><td>1000000.0e0<span style=\"opacity:0.6;\">^^http://www.w3.org/2001/XMLSchema#double</span></td><td>oneEquals</td><td rowspan=\"1\">urn:qudt2:conversion:KiloMOL:MilliMOL</td></tr><tr><td rowspan=\"1\">urn:om2:conversion:kilonewton:millinewton</td><td>oneEquals</td><td>999999.94<span style=\"opacity:0.6;\">^^http://www.w3.org/2001/XMLSchema#float</span></td><td>1000000.0e0<span style=\"opacity:0.6;\">^^http://www.w3.org/2001/XMLSchema#double</span></td><td>oneEquals</td><td rowspan=\"1\">urn:qudt2:conversion:KiloN:MilliN</td></tr><tr><td rowspan=\"1\">urn:om2:conversion:kilosecond-Time:millisecond-Time</td><td>oneEquals</td><td>999999.94<span style=\"opacity:0.6;\">^^http://www.w3.org/2001/XMLSchema#float</span></td><td>1000000.0e0<span style=\"opacity:0.6;\">^^http://www.w3.org/2001/XMLSchema#double</span></td><td>oneEquals</td><td rowspan=\"1\">urn:qudt2:conversion:KiloSEC:MilliSEC</td></tr><tr><td rowspan=\"1\">urn:om2:conversion:kilosecond-Time:nanosecond-Time</td><td>oneEquals</td><td>1.0E12<span style=\"opacity:0.6;\">^^http://www.w3.org/2001/XMLSchema#float</span></td><td>9.999999999999999E11<span style=\"opacity:0.6;\">^^http://www.w3.org/2001/XMLSchema#double</span></td><td>oneEquals</td><td rowspan=\"1\">urn:qudt2:conversion:KiloSEC:NanoSEC</td></tr><tr><td rowspan=\"1\">urn:om2:conversion:kilosecond-Time:picosecond-Time</td><td>oneEquals</td><td>9.9999999E14<span style=\"opacity:0.6;\">^^http://www.w3.org/2001/XMLSchema#float</span></td><td>1.0E15<span style=\"opacity:0.6;\">^^http://www.w3.org/2001/XMLSchema#double</span></td><td>oneEquals</td><td rowspan=\"1\">urn:qudt2:conversion:KiloSEC:PicoSEC</td></tr><tr><td rowspan=\"1\">urn:om2:conversion:kilosiemens:millisiemens</td><td>oneEquals</td><td>999999.94<span style=\"opacity:0.6;\">^^http://www.w3.org/2001/XMLSchema#float</span></td><td>1000000.0e0<span style=\"opacity:0.6;\">^^http://www.w3.org/2001/XMLSchema#double</span></td><td>oneEquals</td><td rowspan=\"1\">urn:qudt2:conversion:KiloS:MilliS</td></tr><tr><td rowspan=\"1\">urn:om2:conversion:kilovolt:millivolt</td><td>oneEquals</td><td>999999.94<span style=\"opacity:0.6;\">^^http://www.w3.org/2001/XMLSchema#float</span></td><td>1000000.0e0<span style=\"opacity:0.6;\">^^http://www.w3.org/2001/XMLSchema#double</span></td><td>oneEquals</td><td rowspan=\"1\">urn:qudt2:conversion:KiloV:MilliV</td></tr><tr><td rowspan=\"1\">urn:om2:conversion:lightYear:metre</td><td>oneEquals</td><td>9.46073e15<span style=\"opacity:0.6;\">^^http://www.w3.org/2001/XMLSchema#float</span></td><td>9.4607304725808E15<span style=\"opacity:0.6;\">^^http://www.w3.org/2001/XMLSchema#double</span></td><td>oneEquals</td><td rowspan=\"1\">urn:qudt2:conversion:LY:M</td></tr><tr><td rowspan=\"1\">urn:om2:conversion:megaampere:milliampere</td><td>oneEquals</td><td>9.9999994E8<span style=\"opacity:0.6;\">^^http://www.w3.org/2001/XMLSchema#float</span></td><td>1.0E9<span style=\"opacity:0.6;\">^^http://www.w3.org/2001/XMLSchema#double</span></td><td>oneEquals</td><td rowspan=\"1\">urn:qudt2:conversion:MegaA:MilliA</td></tr><tr><td rowspan=\"1\">urn:om2:conversion:megaampere:nanoampere</td><td>oneEquals</td><td>9.9999999E14<span style=\"opacity:0.6;\">^^http://www.w3.org/2001/XMLSchema#float</span></td><td>1.0E15<span style=\"opacity:0.6;\">^^http://www.w3.org/2001/XMLSchema#double</span></td><td>oneEquals</td><td rowspan=\"1\">urn:qudt2:conversion:MegaA:NanoA</td></tr><tr><td rowspan=\"1\">urn:om2:conversion:megaampere:picoampere</td><td>oneEquals</td><td>9.9999998E17<span style=\"opacity:0.6;\">^^http://www.w3.org/2001/XMLSchema#float</span></td><td>1.0E18<span style=\"opacity:0.6;\">^^http://www.w3.org/2001/XMLSchema#double</span></td><td>oneEquals</td><td rowspan=\"1\">urn:qudt2:conversion:MegaA:PicoA</td></tr><tr><td rowspan=\"1\">urn:om2:conversion:megabyte:pebibyte</td><td>oneEquals</td><td>8.881784E-10<span style=\"opacity:0.6;\">^^http://www.w3.org/2001/XMLSchema#float</span></td><td>9.313225746154785E-10<span style=\"opacity:0.6;\">^^http://www.w3.org/2001/XMLSchema#double</span></td><td>oneEquals</td><td rowspan=\"1\">urn:qudt2:conversion:MegaBYTE:PebiBYTE</td></tr><tr><td rowspan=\"1\">urn:om2:conversion:megabyte:petabyte</td><td>oneEquals</td><td>1.0E-9<span style=\"opacity:0.6;\">^^http://www.w3.org/2001/XMLSchema#float</span></td><td>1.048576E-9<span style=\"opacity:0.6;\">^^http://www.w3.org/2001/XMLSchema#double</span></td><td>oneEquals</td><td rowspan=\"1\">urn:qudt2:conversion:MegaBYTE:PetaBYTE</td></tr><tr><td rowspan=\"1\">urn:om2:conversion:megabyte:terabyte</td><td>oneEquals</td><td>1.0E-6<span style=\"opacity:0.6;\">^^http://www.w3.org/2001/XMLSchema#float</span></td><td>1.0e0<span style=\"opacity:0.6;\">^^http://www.w3.org/2001/XMLSchema#double</span></td><td>oneEquals</td><td rowspan=\"1\">urn:qudt2:conversion:MegaBYTE:TeraBYTE</td></tr><tr><td rowspan=\"1\">urn:om2:conversion:megacoulomb:millicoulomb</td><td>oneEquals</td><td>9.9999994E8<span style=\"opacity:0.6;\">^^http://www.w3.org/2001/XMLSchema#float</span></td><td>1.0E9<span style=\"opacity:0.6;\">^^http://www.w3.org/2001/XMLSchema#double</span></td><td>oneEquals</td><td rowspan=\"1\">urn:qudt2:conversion:MegaC:MilliC</td></tr><tr><td rowspan=\"1\">urn:om2:conversion:megacoulomb:nanocoulomb</td><td>oneEquals</td><td>9.9999999E14<span style=\"opacity:0.6;\">^^http://www.w3.org/2001/XMLSchema#float</span></td><td>1.0E15<span style=\"opacity:0.6;\">^^http://www.w3.org/2001/XMLSchema#double</span></td><td>oneEquals</td><td rowspan=\"1\">urn:qudt2:conversion:MegaC:NanoC</td></tr><tr><td rowspan=\"1\">urn:om2:conversion:megacoulomb:picocoulomb</td><td>oneEquals</td><td>9.9999998E17<span style=\"opacity:0.6;\">^^http://www.w3.org/2001/XMLSchema#float</span></td><td>1.0E18<span style=\"opacity:0.6;\">^^http://www.w3.org/2001/XMLSchema#double</span></td><td>oneEquals</td><td rowspan=\"1\">urn:qudt2:conversion:MegaC:PicoC</td></tr><tr><td rowspan=\"1\">urn:om2:conversion:megacoulomb:zeptocoulomb</td><td>oneEquals</td><td>1.0E27<span style=\"opacity:0.6;\">^^http://www.w3.org/2001/XMLSchema#float</span></td><td>1.0000000000000002E27<span style=\"opacity:0.6;\">^^http://www.w3.org/2001/XMLSchema#double</span></td><td>oneEquals</td><td rowspan=\"1\">urn:qudt2:conversion:MegaC:ZeptoC</td></tr><tr><td rowspan=\"1\">urn:om2:conversion:megagram:microgram</td><td>oneEquals</td><td>1.0E12<span style=\"opacity:0.6;\">^^http://www.w3.org/2001/XMLSchema#float</span></td><td>9.999999999999999E11<span style=\"opacity:0.6;\">^^http://www.w3.org/2001/XMLSchema#double</span></td><td>oneEquals</td><td rowspan=\"1\">urn:qudt2:conversion:MegaGM:MicroGM</td></tr><tr><td rowspan=\"1\">urn:om2:conversion:megagram:milligram</td><td>oneEquals</td><td>9.9999994E8<span style=\"opacity:0.6;\">^^http://www.w3.org/2001/XMLSchema#float</span></td><td>1.0E9<span style=\"opacity:0.6;\">^^http://www.w3.org/2001/XMLSchema#double</span></td><td>oneEquals</td><td rowspan=\"1\">urn:qudt2:conversion:MegaGM:MilliGM</td></tr><tr><td rowspan=\"1\">urn:om2:conversion:megajoule:millijoule</td><td>oneEquals</td><td>9.9999994E8<span style=\"opacity:0.6;\">^^http://www.w3.org/2001/XMLSchema#float</span></td><td>1.0E9<span style=\"opacity:0.6;\">^^http://www.w3.org/2001/XMLSchema#double</span></td><td>oneEquals</td><td rowspan=\"1\">urn:qudt2:conversion:MegaJ:MilliJ</td></tr><tr><td rowspan=\"1\">urn:om2:conversion:megalitre:microlitre</td><td>oneEquals</td><td>1.0E12<span style=\"opacity:0.6;\">^^http://www.w3.org/2001/XMLSchema#float</span></td><td>1.0E15<span style=\"opacity:0.6;\">^^http://www.w3.org/2001/XMLSchema#double</span></td><td>oneEquals</td><td rowspan=\"1\">urn:qudt2:conversion:MegaL:MicroL</td></tr><tr><td rowspan=\"1\">urn:om2:conversion:megalitre:millilitre</td><td>oneEquals</td><td>9.9999994E8<span style=\"opacity:0.6;\">^^http://www.w3.org/2001/XMLSchema#float</span></td><td>1.0E12<span style=\"opacity:0.6;\">^^http://www.w3.org/2001/XMLSchema#double</span></td><td>oneEquals</td><td rowspan=\"1\">urn:qudt2:conversion:MegaL:MilliL</td></tr><tr><td rowspan=\"1\">urn:om2:conversion:meganewton:millinewton</td><td>oneEquals</td><td>9.9999994E8<span style=\"opacity:0.6;\">^^http://www.w3.org/2001/XMLSchema#float</span></td><td>1.0E9<span style=\"opacity:0.6;\">^^http://www.w3.org/2001/XMLSchema#double</span></td><td>oneEquals</td><td rowspan=\"1\">urn:qudt2:conversion:MegaN:MilliN</td></tr><tr><td rowspan=\"1\">urn:om2:conversion:megapascal:millipascal</td><td>oneEquals</td><td>9.9999994E8<span style=\"opacity:0.6;\">^^http://www.w3.org/2001/XMLSchema#float</span></td><td>1.0E9<span style=\"opacity:0.6;\">^^http://www.w3.org/2001/XMLSchema#double</span></td><td>oneEquals</td><td rowspan=\"1\">urn:qudt2:conversion:MegaPA:MilliPA</td></tr><tr><td rowspan=\"1\">urn:om2:conversion:megasiemens:nanosiemens</td><td>oneEquals</td><td>1.00000005E15<span style=\"opacity:0.6;\">^^http://www.w3.org/2001/XMLSchema#float</span></td><td>1.0E15<span style=\"opacity:0.6;\">^^http://www.w3.org/2001/XMLSchema#double</span></td><td>oneEquals</td><td rowspan=\"1\">urn:qudt2:conversion:MegaS-PER-M:NanoS-PER-M</td></tr><tr><td rowspan=\"1\">urn:om2:conversion:megavolt:millivolt</td><td>oneEquals</td><td>9.9999994E8<span style=\"opacity:0.6;\">^^http://www.w3.org/2001/XMLSchema#float</span></td><td>1.0E9<span style=\"opacity:0.6;\">^^http://www.w3.org/2001/XMLSchema#double</span></td><td>oneEquals</td><td rowspan=\"1\">urn:qudt2:conversion:MegaV:MilliV</td></tr><tr><td rowspan=\"1\">urn:om2:conversion:megohm:milliohm</td><td>oneEquals</td><td>9.9999994E8<span style=\"opacity:0.6;\">^^http://www.w3.org/2001/XMLSchema#float</span></td><td>1.0E9<span style=\"opacity:0.6;\">^^http://www.w3.org/2001/XMLSchema#double</span></td><td>oneEquals</td><td rowspan=\"1\">urn:qudt2:conversion:MegaOHM:MilliOHM</td></tr><tr><td rowspan=\"1\">urn:om2:conversion:metre:micron</td><td>oneEquals</td><td>1000000.0<span style=\"opacity:0.6;\">^^http://www.w3.org/2001/XMLSchema#float</span></td><td>3.9370078740157485E7<span style=\"opacity:0.6;\">^^http://www.w3.org/2001/XMLSchema#double</span></td><td>oneEquals</td><td rowspan=\"1\">urn:qudt2:conversion:M:MicroIN</td></tr><tr><td rowspan=\"1\">urn:om2:conversion:metre:mile-Statute</td><td>oneEquals</td><td>6.213712E-4<span style=\"opacity:0.6;\">^^http://www.w3.org/2001/XMLSchema#float</span></td><td>6.213700339330175E-4<span style=\"opacity:0.6;\">^^http://www.w3.org/2001/XMLSchema#double</span></td><td>oneEquals</td><td rowspan=\"1\">urn:qudt2:conversion:M:MI_US</td></tr><tr><td rowspan=\"1\">urn:om2:conversion:metre:millimetre</td><td>oneEquals</td><td>999.99994<span style=\"opacity:0.6;\">^^http://www.w3.org/2001/XMLSchema#float</span></td><td>1000.0e0<span style=\"opacity:0.6;\">^^http://www.w3.org/2001/XMLSchema#double</span></td><td>oneEquals</td><td rowspan=\"1\">urn:qudt2:conversion:M:MilliM</td></tr><tr><td rowspan=\"1\">urn:om2:conversion:metre:nanometre</td><td>oneEquals</td><td>1.0E9<span style=\"opacity:0.6;\">^^http://www.w3.org/2001/XMLSchema#float</span></td><td>9.999999999999999E8<span style=\"opacity:0.6;\">^^http://www.w3.org/2001/XMLSchema#double</span></td><td>oneEquals</td><td rowspan=\"1\">urn:qudt2:conversion:M:NanoM</td></tr><tr><td rowspan=\"1\">urn:om2:conversion:metre:parsec</td><td>oneEquals</td><td>3.240779E-17<span style=\"opacity:0.6;\">^^http://www.w3.org/2001/XMLSchema#float</span></td><td>3.2407788498994385E-17<span style=\"opacity:0.6;\">^^http://www.w3.org/2001/XMLSchema#double</span></td><td>oneEquals</td><td rowspan=\"1\">urn:qudt2:conversion:M:PARSEC</td></tr><tr><td rowspan=\"1\">urn:om2:conversion:metre:point-ATA</td><td>oneEquals</td><td>2845.2756<span style=\"opacity:0.6;\">^^http://www.w3.org/2001/XMLSchema#float</span></td><td>39370.07874015748e0<span style=\"opacity:0.6;\">^^http://www.w3.org/2001/XMLSchema#double</span></td><td>oneEquals</td><td rowspan=\"1\">urn:qudt2:conversion:M:PT</td></tr><tr><td rowspan=\"1\">urn:om2:conversion:metre:rod-US</td><td>oneEquals</td><td>0.19883838<span style=\"opacity:0.6;\">^^http://www.w3.org/2001/XMLSchema#float</span></td><td>0.19883838614812266e0<span style=\"opacity:0.6;\">^^http://www.w3.org/2001/XMLSchema#double</span></td><td>oneEquals</td><td rowspan=\"1\">urn:qudt2:conversion:M:ROD</td></tr><tr><td rowspan=\"1\">urn:om2:conversion:microampere:milliampere</td><td>oneEquals</td><td>9.999999E-4<span style=\"opacity:0.6;\">^^http://www.w3.org/2001/XMLSchema#float</span></td><td>0.001e0<span style=\"opacity:0.6;\">^^http://www.w3.org/2001/XMLSchema#double</span></td><td>oneEquals</td><td rowspan=\"1\">urn:qudt2:conversion:MicroA:MilliA</td></tr><tr><td rowspan=\"1\">urn:om2:conversion:microampere:nanoampere</td><td>oneEquals</td><td>1000.0<span style=\"opacity:0.6;\">^^http://www.w3.org/2001/XMLSchema#float</span></td><td>999.9999999999999e0<span style=\"opacity:0.6;\">^^http://www.w3.org/2001/XMLSchema#double</span></td><td>oneEquals</td><td rowspan=\"1\">urn:qudt2:conversion:MicroA:NanoA</td></tr><tr><td rowspan=\"1\">urn:om2:conversion:microcoulomb:millicoulomb</td><td>oneEquals</td><td>9.999999E-4<span style=\"opacity:0.6;\">^^http://www.w3.org/2001/XMLSchema#float</span></td><td>0.001e0<span style=\"opacity:0.6;\">^^http://www.w3.org/2001/XMLSchema#double</span></td><td>oneEquals</td><td rowspan=\"1\">urn:qudt2:conversion:MicroC:MilliC</td></tr><tr><td rowspan=\"1\">urn:om2:conversion:microcoulomb:nanocoulomb</td><td>oneEquals</td><td>1000.0<span style=\"opacity:0.6;\">^^http://www.w3.org/2001/XMLSchema#float</span></td><td>999.9999999999999e0<span style=\"opacity:0.6;\">^^http://www.w3.org/2001/XMLSchema#double</span></td><td>oneEquals</td><td rowspan=\"1\">urn:qudt2:conversion:MicroC:NanoC</td></tr><tr><td rowspan=\"1\">urn:om2:conversion:microcoulomb:teracoulomb</td><td>oneEquals</td><td>1.0E-18<span style=\"opacity:0.6;\">^^http://www.w3.org/2001/XMLSchema#float</span></td><td>9.999999999999999E-19<span style=\"opacity:0.6;\">^^http://www.w3.org/2001/XMLSchema#double</span></td><td>oneEquals</td><td rowspan=\"1\">urn:qudt2:conversion:MicroC:TeraC</td></tr><tr><td rowspan=\"1\">urn:om2:conversion:microcoulomb:yoctocoulomb</td><td>oneEquals</td><td>9.9999998E17<span style=\"opacity:0.6;\">^^http://www.w3.org/2001/XMLSchema#float</span></td><td>1.0E18<span style=\"opacity:0.6;\">^^http://www.w3.org/2001/XMLSchema#double</span></td><td>oneEquals</td><td rowspan=\"1\">urn:qudt2:conversion:MicroC:YoctoC</td></tr><tr><td rowspan=\"1\">urn:om2:conversion:microcoulomb:yottacoulomb</td><td>oneEquals</td><td>1.0E-30<span style=\"opacity:0.6;\">^^http://www.w3.org/2001/XMLSchema#float</span></td><td>9.999999999999999E-31<span style=\"opacity:0.6;\">^^http://www.w3.org/2001/XMLSchema#double</span></td><td>oneEquals</td><td rowspan=\"1\">urn:qudt2:conversion:MicroC:YottaC</td></tr><tr><td rowspan=\"1\">urn:om2:conversion:microcoulomb:zeptocoulomb</td><td>oneEquals</td><td>9.9999999E14<span style=\"opacity:0.6;\">^^http://www.w3.org/2001/XMLSchema#float</span></td><td>1.0E15<span style=\"opacity:0.6;\">^^http://www.w3.org/2001/XMLSchema#double</span></td><td>oneEquals</td><td rowspan=\"1\">urn:qudt2:conversion:MicroC:ZeptoC</td></tr><tr><td rowspan=\"1\">urn:om2:conversion:microcoulomb:zettacoulomb</td><td>oneEquals</td><td>9.999999E-28<span style=\"opacity:0.6;\">^^http://www.w3.org/2001/XMLSchema#float</span></td><td>1.0E-27<span style=\"opacity:0.6;\">^^http://www.w3.org/2001/XMLSchema#double</span></td><td>oneEquals</td><td rowspan=\"1\">urn:qudt2:conversion:MicroC:ZettaC</td></tr><tr><td rowspan=\"1\">urn:om2:conversion:microfarad:millifarad</td><td>oneEquals</td><td>9.999999E-4<span style=\"opacity:0.6;\">^^http://www.w3.org/2001/XMLSchema#float</span></td><td>0.001e0<span style=\"opacity:0.6;\">^^http://www.w3.org/2001/XMLSchema#double</span></td><td>oneEquals</td><td rowspan=\"1\">urn:qudt2:conversion:MicroFARAD:MilliFARAD</td></tr><tr><td rowspan=\"1\">urn:om2:conversion:microfarad:nanofarad</td><td>oneEquals</td><td>1000.0<span style=\"opacity:0.6;\">^^http://www.w3.org/2001/XMLSchema#float</span></td><td>999.9999999999999e0<span style=\"opacity:0.6;\">^^http://www.w3.org/2001/XMLSchema#double</span></td><td>oneEquals</td><td rowspan=\"1\">urn:qudt2:conversion:MicroFARAD:NanoFARAD</td></tr><tr><td rowspan=\"1\">urn:om2:conversion:microgram:milligram</td><td>oneEquals</td><td>9.999999E-4<span style=\"opacity:0.6;\">^^http://www.w3.org/2001/XMLSchema#float</span></td><td>0.001e0<span style=\"opacity:0.6;\">^^http://www.w3.org/2001/XMLSchema#double</span></td><td>oneEquals</td><td rowspan=\"1\">urn:qudt2:conversion:MicroGM:MilliGM</td></tr><tr><td rowspan=\"1\">urn:om2:conversion:microgray:milligray</td><td>oneEquals</td><td>9.999999E-4<span style=\"opacity:0.6;\">^^http://www.w3.org/2001/XMLSchema#float</span></td><td>0.001e0<span style=\"opacity:0.6;\">^^http://www.w3.org/2001/XMLSchema#double</span></td><td>oneEquals</td><td rowspan=\"1\">urn:qudt2:conversion:MicroGRAY:MilliGRAY</td></tr><tr><td rowspan=\"1\">urn:om2:conversion:microhenry:millihenry</td><td>oneEquals</td><td>9.999999E-4<span style=\"opacity:0.6;\">^^http://www.w3.org/2001/XMLSchema#float</span></td><td>0.001e0<span style=\"opacity:0.6;\">^^http://www.w3.org/2001/XMLSchema#double</span></td><td>oneEquals</td><td rowspan=\"1\">urn:qudt2:conversion:MicroH:MilliH</td></tr><tr><td rowspan=\"1\">urn:om2:conversion:microhenry:nanohenry</td><td>oneEquals</td><td>1000.0<span style=\"opacity:0.6;\">^^http://www.w3.org/2001/XMLSchema#float</span></td><td>999.9999999999999e0<span style=\"opacity:0.6;\">^^http://www.w3.org/2001/XMLSchema#double</span></td><td>oneEquals</td><td rowspan=\"1\">urn:qudt2:conversion:MicroH:NanoH</td></tr><tr><td rowspan=\"1\">urn:om2:conversion:microlitre:millilitre</td><td>oneEquals</td><td>9.999999E-4<span style=\"opacity:0.6;\">^^http://www.w3.org/2001/XMLSchema#float</span></td><td>0.001e0<span style=\"opacity:0.6;\">^^http://www.w3.org/2001/XMLSchema#double</span></td><td>oneEquals</td><td rowspan=\"1\">urn:qudt2:conversion:MicroL:MilliL</td></tr><tr><td rowspan=\"1\">urn:om2:conversion:micrometre:millimetre</td><td>oneEquals</td><td>9.999999E-4<span style=\"opacity:0.6;\">^^http://www.w3.org/2001/XMLSchema#float</span></td><td>0.001e0<span style=\"opacity:0.6;\">^^http://www.w3.org/2001/XMLSchema#double</span></td><td>oneEquals</td><td rowspan=\"1\">urn:qudt2:conversion:MicroM:MilliM</td></tr><tr><td rowspan=\"1\">urn:om2:conversion:micrometre:nanometre</td><td>oneEquals</td><td>1000.0<span style=\"opacity:0.6;\">^^http://www.w3.org/2001/XMLSchema#float</span></td><td>999.9999999999999e0<span style=\"opacity:0.6;\">^^http://www.w3.org/2001/XMLSchema#double</span></td><td>oneEquals</td><td rowspan=\"1\">urn:qudt2:conversion:MicroM:NanoM</td></tr><tr><td rowspan=\"1\">urn:om2:conversion:micromole:millimole</td><td>oneEquals</td><td>9.999999E-4<span style=\"opacity:0.6;\">^^http://www.w3.org/2001/XMLSchema#float</span></td><td>0.001e0<span style=\"opacity:0.6;\">^^http://www.w3.org/2001/XMLSchema#double</span></td><td>oneEquals</td><td rowspan=\"1\">urn:qudt2:conversion:MicroMOL:MilliMOL</td></tr><tr><td rowspan=\"1\">urn:om2:conversion:micronewton:millinewton</td><td>oneEquals</td><td>9.999999E-4<span style=\"opacity:0.6;\">^^http://www.w3.org/2001/XMLSchema#float</span></td><td>0.001e0<span style=\"opacity:0.6;\">^^http://www.w3.org/2001/XMLSchema#double</span></td><td>oneEquals</td><td rowspan=\"1\">urn:qudt2:conversion:MicroN:MilliN</td></tr><tr><td rowspan=\"1\">urn:om2:conversion:microohm:milliohm</td><td>oneEquals</td><td>9.999999E-4<span style=\"opacity:0.6;\">^^http://www.w3.org/2001/XMLSchema#float</span></td><td>0.001e0<span style=\"opacity:0.6;\">^^http://www.w3.org/2001/XMLSchema#double</span></td><td>oneEquals</td><td rowspan=\"1\">urn:qudt2:conversion:MicroOHM:MilliOHM</td></tr><tr><td rowspan=\"1\">urn:om2:conversion:microohm:teraohm</td><td>oneEquals</td><td>9.999999E-19<span style=\"opacity:0.6;\">^^http://www.w3.org/2001/XMLSchema#float</span></td><td>9.999999999999999E-19<span style=\"opacity:0.6;\">^^http://www.w3.org/2001/XMLSchema#double</span></td><td>oneEquals</td><td rowspan=\"1\">urn:qudt2:conversion:MicroOHM:TeraOHM</td></tr><tr><td rowspan=\"1\">urn:om2:conversion:micropascal:millipascal</td><td>oneEquals</td><td>9.999999E-4<span style=\"opacity:0.6;\">^^http://www.w3.org/2001/XMLSchema#float</span></td><td>0.001e0<span style=\"opacity:0.6;\">^^http://www.w3.org/2001/XMLSchema#double</span></td><td>oneEquals</td><td rowspan=\"1\">urn:qudt2:conversion:MicroPA:MilliPA</td></tr><tr><td rowspan=\"1\">urn:om2:conversion:microradian:milliradian</td><td>oneEquals</td><td>9.999999E-4<span style=\"opacity:0.6;\">^^http://www.w3.org/2001/XMLSchema#float</span></td><td>0.001e0<span style=\"opacity:0.6;\">^^http://www.w3.org/2001/XMLSchema#double</span></td><td>oneEquals</td><td rowspan=\"1\">urn:qudt2:conversion:MicroRAD:MilliRAD</td></tr><tr><td rowspan=\"1\">urn:om2:conversion:microsecond-Time:millisecond-Time</td><td>oneEquals</td><td>9.999999E-4<span style=\"opacity:0.6;\">^^http://www.w3.org/2001/XMLSchema#float</span></td><td>0.001e0<span style=\"opacity:0.6;\">^^http://www.w3.org/2001/XMLSchema#double</span></td><td>oneEquals</td><td rowspan=\"1\">urn:qudt2:conversion:MicroSEC:MilliSEC</td></tr><tr><td rowspan=\"1\">urn:om2:conversion:microsecond-Time:nanosecond-Time</td><td>oneEquals</td><td>1000.0<span style=\"opacity:0.6;\">^^http://www.w3.org/2001/XMLSchema#float</span></td><td>999.9999999999999e0<span style=\"opacity:0.6;\">^^http://www.w3.org/2001/XMLSchema#double</span></td><td>oneEquals</td><td rowspan=\"1\">urn:qudt2:conversion:MicroSEC:NanoSEC</td></tr><tr><td rowspan=\"1\">urn:om2:conversion:microsievert:millisievert</td><td>oneEquals</td><td>9.999999E-4<span style=\"opacity:0.6;\">^^http://www.w3.org/2001/XMLSchema#float</span></td><td>0.001e0<span style=\"opacity:0.6;\">^^http://www.w3.org/2001/XMLSchema#double</span></td><td>oneEquals</td><td rowspan=\"1\">urn:qudt2:conversion:MicroSV:MilliSV</td></tr><tr><td rowspan=\"1\">urn:om2:conversion:microsievert:sievert</td><td>oneEquals</td><td>1e-6<span style=\"opacity:0.6;\">^^http://www.w3.org/2001/XMLSchema#float</span></td><td>3599.997120002304e0<span style=\"opacity:0.6;\">^^http://www.w3.org/2001/XMLSchema#double</span></td><td>oneEquals</td><td rowspan=\"1\">urn:qudt2:conversion:MicroSV:MicroSV-PER-HR</td></tr><tr><td rowspan=\"1\">urn:om2:conversion:microtesla:millitesla</td><td>oneEquals</td><td>9.999999E-4<span style=\"opacity:0.6;\">^^http://www.w3.org/2001/XMLSchema#float</span></td><td>0.001e0<span style=\"opacity:0.6;\">^^http://www.w3.org/2001/XMLSchema#double</span></td><td>oneEquals</td><td rowspan=\"1\">urn:qudt2:conversion:MicroT:MilliT</td></tr><tr><td rowspan=\"1\">urn:om2:conversion:microtesla:nanotesla</td><td>oneEquals</td><td>1000.0<span style=\"opacity:0.6;\">^^http://www.w3.org/2001/XMLSchema#float</span></td><td>999.9999999999999e0<span style=\"opacity:0.6;\">^^http://www.w3.org/2001/XMLSchema#double</span></td><td>oneEquals</td><td rowspan=\"1\">urn:qudt2:conversion:MicroT:NanoT</td></tr><tr><td rowspan=\"1\">urn:om2:conversion:microvolt:millivolt</td><td>oneEquals</td><td>9.999999E-4<span style=\"opacity:0.6;\">^^http://www.w3.org/2001/XMLSchema#float</span></td><td>0.001e0<span style=\"opacity:0.6;\">^^http://www.w3.org/2001/XMLSchema#double</span></td><td>oneEquals</td><td rowspan=\"1\">urn:qudt2:conversion:MicroV:MilliV</td></tr><tr><td rowspan=\"1\">urn:om2:conversion:microwatt:nanowatt</td><td>oneEquals</td><td>1000.0<span style=\"opacity:0.6;\">^^http://www.w3.org/2001/XMLSchema#float</span></td><td>999.9999999999999e0<span style=\"opacity:0.6;\">^^http://www.w3.org/2001/XMLSchema#double</span></td><td>oneEquals</td><td rowspan=\"1\">urn:qudt2:conversion:MicroW:NanoW</td></tr><tr><td rowspan=\"1\">urn:om2:conversion:microwatt:terawatt</td><td>oneEquals</td><td>1.0E-18<span style=\"opacity:0.6;\">^^http://www.w3.org/2001/XMLSchema#float</span></td><td>9.999999999999999E-19<span style=\"opacity:0.6;\">^^http://www.w3.org/2001/XMLSchema#double</span></td><td>oneEquals</td><td rowspan=\"1\">urn:qudt2:conversion:MicroW:TeraW</td></tr><tr><td rowspan=\"1\">urn:om2:conversion:mil-Angle:radian</td><td>oneEquals</td><td>9.817477e-4<span style=\"opacity:0.6;\">^^http://www.w3.org/2001/XMLSchema#float</span></td><td>4.90873852E-4<span style=\"opacity:0.6;\">^^http://www.w3.org/2001/XMLSchema#double</span></td><td>oneEquals</td><td rowspan=\"1\">urn:qudt2:conversion:MIL:RAD</td></tr><tr><td rowspan=\"1\">urn:om2:conversion:milliampere:nanoampere</td><td>oneEquals</td><td>1000000.06<span style=\"opacity:0.6;\">^^http://www.w3.org/2001/XMLSchema#float</span></td><td>1000000.0e0<span style=\"opacity:0.6;\">^^http://www.w3.org/2001/XMLSchema#double</span></td><td>oneEquals</td><td rowspan=\"1\">urn:qudt2:conversion:MilliA:NanoA</td></tr><tr><td rowspan=\"1\">urn:om2:conversion:milliampere:picoampere</td><td>oneEquals</td><td>1.00000006E9<span style=\"opacity:0.6;\">^^http://www.w3.org/2001/XMLSchema#float</span></td><td>1.0E9<span style=\"opacity:0.6;\">^^http://www.w3.org/2001/XMLSchema#double</span></td><td>oneEquals</td><td rowspan=\"1\">urn:qudt2:conversion:MilliA:PicoA</td></tr><tr><td rowspan=\"1\">urn:om2:conversion:millicoulomb:nanocoulomb</td><td>oneEquals</td><td>1000000.06<span style=\"opacity:0.6;\">^^http://www.w3.org/2001/XMLSchema#float</span></td><td>1000000.0e0<span style=\"opacity:0.6;\">^^http://www.w3.org/2001/XMLSchema#double</span></td><td>oneEquals</td><td rowspan=\"1\">urn:qudt2:conversion:MilliC:NanoC</td></tr><tr><td rowspan=\"1\">urn:om2:conversion:millicoulomb:picocoulomb</td><td>oneEquals</td><td>1.00000006E9<span style=\"opacity:0.6;\">^^http://www.w3.org/2001/XMLSchema#float</span></td><td>1.0E9<span style=\"opacity:0.6;\">^^http://www.w3.org/2001/XMLSchema#double</span></td><td>oneEquals</td><td rowspan=\"1\">urn:qudt2:conversion:MilliC:PicoC</td></tr><tr><td rowspan=\"1\">urn:om2:conversion:millicoulomb:teracoulomb</td><td>oneEquals</td><td>1.0000001E-15<span style=\"opacity:0.6;\">^^http://www.w3.org/2001/XMLSchema#float</span></td><td>1.0E-15<span style=\"opacity:0.6;\">^^http://www.w3.org/2001/XMLSchema#double</span></td><td>oneEquals</td><td rowspan=\"1\">urn:qudt2:conversion:MilliC:TeraC</td></tr><tr><td rowspan=\"1\">urn:om2:conversion:millicoulomb:yoctocoulomb</td><td>oneEquals</td><td>1.0000001E21<span style=\"opacity:0.6;\">^^http://www.w3.org/2001/XMLSchema#float</span></td><td>1.0000000000000001E21<span style=\"opacity:0.6;\">^^http://www.w3.org/2001/XMLSchema#double</span></td><td>oneEquals</td><td rowspan=\"1\">urn:qudt2:conversion:MilliC:YoctoC</td></tr><tr><td rowspan=\"1\">urn:om2:conversion:millicoulomb:yottacoulomb</td><td>oneEquals</td><td>1.0000001E-27<span style=\"opacity:0.6;\">^^http://www.w3.org/2001/XMLSchema#float</span></td><td>1.0E-27<span style=\"opacity:0.6;\">^^http://www.w3.org/2001/XMLSchema#double</span></td><td>oneEquals</td><td rowspan=\"1\">urn:qudt2:conversion:MilliC:YottaC</td></tr><tr><td rowspan=\"1\">urn:om2:conversion:millicoulomb:zeptocoulomb</td><td>oneEquals</td><td>1.00000005E18<span style=\"opacity:0.6;\">^^http://www.w3.org/2001/XMLSchema#float</span></td><td>1.00000000000000013E18<span style=\"opacity:0.6;\">^^http://www.w3.org/2001/XMLSchema#double</span></td><td>oneEquals</td><td rowspan=\"1\">urn:qudt2:conversion:MilliC:ZeptoC</td></tr><tr><td rowspan=\"1\">urn:om2:conversion:millicoulomb:zettacoulomb</td><td>oneEquals</td><td>1.0E-24<span style=\"opacity:0.6;\">^^http://www.w3.org/2001/XMLSchema#float</span></td><td>1.0000000000000001E-24<span style=\"opacity:0.6;\">^^http://www.w3.org/2001/XMLSchema#double</span></td><td>oneEquals</td><td rowspan=\"1\">urn:qudt2:conversion:MilliC:ZettaC</td></tr><tr><td rowspan=\"1\">urn:om2:conversion:millifarad:nanofarad</td><td>oneEquals</td><td>1000000.06<span style=\"opacity:0.6;\">^^http://www.w3.org/2001/XMLSchema#float</span></td><td>1000000.0e0<span style=\"opacity:0.6;\">^^http://www.w3.org/2001/XMLSchema#double</span></td><td>oneEquals</td><td rowspan=\"1\">urn:qudt2:conversion:MilliFARAD:NanoFARAD</td></tr><tr><td rowspan=\"1\">urn:om2:conversion:millifarad:picofarad</td><td>oneEquals</td><td>1.00000006E9<span style=\"opacity:0.6;\">^^http://www.w3.org/2001/XMLSchema#float</span></td><td>1.0E9<span style=\"opacity:0.6;\">^^http://www.w3.org/2001/XMLSchema#double</span></td><td>oneEquals</td><td rowspan=\"1\">urn:qudt2:conversion:MilliFARAD:PicoFARAD</td></tr><tr><td rowspan=\"1\">urn:om2:conversion:millihenry:nanohenry</td><td>oneEquals</td><td>1000000.06<span style=\"opacity:0.6;\">^^http://www.w3.org/2001/XMLSchema#float</span></td><td>1000000.0e0<span style=\"opacity:0.6;\">^^http://www.w3.org/2001/XMLSchema#double</span></td><td>oneEquals</td><td rowspan=\"1\">urn:qudt2:conversion:MilliH:NanoH</td></tr><tr><td rowspan=\"1\">urn:om2:conversion:millihenry:picohenry</td><td>oneEquals</td><td>1.00000006E9<span style=\"opacity:0.6;\">^^http://www.w3.org/2001/XMLSchema#float</span></td><td>1.0E9<span style=\"opacity:0.6;\">^^http://www.w3.org/2001/XMLSchema#double</span></td><td>oneEquals</td><td rowspan=\"1\">urn:qudt2:conversion:MilliH:PicoH</td></tr><tr><td rowspan=\"1\">urn:om2:conversion:millijoule:terajoule</td><td>oneEquals</td><td>1.0000001E-15<span style=\"opacity:0.6;\">^^http://www.w3.org/2001/XMLSchema#float</span></td><td>1.0E-15<span style=\"opacity:0.6;\">^^http://www.w3.org/2001/XMLSchema#double</span></td><td>oneEquals</td><td rowspan=\"1\">urn:qudt2:conversion:MilliJ:TeraJ</td></tr><tr><td rowspan=\"1\">urn:om2:conversion:millilitre:pint-Imperial</td><td>oneEquals</td><td>0.001759754<span style=\"opacity:0.6;\">^^http://www.w3.org/2001/XMLSchema#float</span></td><td>0.001759753831556011e0<span style=\"opacity:0.6;\">^^http://www.w3.org/2001/XMLSchema#double</span></td><td>oneEquals</td><td rowspan=\"1\">urn:qudt2:conversion:MilliL:PINT_UK</td></tr><tr><td rowspan=\"1\">urn:om2:conversion:millimetre:nanometre</td><td>oneEquals</td><td>1000000.06<span style=\"opacity:0.6;\">^^http://www.w3.org/2001/XMLSchema#float</span></td><td>1000000.0e0<span style=\"opacity:0.6;\">^^http://www.w3.org/2001/XMLSchema#double</span></td><td>oneEquals</td><td rowspan=\"1\">urn:qudt2:conversion:MilliM:NanoM</td></tr><tr><td rowspan=\"1\">urn:om2:conversion:millimetre:picometre</td><td>oneEquals</td><td>1.00000006E9<span style=\"opacity:0.6;\">^^http://www.w3.org/2001/XMLSchema#float</span></td><td>1.0E9<span style=\"opacity:0.6;\">^^http://www.w3.org/2001/XMLSchema#double</span></td><td>oneEquals</td><td rowspan=\"1\">urn:qudt2:conversion:MilliM:PicoM</td></tr><tr><td rowspan=\"1\">urn:om2:conversion:millisecond-Time:nanosecond-Time</td><td>oneEquals</td><td>1000000.06<span style=\"opacity:0.6;\">^^http://www.w3.org/2001/XMLSchema#float</span></td><td>1000000.0e0<span style=\"opacity:0.6;\">^^http://www.w3.org/2001/XMLSchema#double</span></td><td>oneEquals</td><td rowspan=\"1\">urn:qudt2:conversion:MilliSEC:NanoSEC</td></tr><tr><td rowspan=\"1\">urn:om2:conversion:millisecond-Time:picosecond-Time</td><td>oneEquals</td><td>1.00000006E9<span style=\"opacity:0.6;\">^^http://www.w3.org/2001/XMLSchema#float</span></td><td>1.0E9<span style=\"opacity:0.6;\">^^http://www.w3.org/2001/XMLSchema#double</span></td><td>oneEquals</td><td rowspan=\"1\">urn:qudt2:conversion:MilliSEC:PicoSEC</td></tr><tr><td rowspan=\"1\">urn:om2:conversion:millitesla:nanotesla</td><td>oneEquals</td><td>1000000.06<span style=\"opacity:0.6;\">^^http://www.w3.org/2001/XMLSchema#float</span></td><td>1000000.0e0<span style=\"opacity:0.6;\">^^http://www.w3.org/2001/XMLSchema#double</span></td><td>oneEquals</td><td rowspan=\"1\">urn:qudt2:conversion:MilliT:NanoT</td></tr><tr><td rowspan=\"1\">urn:om2:conversion:nanoampere:picoampere</td><td>oneEquals</td><td>1000.0<span style=\"opacity:0.6;\">^^http://www.w3.org/2001/XMLSchema#float</span></td><td>1000.0000000000001e0<span style=\"opacity:0.6;\">^^http://www.w3.org/2001/XMLSchema#double</span></td><td>oneEquals</td><td rowspan=\"1\">urn:qudt2:conversion:NanoA:PicoA</td></tr><tr><td rowspan=\"1\">urn:om2:conversion:nanocoulomb:petacoulomb</td><td>oneEquals</td><td>1.0E-24<span style=\"opacity:0.6;\">^^http://www.w3.org/2001/XMLSchema#float</span></td><td>1.0000000000000001E-24<span style=\"opacity:0.6;\">^^http://www.w3.org/2001/XMLSchema#double</span></td><td>oneEquals</td><td rowspan=\"1\">urn:qudt2:conversion:NanoC:PetaC</td></tr><tr><td rowspan=\"1\">urn:om2:conversion:nanocoulomb:picocoulomb</td><td>oneEquals</td><td>1000.0<span style=\"opacity:0.6;\">^^http://www.w3.org/2001/XMLSchema#float</span></td><td>1000.0000000000001e0<span style=\"opacity:0.6;\">^^http://www.w3.org/2001/XMLSchema#double</span></td><td>oneEquals</td><td rowspan=\"1\">urn:qudt2:conversion:NanoC:PicoC</td></tr><tr><td rowspan=\"1\">urn:om2:conversion:nanocoulomb:teracoulomb</td><td>oneEquals</td><td>1.0E-21<span style=\"opacity:0.6;\">^^http://www.w3.org/2001/XMLSchema#float</span></td><td>1.0000000000000001E-21<span style=\"opacity:0.6;\">^^http://www.w3.org/2001/XMLSchema#double</span></td><td>oneEquals</td><td rowspan=\"1\">urn:qudt2:conversion:NanoC:TeraC</td></tr><tr><td rowspan=\"1\">urn:om2:conversion:nanocoulomb:yoctocoulomb</td><td>oneEquals</td><td>9.9999999E14<span style=\"opacity:0.6;\">^^http://www.w3.org/2001/XMLSchema#float</span></td><td>1.0000000000000001E15<span style=\"opacity:0.6;\">^^http://www.w3.org/2001/XMLSchema#double</span></td><td>oneEquals</td><td rowspan=\"1\">urn:qudt2:conversion:NanoC:YoctoC</td></tr><tr><td rowspan=\"1\">urn:om2:conversion:nanocoulomb:zeptocoulomb</td><td>oneEquals</td><td>1.0E12<span style=\"opacity:0.6;\">^^http://www.w3.org/2001/XMLSchema#float</span></td><td>1.0000000000000001E12<span style=\"opacity:0.6;\">^^http://www.w3.org/2001/XMLSchema#double</span></td><td>oneEquals</td><td rowspan=\"1\">urn:qudt2:conversion:NanoC:ZeptoC</td></tr><tr><td rowspan=\"1\">urn:om2:conversion:nanofarad:picofarad</td><td>oneEquals</td><td>1000.0<span style=\"opacity:0.6;\">^^http://www.w3.org/2001/XMLSchema#float</span></td><td>1000.0000000000001e0<span style=\"opacity:0.6;\">^^http://www.w3.org/2001/XMLSchema#double</span></td><td>oneEquals</td><td rowspan=\"1\">urn:qudt2:conversion:NanoFARAD:PicoFARAD</td></tr><tr><td rowspan=\"1\">urn:om2:conversion:nanohenry:picohenry</td><td>oneEquals</td><td>1000.0<span style=\"opacity:0.6;\">^^http://www.w3.org/2001/XMLSchema#float</span></td><td>1000.0000000000001e0<span style=\"opacity:0.6;\">^^http://www.w3.org/2001/XMLSchema#double</span></td><td>oneEquals</td><td rowspan=\"1\">urn:qudt2:conversion:NanoH:PicoH</td></tr><tr><td rowspan=\"1\">urn:om2:conversion:nanometre:picometre</td><td>oneEquals</td><td>1000.0<span style=\"opacity:0.6;\">^^http://www.w3.org/2001/XMLSchema#float</span></td><td>1000.0000000000001e0<span style=\"opacity:0.6;\">^^http://www.w3.org/2001/XMLSchema#double</span></td><td>oneEquals</td><td rowspan=\"1\">urn:qudt2:conversion:NanoM:PicoM</td></tr><tr><td rowspan=\"1\">urn:om2:conversion:nanosecond-Time:picosecond-Time</td><td>oneEquals</td><td>1000.0<span style=\"opacity:0.6;\">^^http://www.w3.org/2001/XMLSchema#float</span></td><td>1000.0000000000001e0<span style=\"opacity:0.6;\">^^http://www.w3.org/2001/XMLSchema#double</span></td><td>oneEquals</td><td rowspan=\"1\">urn:qudt2:conversion:NanoSEC:PicoSEC</td></tr><tr><td rowspan=\"1\">urn:om2:conversion:nanowatt:picowatt</td><td>oneEquals</td><td>1000.0<span style=\"opacity:0.6;\">^^http://www.w3.org/2001/XMLSchema#float</span></td><td>1000.0000000000001e0<span style=\"opacity:0.6;\">^^http://www.w3.org/2001/XMLSchema#double</span></td><td>oneEquals</td><td rowspan=\"1\">urn:qudt2:conversion:NanoW:PicoW</td></tr><tr><td rowspan=\"1\">urn:om2:conversion:nanowatt:terawatt</td><td>oneEquals</td><td>1.0E-21<span style=\"opacity:0.6;\">^^http://www.w3.org/2001/XMLSchema#float</span></td><td>1.0000000000000001E-21<span style=\"opacity:0.6;\">^^http://www.w3.org/2001/XMLSchema#double</span></td><td>oneEquals</td><td rowspan=\"1\">urn:qudt2:conversion:NanoW:TeraW</td></tr><tr><td rowspan=\"1\">urn:om2:conversion:newton:poundal</td><td>oneEquals</td><td>7.2330112<span style=\"opacity:0.6;\">^^http://www.w3.org/2001/XMLSchema#float</span></td><td>7.233013851209894e0<span style=\"opacity:0.6;\">^^http://www.w3.org/2001/XMLSchema#double</span></td><td>oneEquals</td><td rowspan=\"1\">urn:qudt2:conversion:N:PDL</td></tr><tr><td rowspan=\"1\">urn:om2:conversion:newton:ton-Force-Short</td><td>oneEquals</td><td>1.1240447E-4<span style=\"opacity:0.6;\">^^http://www.w3.org/2001/XMLSchema#float</span></td><td>1.1240447154985525E-4<span style=\"opacity:0.6;\">^^http://www.w3.org/2001/XMLSchema#double</span></td><td>oneEquals</td><td rowspan=\"1\">urn:qudt2:conversion:N:TON_F_US</td></tr><tr><td rowspan=\"1\">urn:om2:conversion:ohm:statohm</td><td>oneEquals</td><td>1.11265E-12<span style=\"opacity:0.6;\">^^http://www.w3.org/2001/XMLSchema#float</span></td><td>1.1126440874093194E-12<span style=\"opacity:0.6;\">^^http://www.w3.org/2001/XMLSchema#double</span></td><td>oneEquals</td><td rowspan=\"1\">urn:qudt2:conversion:OHM:OHM_Stat</td></tr><tr><td rowspan=\"1\">urn:om2:conversion:pascal:torr</td><td>oneEquals</td><td>0.007500617<span style=\"opacity:0.6;\">^^http://www.w3.org/2001/XMLSchema#float</span></td><td>0.007500637554192106e0<span style=\"opacity:0.6;\">^^http://www.w3.org/2001/XMLSchema#double</span></td><td>oneEquals</td><td rowspan=\"1\">urn:qudt2:conversion:PA:TORR</td></tr><tr><td rowspan=\"1\">urn:om2:conversion:pebibyte:petabyte</td><td>oneEquals</td><td>1.1258999<span style=\"opacity:0.6;\">^^http://www.w3.org/2001/XMLSchema#float</span></td><td>1.125899906842624e0<span style=\"opacity:0.6;\">^^http://www.w3.org/2001/XMLSchema#double</span></td><td>oneEquals</td><td rowspan=\"1\">urn:qudt2:conversion:PebiBYTE:PetaBYTE</td></tr><tr><td rowspan=\"1\">urn:om2:conversion:pebibyte:terabyte</td><td>oneEquals</td><td>1125.8999<span style=\"opacity:0.6;\">^^http://www.w3.org/2001/XMLSchema#float</span></td><td>1.073741824E9<span style=\"opacity:0.6;\">^^http://www.w3.org/2001/XMLSchema#double</span></td><td>oneEquals</td><td rowspan=\"1\">urn:qudt2:conversion:PebiBYTE:TeraBYTE</td></tr><tr><td rowspan=\"1\">urn:om2:conversion:petabyte:terabyte</td><td>oneEquals</td><td>1000.0<span style=\"opacity:0.6;\">^^http://www.w3.org/2001/XMLSchema#float</span></td><td>9.5367431640625E8<span style=\"opacity:0.6;\">^^http://www.w3.org/2001/XMLSchema#double</span></td><td>oneEquals</td><td rowspan=\"1\">urn:qudt2:conversion:PetaBYTE:TeraBYTE</td></tr><tr><td rowspan=\"1\">urn:om2:conversion:petacoulomb:yoctocoulomb</td><td>oneEquals</td><td>INF<span style=\"opacity:0.6;\">^^http://www.w3.org/2001/XMLSchema#float</span></td><td>1.0000000000000001E39<span style=\"opacity:0.6;\">^^http://www.w3.org/2001/XMLSchema#double</span></td><td>oneEquals</td><td rowspan=\"1\">urn:qudt2:conversion:PetaC:YoctoC</td></tr><tr><td rowspan=\"1\">urn:om2:conversion:petacoulomb:zeptocoulomb</td><td>oneEquals</td><td>1.00000004E36<span style=\"opacity:0.6;\">^^http://www.w3.org/2001/XMLSchema#float</span></td><td>1.0E36<span style=\"opacity:0.6;\">^^http://www.w3.org/2001/XMLSchema#double</span></td><td>oneEquals</td><td rowspan=\"1\">urn:qudt2:conversion:PetaC:ZeptoC</td></tr><tr><td rowspan=\"1\">urn:om2:conversion:picocoulomb:zeptocoulomb</td><td>oneEquals</td><td>1.0E9<span style=\"opacity:0.6;\">^^http://www.w3.org/2001/XMLSchema#float</span></td><td>1.0000000000000001E9<span style=\"opacity:0.6;\">^^http://www.w3.org/2001/XMLSchema#double</span></td><td>oneEquals</td><td rowspan=\"1\">urn:qudt2:conversion:PicoC:ZeptoC</td></tr><tr><td rowspan=\"1\">urn:om2:conversion:picocoulomb:zettacoulomb</td><td>oneEquals</td><td>9.999999E-34<span style=\"opacity:0.6;\">^^http://www.w3.org/2001/XMLSchema#float</span></td><td>1.0E-33<span style=\"opacity:0.6;\">^^http://www.w3.org/2001/XMLSchema#double</span></td><td>oneEquals</td><td rowspan=\"1\">urn:qudt2:conversion:PicoC:ZettaC</td></tr><tr><td rowspan=\"1\">urn:om2:conversion:radian:revolution</td><td>oneEquals</td><td>0.15915495<span style=\"opacity:0.6;\">^^http://www.w3.org/2001/XMLSchema#float</span></td><td>0.1591549430204534e0<span style=\"opacity:0.6;\">^^http://www.w3.org/2001/XMLSchema#double</span></td><td>oneEquals</td><td rowspan=\"1\">urn:qudt2:conversion:RAD:REV</td></tr><tr><td rowspan=\"1\">urn:om2:conversion:second-Time:week</td><td>oneEquals</td><td>1.6534392E-6<span style=\"opacity:0.6;\">^^http://www.w3.org/2001/XMLSchema#float</span></td><td>1.6534391534391535E-6<span style=\"opacity:0.6;\">^^http://www.w3.org/2001/XMLSchema#double</span></td><td>oneEquals</td><td rowspan=\"1\">urn:qudt2:conversion:SEC:WK</td></tr><tr><td rowspan=\"1\">urn:om2:conversion:second-Time:year</td><td>oneEquals</td><td>3.1709792E-8<span style=\"opacity:0.6;\">^^http://www.w3.org/2001/XMLSchema#float</span></td><td>3.168808781402895E-8<span style=\"opacity:0.6;\">^^http://www.w3.org/2001/XMLSchema#double</span></td><td>oneEquals</td><td rowspan=\"1\">urn:qudt2:conversion:SEC:YR</td></tr><tr><td rowspan=\"1\">urn:om2:conversion:siemens:statmho</td><td>oneEquals</td><td>8.987552E11<span style=\"opacity:0.6;\">^^http://www.w3.org/2001/XMLSchema#float</span></td><td>8.987551786993524E11<span style=\"opacity:0.6;\">^^http://www.w3.org/2001/XMLSchema#double</span></td><td>oneEquals</td><td rowspan=\"1\">urn:qudt2:conversion:S:S_Stat</td></tr><tr><td rowspan=\"1\">urn:om2:conversion:teracoulomb:yoctocoulomb</td><td>oneEquals</td><td>1.00000004E36<span style=\"opacity:0.6;\">^^http://www.w3.org/2001/XMLSchema#float</span></td><td>1.0E36<span style=\"opacity:0.6;\">^^http://www.w3.org/2001/XMLSchema#double</span></td><td>oneEquals</td><td rowspan=\"1\">urn:qudt2:conversion:TeraC:YoctoC</td></tr><tr><td rowspan=\"1\">urn:om2:conversion:teracoulomb:zeptocoulomb</td><td>oneEquals</td><td>1.0E33<span style=\"opacity:0.6;\">^^http://www.w3.org/2001/XMLSchema#float</span></td><td>1.0000000000000001E33<span style=\"opacity:0.6;\">^^http://www.w3.org/2001/XMLSchema#double</span></td><td>oneEquals</td><td rowspan=\"1\">urn:qudt2:conversion:TeraC:ZeptoC</td></tr><tr><td rowspan=\"1\">urn:om2:conversion:tonOfRefrigeration:watt</td><td>oneEquals</td><td>3.516853e3<span style=\"opacity:0.6;\">^^http://www.w3.org/2001/XMLSchema#float</span></td><td>3517.0e0<span style=\"opacity:0.6;\">^^http://www.w3.org/2001/XMLSchema#double</span></td><td>oneEquals</td><td rowspan=\"1\">urn:qudt2:conversion:TON_FG:W</td></tr><tr><td rowspan=\"1\">urn:om2:conversion:yoctocoulomb:yottacoulomb</td><td>oneEquals</td><td>0.0<span style=\"opacity:0.6;\">^^http://www.w3.org/2001/XMLSchema#float</span></td><td>1.0E-48<span style=\"opacity:0.6;\">^^http://www.w3.org/2001/XMLSchema#double</span></td><td>oneEquals</td><td rowspan=\"1\">urn:qudt2:conversion:YoctoC:YottaC</td></tr><tr><td rowspan=\"1\">urn:om2:conversion:yoctocoulomb:zettacoulomb</td><td>oneEquals</td><td>1.4E-45<span style=\"opacity:0.6;\">^^http://www.w3.org/2001/XMLSchema#float</span></td><td>1.0E-45<span style=\"opacity:0.6;\">^^http://www.w3.org/2001/XMLSchema#double</span></td><td>oneEquals</td><td rowspan=\"1\">urn:qudt2:conversion:YoctoC:ZettaC</td></tr><tr><td rowspan=\"1\">urn:om2:conversion:yottacoulomb:zeptocoulomb</td><td>oneEquals</td><td>INF<span style=\"opacity:0.6;\">^^http://www.w3.org/2001/XMLSchema#float</span></td><td>1.0000000000000001E45<span style=\"opacity:0.6;\">^^http://www.w3.org/2001/XMLSchema#double</span></td><td>oneEquals</td><td rowspan=\"1\">urn:qudt2:conversion:YottaC:ZeptoC</td></tr><tr><td rowspan=\"1\">urn:om2:conversion:yottacoulomb:zettacoulomb</td><td>oneEquals</td><td>999.99994<span style=\"opacity:0.6;\">^^http://www.w3.org/2001/XMLSchema#float</span></td><td>1000.0e0<span style=\"opacity:0.6;\">^^http://www.w3.org/2001/XMLSchema#double</span></td><td>oneEquals</td><td rowspan=\"1\">urn:qudt2:conversion:YottaC:ZettaC</td></tr><tr><td rowspan=\"1\">urn:om2:conversion:zeptocoulomb:zettacoulomb</td><td>oneEquals</td><td>1.0E-42<span style=\"opacity:0.6;\">^^http://www.w3.org/2001/XMLSchema#float</span></td><td>9.999999999999999E-43<span style=\"opacity:0.6;\">^^http://www.w3.org/2001/XMLSchema#double</span></td><td>oneEquals</td><td rowspan=\"1\">urn:qudt2:conversion:ZeptoC:ZettaC</td></tr></table>"
      ],
      "text/plain": [
       "<IPython.core.display.HTML object>"
      ]
     },
     "metadata": {},
     "output_type": "display_data"
    },
    {
     "data": {
      "text/html": [
       "<table><tr><th style=\"text-align:center;\" colspan=\"3\">OM 2</th><th style=\"text-align:center;\" colspan=\"3\">SWEET 3</th></tr><tr><td rowspan=\"1\">urn:om2:conversion:degree:radian</td><td>oneEquals</td><td>1.745329e-2<span style=\"opacity:0.6;\">^^http://www.w3.org/2001/XMLSchema#float</span></td><td>57.2957795<span style=\"opacity:0.6;\">^^http://www.w3.org/2001/XMLSchema#double</span></td><td>oneEquals</td><td rowspan=\"1\">urn:sweet3:conversion:degrees:radian</td></tr><tr><td rowspan=\"1\">urn:om2:conversion:metre:millimetre</td><td>oneEquals</td><td>999.99994<span style=\"opacity:0.6;\">^^http://www.w3.org/2001/XMLSchema#float</span></td><td>1000.0e0<span style=\"opacity:0.6;\">^^http://www.w3.org/2001/XMLSchema#double</span></td><td>oneEquals</td><td rowspan=\"1\">urn:sweet3:conversion:meter:millimeter</td></tr><tr><td rowspan=\"1\">urn:om2:conversion:metre:nanometre</td><td>oneEquals</td><td>1.0E9<span style=\"opacity:0.6;\">^^http://www.w3.org/2001/XMLSchema#float</span></td><td>9.999999999999999E8<span style=\"opacity:0.6;\">^^http://www.w3.org/2001/XMLSchema#double</span></td><td>oneEquals</td><td rowspan=\"1\">urn:sweet3:conversion:meter:nanometer</td></tr><tr><td rowspan=\"1\">urn:om2:conversion:second-Time:week</td><td>oneEquals</td><td>1.6534392E-6<span style=\"opacity:0.6;\">^^http://www.w3.org/2001/XMLSchema#float</span></td><td>1.6534391534391535E-6<span style=\"opacity:0.6;\">^^http://www.w3.org/2001/XMLSchema#double</span></td><td>oneEquals</td><td rowspan=\"1\">urn:sweet3:conversion:second:week</td></tr><tr><td rowspan=\"1\">urn:om2:conversion:second-Time:year</td><td>oneEquals</td><td>3.1709792E-8<span style=\"opacity:0.6;\">^^http://www.w3.org/2001/XMLSchema#float</span></td><td>3.168876461541279E-8<span style=\"opacity:0.6;\">^^http://www.w3.org/2001/XMLSchema#double</span></td><td>oneEquals</td><td rowspan=\"1\">urn:sweet3:conversion:second:year</td></tr></table>"
      ],
      "text/plain": [
       "<IPython.core.display.HTML object>"
      ]
     },
     "metadata": {},
     "output_type": "display_data"
    },
    {
     "data": {
      "text/html": [
       "<table><tr><th style=\"text-align:center;\" colspan=\"3\">QUDT 2</th><th style=\"text-align:center;\" colspan=\"3\">SWEET 3</th></tr><tr><td rowspan=\"1\">urn:qudt2:conversion:ARCMIN:RAD</td><td>oneEquals</td><td>2.90888209E-4<span style=\"opacity:0.6;\">^^http://www.w3.org/2001/XMLSchema#double</span></td><td>2.909E-4<span style=\"opacity:0.6;\">^^http://www.w3.org/2001/XMLSchema#double</span></td><td>oneEquals</td><td rowspan=\"1\">urn:sweet3:conversion:arcminute:radian</td></tr><tr><td rowspan=\"1\">urn:qudt2:conversion:ARCSEC:RAD</td><td>oneEquals</td><td>4.84813681E-6<span style=\"opacity:0.6;\">^^http://www.w3.org/2001/XMLSchema#double</span></td><td>4.848E-6<span style=\"opacity:0.6;\">^^http://www.w3.org/2001/XMLSchema#double</span></td><td>oneEquals</td><td rowspan=\"1\">urn:sweet3:conversion:arcsecond:radian</td></tr><tr><td rowspan=\"1\">urn:qudt2:conversion:DEG:RAD</td><td>oneEquals</td><td>0.0174532925e0<span style=\"opacity:0.6;\">^^http://www.w3.org/2001/XMLSchema#double</span></td><td>57.2957795<span style=\"opacity:0.6;\">^^http://www.w3.org/2001/XMLSchema#double</span></td><td>oneEquals</td><td rowspan=\"1\">urn:sweet3:conversion:degrees:radian</td></tr><tr><td rowspan=\"1\">urn:qudt2:conversion:KiloM-PER-HR:M-PER-SEC</td><td>oneEquals</td><td>0.2777777777777778e0<span style=\"opacity:0.6;\">^^http://www.w3.org/2001/XMLSchema#double</span></td><td>0.27777777<span style=\"opacity:0.6;\">^^http://www.w3.org/2001/XMLSchema#double</span></td><td>oneEquals</td><td rowspan=\"1\">urn:sweet3:conversion:kilometerPerHour:meterPerSecond</td></tr><tr><td rowspan=\"1\">urn:qudt2:conversion:MO:SEC</td><td>oneEquals</td><td>2551442.976e0<span style=\"opacity:0.6;\">^^http://www.w3.org/2001/XMLSchema#double</span></td><td>2629744.0<span style=\"opacity:0.6;\">^^http://www.w3.org/2001/XMLSchema#double</span></td><td>oneEquals</td><td rowspan=\"1\">urn:sweet3:conversion:month:second</td></tr><tr><td rowspan=\"1\">urn:qudt2:conversion:SEC:YR</td><td>oneEquals</td><td>3.168808781402895E-8<span style=\"opacity:0.6;\">^^http://www.w3.org/2001/XMLSchema#double</span></td><td>3.168876461541279E-8<span style=\"opacity:0.6;\">^^http://www.w3.org/2001/XMLSchema#double</span></td><td>oneEquals</td><td rowspan=\"1\">urn:sweet3:conversion:second:year</td></tr></table>"
      ],
      "text/plain": [
       "<IPython.core.display.HTML object>"
      ]
     },
     "metadata": {},
     "output_type": "display_data"
    }
   ],
   "source": [
    "execution.deviations()"
   ]
  },
  {
   "cell_type": "code",
   "execution_count": 20,
   "metadata": {},
   "outputs": [
    {
     "data": {
      "text/html": [
       "<h2>Omission Report</h2>"
      ],
      "text/plain": [
       "<IPython.core.display.HTML object>"
      ]
     },
     "metadata": {},
     "output_type": "display_data"
    },
    {
     "data": {
      "application/vnd.jupyter.widget-view+json": {
       "model_id": "a16564b9963c4068b7c2a4d71b820f29",
       "version_major": 2,
       "version_minor": 0
      },
      "text/plain": [
       "Tab(children=(Tab(children=(HBox(children=(HTML(value='<h4>Missing in OM 2</h4><ul><li><a href=\"http://qudt.or…"
      ]
     },
     "metadata": {},
     "output_type": "display_data"
    }
   ],
   "source": [
    "execution.omissions()"
   ]
  },
  {
   "cell_type": "code",
   "execution_count": 21,
   "metadata": {},
   "outputs": [
    {
     "data": {
      "text/html": [
       "<h2>Issue Report</h2>"
      ],
      "text/plain": [
       "<IPython.core.display.HTML object>"
      ]
     },
     "metadata": {},
     "output_type": "display_data"
    },
    {
     "data": {
      "text/html": [
       "<h3>Ontology: QUDT 2</h3>"
      ],
      "text/plain": [
       "<IPython.core.display.HTML object>"
      ]
     },
     "metadata": {},
     "output_type": "display_data"
    },
    {
     "data": {
      "text/html": [
       "<table><tr><th>Issue Type</th><th>Affected Entity</th><th>Message</th></tr><tr><td>Duplicated Resource</td><td>http://qudt.org/vocab/quantitykind/InternalEnergy</td><td>Duplicates: http://qudt.org/vocab/quantitykind/ThermodynamicEnergy</td></tr><tr><td>Duplicated Resource</td><td>http://qudt.org/vocab/quantitykind/ThermodynamicEnergy</td><td>Duplicates: http://qudt.org/vocab/quantitykind/InternalEnergy</td></tr><tr><td>Duplicated Resource</td><td>http://qudt.org/vocab/unit/BTU_IT-IN-PER-FT2-HR-DEG_F</td><td>Duplicates: http://qudt.org/vocab/unit/BTU_IT-IN-PER-HR-FT2-DEG_F</td></tr><tr><td>Duplicated Resource</td><td>http://qudt.org/vocab/unit/BTU_IT-IN-PER-FT2-SEC-DEG_F</td><td>Duplicates: http://qudt.org/vocab/unit/BTU_IT-IN-PER-SEC-FT2-DEG_F</td></tr><tr><td>Duplicated Resource</td><td>http://qudt.org/vocab/unit/BTU_IT-IN-PER-HR-FT2-DEG_F</td><td>Duplicates: http://qudt.org/vocab/unit/BTU_IT-IN-PER-FT2-HR-DEG_F</td></tr><tr><td>Duplicated Resource</td><td>http://qudt.org/vocab/unit/BTU_IT-IN-PER-SEC-FT2-DEG_F</td><td>Duplicates: http://qudt.org/vocab/unit/BTU_IT-IN-PER-FT2-SEC-DEG_F</td></tr><tr><td>Duplicated Resource</td><td>http://qudt.org/vocab/unit/TONNE</td><td>Duplicates: http://qudt.org/vocab/unit/TON_Metric</td></tr><tr><td>Duplicated Resource</td><td>http://qudt.org/vocab/unit/TONNE-PER-DAY</td><td>Duplicates: http://qudt.org/vocab/unit/TON_Metric-PER-DAY</td></tr><tr><td>Duplicated Resource</td><td>http://qudt.org/vocab/unit/TONNE-PER-HA</td><td>Duplicates: http://qudt.org/vocab/unit/TON_Metric-PER-HA</td></tr><tr><td>Duplicated Resource</td><td>http://qudt.org/vocab/unit/TONNE-PER-M3</td><td>Duplicates: http://qudt.org/vocab/unit/TON_Metric-PER-M3</td></tr><tr><td>Duplicated Resource</td><td>http://qudt.org/vocab/unit/TONNE-PER-MIN</td><td>Duplicates: http://qudt.org/vocab/unit/TON_Metric-PER-MIN</td></tr><tr><td>Duplicated Resource</td><td>http://qudt.org/vocab/unit/TONNE-PER-SEC</td><td>Duplicates: http://qudt.org/vocab/unit/TON_Metric-PER-SEC</td></tr><tr><td>Duplicated Resource</td><td>http://qudt.org/vocab/unit/TON_Metric</td><td>Duplicates: http://qudt.org/vocab/unit/TONNE</td></tr><tr><td>Duplicated Resource</td><td>http://qudt.org/vocab/unit/TON_Metric-PER-DAY</td><td>Duplicates: http://qudt.org/vocab/unit/TONNE-PER-DAY</td></tr><tr><td>Duplicated Resource</td><td>http://qudt.org/vocab/unit/TON_Metric-PER-HA</td><td>Duplicates: http://qudt.org/vocab/unit/TONNE-PER-HA</td></tr><tr><td>Duplicated Resource</td><td>http://qudt.org/vocab/unit/TON_Metric-PER-M3</td><td>Duplicates: http://qudt.org/vocab/unit/TONNE-PER-M3</td></tr><tr><td>Duplicated Resource</td><td>http://qudt.org/vocab/unit/TON_Metric-PER-MIN</td><td>Duplicates: http://qudt.org/vocab/unit/TONNE-PER-MIN</td></tr><tr><td>Duplicated Resource</td><td>http://qudt.org/vocab/unit/TON_Metric-PER-SEC</td><td>Duplicates: http://qudt.org/vocab/unit/TONNE-PER-SEC</td></tr></table>"
      ],
      "text/plain": [
       "<IPython.core.display.HTML object>"
      ]
     },
     "metadata": {},
     "output_type": "display_data"
    },
    {
     "data": {
      "text/html": [
       "<h3>Ontology: SWEET 3</h3>"
      ],
      "text/plain": [
       "<IPython.core.display.HTML object>"
      ]
     },
     "metadata": {},
     "output_type": "display_data"
    },
    {
     "data": {
      "text/html": [
       "<table><tr><th>Issue Type</th><th>Affected Entity</th><th>Message</th></tr><tr><td>Duplicated Resource</td><td>http://sweetontology.net/reprSciUnits/FNU</td><td>Duplicates: http://sweetontology.net/reprSciUnits/FTU</td></tr><tr><td>Duplicated Resource</td><td>http://sweetontology.net/reprSciUnits/FTU</td><td>Duplicates: http://sweetontology.net/reprSciUnits/FNU, http://sweetontology.net/reprSciUnits/FormazinTurbidityUnit</td></tr><tr><td>Duplicated Resource</td><td>http://sweetontology.net/reprSciUnits/FormazinTurbidityUnit</td><td>Duplicates: http://sweetontology.net/reprSciUnits/FTU</td></tr><tr><td>Duplicated Resource</td><td>http://sweetontology.net/reprSciUnits/MHz</td><td>Duplicates: http://sweetontology.net/reprSciUnits/megahertz</td></tr><tr><td>Duplicated Resource</td><td>http://sweetontology.net/reprSciUnits/hertz</td><td>Duplicates: http://sweetontology.net/reprSciUnits/perSecond</td></tr><tr><td>Duplicated Resource</td><td>http://sweetontology.net/reprSciUnits/megahertz</td><td>Duplicates: http://sweetontology.net/reprSciUnits/MHz</td></tr><tr><td>Duplicated Resource</td><td>http://sweetontology.net/reprSciUnits/meter</td><td>Duplicates: http://sweetontology.net/reprSciUnits/metre</td></tr><tr><td>Duplicated Resource</td><td>http://sweetontology.net/reprSciUnits/metre</td><td>Duplicates: http://sweetontology.net/reprSciUnits/meter</td></tr><tr><td>Duplicated Resource</td><td>http://sweetontology.net/reprSciUnits/micrometer</td><td>Duplicates: http://sweetontology.net/reprSciUnits/micron</td></tr><tr><td>Duplicated Resource</td><td>http://sweetontology.net/reprSciUnits/micron</td><td>Duplicates: http://sweetontology.net/reprSciUnits/micrometer</td></tr><tr><td>Duplicated Resource</td><td>http://sweetontology.net/reprSciUnits/million_km2</td><td>Duplicates: http://sweetontology.net/reprSciUnits/million_km3</td></tr><tr><td>Duplicated Resource</td><td>http://sweetontology.net/reprSciUnits/million_km3</td><td>Duplicates: http://sweetontology.net/reprSciUnits/million_km2</td></tr><tr><td>Duplicated Resource</td><td>http://sweetontology.net/reprSciUnits/perSecond</td><td>Duplicates: http://sweetontology.net/reprSciUnits/hertz</td></tr></table>"
      ],
      "text/plain": [
       "<IPython.core.display.HTML object>"
      ]
     },
     "metadata": {},
     "output_type": "display_data"
    }
   ],
   "source": [
    "execution.issues()"
   ]
  },
  {
   "cell_type": "markdown",
   "metadata": {},
   "source": [
    "## Stop Background Service\n",
    "\n",
    "Finally, we stop the ABECTO background service."
   ]
  },
  {
   "cell_type": "code",
   "execution_count": 22,
   "metadata": {},
   "outputs": [],
   "source": [
    "abecto.stop()"
   ]
  }
 ],
 "metadata": {
  "kernelspec": {
   "display_name": "Python 3",
   "language": "python",
   "name": "python3"
  },
  "language_info": {
   "codemirror_mode": {
    "name": "ipython",
    "version": 3
   },
   "file_extension": ".py",
   "mimetype": "text/x-python",
   "name": "python",
   "nbconvert_exporter": "python",
   "pygments_lexer": "ipython3",
   "version": "3.7.3"
  }
 },
 "nbformat": 4,
 "nbformat_minor": 4
}
